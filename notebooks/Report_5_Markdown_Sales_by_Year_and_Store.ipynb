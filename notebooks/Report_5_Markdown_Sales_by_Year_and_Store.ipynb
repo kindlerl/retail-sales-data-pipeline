{
 "cells": [
  {
   "cell_type": "code",
   "execution_count": 60,
   "id": "76487bfa-c291-4d3b-8dad-f920f16d831e",
   "metadata": {},
   "outputs": [
    {
     "data": {
      "text/plain": [
       "True"
      ]
     },
     "execution_count": 60,
     "metadata": {},
     "output_type": "execute_result"
    }
   ],
   "source": [
    "import os\n",
    "from dotenv import load_dotenv\n",
    "import snowflake.connector\n",
    "import pandas as pd\n",
    "import plotly.express as px\n",
    "# Use Plotly's \"make_subplots\" function from \"plotly.subplots\" to layout elements horizontally\n",
    "from plotly.subplots import make_subplots\n",
    "import plotly.graph_objects as go\n",
    "\n",
    "# Load credentials\n",
    "load_dotenv()"
   ]
  },
  {
   "cell_type": "code",
   "execution_count": 61,
   "id": "1e2ab658-d842-467e-9920-5f0824343aa2",
   "metadata": {},
   "outputs": [],
   "source": [
    "# Connect to Snowflake\n",
    "conn = snowflake.connector.connect(\n",
    "    user=os.getenv('SNOWFLAKE_USER'),\n",
    "    password=os.getenv('SNOWFLAKE_PASSWORD'),\n",
    "    account=os.getenv('SNOWFLAKE_ACCOUNT') + '.' + os.getenv('SNOWFLAKE_REGION'),\n",
    "    warehouse=os.getenv('SNOWFLAKE_WAREHOUSE'),\n",
    "    database='WALMART_DB',\n",
    "    schema='SILVER',\n",
    "    role=os.getenv('SNOWFLAKE_ROLE')\n",
    ")"
   ]
  },
  {
   "cell_type": "code",
   "execution_count": 62,
   "id": "2b8d9a09-33c2-411a-878f-71dc688ef9a1",
   "metadata": {},
   "outputs": [],
   "source": [
    "# SQL query\n",
    "# After an initial run, I saw sales numbers up to 30B.  This seemed very\n",
    "# high to me. After further investigation, I found that multiple stores\n",
    "# share the same size.  This means we're aggregating weekly sales across\n",
    "# multiple stores when the store sizes match. The only way I found to \n",
    "# address this was to take the average sales between all stores that had\n",
    "# the same size.  For stores with no store size duplicates, the weekly\n",
    "# sales and average weekly sales will be identical.\n",
    "# sql = \"\"\"\n",
    "# SELECT \n",
    "#   wsd.store_size,\n",
    "#   COUNT(wft.store_id) AS store_count,\n",
    "#   SUM(wft.store_weekly_sales) AS weekly_sales,\n",
    "#   SUM(wft.store_weekly_sales) / COUNT(wft.store_id) AS avg_sales_per_store\n",
    "# FROM \n",
    "#   walmart_fact_table wft\n",
    "# JOIN\n",
    "#   walmart_store_dim wsd\n",
    "# ON\n",
    "#   wft.store_id = wsd.store_id\n",
    "# GROUP BY 1\n",
    "# ORDER BY 1\n",
    "# \"\"\"\n",
    "\n",
    "# In an attempt to match the area chart included in the project documentation,\n",
    "# the SQL below was used.\n",
    "sql = \"\"\"\n",
    "SELECT \n",
    "    wdd.year,\n",
    "    COALESCE(SUM(wft.markdown1),0) AS markdown1,\n",
    "    COALESCE(SUM(wft.markdown2),0) AS markdown2,\n",
    "    COALESCE(SUM(wft.markdown3),0) AS markdown3,\n",
    "    COALESCE(SUM(wft.markdown4),0) AS markdown4,\n",
    "    COALESCE(SUM(wft.markdown5),0) AS markdown5\n",
    "FROM \n",
    "    WALMART_DB.SILVER.walmart_fact_table wft\n",
    "JOIN\n",
    "    WALMART_DB.SILVER.walmart_date_dim wdd\n",
    "ON\n",
    "    wft.date_id = wdd.date_id\n",
    "GROUP BY 1\n",
    "ORDER BY 1\n",
    "\"\"\"\n",
    "\n",
    "# The following SQL is for the summary chart section in the report.\n",
    "\n",
    "sql_summary_table = \"\"\"\n",
    "SELECT \n",
    "    wdd.year,\n",
    "    wft.store_id,\n",
    "    SUM(wft.markdown1) AS markdown1,\n",
    "    SUM(wft.markdown2) AS markdown2,\n",
    "    SUM(wft.markdown3) AS markdown3,\n",
    "    SUM(wft.markdown4) AS markdown4,\n",
    "    SUM(wft.markdown5) AS markdown5\n",
    "FROM \n",
    "    WALMART_DB.SILVER.walmart_fact_table wft\n",
    "JOIN\n",
    "    WALMART_DB.SILVER.walmart_date_dim wdd\n",
    "ON\n",
    "    wft.date_id = wdd.date_id\n",
    "WHERE \n",
    "    wft.markdown1 IS NOT NULL\n",
    "AND\n",
    "    wft.markdown2 IS NOT NULL\n",
    "AND\n",
    "    wft.markdown3 IS NOT NULL\n",
    "AND\n",
    "    wft.markdown4 IS NOT NULL\n",
    "AND\n",
    "    wft.markdown5 IS NOT NULL\n",
    "GROUP BY 1,2\n",
    "ORDER BY 1,2\n",
    "\"\"\"\n",
    "\n",
    "# Run query using Snowflake connector\n",
    "cur = conn.cursor()\n",
    "cur.execute(sql)\n",
    "\n",
    "# Load results into DataFrame\n",
    "columns = [col[0] for col in cur.description]\n",
    "data = cur.fetchall()\n",
    "df = pd.DataFrame(data, columns=columns)\n",
    "\n",
    "# Force column names to lowercase so Snowflake will match the model table\n",
    "df.columns = [col.lower() for col in df.columns]\n",
    "\n",
    "# print(df.columns)\n",
    "\n",
    "# Convert the store size to a string \n",
    "# plotly create a more managable range for the y-axis\n",
    "# df['store_size'] = df['store_size'].astype(str)\n"
   ]
  },
  {
   "cell_type": "code",
   "execution_count": 63,
   "id": "d1b571f4-b506-4038-8115-f253e4a0c5af",
   "metadata": {},
   "outputs": [
    {
     "data": {
      "application/vnd.plotly.v1+json": {
       "config": {
        "plotlyServerURL": "https://plot.ly"
       },
       "data": [
        {
         "hovertemplate": "%{text}<extra></extra>",
         "name": "Markdown1",
         "text": [
          "$0.00",
          "$107,456,230.27",
          "$984,441,611.27"
         ],
         "type": "bar",
         "x": [
          "2010",
          "2011",
          "2012"
         ],
         "y": {
          "bdata": "AAAAAAAAAADhehSZm56ZQVyPooWxVs1B",
          "dtype": "f8"
         }
        },
        {
         "hovertemplate": "%{text}<extra></extra>",
         "name": "Markdown2",
         "text": [
          "$0.00",
          "$157,380,896.96",
          "$213,589,867.88"
         ],
         "type": "bar",
         "x": [
          "2010",
          "2011",
          "2012"
         ],
         "y": {
          "bdata": "AAAAAAAAAAAfhetB4sKiQVyPwtc+dqlB",
          "dtype": "f8"
         }
        },
        {
         "hovertemplate": "%{text}<extra></extra>",
         "name": "Markdown3",
         "text": [
          "$0.00",
          "$190,920,099.58",
          "$6,411,617.40"
         ],
         "type": "bar",
         "x": [
          "2010",
          "2011",
          "2012"
         ],
         "y": {
          "bdata": "AAAAAAAAAADC9ShHa8KmQZqZmVlYdVhB",
          "dtype": "f8"
         }
        },
        {
         "hovertemplate": "%{text}<extra></extra>",
         "name": "Markdown4",
         "text": [
          "$0.00",
          "$32,225,685.11",
          "$424,390,384.91"
         ],
         "type": "bar",
         "x": [
          "2010",
          "2011",
          "2012"
         ],
         "y": {
          "bdata": "AAAAAAAAAABcj8JRmbt+QcP16PCuS7lB",
          "dtype": "f8"
         }
        },
        {
         "hovertemplate": "%{text}<extra></extra>",
         "name": "Markdown5",
         "text": [
          "$0.00",
          "$153,400,457.54",
          "$547,574,496.65"
         ],
         "type": "bar",
         "x": [
          "2010",
          "2011",
          "2012"
         ],
         "y": {
          "bdata": "AAAAAAAAAADhehQTaUmiQTMzU3CpUcBB",
          "dtype": "f8"
         }
        }
       ],
       "layout": {
        "barmode": "group",
        "height": 500,
        "legend": {
         "title": {
          "text": "Markdown Type"
         }
        },
        "template": {
         "data": {
          "bar": [
           {
            "error_x": {
             "color": "#2a3f5f"
            },
            "error_y": {
             "color": "#2a3f5f"
            },
            "marker": {
             "line": {
              "color": "white",
              "width": 0.5
             },
             "pattern": {
              "fillmode": "overlay",
              "size": 10,
              "solidity": 0.2
             }
            },
            "type": "bar"
           }
          ],
          "barpolar": [
           {
            "marker": {
             "line": {
              "color": "white",
              "width": 0.5
             },
             "pattern": {
              "fillmode": "overlay",
              "size": 10,
              "solidity": 0.2
             }
            },
            "type": "barpolar"
           }
          ],
          "carpet": [
           {
            "aaxis": {
             "endlinecolor": "#2a3f5f",
             "gridcolor": "#C8D4E3",
             "linecolor": "#C8D4E3",
             "minorgridcolor": "#C8D4E3",
             "startlinecolor": "#2a3f5f"
            },
            "baxis": {
             "endlinecolor": "#2a3f5f",
             "gridcolor": "#C8D4E3",
             "linecolor": "#C8D4E3",
             "minorgridcolor": "#C8D4E3",
             "startlinecolor": "#2a3f5f"
            },
            "type": "carpet"
           }
          ],
          "choropleth": [
           {
            "colorbar": {
             "outlinewidth": 0,
             "ticks": ""
            },
            "type": "choropleth"
           }
          ],
          "contour": [
           {
            "colorbar": {
             "outlinewidth": 0,
             "ticks": ""
            },
            "colorscale": [
             [
              0,
              "#0d0887"
             ],
             [
              0.1111111111111111,
              "#46039f"
             ],
             [
              0.2222222222222222,
              "#7201a8"
             ],
             [
              0.3333333333333333,
              "#9c179e"
             ],
             [
              0.4444444444444444,
              "#bd3786"
             ],
             [
              0.5555555555555556,
              "#d8576b"
             ],
             [
              0.6666666666666666,
              "#ed7953"
             ],
             [
              0.7777777777777778,
              "#fb9f3a"
             ],
             [
              0.8888888888888888,
              "#fdca26"
             ],
             [
              1,
              "#f0f921"
             ]
            ],
            "type": "contour"
           }
          ],
          "contourcarpet": [
           {
            "colorbar": {
             "outlinewidth": 0,
             "ticks": ""
            },
            "type": "contourcarpet"
           }
          ],
          "heatmap": [
           {
            "colorbar": {
             "outlinewidth": 0,
             "ticks": ""
            },
            "colorscale": [
             [
              0,
              "#0d0887"
             ],
             [
              0.1111111111111111,
              "#46039f"
             ],
             [
              0.2222222222222222,
              "#7201a8"
             ],
             [
              0.3333333333333333,
              "#9c179e"
             ],
             [
              0.4444444444444444,
              "#bd3786"
             ],
             [
              0.5555555555555556,
              "#d8576b"
             ],
             [
              0.6666666666666666,
              "#ed7953"
             ],
             [
              0.7777777777777778,
              "#fb9f3a"
             ],
             [
              0.8888888888888888,
              "#fdca26"
             ],
             [
              1,
              "#f0f921"
             ]
            ],
            "type": "heatmap"
           }
          ],
          "histogram": [
           {
            "marker": {
             "pattern": {
              "fillmode": "overlay",
              "size": 10,
              "solidity": 0.2
             }
            },
            "type": "histogram"
           }
          ],
          "histogram2d": [
           {
            "colorbar": {
             "outlinewidth": 0,
             "ticks": ""
            },
            "colorscale": [
             [
              0,
              "#0d0887"
             ],
             [
              0.1111111111111111,
              "#46039f"
             ],
             [
              0.2222222222222222,
              "#7201a8"
             ],
             [
              0.3333333333333333,
              "#9c179e"
             ],
             [
              0.4444444444444444,
              "#bd3786"
             ],
             [
              0.5555555555555556,
              "#d8576b"
             ],
             [
              0.6666666666666666,
              "#ed7953"
             ],
             [
              0.7777777777777778,
              "#fb9f3a"
             ],
             [
              0.8888888888888888,
              "#fdca26"
             ],
             [
              1,
              "#f0f921"
             ]
            ],
            "type": "histogram2d"
           }
          ],
          "histogram2dcontour": [
           {
            "colorbar": {
             "outlinewidth": 0,
             "ticks": ""
            },
            "colorscale": [
             [
              0,
              "#0d0887"
             ],
             [
              0.1111111111111111,
              "#46039f"
             ],
             [
              0.2222222222222222,
              "#7201a8"
             ],
             [
              0.3333333333333333,
              "#9c179e"
             ],
             [
              0.4444444444444444,
              "#bd3786"
             ],
             [
              0.5555555555555556,
              "#d8576b"
             ],
             [
              0.6666666666666666,
              "#ed7953"
             ],
             [
              0.7777777777777778,
              "#fb9f3a"
             ],
             [
              0.8888888888888888,
              "#fdca26"
             ],
             [
              1,
              "#f0f921"
             ]
            ],
            "type": "histogram2dcontour"
           }
          ],
          "mesh3d": [
           {
            "colorbar": {
             "outlinewidth": 0,
             "ticks": ""
            },
            "type": "mesh3d"
           }
          ],
          "parcoords": [
           {
            "line": {
             "colorbar": {
              "outlinewidth": 0,
              "ticks": ""
             }
            },
            "type": "parcoords"
           }
          ],
          "pie": [
           {
            "automargin": true,
            "type": "pie"
           }
          ],
          "scatter": [
           {
            "fillpattern": {
             "fillmode": "overlay",
             "size": 10,
             "solidity": 0.2
            },
            "type": "scatter"
           }
          ],
          "scatter3d": [
           {
            "line": {
             "colorbar": {
              "outlinewidth": 0,
              "ticks": ""
             }
            },
            "marker": {
             "colorbar": {
              "outlinewidth": 0,
              "ticks": ""
             }
            },
            "type": "scatter3d"
           }
          ],
          "scattercarpet": [
           {
            "marker": {
             "colorbar": {
              "outlinewidth": 0,
              "ticks": ""
             }
            },
            "type": "scattercarpet"
           }
          ],
          "scattergeo": [
           {
            "marker": {
             "colorbar": {
              "outlinewidth": 0,
              "ticks": ""
             }
            },
            "type": "scattergeo"
           }
          ],
          "scattergl": [
           {
            "marker": {
             "colorbar": {
              "outlinewidth": 0,
              "ticks": ""
             }
            },
            "type": "scattergl"
           }
          ],
          "scattermap": [
           {
            "marker": {
             "colorbar": {
              "outlinewidth": 0,
              "ticks": ""
             }
            },
            "type": "scattermap"
           }
          ],
          "scattermapbox": [
           {
            "marker": {
             "colorbar": {
              "outlinewidth": 0,
              "ticks": ""
             }
            },
            "type": "scattermapbox"
           }
          ],
          "scatterpolar": [
           {
            "marker": {
             "colorbar": {
              "outlinewidth": 0,
              "ticks": ""
             }
            },
            "type": "scatterpolar"
           }
          ],
          "scatterpolargl": [
           {
            "marker": {
             "colorbar": {
              "outlinewidth": 0,
              "ticks": ""
             }
            },
            "type": "scatterpolargl"
           }
          ],
          "scatterternary": [
           {
            "marker": {
             "colorbar": {
              "outlinewidth": 0,
              "ticks": ""
             }
            },
            "type": "scatterternary"
           }
          ],
          "surface": [
           {
            "colorbar": {
             "outlinewidth": 0,
             "ticks": ""
            },
            "colorscale": [
             [
              0,
              "#0d0887"
             ],
             [
              0.1111111111111111,
              "#46039f"
             ],
             [
              0.2222222222222222,
              "#7201a8"
             ],
             [
              0.3333333333333333,
              "#9c179e"
             ],
             [
              0.4444444444444444,
              "#bd3786"
             ],
             [
              0.5555555555555556,
              "#d8576b"
             ],
             [
              0.6666666666666666,
              "#ed7953"
             ],
             [
              0.7777777777777778,
              "#fb9f3a"
             ],
             [
              0.8888888888888888,
              "#fdca26"
             ],
             [
              1,
              "#f0f921"
             ]
            ],
            "type": "surface"
           }
          ],
          "table": [
           {
            "cells": {
             "fill": {
              "color": "#EBF0F8"
             },
             "line": {
              "color": "white"
             }
            },
            "header": {
             "fill": {
              "color": "#C8D4E3"
             },
             "line": {
              "color": "white"
             }
            },
            "type": "table"
           }
          ]
         },
         "layout": {
          "annotationdefaults": {
           "arrowcolor": "#2a3f5f",
           "arrowhead": 0,
           "arrowwidth": 1
          },
          "autotypenumbers": "strict",
          "coloraxis": {
           "colorbar": {
            "outlinewidth": 0,
            "ticks": ""
           }
          },
          "colorscale": {
           "diverging": [
            [
             0,
             "#8e0152"
            ],
            [
             0.1,
             "#c51b7d"
            ],
            [
             0.2,
             "#de77ae"
            ],
            [
             0.3,
             "#f1b6da"
            ],
            [
             0.4,
             "#fde0ef"
            ],
            [
             0.5,
             "#f7f7f7"
            ],
            [
             0.6,
             "#e6f5d0"
            ],
            [
             0.7,
             "#b8e186"
            ],
            [
             0.8,
             "#7fbc41"
            ],
            [
             0.9,
             "#4d9221"
            ],
            [
             1,
             "#276419"
            ]
           ],
           "sequential": [
            [
             0,
             "#0d0887"
            ],
            [
             0.1111111111111111,
             "#46039f"
            ],
            [
             0.2222222222222222,
             "#7201a8"
            ],
            [
             0.3333333333333333,
             "#9c179e"
            ],
            [
             0.4444444444444444,
             "#bd3786"
            ],
            [
             0.5555555555555556,
             "#d8576b"
            ],
            [
             0.6666666666666666,
             "#ed7953"
            ],
            [
             0.7777777777777778,
             "#fb9f3a"
            ],
            [
             0.8888888888888888,
             "#fdca26"
            ],
            [
             1,
             "#f0f921"
            ]
           ],
           "sequentialminus": [
            [
             0,
             "#0d0887"
            ],
            [
             0.1111111111111111,
             "#46039f"
            ],
            [
             0.2222222222222222,
             "#7201a8"
            ],
            [
             0.3333333333333333,
             "#9c179e"
            ],
            [
             0.4444444444444444,
             "#bd3786"
            ],
            [
             0.5555555555555556,
             "#d8576b"
            ],
            [
             0.6666666666666666,
             "#ed7953"
            ],
            [
             0.7777777777777778,
             "#fb9f3a"
            ],
            [
             0.8888888888888888,
             "#fdca26"
            ],
            [
             1,
             "#f0f921"
            ]
           ]
          },
          "colorway": [
           "#636efa",
           "#EF553B",
           "#00cc96",
           "#ab63fa",
           "#FFA15A",
           "#19d3f3",
           "#FF6692",
           "#B6E880",
           "#FF97FF",
           "#FECB52"
          ],
          "font": {
           "color": "#2a3f5f"
          },
          "geo": {
           "bgcolor": "white",
           "lakecolor": "white",
           "landcolor": "white",
           "showlakes": true,
           "showland": true,
           "subunitcolor": "#C8D4E3"
          },
          "hoverlabel": {
           "align": "left"
          },
          "hovermode": "closest",
          "mapbox": {
           "style": "light"
          },
          "paper_bgcolor": "white",
          "plot_bgcolor": "white",
          "polar": {
           "angularaxis": {
            "gridcolor": "#EBF0F8",
            "linecolor": "#EBF0F8",
            "ticks": ""
           },
           "bgcolor": "white",
           "radialaxis": {
            "gridcolor": "#EBF0F8",
            "linecolor": "#EBF0F8",
            "ticks": ""
           }
          },
          "scene": {
           "xaxis": {
            "backgroundcolor": "white",
            "gridcolor": "#DFE8F3",
            "gridwidth": 2,
            "linecolor": "#EBF0F8",
            "showbackground": true,
            "ticks": "",
            "zerolinecolor": "#EBF0F8"
           },
           "yaxis": {
            "backgroundcolor": "white",
            "gridcolor": "#DFE8F3",
            "gridwidth": 2,
            "linecolor": "#EBF0F8",
            "showbackground": true,
            "ticks": "",
            "zerolinecolor": "#EBF0F8"
           },
           "zaxis": {
            "backgroundcolor": "white",
            "gridcolor": "#DFE8F3",
            "gridwidth": 2,
            "linecolor": "#EBF0F8",
            "showbackground": true,
            "ticks": "",
            "zerolinecolor": "#EBF0F8"
           }
          },
          "shapedefaults": {
           "line": {
            "color": "#2a3f5f"
           }
          },
          "ternary": {
           "aaxis": {
            "gridcolor": "#DFE8F3",
            "linecolor": "#A2B1C6",
            "ticks": ""
           },
           "baxis": {
            "gridcolor": "#DFE8F3",
            "linecolor": "#A2B1C6",
            "ticks": ""
           },
           "bgcolor": "white",
           "caxis": {
            "gridcolor": "#DFE8F3",
            "linecolor": "#A2B1C6",
            "ticks": ""
           }
          },
          "title": {
           "x": 0.05
          },
          "xaxis": {
           "automargin": true,
           "gridcolor": "#EBF0F8",
           "linecolor": "#EBF0F8",
           "ticks": "",
           "title": {
            "standoff": 15
           },
           "zerolinecolor": "#EBF0F8",
           "zerolinewidth": 2
          },
          "yaxis": {
           "automargin": true,
           "gridcolor": "#EBF0F8",
           "linecolor": "#EBF0F8",
           "ticks": "",
           "title": {
            "standoff": 15
           },
           "zerolinecolor": "#EBF0F8",
           "zerolinewidth": 2
          }
         }
        },
        "title": {
         "text": "Markdown Sales by Year and Store"
        },
        "width": 800,
        "xaxis": {
         "title": {
          "text": "Year"
         }
        },
        "yaxis": {
         "title": {
          "text": "Sales (USD)"
         }
        }
       }
      },
      "image/png": "[encoded data removed]"
     },
     "metadata": {},
     "output_type": "display_data"
    }
   ],
   "source": [
    "# THIS CHART IS FOR MARKDOWN SALES BY YEAR, WITH A GROUPED BAR CHART\n",
    "# Plot using Plotly\n",
    "\n",
    "# Create a list of the years as a string for a clean display.\n",
    "# Otherwise, Plotly can interpret the values as integers and try\n",
    "# to format them as such.\n",
    "years = df['year'].astype(str).tolist()\n",
    "\n",
    "# Initialize an empty Figure container for the plot\n",
    "fig = go.Figure()\n",
    "\n",
    "# Here's where the meat of the bar chart is assembled.\n",
    "# Loop through the markdowns and add a bar for each, for\n",
    "# each year.\n",
    "# The add_trace() function takes a go.Bar() parameter which\n",
    "# supplies all the data for that particular trace object.\n",
    "for col in ['markdown1','markdown2','markdown3','markdown4','markdown5']:\n",
    "    fig.add_trace(\n",
    "        go.Bar(\n",
    "            x=years,\n",
    "            y=df[col],\n",
    "            name=col.capitalize(),  # Show as \"Markdown1\", etc\n",
    "            text=[f\"${val:,.2f}\" for val in df[col]],\n",
    "            hovertemplate='%{text}<extra></extra>'\n",
    "        )\n",
    "    )\n",
    "\n",
    "fig.update_layout(\n",
    "    title=\"Markdown Sales by Year and Store\",\n",
    "    xaxis_title=\"Year\",\n",
    "    yaxis_title=\"Sales (USD)\",\n",
    "    barmode=\"group\",\n",
    "    template=\"plotly_white\",\n",
    "    legend_title=\"Markdown Type\",\n",
    "    height=500,\n",
    "    width=800\n",
    ")\n",
    "\n",
    "fig.show()"
   ]
  },
  {
   "cell_type": "code",
   "execution_count": 64,
   "id": "a3972a5b-d644-4c0d-96a9-7ad83fab80ae",
   "metadata": {},
   "outputs": [
    {
     "name": "stdout",
     "output_type": "stream",
     "text": [
      "   year store_id      markdown1      markdown2       markdown3      markdown4      markdown5\n",
      "0  2011        1  $2,947,704.73  $3,838,799.58   $4,293,743.04    $712,395.03  $4,331,048.06\n",
      "1  2011        2  $3,910,352.10  $8,334,134.98   $6,000,285.30  $1,178,492.89  $4,717,955.66\n",
      "2  2011        3  $1,078,010.51  $1,066,741.19      $78,348.93    $178,775.94    $983,943.28\n",
      "3  2011        4  $3,076,434.65  $6,524,057.37   $6,834,257.50  $1,264,925.66  $6,252,297.03\n",
      "4  2011        5    $536,210.74  $1,274,921.56   $2,022,176.50    $135,719.10  $2,065,831.47\n",
      "5  2011        6  $3,214,928.50  $6,253,602.20   $6,574,960.42    $966,290.09  $4,713,721.13\n",
      "6  2011        7    $933,451.39  $1,391,654.55   $2,979,768.82    $284,814.59  $1,577,463.92\n",
      "7  2011        8  $1,717,989.88  $2,920,039.74   $3,537,008.34    $402,304.97  $2,993,246.49\n",
      "8  2011        9    $622,736.34  $1,030,650.41      $29,188.11    $220,928.70    $763,417.81\n",
      "9  2011       10  $3,066,454.92  $8,727,261.58  $11,232,220.36  $1,350,483.24  $5,284,187.69\n"
     ]
    },
    {
     "name": "stderr",
     "output_type": "stream",
     "text": [
      "/var/folders/90/m9dcfcxn38j0ypf7wjqn_bf80000gp/T/ipykernel_97774/3886420823.py:8: UserWarning:\n",
      "\n",
      "pandas only supports SQLAlchemy connectable (engine/connection) or database string URI or sqlite3 DBAPI2 connection. Other DBAPI2 objects are not tested. Please consider using SQLAlchemy.\n",
      "\n"
     ]
    }
   ],
   "source": [
    "# SUMMARY TABLE - Gather all the data\n",
    "# Load the data into a dataframe\n",
    "pd.set_option('display.width', 1500)\n",
    "pd.set_option('display.max_colwidth', 100)\n",
    "pd.set_option('display.max_rows', 300)\n",
    "pd.set_option('display.max_columns', 100)\n",
    "\n",
    "df_summary = pd.read_sql(sql_summary_table, conn)\n",
    "summary_data = df_summary.copy()\n",
    "# print(f\"{summary_data.head(20)}\\n\\n\")\n",
    "\n",
    "# The dataframe columns are:\n",
    "# Year, Store_ID, Markdown1, Markdown2, Markdown3, Markdown4, Markdown5\n",
    "# Let's create a totals series starting with column index 2\n",
    "totals = summary_data.iloc[:, 2:].sum(numeric_only=True)\n",
    "\n",
    "# Think of a series as an array of key:value pairs. Here, the key for the\n",
    "# totals series will be Markdown1, Markdown2, etc and the value for each\n",
    "# will be the sum for that column.\n",
    "\n",
    "# Now, create a \"totals row\" (list) to arrange the totals so we can append it to\n",
    "# our dataframe.  Since we'll be slicing off the first column for our \n",
    "# multi-row header, insert the word \"Total\" in the second column.\n",
    "totals_row = [\"\", \"Total\"] + totals.to_list()\n",
    "# print(totals_row)\n",
    "\n",
    "# Append our totals row to our summary_data dataframe\n",
    "summary_data.loc[len(summary_data.index)] = totals_row\n",
    "\n",
    "# Force column names to lowercase so Snowflake will match the model table\n",
    "summary_data.columns = [col.lower() for col in summary_data.columns]\n",
    "\n",
    "# Convert our Year and Store_Id to strings for safe formatting in our table\n",
    "summary_data['year'] = summary_data['year'].astype(str)\n",
    "summary_data['store_id'] = summary_data['store_id'].astype(str)\n",
    "\n",
    "# Format the values in the MarkdownX columns to currency\n",
    "for col in summary_data.columns[2:]:\n",
    "    summary_data[col] = summary_data[col].apply(lambda x: f\"${x:,.2f}\")\n",
    "\n",
    "print(summary_data.head(10))\n"
   ]
  },
  {
   "cell_type": "code",
   "execution_count": 67,
   "id": "63aaf7b5-aecf-4356-9314-347a93635994",
   "metadata": {},
   "outputs": [
    {
     "data": {
      "application/vnd.plotly.v1+json": {
       "config": {
        "plotlyServerURL": "https://plot.ly"
       },
       "data": [
        {
         "cells": {
          "align": [
           "left",
           "center",
           "right",
           "right",
           "right",
           "right",
           "right"
          ],
          "fill": {
           "color": [
            [
             "white",
             "#f2f2f2",
             "white",
             "#f2f2f2",
             "white",
             "#f2f2f2",
             "white",
             "#f2f2f2",
             "white",
             "#f2f2f2",
             "white",
             "#f2f2f2",
             "white",
             "#f2f2f2",
             "white",
             "#f2f2f2",
             "white",
             "#f2f2f2",
             "white",
             "#f2f2f2",
             "white",
             "#f2f2f2",
             "white",
             "#f2f2f2",
             "white",
             "#f2f2f2",
             "white",
             "#f2f2f2",
             "white",
             "#f2f2f2",
             "white",
             "#f2f2f2",
             "white",
             "#f2f2f2",
             "white",
             "#f2f2f2",
             "white",
             "#f2f2f2",
             "white",
             "#f2f2f2",
             "white",
             "#f2f2f2",
             "white",
             "#f2f2f2",
             "white",
             "#f2f2f2",
             "white",
             "#f2f2f2",
             "white",
             "#f2f2f2",
             "white",
             "#f2f2f2",
             "white",
             "#f2f2f2",
             "white",
             "#f2f2f2",
             "white",
             "#f2f2f2",
             "white",
             "#f2f2f2",
             "white",
             "#f2f2f2",
             "white",
             "#f2f2f2",
             "white",
             "#f2f2f2",
             "white",
             "#f2f2f2",
             "white",
             "#f2f2f2",
             "white",
             "#f2f2f2",
             "white",
             "#f2f2f2",
             "white",
             "#f2f2f2",
             "white",
             "#f2f2f2",
             "white",
             "#f2f2f2",
             "white",
             "#f2f2f2",
             "white",
             "#f2f2f2",
             "white",
             "lavender"
            ],
            [
             "white",
             "#f2f2f2",
             "white",
             "#f2f2f2",
             "white",
             "#f2f2f2",
             "white",
             "#f2f2f2",
             "white",
             "#f2f2f2",
             "white",
             "#f2f2f2",
             "white",
             "#f2f2f2",
             "white",
             "#f2f2f2",
             "white",
             "#f2f2f2",
             "white",
             "#f2f2f2",
             "white",
             "#f2f2f2",
             "white",
             "#f2f2f2",
             "white",
             "#f2f2f2",
             "white",
             "#f2f2f2",
             "white",
             "#f2f2f2",
             "white",
             "#f2f2f2",
             "white",
             "#f2f2f2",
             "white",
             "#f2f2f2",
             "white",
             "#f2f2f2",
             "white",
             "#f2f2f2",
             "white",
             "#f2f2f2",
             "white",
             "#f2f2f2",
             "white",
             "#f2f2f2",
             "white",
             "#f2f2f2",
             "white",
             "#f2f2f2",
             "white",
             "#f2f2f2",
             "white",
             "#f2f2f2",
             "white",
             "#f2f2f2",
             "white",
             "#f2f2f2",
             "white",
             "#f2f2f2",
             "white",
             "#f2f2f2",
             "white",
             "#f2f2f2",
             "white",
             "#f2f2f2",
             "white",
             "#f2f2f2",
             "white",
             "#f2f2f2",
             "white",
             "#f2f2f2",
             "white",
             "#f2f2f2",
             "white",
             "#f2f2f2",
             "white",
             "#f2f2f2",
             "white",
             "#f2f2f2",
             "white",
             "#f2f2f2",
             "white",
             "#f2f2f2",
             "white",
             "lavender"
            ],
            [
             "white",
             "#f2f2f2",
             "white",
             "#f2f2f2",
             "white",
             "#f2f2f2",
             "white",
             "#f2f2f2",
             "white",
             "#f2f2f2",
             "white",
             "#f2f2f2",
             "white",
             "#f2f2f2",
             "white",
             "#f2f2f2",
             "white",
             "#f2f2f2",
             "white",
             "#f2f2f2",
             "white",
             "#f2f2f2",
             "white",
             "#f2f2f2",
             "white",
             "#f2f2f2",
             "white",
             "#f2f2f2",
             "white",
             "#f2f2f2",
             "white",
             "#f2f2f2",
             "white",
             "#f2f2f2",
             "white",
             "#f2f2f2",
             "white",
             "#f2f2f2",
             "white",
             "#f2f2f2",
             "white",
             "#f2f2f2",
             "white",
             "#f2f2f2",
             "white",
             "#f2f2f2",
             "white",
             "#f2f2f2",
             "white",
             "#f2f2f2",
             "white",
             "#f2f2f2",
             "white",
             "#f2f2f2",
             "white",
             "#f2f2f2",
             "white",
             "#f2f2f2",
             "white",
             "#f2f2f2",
             "white",
             "#f2f2f2",
             "white",
             "#f2f2f2",
             "white",
             "#f2f2f2",
             "white",
             "#f2f2f2",
             "white",
             "#f2f2f2",
             "white",
             "#f2f2f2",
             "white",
             "#f2f2f2",
             "white",
             "#f2f2f2",
             "white",
             "#f2f2f2",
             "white",
             "#f2f2f2",
             "white",
             "#f2f2f2",
             "white",
             "#f2f2f2",
             "white",
             "lavender"
            ]
           ]
          },
          "font": {
           "color": "black",
           "family": "Menlo",
           "size": 13
          },
          "height": 25,
          "values": [
           [
            "2011",
            "2011",
            "2011",
            "2011",
            "2011",
            "2011",
            "2011",
            "2011",
            "2011",
            "2011",
            "2011",
            "2011",
            "2011",
            "2011",
            "2011",
            "2011",
            "2011",
            "2011",
            "2011",
            "2011",
            "2011",
            "2011",
            "2011",
            "2011",
            "2011",
            "2011",
            "2011",
            "2011",
            "2011",
            "2011",
            "2011",
            "2011",
            "2011",
            "2011",
            "2011",
            "2011",
            "2011",
            "2011",
            "2011",
            "2011",
            "2012",
            "2012",
            "2012",
            "2012",
            "2012",
            "2012",
            "2012",
            "2012",
            "2012",
            "2012",
            "2012",
            "2012",
            "2012",
            "2012",
            "2012",
            "2012",
            "2012",
            "2012",
            "2012",
            "2012",
            "2012",
            "2012",
            "2012",
            "2012",
            "2012",
            "2012",
            "2012",
            "2012",
            "2012",
            "2012",
            "2012",
            "2012",
            "2012",
            "2012",
            "2012",
            "2012",
            "2012",
            "2012",
            "2012",
            "2012",
            "2012",
            "2012",
            "2012",
            "2012",
            "2012",
            "<b><b><b></b></b></b>"
           ],
           [
            "1",
            "2",
            "3",
            "4",
            "5",
            "6",
            "7",
            "8",
            "9",
            "10",
            "11",
            "12",
            "13",
            "14",
            "15",
            "16",
            "17",
            "18",
            "19",
            "20",
            "21",
            "22",
            "23",
            "24",
            "25",
            "26",
            "27",
            "28",
            "29",
            "31",
            "32",
            "33",
            "34",
            "35",
            "37",
            "39",
            "40",
            "41",
            "42",
            "45",
            "1",
            "2",
            "3",
            "4",
            "5",
            "6",
            "7",
            "8",
            "9",
            "10",
            "11",
            "12",
            "13",
            "14",
            "15",
            "16",
            "17",
            "18",
            "19",
            "20",
            "21",
            "22",
            "23",
            "24",
            "25",
            "26",
            "27",
            "28",
            "29",
            "30",
            "31",
            "32",
            "33",
            "34",
            "35",
            "36",
            "37",
            "38",
            "39",
            "40",
            "41",
            "42",
            "43",
            "44",
            "45",
            "<b><b><b>Total</b></b></b>"
           ],
           [
            "$2,947,704.73",
            "$3,910,352.10",
            "$1,078,010.51",
            "$3,076,434.65",
            "$536,210.74",
            "$3,214,928.50",
            "$933,451.39",
            "$1,717,989.88",
            "$622,736.34",
            "$3,066,454.92",
            "$2,744,681.04",
            "$3,529,737.00",
            "$4,945,241.46",
            "$3,481,433.63",
            "$1,899,110.97",
            "$768,032.05",
            "$1,698,216.28",
            "$2,659,088.74",
            "$4,818,641.77",
            "$5,263,066.07",
            "$2,063,586.50",
            "$2,520,632.20",
            "$2,161,085.67",
            "$2,861,873.04",
            "$2,421,202.86",
            "$1,812,340.57",
            "$4,776,682.59",
            "$4,219,307.40",
            "$1,197,312.62",
            "$3,628,785.40",
            "$3,605,237.86",
            "$18,834.13",
            "$2,058,639.44",
            "$3,883,008.64",
            "$19,817.76",
            "$1,719,621.72",
            "$1,904,768.61",
            "$2,952,340.86",
            "$12,362.91",
            "$3,379,801.38",
            "$21,770,834.31",
            "$28,537,399.11",
            "$5,750,213.98",
            "$25,339,328.65",
            "$6,028,176.87",
            "$23,446,460.03",
            "$16,371,105.25",
            "$18,447,018.20",
            "$5,094,761.57",
            "$16,824,232.15",
            "$23,687,776.29",
            "$28,470,792.13",
            "$31,569,489.83",
            "$31,084,052.42",
            "$12,611,093.37",
            "$6,509,934.23",
            "$11,273,895.80",
            "$21,715,628.11",
            "$26,836,170.43",
            "$31,691,907.16",
            "$18,857,569.71",
            "$27,076,942.28",
            "$17,146,248.80",
            "$31,284,385.99",
            "$20,723,413.85",
            "$15,785,309.41",
            "$33,880,355.67",
            "$26,125,633.45",
            "$11,546,157.55",
            "$132,762.20",
            "$24,757,675.73",
            "$23,356,185.54",
            "$4,771.20",
            "$13,565,633.52",
            "$18,814,416.79",
            "$76,809.61",
            "$75,080.86",
            "$372,007.02",
            "$22,259,995.35",
            "$15,042,652.60",
            "$22,273,646.12",
            "$84,879.81",
            "$87,866.98",
            "$120,350.37",
            "$21,457,569.13",
            "<b><b><b>$858,097,354.36</b></b></b>"
           ],
           [
            "$3,838,799.58",
            "$8,334,134.98",
            "$1,066,741.19",
            "$6,524,057.37",
            "$1,274,921.56",
            "$6,253,602.20",
            "$1,391,654.55",
            "$2,920,039.74",
            "$1,030,650.41",
            "$8,727,261.58",
            "$4,871,151.80",
            "$4,617,599.93",
            "$9,032,120.42",
            "$6,651,403.63",
            "$2,593,405.32",
            "$985,038.46",
            "$3,302,778.12",
            "$4,918,515.59",
            "$5,063,494.65",
            "$8,131,068.88",
            "$2,809,467.47",
            "$4,929,644.94",
            "$4,283,162.31",
            "$4,824,787.18",
            "$4,046,741.04",
            "$2,968,499.73",
            "$7,267,069.54",
            "$4,604,878.98",
            "$1,703,874.71",
            "$2,459,587.13",
            "$4,376,008.43",
            "$94,069.71",
            "$2,168,860.31",
            "$3,235,507.24",
            "$56,061.81",
            "$4,456,028.06",
            "$2,219,105.33",
            "$5,269,651.12",
            "$73,810.26",
            "$3,409,304.00",
            "$5,096,052.18",
            "$7,735,258.01",
            "$1,204,674.83",
            "$7,638,099.20",
            "$1,090,197.21",
            "$6,545,309.44",
            "$2,926,401.21",
            "$5,030,947.18",
            "$1,172,171.07",
            "$6,011,075.14",
            "$5,287,275.92",
            "$4,921,340.86",
            "$10,275,094.25",
            "$9,021,261.51",
            "$4,087,587.74",
            "$981,829.15",
            "$4,206,942.44",
            "$8,102,328.21",
            "$8,361,591.64",
            "$10,571,068.38",
            "$4,846,500.03",
            "$7,243,680.37",
            "$6,790,801.86",
            "$7,135,358.56",
            "$5,196,075.20",
            "$3,506,235.90",
            "$8,072,606.00",
            "$3,471,988.71",
            "$3,070,923.05",
            "$95,433.54",
            "$5,025,062.72",
            "$7,879,918.68",
            "$12,621.60",
            "$3,825,435.03",
            "$3,877,380.26",
            "$64.50",
            "$615.86",
            "$68,454.94",
            "$4,734,491.11",
            "$4,406,136.27",
            "$6,196,722.66",
            "$905.88",
            "$85,055.05",
            "$73.50",
            "$5,885,873.77",
            "<b><b><b>$358,479,479.88</b></b></b>"
           ],
           [
            "$4,293,743.04",
            "$6,000,285.30",
            "$78,348.93",
            "$6,834,257.50",
            "$2,022,176.50",
            "$6,574,960.42",
            "$2,979,768.82",
            "$3,537,008.34",
            "$29,188.11",
            "$11,232,220.36",
            "$5,547,689.55",
            "$4,616,490.79",
            "$10,456,563.07",
            "$6,705,068.34",
            "$5,368,220.54",
            "$2,590,312.60",
            "$5,582,409.39",
            "$5,467,391.83",
            "$7,339,041.50",
            "$9,699,983.00",
            "$2,971,288.24",
            "$103,679.44",
            "$8,342,032.69",
            "$5,021,349.34",
            "$4,389,874.98",
            "$185,820.73",
            "$6,277,105.09",
            "$4,769,505.33",
            "$3,231,361.98",
            "$3,143,191.22",
            "$5,424,821.44",
            "$242.55",
            "$3,271,987.40",
            "$943,356.70",
            "$79.50",
            "$5,796,457.84",
            "$3,229,314.91",
            "$6,001,122.96",
            "$185.64",
            "$2,147,277.00",
            "$102,601.15",
            "$128,036.92",
            "$23,209.21",
            "$178,704.61",
            "$11,488.94",
            "$152,042.03",
            "$30,645.27",
            "$61,611.95",
            "$13,785.45",
            "$72,436.41",
            "$95,503.51",
            "$79,605.85",
            "$189,359.66",
            "$400,581.01",
            "$38,940.26",
            "$28,521.50",
            "$44,137.09",
            "$137,066.19",
            "$190,517.23",
            "$151,083.57",
            "$37,692.80",
            "$57,350.29",
            "$94,496.09",
            "$219,893.25",
            "$45,387.52",
            "$95,728.71",
            "$410,019.77",
            "$131,861.97",
            "$22,098.33",
            "$8,067.99",
            "$117,303.69",
            "$179,121.09",
            "$187.20",
            "$84,526.55",
            "$49,253.13",
            "$112.66",
            "$4,947.02",
            "$6,312.20",
            "$114,629.04",
            "$81,860.93",
            "$146,462.02",
            "$941.49",
            "$2,587.90",
            "$24.01",
            "$68,865.47",
            "<b><b><b>$176,314,791.84</b></b></b>"
           ],
           [
            "$712,395.03",
            "$1,178,492.89",
            "$178,775.94",
            "$1,264,925.66",
            "$135,719.10",
            "$966,290.09",
            "$284,814.59",
            "$402,304.97",
            "$220,928.70",
            "$1,350,483.24",
            "$686,196.63",
            "$1,536,024.40",
            "$1,143,480.09",
            "$840,474.19",
            "$519,224.96",
            "$415,078.93",
            "$574,190.43",
            "$789,298.83",
            "$1,494,738.20",
            "$1,747,696.71",
            "$642,710.89",
            "$292,496.36",
            "$797,482.70",
            "$1,295,853.32",
            "$773,781.49",
            "$389,797.14",
            "$912,561.11",
            "$2,662,144.89",
            "$135,378.93",
            "$763,722.98",
            "$979,083.55",
            "$1,234.80",
            "$534,567.46",
            "$368,512.18",
            "$534.24",
            "$541,021.82",
            "$533,452.92",
            "$1,138,241.04",
            "$9,381.96",
            "$614,346.66",
            "$11,623,515.50",
            "$14,154,018.75",
            "$1,859,751.61",
            "$14,398,538.16",
            "$2,869,699.07",
            "$11,625,559.09",
            "$5,006,239.39",
            "$4,741,665.88",
            "$1,970,084.61",
            "$7,312,681.12",
            "$10,424,906.49",
            "$13,452,486.68",
            "$15,979,446.52",
            "$12,727,337.01",
            "$5,791,652.79",
            "$2,366,641.17",
            "$6,845,069.78",
            "$11,869,574.60",
            "$14,532,622.88",
            "$17,206,186.30",
            "$9,591,370.49",
            "$12,779,861.50",
            "$10,675,059.93",
            "$15,667,453.56",
            "$11,450,887.57",
            "$5,590,457.77",
            "$19,055,156.78",
            "$10,776,399.46",
            "$3,229,995.24",
            "$13,885.98",
            "$10,014,930.75",
            "$13,301,101.77",
            "$22.08",
            "$4,716,556.28",
            "$8,689,563.30",
            "$107.50",
            "$7,007.66",
            "$21,447.78",
            "$9,816,103.39",
            "$6,370,466.57",
            "$12,678,155.87",
            "$12,810.96",
            "$10,960.73",
            "$1,374.94",
            "$9,683,337.89",
            "<b><b><b>$390,739,993.17</b></b></b>"
           ],
           [
            "$4,331,048.06",
            "$4,717,955.66",
            "$983,943.28",
            "$6,252,297.03",
            "$2,065,831.47",
            "$4,713,721.13",
            "$1,577,463.92",
            "$2,993,246.49",
            "$763,417.81",
            "$5,284,187.69",
            "$4,286,502.78",
            "$5,866,243.22",
            "$6,423,209.48",
            "$2,617,405.42",
            "$2,349,844.15",
            "$1,696,958.29",
            "$2,339,432.36",
            "$3,081,405.55",
            "$4,753,588.48",
            "$5,249,063.38",
            "$3,245,440.26",
            "$1,586,011.76",
            "$2,681,954.69",
            "$3,349,417.43",
            "$2,762,710.98",
            "$2,295,562.64",
            "$5,386,834.04",
            "$5,383,792.13",
            "$878,354.61",
            "$5,114,834.60",
            "$4,303,803.42",
            "$27,262.62",
            "$3,012,711.48",
            "$1,913,139.98",
            "$39,291.02",
            "$4,235,427.55",
            "$2,643,558.03",
            "$3,941,842.58",
            "$23,412.06",
            "$3,208,662.10",
            "$11,043,254.49",
            "$14,825,171.68",
            "$1,743,401.89",
            "$13,780,788.94",
            "$3,474,671.30",
            "$12,518,478.74",
            "$8,400,890.94",
            "$13,634,712.77",
            "$4,456,011.19",
            "$7,729,810.04",
            "$11,658,601.19",
            "$9,607,704.48",
            "$16,167,319.73",
            "$12,648,865.56",
            "$4,810,208.86",
            "$3,776,059.16",
            "$4,926,262.31",
            "$7,172,296.90",
            "$10,989,469.97",
            "$14,228,245.22",
            "$8,207,975.69",
            "$8,290,345.51",
            "$7,088,350.00",
            "$11,814,166.78",
            "$6,735,788.48",
            "$7,762,398.96",
            "$12,519,880.50",
            "$14,955,525.45",
            "$4,204,268.42",
            "$225,285.33",
            "$17,141,026.67",
            "$11,993,328.03",
            "$48,271.20",
            "$7,774,464.84",
            "$6,422,439.49",
            "$59,055.34",
            "$93,140.61",
            "$667,868.74",
            "$47,033,515.14",
            "$7,774,960.11",
            "$9,978,429.68",
            "$108,679.62",
            "$140,449.65",
            "$33,878.60",
            "$8,401,465.03",
            "<b><b><b>$515,447,972.86</b></b></b>"
           ]
          ]
         },
         "header": {
          "align": [
           "left",
           "center",
           "right",
           "right",
           "right",
           "right",
           "right"
          ],
          "fill": {
           "color": "lightgrey"
          },
          "font": {
           "color": "black",
           "family": "Helvetica",
           "size": 15
          },
          "height": 30,
          "values": [
           "Year",
           "Store ID",
           "MarkDown1",
           "MarkDown2",
           "MarkDown3",
           "MarkDown4",
           "MarkDown5"
          ]
         },
         "type": "table"
        }
       ],
       "layout": {
        "margin": {
         "b": 0,
         "l": 0,
         "r": 0,
         "t": 40
        },
        "template": {
         "data": {
          "bar": [
           {
            "error_x": {
             "color": "#2a3f5f"
            },
            "error_y": {
             "color": "#2a3f5f"
            },
            "marker": {
             "line": {
              "color": "#E5ECF6",
              "width": 0.5
             },
             "pattern": {
              "fillmode": "overlay",
              "size": 10,
              "solidity": 0.2
             }
            },
            "type": "bar"
           }
          ],
          "barpolar": [
           {
            "marker": {
             "line": {
              "color": "#E5ECF6",
              "width": 0.5
             },
             "pattern": {
              "fillmode": "overlay",
              "size": 10,
              "solidity": 0.2
             }
            },
            "type": "barpolar"
           }
          ],
          "carpet": [
           {
            "aaxis": {
             "endlinecolor": "#2a3f5f",
             "gridcolor": "white",
             "linecolor": "white",
             "minorgridcolor": "white",
             "startlinecolor": "#2a3f5f"
            },
            "baxis": {
             "endlinecolor": "#2a3f5f",
             "gridcolor": "white",
             "linecolor": "white",
             "minorgridcolor": "white",
             "startlinecolor": "#2a3f5f"
            },
            "type": "carpet"
           }
          ],
          "choropleth": [
           {
            "colorbar": {
             "outlinewidth": 0,
             "ticks": ""
            },
            "type": "choropleth"
           }
          ],
          "contour": [
           {
            "colorbar": {
             "outlinewidth": 0,
             "ticks": ""
            },
            "colorscale": [
             [
              0,
              "#0d0887"
             ],
             [
              0.1111111111111111,
              "#46039f"
             ],
             [
              0.2222222222222222,
              "#7201a8"
             ],
             [
              0.3333333333333333,
              "#9c179e"
             ],
             [
              0.4444444444444444,
              "#bd3786"
             ],
             [
              0.5555555555555556,
              "#d8576b"
             ],
             [
              0.6666666666666666,
              "#ed7953"
             ],
             [
              0.7777777777777778,
              "#fb9f3a"
             ],
             [
              0.8888888888888888,
              "#fdca26"
             ],
             [
              1,
              "#f0f921"
             ]
            ],
            "type": "contour"
           }
          ],
          "contourcarpet": [
           {
            "colorbar": {
             "outlinewidth": 0,
             "ticks": ""
            },
            "type": "contourcarpet"
           }
          ],
          "heatmap": [
           {
            "colorbar": {
             "outlinewidth": 0,
             "ticks": ""
            },
            "colorscale": [
             [
              0,
              "#0d0887"
             ],
             [
              0.1111111111111111,
              "#46039f"
             ],
             [
              0.2222222222222222,
              "#7201a8"
             ],
             [
              0.3333333333333333,
              "#9c179e"
             ],
             [
              0.4444444444444444,
              "#bd3786"
             ],
             [
              0.5555555555555556,
              "#d8576b"
             ],
             [
              0.6666666666666666,
              "#ed7953"
             ],
             [
              0.7777777777777778,
              "#fb9f3a"
             ],
             [
              0.8888888888888888,
              "#fdca26"
             ],
             [
              1,
              "#f0f921"
             ]
            ],
            "type": "heatmap"
           }
          ],
          "histogram": [
           {
            "marker": {
             "pattern": {
              "fillmode": "overlay",
              "size": 10,
              "solidity": 0.2
             }
            },
            "type": "histogram"
           }
          ],
          "histogram2d": [
           {
            "colorbar": {
             "outlinewidth": 0,
             "ticks": ""
            },
            "colorscale": [
             [
              0,
              "#0d0887"
             ],
             [
              0.1111111111111111,
              "#46039f"
             ],
             [
              0.2222222222222222,
              "#7201a8"
             ],
             [
              0.3333333333333333,
              "#9c179e"
             ],
             [
              0.4444444444444444,
              "#bd3786"
             ],
             [
              0.5555555555555556,
              "#d8576b"
             ],
             [
              0.6666666666666666,
              "#ed7953"
             ],
             [
              0.7777777777777778,
              "#fb9f3a"
             ],
             [
              0.8888888888888888,
              "#fdca26"
             ],
             [
              1,
              "#f0f921"
             ]
            ],
            "type": "histogram2d"
           }
          ],
          "histogram2dcontour": [
           {
            "colorbar": {
             "outlinewidth": 0,
             "ticks": ""
            },
            "colorscale": [
             [
              0,
              "#0d0887"
             ],
             [
              0.1111111111111111,
              "#46039f"
             ],
             [
              0.2222222222222222,
              "#7201a8"
             ],
             [
              0.3333333333333333,
              "#9c179e"
             ],
             [
              0.4444444444444444,
              "#bd3786"
             ],
             [
              0.5555555555555556,
              "#d8576b"
             ],
             [
              0.6666666666666666,
              "#ed7953"
             ],
             [
              0.7777777777777778,
              "#fb9f3a"
             ],
             [
              0.8888888888888888,
              "#fdca26"
             ],
             [
              1,
              "#f0f921"
             ]
            ],
            "type": "histogram2dcontour"
           }
          ],
          "mesh3d": [
           {
            "colorbar": {
             "outlinewidth": 0,
             "ticks": ""
            },
            "type": "mesh3d"
           }
          ],
          "parcoords": [
           {
            "line": {
             "colorbar": {
              "outlinewidth": 0,
              "ticks": ""
             }
            },
            "type": "parcoords"
           }
          ],
          "pie": [
           {
            "automargin": true,
            "type": "pie"
           }
          ],
          "scatter": [
           {
            "fillpattern": {
             "fillmode": "overlay",
             "size": 10,
             "solidity": 0.2
            },
            "type": "scatter"
           }
          ],
          "scatter3d": [
           {
            "line": {
             "colorbar": {
              "outlinewidth": 0,
              "ticks": ""
             }
            },
            "marker": {
             "colorbar": {
              "outlinewidth": 0,
              "ticks": ""
             }
            },
            "type": "scatter3d"
           }
          ],
          "scattercarpet": [
           {
            "marker": {
             "colorbar": {
              "outlinewidth": 0,
              "ticks": ""
             }
            },
            "type": "scattercarpet"
           }
          ],
          "scattergeo": [
           {
            "marker": {
             "colorbar": {
              "outlinewidth": 0,
              "ticks": ""
             }
            },
            "type": "scattergeo"
           }
          ],
          "scattergl": [
           {
            "marker": {
             "colorbar": {
              "outlinewidth": 0,
              "ticks": ""
             }
            },
            "type": "scattergl"
           }
          ],
          "scattermap": [
           {
            "marker": {
             "colorbar": {
              "outlinewidth": 0,
              "ticks": ""
             }
            },
            "type": "scattermap"
           }
          ],
          "scattermapbox": [
           {
            "marker": {
             "colorbar": {
              "outlinewidth": 0,
              "ticks": ""
             }
            },
            "type": "scattermapbox"
           }
          ],
          "scatterpolar": [
           {
            "marker": {
             "colorbar": {
              "outlinewidth": 0,
              "ticks": ""
             }
            },
            "type": "scatterpolar"
           }
          ],
          "scatterpolargl": [
           {
            "marker": {
             "colorbar": {
              "outlinewidth": 0,
              "ticks": ""
             }
            },
            "type": "scatterpolargl"
           }
          ],
          "scatterternary": [
           {
            "marker": {
             "colorbar": {
              "outlinewidth": 0,
              "ticks": ""
             }
            },
            "type": "scatterternary"
           }
          ],
          "surface": [
           {
            "colorbar": {
             "outlinewidth": 0,
             "ticks": ""
            },
            "colorscale": [
             [
              0,
              "#0d0887"
             ],
             [
              0.1111111111111111,
              "#46039f"
             ],
             [
              0.2222222222222222,
              "#7201a8"
             ],
             [
              0.3333333333333333,
              "#9c179e"
             ],
             [
              0.4444444444444444,
              "#bd3786"
             ],
             [
              0.5555555555555556,
              "#d8576b"
             ],
             [
              0.6666666666666666,
              "#ed7953"
             ],
             [
              0.7777777777777778,
              "#fb9f3a"
             ],
             [
              0.8888888888888888,
              "#fdca26"
             ],
             [
              1,
              "#f0f921"
             ]
            ],
            "type": "surface"
           }
          ],
          "table": [
           {
            "cells": {
             "fill": {
              "color": "#EBF0F8"
             },
             "line": {
              "color": "white"
             }
            },
            "header": {
             "fill": {
              "color": "#C8D4E3"
             },
             "line": {
              "color": "white"
             }
            },
            "type": "table"
           }
          ]
         },
         "layout": {
          "annotationdefaults": {
           "arrowcolor": "#2a3f5f",
           "arrowhead": 0,
           "arrowwidth": 1
          },
          "autotypenumbers": "strict",
          "coloraxis": {
           "colorbar": {
            "outlinewidth": 0,
            "ticks": ""
           }
          },
          "colorscale": {
           "diverging": [
            [
             0,
             "#8e0152"
            ],
            [
             0.1,
             "#c51b7d"
            ],
            [
             0.2,
             "#de77ae"
            ],
            [
             0.3,
             "#f1b6da"
            ],
            [
             0.4,
             "#fde0ef"
            ],
            [
             0.5,
             "#f7f7f7"
            ],
            [
             0.6,
             "#e6f5d0"
            ],
            [
             0.7,
             "#b8e186"
            ],
            [
             0.8,
             "#7fbc41"
            ],
            [
             0.9,
             "#4d9221"
            ],
            [
             1,
             "#276419"
            ]
           ],
           "sequential": [
            [
             0,
             "#0d0887"
            ],
            [
             0.1111111111111111,
             "#46039f"
            ],
            [
             0.2222222222222222,
             "#7201a8"
            ],
            [
             0.3333333333333333,
             "#9c179e"
            ],
            [
             0.4444444444444444,
             "#bd3786"
            ],
            [
             0.5555555555555556,
             "#d8576b"
            ],
            [
             0.6666666666666666,
             "#ed7953"
            ],
            [
             0.7777777777777778,
             "#fb9f3a"
            ],
            [
             0.8888888888888888,
             "#fdca26"
            ],
            [
             1,
             "#f0f921"
            ]
           ],
           "sequentialminus": [
            [
             0,
             "#0d0887"
            ],
            [
             0.1111111111111111,
             "#46039f"
            ],
            [
             0.2222222222222222,
             "#7201a8"
            ],
            [
             0.3333333333333333,
             "#9c179e"
            ],
            [
             0.4444444444444444,
             "#bd3786"
            ],
            [
             0.5555555555555556,
             "#d8576b"
            ],
            [
             0.6666666666666666,
             "#ed7953"
            ],
            [
             0.7777777777777778,
             "#fb9f3a"
            ],
            [
             0.8888888888888888,
             "#fdca26"
            ],
            [
             1,
             "#f0f921"
            ]
           ]
          },
          "colorway": [
           "#636efa",
           "#EF553B",
           "#00cc96",
           "#ab63fa",
           "#FFA15A",
           "#19d3f3",
           "#FF6692",
           "#B6E880",
           "#FF97FF",
           "#FECB52"
          ],
          "font": {
           "color": "#2a3f5f"
          },
          "geo": {
           "bgcolor": "white",
           "lakecolor": "white",
           "landcolor": "#E5ECF6",
           "showlakes": true,
           "showland": true,
           "subunitcolor": "white"
          },
          "hoverlabel": {
           "align": "left"
          },
          "hovermode": "closest",
          "mapbox": {
           "style": "light"
          },
          "paper_bgcolor": "white",
          "plot_bgcolor": "#E5ECF6",
          "polar": {
           "angularaxis": {
            "gridcolor": "white",
            "linecolor": "white",
            "ticks": ""
           },
           "bgcolor": "#E5ECF6",
           "radialaxis": {
            "gridcolor": "white",
            "linecolor": "white",
            "ticks": ""
           }
          },
          "scene": {
           "xaxis": {
            "backgroundcolor": "#E5ECF6",
            "gridcolor": "white",
            "gridwidth": 2,
            "linecolor": "white",
            "showbackground": true,
            "ticks": "",
            "zerolinecolor": "white"
           },
           "yaxis": {
            "backgroundcolor": "#E5ECF6",
            "gridcolor": "white",
            "gridwidth": 2,
            "linecolor": "white",
            "showbackground": true,
            "ticks": "",
            "zerolinecolor": "white"
           },
           "zaxis": {
            "backgroundcolor": "#E5ECF6",
            "gridcolor": "white",
            "gridwidth": 2,
            "linecolor": "white",
            "showbackground": true,
            "ticks": "",
            "zerolinecolor": "white"
           }
          },
          "shapedefaults": {
           "line": {
            "color": "#2a3f5f"
           }
          },
          "ternary": {
           "aaxis": {
            "gridcolor": "white",
            "linecolor": "white",
            "ticks": ""
           },
           "baxis": {
            "gridcolor": "white",
            "linecolor": "white",
            "ticks": ""
           },
           "bgcolor": "#E5ECF6",
           "caxis": {
            "gridcolor": "white",
            "linecolor": "white",
            "ticks": ""
           }
          },
          "title": {
           "x": 0.05
          },
          "xaxis": {
           "automargin": true,
           "gridcolor": "white",
           "linecolor": "white",
           "ticks": "",
           "title": {
            "standoff": 15
           },
           "zerolinecolor": "white",
           "zerolinewidth": 2
          },
          "yaxis": {
           "automargin": true,
           "gridcolor": "white",
           "linecolor": "white",
           "ticks": "",
           "title": {
            "standoff": 15
           },
           "zerolinecolor": "white",
           "zerolinewidth": 2
          }
         }
        },
        "title": {
         "text": "Markdown Sales by Year and Store"
        }
       }
      },
      "image/png": "[encoded data removed]"
     },
     "metadata": {},
     "output_type": "display_data"
    }
   ],
   "source": [
    "# Use the data from the previous cell to generate the table\n",
    "\n",
    "# Gather the header values\n",
    "column_map = {\n",
    "    'year': 'Year',\n",
    "    'store_id': 'Store ID',\n",
    "    'markdown1': 'MarkDown1',\n",
    "    'markdown2': 'MarkDown2',\n",
    "    'markdown3': 'MarkDown3',\n",
    "    'markdown4': 'MarkDown4',\n",
    "    'markdown5': 'MarkDown5'\n",
    "}\n",
    "\n",
    "formatted_headers = [column_map[col] for col in summary_data.columns]\n",
    "\n",
    "# Prepare zebra striping for the summary table\n",
    "# Alternate row colors: white for even, light gray for odd.\n",
    "# We build color lists for each column, with the last row (the total row) as white.\n",
    "fill_colors = [\n",
    "    ['white' if i % 2 == 0 else '#f2f2f2' for i in range(len(summary_data) - 1)] + ['white']\n",
    "    for _ in range(3)\n",
    "]\n",
    "\n",
    "# Overwrite the fill color of the final row (the Total row) to a distinct color for emphasis\n",
    "for i in range(len(fill_colors)):\n",
    "    fill_colors[i][-1] = 'lavender'\n",
    "\n",
    "# Now add a bold tag to the total row.  Loop through each column in the last row\n",
    "# and surround it with the <b></b> tags. Don't be confused by the statement:\n",
    "# df_weekly_sales.iloc[-1][col]\n",
    "# This is chaining 2 statements together to fetch the last row first (as a series), then\n",
    "# fetching the label-based element associated with the variable \"col\" to get the specific\n",
    "# element.\n",
    "for col in summary_data.columns:\n",
    "    summary_data.loc[len(summary_data)-1, col] = f\"<b>{summary_data.iloc[-1][col]}</b>\"\n",
    "\n",
    "# Gather the cell values for the summary data\n",
    "cell_values = [summary_data[col] for col in summary_data.columns]\n",
    "\n",
    "# Configure the table using Plotly.  We can't just feed the dataframe\n",
    "# directly to have the table produced since the required format differs\n",
    "# slightly from our dataframe layout\n",
    "fig = go.Figure(data=[\n",
    "    go.Table(\n",
    "        header=dict(\n",
    "            values=formatted_headers,\n",
    "            fill_color='lightgrey',\n",
    "            align = ['left','center','right','right','right','right','right'],\n",
    "            font=dict(size=15, color='black', family='Helvetica'),\n",
    "            height=30\n",
    "        ),\n",
    "        cells=dict(\n",
    "            values = cell_values,\n",
    "            fill_color = fill_colors,\n",
    "            align = ['left','center','right','right','right','right','right'],\n",
    "            font = dict(size=13, color='black', family='Menlo'),\n",
    "            height = 25\n",
    "        )\n",
    "    )       \n",
    "])\n",
    "\n",
    "fig.update_layout(\n",
    "    title=\"Markdown Sales by Year and Store\",\n",
    "    margin=dict(l=0, r=0, t=40, b=0)\n",
    ")\n",
    "\n",
    "fig.show()\n"
   ]
  },
  {
   "cell_type": "code",
   "execution_count": 59,
   "id": "76f38d29-a280-4474-a301-ea0f876afc89",
   "metadata": {},
   "outputs": [
    {
     "data": {
      "application/vnd.plotly.v1+json": {
       "config": {
        "plotlyServerURL": "https://plot.ly"
       },
       "data": [
        {
         "hovertemplate": "Year: %{x}<br>Category: %{name}<br>Sales: %{text}<extra></extra>",
         "name": "Markdown1",
         "text": [
          "$0.00",
          "$107,456,230.27",
          "$984,441,611.27"
         ],
         "type": "bar",
         "x": [
          "2010",
          "2011",
          "2012"
         ],
         "xaxis": "x",
         "y": {
          "bdata": "AAAAAAAAAADhehSZm56ZQVyPooWxVs1B",
          "dtype": "f8"
         },
         "yaxis": "y"
        },
        {
         "hovertemplate": "Year: %{x}<br>Category: %{name}<br>Sales: %{text}<extra></extra>",
         "name": "Markdown2",
         "text": [
          "$0.00",
          "$157,380,896.96",
          "$213,589,867.88"
         ],
         "type": "bar",
         "x": [
          "2010",
          "2011",
          "2012"
         ],
         "xaxis": "x",
         "y": {
          "bdata": "AAAAAAAAAAAfhetB4sKiQVyPwtc+dqlB",
          "dtype": "f8"
         },
         "yaxis": "y"
        },
        {
         "hovertemplate": "Year: %{x}<br>Category: %{name}<br>Sales: %{text}<extra></extra>",
         "name": "Markdown3",
         "text": [
          "$0.00",
          "$190,920,099.58",
          "$6,411,617.40"
         ],
         "type": "bar",
         "x": [
          "2010",
          "2011",
          "2012"
         ],
         "xaxis": "x",
         "y": {
          "bdata": "AAAAAAAAAADC9ShHa8KmQZqZmVlYdVhB",
          "dtype": "f8"
         },
         "yaxis": "y"
        },
        {
         "hovertemplate": "Year: %{x}<br>Category: %{name}<br>Sales: %{text}<extra></extra>",
         "name": "Markdown4",
         "text": [
          "$0.00",
          "$32,225,685.11",
          "$424,390,384.91"
         ],
         "type": "bar",
         "x": [
          "2010",
          "2011",
          "2012"
         ],
         "xaxis": "x",
         "y": {
          "bdata": "AAAAAAAAAABcj8JRmbt+QcP16PCuS7lB",
          "dtype": "f8"
         },
         "yaxis": "y"
        },
        {
         "hovertemplate": "Year: %{x}<br>Category: %{name}<br>Sales: %{text}<extra></extra>",
         "name": "Markdown5",
         "text": [
          "$0.00",
          "$153,400,457.54",
          "$547,574,496.65"
         ],
         "type": "bar",
         "x": [
          "2010",
          "2011",
          "2012"
         ],
         "xaxis": "x",
         "y": {
          "bdata": "AAAAAAAAAADhehQTaUmiQTMzU3CpUcBB",
          "dtype": "f8"
         },
         "yaxis": "y"
        },
        {
         "cells": {
          "align": [
           "left",
           "center",
           "right",
           "right",
           "right",
           "right",
           "right"
          ],
          "fill": {
           "color": [
            [
             "white",
             "#f2f2f2",
             "white",
             "#f2f2f2",
             "white",
             "#f2f2f2",
             "white",
             "#f2f2f2",
             "white",
             "#f2f2f2",
             "white",
             "#f2f2f2",
             "white",
             "#f2f2f2",
             "white",
             "#f2f2f2",
             "white",
             "#f2f2f2",
             "white",
             "#f2f2f2",
             "white",
             "#f2f2f2",
             "white",
             "#f2f2f2",
             "white",
             "#f2f2f2",
             "white",
             "#f2f2f2",
             "white",
             "#f2f2f2",
             "white",
             "#f2f2f2",
             "white",
             "#f2f2f2",
             "white",
             "#f2f2f2",
             "white",
             "#f2f2f2",
             "white",
             "#f2f2f2",
             "white",
             "#f2f2f2",
             "white",
             "#f2f2f2",
             "white",
             "#f2f2f2",
             "white",
             "#f2f2f2",
             "white",
             "#f2f2f2",
             "white",
             "#f2f2f2",
             "white",
             "#f2f2f2",
             "white",
             "#f2f2f2",
             "white",
             "#f2f2f2",
             "white",
             "#f2f2f2",
             "white",
             "#f2f2f2",
             "white",
             "#f2f2f2",
             "white",
             "#f2f2f2",
             "white",
             "#f2f2f2",
             "white",
             "#f2f2f2",
             "white",
             "#f2f2f2",
             "white",
             "#f2f2f2",
             "white",
             "#f2f2f2",
             "white",
             "#f2f2f2",
             "white",
             "#f2f2f2",
             "white",
             "#f2f2f2",
             "white",
             "#f2f2f2",
             "white",
             "lavender"
            ],
            [
             "white",
             "#f2f2f2",
             "white",
             "#f2f2f2",
             "white",
             "#f2f2f2",
             "white",
             "#f2f2f2",
             "white",
             "#f2f2f2",
             "white",
             "#f2f2f2",
             "white",
             "#f2f2f2",
             "white",
             "#f2f2f2",
             "white",
             "#f2f2f2",
             "white",
             "#f2f2f2",
             "white",
             "#f2f2f2",
             "white",
             "#f2f2f2",
             "white",
             "#f2f2f2",
             "white",
             "#f2f2f2",
             "white",
             "#f2f2f2",
             "white",
             "#f2f2f2",
             "white",
             "#f2f2f2",
             "white",
             "#f2f2f2",
             "white",
             "#f2f2f2",
             "white",
             "#f2f2f2",
             "white",
             "#f2f2f2",
             "white",
             "#f2f2f2",
             "white",
             "#f2f2f2",
             "white",
             "#f2f2f2",
             "white",
             "#f2f2f2",
             "white",
             "#f2f2f2",
             "white",
             "#f2f2f2",
             "white",
             "#f2f2f2",
             "white",
             "#f2f2f2",
             "white",
             "#f2f2f2",
             "white",
             "#f2f2f2",
             "white",
             "#f2f2f2",
             "white",
             "#f2f2f2",
             "white",
             "#f2f2f2",
             "white",
             "#f2f2f2",
             "white",
             "#f2f2f2",
             "white",
             "#f2f2f2",
             "white",
             "#f2f2f2",
             "white",
             "#f2f2f2",
             "white",
             "#f2f2f2",
             "white",
             "#f2f2f2",
             "white",
             "#f2f2f2",
             "white",
             "lavender"
            ],
            [
             "white",
             "#f2f2f2",
             "white",
             "#f2f2f2",
             "white",
             "#f2f2f2",
             "white",
             "#f2f2f2",
             "white",
             "#f2f2f2",
             "white",
             "#f2f2f2",
             "white",
             "#f2f2f2",
             "white",
             "#f2f2f2",
             "white",
             "#f2f2f2",
             "white",
             "#f2f2f2",
             "white",
             "#f2f2f2",
             "white",
             "#f2f2f2",
             "white",
             "#f2f2f2",
             "white",
             "#f2f2f2",
             "white",
             "#f2f2f2",
             "white",
             "#f2f2f2",
             "white",
             "#f2f2f2",
             "white",
             "#f2f2f2",
             "white",
             "#f2f2f2",
             "white",
             "#f2f2f2",
             "white",
             "#f2f2f2",
             "white",
             "#f2f2f2",
             "white",
             "#f2f2f2",
             "white",
             "#f2f2f2",
             "white",
             "#f2f2f2",
             "white",
             "#f2f2f2",
             "white",
             "#f2f2f2",
             "white",
             "#f2f2f2",
             "white",
             "#f2f2f2",
             "white",
             "#f2f2f2",
             "white",
             "#f2f2f2",
             "white",
             "#f2f2f2",
             "white",
             "#f2f2f2",
             "white",
             "#f2f2f2",
             "white",
             "#f2f2f2",
             "white",
             "#f2f2f2",
             "white",
             "#f2f2f2",
             "white",
             "#f2f2f2",
             "white",
             "#f2f2f2",
             "white",
             "#f2f2f2",
             "white",
             "#f2f2f2",
             "white",
             "#f2f2f2",
             "white",
             "lavender"
            ],
            [
             "white",
             "#f2f2f2",
             "white",
             "#f2f2f2",
             "white",
             "#f2f2f2",
             "white",
             "#f2f2f2",
             "white",
             "#f2f2f2",
             "white",
             "#f2f2f2",
             "white",
             "#f2f2f2",
             "white",
             "#f2f2f2",
             "white",
             "#f2f2f2",
             "white",
             "#f2f2f2",
             "white",
             "#f2f2f2",
             "white",
             "#f2f2f2",
             "white",
             "#f2f2f2",
             "white",
             "#f2f2f2",
             "white",
             "#f2f2f2",
             "white",
             "#f2f2f2",
             "white",
             "#f2f2f2",
             "white",
             "#f2f2f2",
             "white",
             "#f2f2f2",
             "white",
             "#f2f2f2",
             "white",
             "#f2f2f2",
             "white",
             "#f2f2f2",
             "white",
             "#f2f2f2",
             "white",
             "#f2f2f2",
             "white",
             "#f2f2f2",
             "white",
             "#f2f2f2",
             "white",
             "#f2f2f2",
             "white",
             "#f2f2f2",
             "white",
             "#f2f2f2",
             "white",
             "#f2f2f2",
             "white",
             "#f2f2f2",
             "white",
             "#f2f2f2",
             "white",
             "#f2f2f2",
             "white",
             "#f2f2f2",
             "white",
             "#f2f2f2",
             "white",
             "#f2f2f2",
             "white",
             "#f2f2f2",
             "white",
             "#f2f2f2",
             "white",
             "#f2f2f2",
             "white",
             "#f2f2f2",
             "white",
             "#f2f2f2",
             "white",
             "#f2f2f2",
             "white",
             "lavender"
            ],
            [
             "white",
             "#f2f2f2",
             "white",
             "#f2f2f2",
             "white",
             "#f2f2f2",
             "white",
             "#f2f2f2",
             "white",
             "#f2f2f2",
             "white",
             "#f2f2f2",
             "white",
             "#f2f2f2",
             "white",
             "#f2f2f2",
             "white",
             "#f2f2f2",
             "white",
             "#f2f2f2",
             "white",
             "#f2f2f2",
             "white",
             "#f2f2f2",
             "white",
             "#f2f2f2",
             "white",
             "#f2f2f2",
             "white",
             "#f2f2f2",
             "white",
             "#f2f2f2",
             "white",
             "#f2f2f2",
             "white",
             "#f2f2f2",
             "white",
             "#f2f2f2",
             "white",
             "#f2f2f2",
             "white",
             "#f2f2f2",
             "white",
             "#f2f2f2",
             "white",
             "#f2f2f2",
             "white",
             "#f2f2f2",
             "white",
             "#f2f2f2",
             "white",
             "#f2f2f2",
             "white",
             "#f2f2f2",
             "white",
             "#f2f2f2",
             "white",
             "#f2f2f2",
             "white",
             "#f2f2f2",
             "white",
             "#f2f2f2",
             "white",
             "#f2f2f2",
             "white",
             "#f2f2f2",
             "white",
             "#f2f2f2",
             "white",
             "#f2f2f2",
             "white",
             "#f2f2f2",
             "white",
             "#f2f2f2",
             "white",
             "#f2f2f2",
             "white",
             "#f2f2f2",
             "white",
             "#f2f2f2",
             "white",
             "#f2f2f2",
             "white",
             "#f2f2f2",
             "white",
             "lavender"
            ],
            [
             "white",
             "#f2f2f2",
             "white",
             "#f2f2f2",
             "white",
             "#f2f2f2",
             "white",
             "#f2f2f2",
             "white",
             "#f2f2f2",
             "white",
             "#f2f2f2",
             "white",
             "#f2f2f2",
             "white",
             "#f2f2f2",
             "white",
             "#f2f2f2",
             "white",
             "#f2f2f2",
             "white",
             "#f2f2f2",
             "white",
             "#f2f2f2",
             "white",
             "#f2f2f2",
             "white",
             "#f2f2f2",
             "white",
             "#f2f2f2",
             "white",
             "#f2f2f2",
             "white",
             "#f2f2f2",
             "white",
             "#f2f2f2",
             "white",
             "#f2f2f2",
             "white",
             "#f2f2f2",
             "white",
             "#f2f2f2",
             "white",
             "#f2f2f2",
             "white",
             "#f2f2f2",
             "white",
             "#f2f2f2",
             "white",
             "#f2f2f2",
             "white",
             "#f2f2f2",
             "white",
             "#f2f2f2",
             "white",
             "#f2f2f2",
             "white",
             "#f2f2f2",
             "white",
             "#f2f2f2",
             "white",
             "#f2f2f2",
             "white",
             "#f2f2f2",
             "white",
             "#f2f2f2",
             "white",
             "#f2f2f2",
             "white",
             "#f2f2f2",
             "white",
             "#f2f2f2",
             "white",
             "#f2f2f2",
             "white",
             "#f2f2f2",
             "white",
             "#f2f2f2",
             "white",
             "#f2f2f2",
             "white",
             "#f2f2f2",
             "white",
             "#f2f2f2",
             "white",
             "lavender"
            ],
            [
             "white",
             "#f2f2f2",
             "white",
             "#f2f2f2",
             "white",
             "#f2f2f2",
             "white",
             "#f2f2f2",
             "white",
             "#f2f2f2",
             "white",
             "#f2f2f2",
             "white",
             "#f2f2f2",
             "white",
             "#f2f2f2",
             "white",
             "#f2f2f2",
             "white",
             "#f2f2f2",
             "white",
             "#f2f2f2",
             "white",
             "#f2f2f2",
             "white",
             "#f2f2f2",
             "white",
             "#f2f2f2",
             "white",
             "#f2f2f2",
             "white",
             "#f2f2f2",
             "white",
             "#f2f2f2",
             "white",
             "#f2f2f2",
             "white",
             "#f2f2f2",
             "white",
             "#f2f2f2",
             "white",
             "#f2f2f2",
             "white",
             "#f2f2f2",
             "white",
             "#f2f2f2",
             "white",
             "#f2f2f2",
             "white",
             "#f2f2f2",
             "white",
             "#f2f2f2",
             "white",
             "#f2f2f2",
             "white",
             "#f2f2f2",
             "white",
             "#f2f2f2",
             "white",
             "#f2f2f2",
             "white",
             "#f2f2f2",
             "white",
             "#f2f2f2",
             "white",
             "#f2f2f2",
             "white",
             "#f2f2f2",
             "white",
             "#f2f2f2",
             "white",
             "#f2f2f2",
             "white",
             "#f2f2f2",
             "white",
             "#f2f2f2",
             "white",
             "#f2f2f2",
             "white",
             "#f2f2f2",
             "white",
             "#f2f2f2",
             "white",
             "#f2f2f2",
             "white",
             "lavender"
            ]
           ]
          },
          "font": {
           "color": "black",
           "family": "Helvetica",
           "size": 15
          },
          "values": [
           [
            "2011",
            "2011",
            "2011",
            "2011",
            "2011",
            "2011",
            "2011",
            "2011",
            "2011",
            "2011",
            "2011",
            "2011",
            "2011",
            "2011",
            "2011",
            "2011",
            "2011",
            "2011",
            "2011",
            "2011",
            "2011",
            "2011",
            "2011",
            "2011",
            "2011",
            "2011",
            "2011",
            "2011",
            "2011",
            "2011",
            "2011",
            "2011",
            "2011",
            "2011",
            "2011",
            "2011",
            "2011",
            "2011",
            "2011",
            "2011",
            "2012",
            "2012",
            "2012",
            "2012",
            "2012",
            "2012",
            "2012",
            "2012",
            "2012",
            "2012",
            "2012",
            "2012",
            "2012",
            "2012",
            "2012",
            "2012",
            "2012",
            "2012",
            "2012",
            "2012",
            "2012",
            "2012",
            "2012",
            "2012",
            "2012",
            "2012",
            "2012",
            "2012",
            "2012",
            "2012",
            "2012",
            "2012",
            "2012",
            "2012",
            "2012",
            "2012",
            "2012",
            "2012",
            "2012",
            "2012",
            "2012",
            "2012",
            "2012",
            "2012",
            "2012",
            "<b><b><b><b><b><b><b><b><b><b><b><b><b><b><b><b><b><b><b><b><b><b><b><b><b><b><b><b><b><b><b><b><b><b><b><b><b><b><b><b></b></b></b></b></b></b></b></b></b></b></b></b></b></b></b></b></b></b></b></b></b></b></b></b></b></b></b></b></b></b></b></b></b></b></b></b></b></b></b></b>"
           ],
           [
            "1",
            "2",
            "3",
            "4",
            "5",
            "6",
            "7",
            "8",
            "9",
            "10",
            "11",
            "12",
            "13",
            "14",
            "15",
            "16",
            "17",
            "18",
            "19",
            "20",
            "21",
            "22",
            "23",
            "24",
            "25",
            "26",
            "27",
            "28",
            "29",
            "31",
            "32",
            "33",
            "34",
            "35",
            "37",
            "39",
            "40",
            "41",
            "42",
            "45",
            "1",
            "2",
            "3",
            "4",
            "5",
            "6",
            "7",
            "8",
            "9",
            "10",
            "11",
            "12",
            "13",
            "14",
            "15",
            "16",
            "17",
            "18",
            "19",
            "20",
            "21",
            "22",
            "23",
            "24",
            "25",
            "26",
            "27",
            "28",
            "29",
            "30",
            "31",
            "32",
            "33",
            "34",
            "35",
            "36",
            "37",
            "38",
            "39",
            "40",
            "41",
            "42",
            "43",
            "44",
            "45",
            "<b><b><b><b><b><b><b><b><b><b><b><b><b><b><b><b><b><b><b><b><b><b><b><b><b><b><b><b><b><b><b><b><b><b><b><b><b><b><b><b>Total</b></b></b></b></b></b></b></b></b></b></b></b></b></b></b></b></b></b></b></b></b></b></b></b></b></b></b></b></b></b></b></b></b></b></b></b></b></b></b></b>"
           ],
           [
            "$2,947,704.73",
            "$3,910,352.10",
            "$1,078,010.51",
            "$3,076,434.65",
            "$536,210.74",
            "$3,214,928.50",
            "$933,451.39",
            "$1,717,989.88",
            "$622,736.34",
            "$3,066,454.92",
            "$2,744,681.04",
            "$3,529,737.00",
            "$4,945,241.46",
            "$3,481,433.63",
            "$1,899,110.97",
            "$768,032.05",
            "$1,698,216.28",
            "$2,659,088.74",
            "$4,818,641.77",
            "$5,263,066.07",
            "$2,063,586.50",
            "$2,520,632.20",
            "$2,161,085.67",
            "$2,861,873.04",
            "$2,421,202.86",
            "$1,812,340.57",
            "$4,776,682.59",
            "$4,219,307.40",
            "$1,197,312.62",
            "$3,628,785.40",
            "$3,605,237.86",
            "$18,834.13",
            "$2,058,639.44",
            "$3,883,008.64",
            "$19,817.76",
            "$1,719,621.72",
            "$1,904,768.61",
            "$2,952,340.86",
            "$12,362.91",
            "$3,379,801.38",
            "$21,770,834.31",
            "$28,537,399.11",
            "$5,750,213.98",
            "$25,339,328.65",
            "$6,028,176.87",
            "$23,446,460.03",
            "$16,371,105.25",
            "$18,447,018.20",
            "$5,094,761.57",
            "$16,824,232.15",
            "$23,687,776.29",
            "$28,470,792.13",
            "$31,569,489.83",
            "$31,084,052.42",
            "$12,611,093.37",
            "$6,509,934.23",
            "$11,273,895.80",
            "$21,715,628.11",
            "$26,836,170.43",
            "$31,691,907.16",
            "$18,857,569.71",
            "$27,076,942.28",
            "$17,146,248.80",
            "$31,284,385.99",
            "$20,723,413.85",
            "$15,785,309.41",
            "$33,880,355.67",
            "$26,125,633.45",
            "$11,546,157.55",
            "$132,762.20",
            "$24,757,675.73",
            "$23,356,185.54",
            "$4,771.20",
            "$13,565,633.52",
            "$18,814,416.79",
            "$76,809.61",
            "$75,080.86",
            "$372,007.02",
            "$22,259,995.35",
            "$15,042,652.60",
            "$22,273,646.12",
            "$84,879.81",
            "$87,866.98",
            "$120,350.37",
            "$21,457,569.13",
            "<b><b><b><b><b><b><b><b><b><b><b><b><b><b><b><b><b><b><b><b><b><b><b><b><b><b><b><b><b><b><b><b><b><b><b><b><b><b><b><b>$858,097,354.36</b></b></b></b></b></b></b></b></b></b></b></b></b></b></b></b></b></b></b></b></b></b></b></b></b></b></b></b></b></b></b></b></b></b></b></b></b></b></b></b>"
           ],
           [
            "$3,838,799.58",
            "$8,334,134.98",
            "$1,066,741.19",
            "$6,524,057.37",
            "$1,274,921.56",
            "$6,253,602.20",
            "$1,391,654.55",
            "$2,920,039.74",
            "$1,030,650.41",
            "$8,727,261.58",
            "$4,871,151.80",
            "$4,617,599.93",
            "$9,032,120.42",
            "$6,651,403.63",
            "$2,593,405.32",
            "$985,038.46",
            "$3,302,778.12",
            "$4,918,515.59",
            "$5,063,494.65",
            "$8,131,068.88",
            "$2,809,467.47",
            "$4,929,644.94",
            "$4,283,162.31",
            "$4,824,787.18",
            "$4,046,741.04",
            "$2,968,499.73",
            "$7,267,069.54",
            "$4,604,878.98",
            "$1,703,874.71",
            "$2,459,587.13",
            "$4,376,008.43",
            "$94,069.71",
            "$2,168,860.31",
            "$3,235,507.24",
            "$56,061.81",
            "$4,456,028.06",
            "$2,219,105.33",
            "$5,269,651.12",
            "$73,810.26",
            "$3,409,304.00",
            "$5,096,052.18",
            "$7,735,258.01",
            "$1,204,674.83",
            "$7,638,099.20",
            "$1,090,197.21",
            "$6,545,309.44",
            "$2,926,401.21",
            "$5,030,947.18",
            "$1,172,171.07",
            "$6,011,075.14",
            "$5,287,275.92",
            "$4,921,340.86",
            "$10,275,094.25",
            "$9,021,261.51",
            "$4,087,587.74",
            "$981,829.15",
            "$4,206,942.44",
            "$8,102,328.21",
            "$8,361,591.64",
            "$10,571,068.38",
            "$4,846,500.03",
            "$7,243,680.37",
            "$6,790,801.86",
            "$7,135,358.56",
            "$5,196,075.20",
            "$3,506,235.90",
            "$8,072,606.00",
            "$3,471,988.71",
            "$3,070,923.05",
            "$95,433.54",
            "$5,025,062.72",
            "$7,879,918.68",
            "$12,621.60",
            "$3,825,435.03",
            "$3,877,380.26",
            "$64.50",
            "$615.86",
            "$68,454.94",
            "$4,734,491.11",
            "$4,406,136.27",
            "$6,196,722.66",
            "$905.88",
            "$85,055.05",
            "$73.50",
            "$5,885,873.77",
            "<b><b><b><b><b><b><b><b><b><b><b><b><b><b><b><b><b><b><b><b><b><b><b><b><b><b><b><b><b><b><b><b><b><b><b><b><b><b><b><b>$358,479,479.88</b></b></b></b></b></b></b></b></b></b></b></b></b></b></b></b></b></b></b></b></b></b></b></b></b></b></b></b></b></b></b></b></b></b></b></b></b></b></b></b>"
           ],
           [
            "$4,293,743.04",
            "$6,000,285.30",
            "$78,348.93",
            "$6,834,257.50",
            "$2,022,176.50",
            "$6,574,960.42",
            "$2,979,768.82",
            "$3,537,008.34",
            "$29,188.11",
            "$11,232,220.36",
            "$5,547,689.55",
            "$4,616,490.79",
            "$10,456,563.07",
            "$6,705,068.34",
            "$5,368,220.54",
            "$2,590,312.60",
            "$5,582,409.39",
            "$5,467,391.83",
            "$7,339,041.50",
            "$9,699,983.00",
            "$2,971,288.24",
            "$103,679.44",
            "$8,342,032.69",
            "$5,021,349.34",
            "$4,389,874.98",
            "$185,820.73",
            "$6,277,105.09",
            "$4,769,505.33",
            "$3,231,361.98",
            "$3,143,191.22",
            "$5,424,821.44",
            "$242.55",
            "$3,271,987.40",
            "$943,356.70",
            "$79.50",
            "$5,796,457.84",
            "$3,229,314.91",
            "$6,001,122.96",
            "$185.64",
            "$2,147,277.00",
            "$102,601.15",
            "$128,036.92",
            "$23,209.21",
            "$178,704.61",
            "$11,488.94",
            "$152,042.03",
            "$30,645.27",
            "$61,611.95",
            "$13,785.45",
            "$72,436.41",
            "$95,503.51",
            "$79,605.85",
            "$189,359.66",
            "$400,581.01",
            "$38,940.26",
            "$28,521.50",
            "$44,137.09",
            "$137,066.19",
            "$190,517.23",
            "$151,083.57",
            "$37,692.80",
            "$57,350.29",
            "$94,496.09",
            "$219,893.25",
            "$45,387.52",
            "$95,728.71",
            "$410,019.77",
            "$131,861.97",
            "$22,098.33",
            "$8,067.99",
            "$117,303.69",
            "$179,121.09",
            "$187.20",
            "$84,526.55",
            "$49,253.13",
            "$112.66",
            "$4,947.02",
            "$6,312.20",
            "$114,629.04",
            "$81,860.93",
            "$146,462.02",
            "$941.49",
            "$2,587.90",
            "$24.01",
            "$68,865.47",
            "<b><b><b><b><b><b><b><b><b><b><b><b><b><b><b><b><b><b><b><b><b><b><b><b><b><b><b><b><b><b><b><b><b><b><b><b><b><b><b><b>$176,314,791.84</b></b></b></b></b></b></b></b></b></b></b></b></b></b></b></b></b></b></b></b></b></b></b></b></b></b></b></b></b></b></b></b></b></b></b></b></b></b></b></b>"
           ],
           [
            "$712,395.03",
            "$1,178,492.89",
            "$178,775.94",
            "$1,264,925.66",
            "$135,719.10",
            "$966,290.09",
            "$284,814.59",
            "$402,304.97",
            "$220,928.70",
            "$1,350,483.24",
            "$686,196.63",
            "$1,536,024.40",
            "$1,143,480.09",
            "$840,474.19",
            "$519,224.96",
            "$415,078.93",
            "$574,190.43",
            "$789,298.83",
            "$1,494,738.20",
            "$1,747,696.71",
            "$642,710.89",
            "$292,496.36",
            "$797,482.70",
            "$1,295,853.32",
            "$773,781.49",
            "$389,797.14",
            "$912,561.11",
            "$2,662,144.89",
            "$135,378.93",
            "$763,722.98",
            "$979,083.55",
            "$1,234.80",
            "$534,567.46",
            "$368,512.18",
            "$534.24",
            "$541,021.82",
            "$533,452.92",
            "$1,138,241.04",
            "$9,381.96",
            "$614,346.66",
            "$11,623,515.50",
            "$14,154,018.75",
            "$1,859,751.61",
            "$14,398,538.16",
            "$2,869,699.07",
            "$11,625,559.09",
            "$5,006,239.39",
            "$4,741,665.88",
            "$1,970,084.61",
            "$7,312,681.12",
            "$10,424,906.49",
            "$13,452,486.68",
            "$15,979,446.52",
            "$12,727,337.01",
            "$5,791,652.79",
            "$2,366,641.17",
            "$6,845,069.78",
            "$11,869,574.60",
            "$14,532,622.88",
            "$17,206,186.30",
            "$9,591,370.49",
            "$12,779,861.50",
            "$10,675,059.93",
            "$15,667,453.56",
            "$11,450,887.57",
            "$5,590,457.77",
            "$19,055,156.78",
            "$10,776,399.46",
            "$3,229,995.24",
            "$13,885.98",
            "$10,014,930.75",
            "$13,301,101.77",
            "$22.08",
            "$4,716,556.28",
            "$8,689,563.30",
            "$107.50",
            "$7,007.66",
            "$21,447.78",
            "$9,816,103.39",
            "$6,370,466.57",
            "$12,678,155.87",
            "$12,810.96",
            "$10,960.73",
            "$1,374.94",
            "$9,683,337.89",
            "<b><b><b><b><b><b><b><b><b><b><b><b><b><b><b><b><b><b><b><b><b><b><b><b><b><b><b><b><b><b><b><b><b><b><b><b><b><b><b><b>$390,739,993.17</b></b></b></b></b></b></b></b></b></b></b></b></b></b></b></b></b></b></b></b></b></b></b></b></b></b></b></b></b></b></b></b></b></b></b></b></b></b></b></b>"
           ],
           [
            "$4,331,048.06",
            "$4,717,955.66",
            "$983,943.28",
            "$6,252,297.03",
            "$2,065,831.47",
            "$4,713,721.13",
            "$1,577,463.92",
            "$2,993,246.49",
            "$763,417.81",
            "$5,284,187.69",
            "$4,286,502.78",
            "$5,866,243.22",
            "$6,423,209.48",
            "$2,617,405.42",
            "$2,349,844.15",
            "$1,696,958.29",
            "$2,339,432.36",
            "$3,081,405.55",
            "$4,753,588.48",
            "$5,249,063.38",
            "$3,245,440.26",
            "$1,586,011.76",
            "$2,681,954.69",
            "$3,349,417.43",
            "$2,762,710.98",
            "$2,295,562.64",
            "$5,386,834.04",
            "$5,383,792.13",
            "$878,354.61",
            "$5,114,834.60",
            "$4,303,803.42",
            "$27,262.62",
            "$3,012,711.48",
            "$1,913,139.98",
            "$39,291.02",
            "$4,235,427.55",
            "$2,643,558.03",
            "$3,941,842.58",
            "$23,412.06",
            "$3,208,662.10",
            "$11,043,254.49",
            "$14,825,171.68",
            "$1,743,401.89",
            "$13,780,788.94",
            "$3,474,671.30",
            "$12,518,478.74",
            "$8,400,890.94",
            "$13,634,712.77",
            "$4,456,011.19",
            "$7,729,810.04",
            "$11,658,601.19",
            "$9,607,704.48",
            "$16,167,319.73",
            "$12,648,865.56",
            "$4,810,208.86",
            "$3,776,059.16",
            "$4,926,262.31",
            "$7,172,296.90",
            "$10,989,469.97",
            "$14,228,245.22",
            "$8,207,975.69",
            "$8,290,345.51",
            "$7,088,350.00",
            "$11,814,166.78",
            "$6,735,788.48",
            "$7,762,398.96",
            "$12,519,880.50",
            "$14,955,525.45",
            "$4,204,268.42",
            "$225,285.33",
            "$17,141,026.67",
            "$11,993,328.03",
            "$48,271.20",
            "$7,774,464.84",
            "$6,422,439.49",
            "$59,055.34",
            "$93,140.61",
            "$667,868.74",
            "$47,033,515.14",
            "$7,774,960.11",
            "$9,978,429.68",
            "$108,679.62",
            "$140,449.65",
            "$33,878.60",
            "$8,401,465.03",
            "<b><b><b><b><b><b><b><b><b><b><b><b><b><b><b><b><b><b><b><b><b><b><b><b><b><b><b><b><b><b><b><b><b><b><b><b><b><b><b><b>$515,447,972.86</b></b></b></b></b></b></b></b></b></b></b></b></b></b></b></b></b></b></b></b></b></b></b></b></b></b></b></b></b></b></b></b></b></b></b></b></b></b></b></b>"
           ]
          ]
         },
         "domain": {
          "x": [
           0,
           1
          ],
          "y": [
           0,
           0.34
          ]
         },
         "header": {
          "align": [
           "left",
           "center",
           "right",
           "right",
           "right",
           "right",
           "right"
          ],
          "fill": {
           "color": "lightgrey"
          },
          "font": {
           "color": "black",
           "family": "Helvetica",
           "size": 15
          },
          "values": [
           "Year",
           "Store ID",
           "MarkDown1",
           "MarkDown2",
           "MarkDown3",
           "MarkDown4",
           "MarkDown5"
          ]
         },
         "type": "table"
        }
       ],
       "layout": {
        "annotations": [
         {
          "font": {
           "color": "black",
           "family": "Helvetica",
           "size": 16
          },
          "showarrow": false,
          "text": "Markdown1, MarkDown2, MarkDown3, MarkDown4, and MarkDown5 by Year",
          "x": 0.5,
          "xref": "paper",
          "y": 1.04,
          "yref": "paper"
         },
         {
          "font": {
           "color": "black",
           "family": "Helvetica",
           "size": 16
          },
          "showarrow": false,
          "text": "Markdown Sales by Year and Store",
          "x": 0.5,
          "xref": "paper",
          "y": 0.37,
          "yref": "paper"
         }
        ],
        "height": 1200,
        "legend": {
         "orientation": "h",
         "x": 1,
         "xanchor": "right",
         "y": 0.415,
         "yanchor": "bottom"
        },
        "margin": {
         "b": 40,
         "l": 0,
         "r": 0,
         "t": 100
        },
        "shapes": [
         {
          "layer": "below",
          "line": {
           "color": "grey",
           "width": 2
          },
          "type": "line",
          "x0": 0,
          "x1": 1,
          "xref": "paper",
          "y0": 0.4,
          "y1": 0.4,
          "yref": "paper"
         }
        ],
        "showlegend": true,
        "template": {
         "data": {
          "bar": [
           {
            "error_x": {
             "color": "#2a3f5f"
            },
            "error_y": {
             "color": "#2a3f5f"
            },
            "marker": {
             "line": {
              "color": "#E5ECF6",
              "width": 0.5
             },
             "pattern": {
              "fillmode": "overlay",
              "size": 10,
              "solidity": 0.2
             }
            },
            "type": "bar"
           }
          ],
          "barpolar": [
           {
            "marker": {
             "line": {
              "color": "#E5ECF6",
              "width": 0.5
             },
             "pattern": {
              "fillmode": "overlay",
              "size": 10,
              "solidity": 0.2
             }
            },
            "type": "barpolar"
           }
          ],
          "carpet": [
           {
            "aaxis": {
             "endlinecolor": "#2a3f5f",
             "gridcolor": "white",
             "linecolor": "white",
             "minorgridcolor": "white",
             "startlinecolor": "#2a3f5f"
            },
            "baxis": {
             "endlinecolor": "#2a3f5f",
             "gridcolor": "white",
             "linecolor": "white",
             "minorgridcolor": "white",
             "startlinecolor": "#2a3f5f"
            },
            "type": "carpet"
           }
          ],
          "choropleth": [
           {
            "colorbar": {
             "outlinewidth": 0,
             "ticks": ""
            },
            "type": "choropleth"
           }
          ],
          "contour": [
           {
            "colorbar": {
             "outlinewidth": 0,
             "ticks": ""
            },
            "colorscale": [
             [
              0,
              "#0d0887"
             ],
             [
              0.1111111111111111,
              "#46039f"
             ],
             [
              0.2222222222222222,
              "#7201a8"
             ],
             [
              0.3333333333333333,
              "#9c179e"
             ],
             [
              0.4444444444444444,
              "#bd3786"
             ],
             [
              0.5555555555555556,
              "#d8576b"
             ],
             [
              0.6666666666666666,
              "#ed7953"
             ],
             [
              0.7777777777777778,
              "#fb9f3a"
             ],
             [
              0.8888888888888888,
              "#fdca26"
             ],
             [
              1,
              "#f0f921"
             ]
            ],
            "type": "contour"
           }
          ],
          "contourcarpet": [
           {
            "colorbar": {
             "outlinewidth": 0,
             "ticks": ""
            },
            "type": "contourcarpet"
           }
          ],
          "heatmap": [
           {
            "colorbar": {
             "outlinewidth": 0,
             "ticks": ""
            },
            "colorscale": [
             [
              0,
              "#0d0887"
             ],
             [
              0.1111111111111111,
              "#46039f"
             ],
             [
              0.2222222222222222,
              "#7201a8"
             ],
             [
              0.3333333333333333,
              "#9c179e"
             ],
             [
              0.4444444444444444,
              "#bd3786"
             ],
             [
              0.5555555555555556,
              "#d8576b"
             ],
             [
              0.6666666666666666,
              "#ed7953"
             ],
             [
              0.7777777777777778,
              "#fb9f3a"
             ],
             [
              0.8888888888888888,
              "#fdca26"
             ],
             [
              1,
              "#f0f921"
             ]
            ],
            "type": "heatmap"
           }
          ],
          "histogram": [
           {
            "marker": {
             "pattern": {
              "fillmode": "overlay",
              "size": 10,
              "solidity": 0.2
             }
            },
            "type": "histogram"
           }
          ],
          "histogram2d": [
           {
            "colorbar": {
             "outlinewidth": 0,
             "ticks": ""
            },
            "colorscale": [
             [
              0,
              "#0d0887"
             ],
             [
              0.1111111111111111,
              "#46039f"
             ],
             [
              0.2222222222222222,
              "#7201a8"
             ],
             [
              0.3333333333333333,
              "#9c179e"
             ],
             [
              0.4444444444444444,
              "#bd3786"
             ],
             [
              0.5555555555555556,
              "#d8576b"
             ],
             [
              0.6666666666666666,
              "#ed7953"
             ],
             [
              0.7777777777777778,
              "#fb9f3a"
             ],
             [
              0.8888888888888888,
              "#fdca26"
             ],
             [
              1,
              "#f0f921"
             ]
            ],
            "type": "histogram2d"
           }
          ],
          "histogram2dcontour": [
           {
            "colorbar": {
             "outlinewidth": 0,
             "ticks": ""
            },
            "colorscale": [
             [
              0,
              "#0d0887"
             ],
             [
              0.1111111111111111,
              "#46039f"
             ],
             [
              0.2222222222222222,
              "#7201a8"
             ],
             [
              0.3333333333333333,
              "#9c179e"
             ],
             [
              0.4444444444444444,
              "#bd3786"
             ],
             [
              0.5555555555555556,
              "#d8576b"
             ],
             [
              0.6666666666666666,
              "#ed7953"
             ],
             [
              0.7777777777777778,
              "#fb9f3a"
             ],
             [
              0.8888888888888888,
              "#fdca26"
             ],
             [
              1,
              "#f0f921"
             ]
            ],
            "type": "histogram2dcontour"
           }
          ],
          "mesh3d": [
           {
            "colorbar": {
             "outlinewidth": 0,
             "ticks": ""
            },
            "type": "mesh3d"
           }
          ],
          "parcoords": [
           {
            "line": {
             "colorbar": {
              "outlinewidth": 0,
              "ticks": ""
             }
            },
            "type": "parcoords"
           }
          ],
          "pie": [
           {
            "automargin": true,
            "type": "pie"
           }
          ],
          "scatter": [
           {
            "fillpattern": {
             "fillmode": "overlay",
             "size": 10,
             "solidity": 0.2
            },
            "type": "scatter"
           }
          ],
          "scatter3d": [
           {
            "line": {
             "colorbar": {
              "outlinewidth": 0,
              "ticks": ""
             }
            },
            "marker": {
             "colorbar": {
              "outlinewidth": 0,
              "ticks": ""
             }
            },
            "type": "scatter3d"
           }
          ],
          "scattercarpet": [
           {
            "marker": {
             "colorbar": {
              "outlinewidth": 0,
              "ticks": ""
             }
            },
            "type": "scattercarpet"
           }
          ],
          "scattergeo": [
           {
            "marker": {
             "colorbar": {
              "outlinewidth": 0,
              "ticks": ""
             }
            },
            "type": "scattergeo"
           }
          ],
          "scattergl": [
           {
            "marker": {
             "colorbar": {
              "outlinewidth": 0,
              "ticks": ""
             }
            },
            "type": "scattergl"
           }
          ],
          "scattermap": [
           {
            "marker": {
             "colorbar": {
              "outlinewidth": 0,
              "ticks": ""
             }
            },
            "type": "scattermap"
           }
          ],
          "scattermapbox": [
           {
            "marker": {
             "colorbar": {
              "outlinewidth": 0,
              "ticks": ""
             }
            },
            "type": "scattermapbox"
           }
          ],
          "scatterpolar": [
           {
            "marker": {
             "colorbar": {
              "outlinewidth": 0,
              "ticks": ""
             }
            },
            "type": "scatterpolar"
           }
          ],
          "scatterpolargl": [
           {
            "marker": {
             "colorbar": {
              "outlinewidth": 0,
              "ticks": ""
             }
            },
            "type": "scatterpolargl"
           }
          ],
          "scatterternary": [
           {
            "marker": {
             "colorbar": {
              "outlinewidth": 0,
              "ticks": ""
             }
            },
            "type": "scatterternary"
           }
          ],
          "surface": [
           {
            "colorbar": {
             "outlinewidth": 0,
             "ticks": ""
            },
            "colorscale": [
             [
              0,
              "#0d0887"
             ],
             [
              0.1111111111111111,
              "#46039f"
             ],
             [
              0.2222222222222222,
              "#7201a8"
             ],
             [
              0.3333333333333333,
              "#9c179e"
             ],
             [
              0.4444444444444444,
              "#bd3786"
             ],
             [
              0.5555555555555556,
              "#d8576b"
             ],
             [
              0.6666666666666666,
              "#ed7953"
             ],
             [
              0.7777777777777778,
              "#fb9f3a"
             ],
             [
              0.8888888888888888,
              "#fdca26"
             ],
             [
              1,
              "#f0f921"
             ]
            ],
            "type": "surface"
           }
          ],
          "table": [
           {
            "cells": {
             "fill": {
              "color": "#EBF0F8"
             },
             "line": {
              "color": "white"
             }
            },
            "header": {
             "fill": {
              "color": "#C8D4E3"
             },
             "line": {
              "color": "white"
             }
            },
            "type": "table"
           }
          ]
         },
         "layout": {
          "annotationdefaults": {
           "arrowcolor": "#2a3f5f",
           "arrowhead": 0,
           "arrowwidth": 1
          },
          "autotypenumbers": "strict",
          "coloraxis": {
           "colorbar": {
            "outlinewidth": 0,
            "ticks": ""
           }
          },
          "colorscale": {
           "diverging": [
            [
             0,
             "#8e0152"
            ],
            [
             0.1,
             "#c51b7d"
            ],
            [
             0.2,
             "#de77ae"
            ],
            [
             0.3,
             "#f1b6da"
            ],
            [
             0.4,
             "#fde0ef"
            ],
            [
             0.5,
             "#f7f7f7"
            ],
            [
             0.6,
             "#e6f5d0"
            ],
            [
             0.7,
             "#b8e186"
            ],
            [
             0.8,
             "#7fbc41"
            ],
            [
             0.9,
             "#4d9221"
            ],
            [
             1,
             "#276419"
            ]
           ],
           "sequential": [
            [
             0,
             "#0d0887"
            ],
            [
             0.1111111111111111,
             "#46039f"
            ],
            [
             0.2222222222222222,
             "#7201a8"
            ],
            [
             0.3333333333333333,
             "#9c179e"
            ],
            [
             0.4444444444444444,
             "#bd3786"
            ],
            [
             0.5555555555555556,
             "#d8576b"
            ],
            [
             0.6666666666666666,
             "#ed7953"
            ],
            [
             0.7777777777777778,
             "#fb9f3a"
            ],
            [
             0.8888888888888888,
             "#fdca26"
            ],
            [
             1,
             "#f0f921"
            ]
           ],
           "sequentialminus": [
            [
             0,
             "#0d0887"
            ],
            [
             0.1111111111111111,
             "#46039f"
            ],
            [
             0.2222222222222222,
             "#7201a8"
            ],
            [
             0.3333333333333333,
             "#9c179e"
            ],
            [
             0.4444444444444444,
             "#bd3786"
            ],
            [
             0.5555555555555556,
             "#d8576b"
            ],
            [
             0.6666666666666666,
             "#ed7953"
            ],
            [
             0.7777777777777778,
             "#fb9f3a"
            ],
            [
             0.8888888888888888,
             "#fdca26"
            ],
            [
             1,
             "#f0f921"
            ]
           ]
          },
          "colorway": [
           "#636efa",
           "#EF553B",
           "#00cc96",
           "#ab63fa",
           "#FFA15A",
           "#19d3f3",
           "#FF6692",
           "#B6E880",
           "#FF97FF",
           "#FECB52"
          ],
          "font": {
           "color": "#2a3f5f"
          },
          "geo": {
           "bgcolor": "white",
           "lakecolor": "white",
           "landcolor": "#E5ECF6",
           "showlakes": true,
           "showland": true,
           "subunitcolor": "white"
          },
          "hoverlabel": {
           "align": "left"
          },
          "hovermode": "closest",
          "mapbox": {
           "style": "light"
          },
          "paper_bgcolor": "white",
          "plot_bgcolor": "#E5ECF6",
          "polar": {
           "angularaxis": {
            "gridcolor": "white",
            "linecolor": "white",
            "ticks": ""
           },
           "bgcolor": "#E5ECF6",
           "radialaxis": {
            "gridcolor": "white",
            "linecolor": "white",
            "ticks": ""
           }
          },
          "scene": {
           "xaxis": {
            "backgroundcolor": "#E5ECF6",
            "gridcolor": "white",
            "gridwidth": 2,
            "linecolor": "white",
            "showbackground": true,
            "ticks": "",
            "zerolinecolor": "white"
           },
           "yaxis": {
            "backgroundcolor": "#E5ECF6",
            "gridcolor": "white",
            "gridwidth": 2,
            "linecolor": "white",
            "showbackground": true,
            "ticks": "",
            "zerolinecolor": "white"
           },
           "zaxis": {
            "backgroundcolor": "#E5ECF6",
            "gridcolor": "white",
            "gridwidth": 2,
            "linecolor": "white",
            "showbackground": true,
            "ticks": "",
            "zerolinecolor": "white"
           }
          },
          "shapedefaults": {
           "line": {
            "color": "#2a3f5f"
           }
          },
          "ternary": {
           "aaxis": {
            "gridcolor": "white",
            "linecolor": "white",
            "ticks": ""
           },
           "baxis": {
            "gridcolor": "white",
            "linecolor": "white",
            "ticks": ""
           },
           "bgcolor": "#E5ECF6",
           "caxis": {
            "gridcolor": "white",
            "linecolor": "white",
            "ticks": ""
           }
          },
          "title": {
           "x": 0.05
          },
          "xaxis": {
           "automargin": true,
           "gridcolor": "white",
           "linecolor": "white",
           "ticks": "",
           "title": {
            "standoff": 15
           },
           "zerolinecolor": "white",
           "zerolinewidth": 2
          },
          "yaxis": {
           "automargin": true,
           "gridcolor": "white",
           "linecolor": "white",
           "ticks": "",
           "title": {
            "standoff": 15
           },
           "zerolinecolor": "white",
           "zerolinewidth": 2
          }
         }
        },
        "title": {
         "font": {
          "color": "black",
          "family": "Helvetica",
          "size": 20,
          "weight": "bold"
         },
         "text": "Markdown Sales by Year and Store",
         "x": 0.5,
         "xanchor": "center",
         "y": 0.98,
         "yanchor": "top"
        },
        "xaxis": {
         "anchor": "y",
         "domain": [
          0,
          1
         ],
         "title": {
          "text": "Year"
         }
        },
        "yaxis": {
         "anchor": "x",
         "domain": [
          0.49,
          1
         ],
         "ticktext": [
          "100K",
          "1M",
          "10M",
          "100M",
          "1B",
          "10B"
         ],
         "tickvals": [
          100000,
          1000000,
          10000000,
          100000000,
          1000000000,
          10000000000
         ],
         "title": {
          "text": "MarkDown Sales (Billions)"
         },
         "type": "log"
        }
       }
      },
      "image/png": "[encoded data removed]"
     },
     "metadata": {},
     "output_type": "display_data"
    }
   ],
   "source": [
    "# Let's combine the graph and the summary table into single dashboard-type of presentation\n",
    "# Given the width of the summary table, let's stack the renderings for clarity in viewing.\n",
    "\n",
    "# First, let's layout the overall container for the charts\n",
    "fig = make_subplots(\n",
    "    rows=2,\n",
    "    cols=1,\n",
    "    specs=[\n",
    "        [{'type': 'xy'}],    # row 1: bar chart\n",
    "        [{'type': 'domain'}] # row 2: table\n",
    "    ],\n",
    "    shared_xaxes=False,\n",
    "    vertical_spacing=0.15,  # The space between the rows\n",
    "    row_heights=[0.6, 0.4]\n",
    "    # subplot_titles=(\"Markdown Sales by Year\", \"Markdown Sales by Year and Store\")\n",
    ")\n",
    "\n",
    "# ============================\n",
    "\n",
    "# Next, let's add the grouped bar chart to the first cell in column 1\n",
    "for col in ['markdown1','markdown2','markdown3','markdown4','markdown5']:\n",
    "    fig.add_trace(\n",
    "        go.Bar(\n",
    "            x=years,\n",
    "            y=df[col],\n",
    "            name=col.capitalize(),  # Show as \"Markdown1\", etc\n",
    "            text=[f\"${val:,.2f}\" for val in df[col]],\n",
    "            hovertemplate = 'Year: %{x}<br>Category: %{name}<br>Sales: %{text}<extra></extra>'\n",
    "        ),\n",
    "        row=1,\n",
    "        col=1\n",
    "    )\n",
    "\n",
    "fig.add_annotation(\n",
    "    text = \"Markdown1, MarkDown2, MarkDown3, MarkDown4, and MarkDown5 by Year\",\n",
    "    x = 0.5,  # roughly center of line chart\n",
    "    y = 1.04,  # above the line chart\n",
    "    xref = \"paper\",\n",
    "    yref = \"paper\",\n",
    "    showarrow = False,\n",
    "    font = dict(size=16, family=\"Helvetica\", color=\"black\")\n",
    ")\n",
    "\n",
    "# ============================\n",
    "\n",
    "# Now add the summary table to layout column 2.  Be sure to use the \n",
    "# unformatted summary data in df_summary.\n",
    "\n",
    "# Prepare zebra striping for the summary table\n",
    "# Alternate row colors: white for even, light gray for odd.\n",
    "# We build color lists for each column, with the last row (the total row) as white.\n",
    "fill_colors = [\n",
    "    ['white' if i % 2 == 0 else '#f2f2f2' for i in range(len(summary_data) - 1)] + ['white']\n",
    "    for _ in range(len(summary_data.columns))\n",
    "]\n",
    "\n",
    "# Overwrite the fill color of the final row (the Total row) to a distinct color for emphasis\n",
    "for i in range(len(fill_colors)):\n",
    "    fill_colors[i][-1] = 'lavender'\n",
    "\n",
    "# Now add a bold tag to the total row.  Loop through each column in the last row\n",
    "# and surround it with the <b></b> tags. Don't be confused by the statement:\n",
    "# df_weekly_sales.iloc[-1][col]\n",
    "# This is chaining 2 statements together to fetch the last row first (as a series), then\n",
    "# fetching the label-based element associated with the variable \"col\" to get the specific\n",
    "# element.\n",
    "for col in summary_data.columns:\n",
    "    summary_data.loc[len(summary_data)-1, col] = f\"<b>{summary_data.iloc[-1][col]}</b>\"\n",
    "\n",
    "# Gather the cell values for the summary data\n",
    "cell_values = [summary_data[col] for col in summary_data.columns]\n",
    "    \n",
    "# Create the table trace first\n",
    "table_trace = go.Table(\n",
    "        header=dict(\n",
    "            values = formatted_headers,  # From previous cell\n",
    "            fill_color = 'lightgrey',\n",
    "            align = ['left','center','right','right','right','right','right'],\n",
    "            font = dict(size=15, color='black', family='Helvetica')\n",
    "        ),\n",
    "        cells=dict(\n",
    "            values = cell_values,\n",
    "            fill_color = fill_colors,\n",
    "            align = ['left','center','right','right','right','right','right'],\n",
    "            font = dict(size=15, color='black', family='Helvetica')\n",
    "        )\n",
    "    )\n",
    "\n",
    "fig.add_trace(table_trace, row=2, col=1)\n",
    "\n",
    "fig.add_annotation(\n",
    "    text = \"Markdown Sales by Year and Store\",\n",
    "    x = 0.5,  # roughly center of line chart\n",
    "    y = 0.37,  # above the line chart\n",
    "    xref = \"paper\",\n",
    "    yref = \"paper\",\n",
    "    showarrow = False,\n",
    "    font = dict(size=16, family=\"Helvetica\", color=\"black\")\n",
    ")\n",
    "\n",
    "\n",
    "# ==========================\n",
    "\n",
    "# Update layout\n",
    "fig.update_layout(\n",
    "    xaxis_title = 'Year',\n",
    "    yaxis_title = 'MarkDown Sales (Billions)',\n",
    "    # yaxis_tickformat=\".2s\",\n",
    "    title=dict(\n",
    "        text=\"Markdown Sales by Year and Store\",\n",
    "        y=0.99,\n",
    "        x=0.5,  # Center\n",
    "        xanchor='center',\n",
    "        yanchor='top'\n",
    "    ),\n",
    "    margin=dict(\n",
    "        l=0, \n",
    "        r=0, \n",
    "        t=100, \n",
    "        b=40\n",
    "    ),  # reduce the left/right margin a bit to help with horizontal scrolling\n",
    "    height=1200,\n",
    "    showlegend=True,\n",
    "    legend=dict(\n",
    "        orientation=\"h\",\n",
    "        yanchor=\"bottom\",\n",
    "        y=0.415,\n",
    "        xanchor=\"right\",\n",
    "        x=1\n",
    "    )\n",
    ")\n",
    "\n",
    "# Because we have a single metric that dominates the chart with a large value,\n",
    "# modify the y-axis to use log scaling instead of linear scaling to make the\n",
    "# smaller values (and shorter bars) more significant in the chart without \n",
    "# skewing the actual amounts.  Include the row and col designations since we\n",
    "# are showing this in row1, col1 of a subplot.\n",
    "fig.update_yaxes(type='log', row=1, col=1)\n",
    "\n",
    "# If we were to use default labels, Plotly would use the \"G\" designation to \n",
    "# represent \"Billions\".  Since this would not resonate with users, adopt a\n",
    "# custom y-axis tick label scheme.  Again, identify the row and column since\n",
    "# we are working in a subplot.\n",
    "# Define custom tick values and matching labels\n",
    "fig.update_yaxes(\n",
    "    tickvals=[1e5, 1e6, 1e7, 1e8, 1e9, 1e10],  # adjust as needed\n",
    "    ticktext=[\"100K\", \"1M\", \"10M\", \"100M\", \"1B\", \"10B\"],\n",
    "    row=1,\n",
    "    col=1\n",
    ")\n",
    "\n",
    "# Let's make the report title pop a little more\n",
    "title_font = dict(size=20, family=\"Helvetica\", color='black', weight='bold')\n",
    "fig.update_layout(title=dict(text='Markdown Sales by Year and Store', x=0.5, y=0.98, font=title_font))\n",
    "\n",
    "fig.add_shape(\n",
    "    type=\"line\",\n",
    "    x0=0, x1=1,\n",
    "    y0=0.40, y1=0.40,\n",
    "    xref=\"paper\", yref=\"paper\",\n",
    "    line=dict(color=\"grey\", width=2),\n",
    "    layer=\"below\"\n",
    ")\n",
    "\n",
    "\n",
    "fig.show()\n",
    "    \n"
   ]
  },
  {
   "cell_type": "code",
   "execution_count": null,
   "id": "28795787-6e52-4b13-8692-498675a230ad",
   "metadata": {},
   "outputs": [],
   "source": [
    "# Close the connection\n",
    "conn.close()"
   ]
  }
 ],
 "metadata": {
  "kernelspec": {
   "display_name": "Python 3 (ipykernel)",
   "language": "python",
   "name": "python3"
  },
  "language_info": {
   "codemirror_mode": {
    "name": "ipython",
    "version": 3
   },
   "file_extension": ".py",
   "mimetype": "text/x-python",
   "name": "python",
   "nbconvert_exporter": "python",
   "pygments_lexer": "ipython3",
   "version": "3.13.2"
  }
 },
 "nbformat": 4,
 "nbformat_minor": 5
}
