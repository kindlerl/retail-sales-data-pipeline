{
 "cells": [
  {
   "cell_type": "code",
   "execution_count": 2,
   "id": "76487bfa-c291-4d3b-8dad-f920f16d831e",
   "metadata": {},
   "outputs": [
    {
     "data": {
      "text/plain": [
       "True"
      ]
     },
     "execution_count": 2,
     "metadata": {},
     "output_type": "execute_result"
    }
   ],
   "source": [
    "import os\n",
    "from dotenv import load_dotenv\n",
    "import snowflake.connector\n",
    "import pandas as pd\n",
    "import plotly.express as px\n",
    "# Use Plotly's \"make_subplots\" function from \"plotly.subplots\" to layout elements horizontally\n",
    "from plotly.subplots import make_subplots\n",
    "import plotly.graph_objects as go\n",
    "\n",
    "# Load credentials\n",
    "load_dotenv()"
   ]
  },
  {
   "cell_type": "code",
   "execution_count": 3,
   "id": "1e2ab658-d842-467e-9920-5f0824343aa2",
   "metadata": {},
   "outputs": [],
   "source": [
    "# Connect to Snowflake\n",
    "conn = snowflake.connector.connect(\n",
    "    user=os.getenv('SNOWFLAKE_USER'),\n",
    "    password=os.getenv('SNOWFLAKE_PASSWORD'),\n",
    "    account=os.getenv('SNOWFLAKE_ACCOUNT') + '.' + os.getenv('SNOWFLAKE_REGION'),\n",
    "    warehouse=os.getenv('SNOWFLAKE_WAREHOUSE'),\n",
    "    database='WALMART_DB',\n",
    "    schema='SILVER',\n",
    "    role=os.getenv('SNOWFLAKE_ROLE')\n",
    ")"
   ]
  },
  {
   "cell_type": "code",
   "execution_count": 4,
   "id": "8f292cee-c82c-458f-921f-07eb94a9719c",
   "metadata": {},
   "outputs": [],
   "source": [
    "# Setup Pandas display\n",
    "pd.set_option('display.width', 1500)\n",
    "pd.set_option('display.max_colwidth', 100)\n",
    "pd.set_option('display.max_rows', 300)\n",
    "pd.set_option('display.max_columns', 100)\n"
   ]
  },
  {
   "cell_type": "code",
   "execution_count": 5,
   "id": "2b8d9a09-33c2-411a-878f-71dc688ef9a1",
   "metadata": {},
   "outputs": [],
   "source": [
    "# SQL query\n",
    "# Aggregate the fuel cost per store and year, then pivot the data to show\n",
    "# the aggregated totals for fuel as columns\n",
    "sql = \"\"\"\n",
    "WITH ByStoreYear AS (\n",
    "    SELECT\n",
    "        wft.store_id,\n",
    "        wdd.year,\n",
    "        COALESCE(SUM(wft.fuel_price), 0) AS fuel_price\n",
    "    FROM\n",
    "        WALMART_DB.SILVER.walmart_fact_table wft\n",
    "    JOIN\n",
    "        WALMART_DB.SILVER.walmart_date_dim wdd\n",
    "    ON\n",
    "        wft.date_id = wdd.date_id\n",
    "    GROUP BY\n",
    "        1,2\n",
    "    ORDER BY\n",
    "        1,2\n",
    ")\n",
    "SELECT\n",
    "    store_id,\n",
    "    SUM(CASE WHEN year = 2010 THEN fuel_price ELSE 0 END) AS total_fuel_2010,\n",
    "    SUM(CASE WHEN year = 2011 THEN fuel_price ELSE 0 END) AS total_fuel_2011,\n",
    "    SUM(CASE WHEN year = 2012 THEN fuel_price ELSE 0 END) AS total_fuel_2012\n",
    "FROM\n",
    "    ByStoreYear\n",
    "GROUP BY\n",
    "    store_id\n",
    "ORDER BY\n",
    "    store_id\n",
    "\"\"\"\n",
    "\n",
    "# Run query using Snowflake connector\n",
    "cur = conn.cursor()\n",
    "cur.execute(sql)\n",
    "\n",
    "# Load results into DataFrame\n",
    "columns = [col[0] for col in cur.description]\n",
    "data = cur.fetchall()\n",
    "df = pd.DataFrame(data, columns=columns)\n",
    "\n",
    "# Force column names to lowercase so Snowflake will match the model table\n",
    "df.columns = [col.lower() for col in df.columns]\n",
    "\n",
    "# print(df.columns)"
   ]
  },
  {
   "cell_type": "code",
   "execution_count": 6,
   "id": "65fabc24-6d76-4400-bf24-81a13d3a34b4",
   "metadata": {},
   "outputs": [
    {
     "name": "stdout",
     "output_type": "stream",
     "text": [
      "   store_id  total_fuel_2010  total_fuel_2011  total_fuel_2012  total_fuel_cost\n",
      "0         1         9284.979        12771.890        10916.626        32973.495\n",
      "1         2         9245.150        12782.526        10937.642        32965.318\n",
      "2         3         8183.110        11240.638         9664.151        29087.899\n",
      "3         4         9346.496        12745.047        10945.646        33037.189\n",
      "4         5         8080.029        11328.856         9576.103        28984.988\n",
      "5         6         9195.630        12781.186        10912.582        32889.398\n",
      "6         7         8939.609        12163.495        10525.631        31628.735\n",
      "7         8         8969.844        12326.691        10557.981        31854.516\n",
      "8         9         7871.200        11158.782         9556.457        28586.439\n",
      "9        10        10637.026        13985.863        12227.342        36850.231\n"
     ]
    }
   ],
   "source": [
    "# Add a total column on the right\n",
    "df['total_fuel_cost'] = df['total_fuel_2010'] + df['total_fuel_2011'] + df['total_fuel_2012']\n",
    "print(df.head(10))"
   ]
  },
  {
   "cell_type": "code",
   "execution_count": 7,
   "id": "008ee739-d73b-4f5d-8b1b-904aca9cad13",
   "metadata": {},
   "outputs": [
    {
     "name": "stdout",
     "output_type": "stream",
     "text": [
      "   store_id  total_fuel_2010  total_fuel_2011  total_fuel_2012  total_fuel_cost\n",
      "36       37         6252.401         9042.335         8005.673        23300.409\n",
      "37       38         7327.520        10098.037         9205.469        26631.026\n",
      "38       39         8962.415        12317.815        10521.801        31802.031\n",
      "39       40         9584.961        13377.151        11531.203        34493.315\n",
      "40       41         9107.187        12634.774        10990.197        32732.158\n",
      "41       42         6800.499         9408.402         8758.105        24967.006\n",
      "42       43         6150.929         8392.442         7182.082        21725.453\n",
      "43       44         6650.444         9009.008         7956.838        23616.290\n",
      "44       45         9224.659        12738.585        10986.290        32949.534\n",
      "45    Total       397257.589       546807.273       472843.091      1416907.953\n"
     ]
    }
   ],
   "source": [
    "# Now add a total row on the bottom, ignoring the first column (store_id)\n",
    "\n",
    "# Create a \"totals\" series to hold the totals of all numeric columns\n",
    "totals_series = df.iloc[:, 1:].sum(numeric_only=True)\n",
    "# print(totals_series)\n",
    "# Think of the series as a list of key:value pairs where the key is the\n",
    "# column name.\n",
    "# Create a list that can be appended to the dataframe.\n",
    "totals_list = ['Total'] + totals_series.tolist()\n",
    "# print(totals_list)\n",
    "\n",
    "# Now, append to the dataframe\n",
    "df.loc[len(df.index)] = totals_list\n",
    "print(df.tail(10))\n"
   ]
  },
  {
   "cell_type": "code",
   "execution_count": 8,
   "id": "e1ae13e8-f476-4b8c-b7b2-b62d45ad53bc",
   "metadata": {},
   "outputs": [
    {
     "name": "stdout",
     "output_type": "stream",
     "text": [
      "total_fuel_2010: total_fuel_2010\n",
      "<class 'float'>    46\n",
      "Name: count, dtype: int64\n",
      "total_fuel_2011: total_fuel_2011\n",
      "<class 'float'>    46\n",
      "Name: count, dtype: int64\n",
      "total_fuel_2012: total_fuel_2012\n",
      "<class 'float'>    46\n",
      "Name: count, dtype: int64\n",
      "total_fuel_cost: total_fuel_cost\n",
      "<class 'float'>    46\n",
      "Name: count, dtype: int64\n"
     ]
    }
   ],
   "source": [
    "# Format the numbers for presentation\n",
    "\n",
    "# Figure out if we have mixed types in our columns\n",
    "for col in df.columns[1:]:\n",
    "    print(f\"{col}: {df[col].map(type).value_counts()}\")\n",
    "\n",
    "# for col in df.columns[1:]:\n",
    "#     df[col] = df[col].apply(lambda x: f\"{x:,.2f}\")"
   ]
  },
  {
   "cell_type": "code",
   "execution_count": 9,
   "id": "d1b571f4-b506-4038-8115-f253e4a0c5af",
   "metadata": {},
   "outputs": [
    {
     "name": "stdout",
     "output_type": "stream",
     "text": [
      "Total Fuel Cost: 1416907.9530000002\n"
     ]
    }
   ],
   "source": [
    "# Pull only the total fuel cost for the dashboard report\n",
    "total_fuel_cost = df.iloc[-1, -1]\n",
    "print(f\"Total Fuel Cost: {total_fuel_cost}\")"
   ]
  },
  {
   "cell_type": "code",
   "execution_count": 10,
   "id": "f27c4d57-7ba2-4b4f-9acd-b444e76f4fd2",
   "metadata": {},
   "outputs": [
    {
     "name": "stdout",
     "output_type": "stream",
     "text": [
      "   year  total_fuel\n",
      "0  2010  397257.589\n",
      "1  2011  546807.273\n",
      "2  2012  472843.091\n"
     ]
    }
   ],
   "source": [
    "# Build a dataframe for the pie chart\n",
    "total_row = df.iloc[len(df)-1]\n",
    "# print(total_row['total_fuel_2010'])\n",
    "total_data = {\n",
    "    'year':['2010','2011','2012'],\n",
    "    'total_fuel':[total_row['total_fuel_2010'], total_row['total_fuel_2011'],total_row['total_fuel_2012']]\n",
    "}\n",
    "df_totals_by_year = pd.DataFrame(total_data)\n",
    "print(df_totals_by_year)\n"
   ]
  },
  {
   "cell_type": "code",
   "execution_count": 11,
   "id": "36b6135d-2228-49ef-910c-4bbf02eb25a9",
   "metadata": {},
   "outputs": [],
   "source": [
    "fill_colors = [\n",
    "    ['white' if i % 2 == 0 else '#f2f2f2' for i in range(len(df.index) - 1)] + ['white']\n",
    "    for _ in range(5)\n",
    "]\n",
    "# print(fill_colors)"
   ]
  },
  {
   "cell_type": "code",
   "execution_count": 19,
   "id": "ffbe6b59-f515-42fe-8b7e-6cbf492e7dca",
   "metadata": {},
   "outputs": [
    {
     "data": {
      "application/vnd.plotly.v1+json": {
       "config": {
        "plotlyServerURL": "https://plot.ly"
       },
       "data": [
        {
         "cells": {
          "align": [
           "center",
           "right",
           "right",
           "right",
           "right"
          ],
          "fill": {
           "color": [
            [
             "white",
             "#f2f2f2",
             "white",
             "#f2f2f2",
             "white",
             "#f2f2f2",
             "white",
             "#f2f2f2",
             "white",
             "#f2f2f2",
             "white",
             "#f2f2f2",
             "white",
             "#f2f2f2",
             "white",
             "#f2f2f2",
             "white",
             "#f2f2f2",
             "white",
             "#f2f2f2",
             "white",
             "#f2f2f2",
             "white",
             "#f2f2f2",
             "white",
             "#f2f2f2",
             "white",
             "#f2f2f2",
             "white",
             "#f2f2f2",
             "white",
             "#f2f2f2",
             "white",
             "#f2f2f2",
             "white",
             "#f2f2f2",
             "white",
             "#f2f2f2",
             "white",
             "#f2f2f2",
             "white",
             "#f2f2f2",
             "white",
             "#f2f2f2",
             "white",
             "lavender"
            ],
            [
             "white",
             "#f2f2f2",
             "white",
             "#f2f2f2",
             "white",
             "#f2f2f2",
             "white",
             "#f2f2f2",
             "white",
             "#f2f2f2",
             "white",
             "#f2f2f2",
             "white",
             "#f2f2f2",
             "white",
             "#f2f2f2",
             "white",
             "#f2f2f2",
             "white",
             "#f2f2f2",
             "white",
             "#f2f2f2",
             "white",
             "#f2f2f2",
             "white",
             "#f2f2f2",
             "white",
             "#f2f2f2",
             "white",
             "#f2f2f2",
             "white",
             "#f2f2f2",
             "white",
             "#f2f2f2",
             "white",
             "#f2f2f2",
             "white",
             "#f2f2f2",
             "white",
             "#f2f2f2",
             "white",
             "#f2f2f2",
             "white",
             "#f2f2f2",
             "white",
             "lavender"
            ],
            [
             "white",
             "#f2f2f2",
             "white",
             "#f2f2f2",
             "white",
             "#f2f2f2",
             "white",
             "#f2f2f2",
             "white",
             "#f2f2f2",
             "white",
             "#f2f2f2",
             "white",
             "#f2f2f2",
             "white",
             "#f2f2f2",
             "white",
             "#f2f2f2",
             "white",
             "#f2f2f2",
             "white",
             "#f2f2f2",
             "white",
             "#f2f2f2",
             "white",
             "#f2f2f2",
             "white",
             "#f2f2f2",
             "white",
             "#f2f2f2",
             "white",
             "#f2f2f2",
             "white",
             "#f2f2f2",
             "white",
             "#f2f2f2",
             "white",
             "#f2f2f2",
             "white",
             "#f2f2f2",
             "white",
             "#f2f2f2",
             "white",
             "#f2f2f2",
             "white",
             "lavender"
            ],
            [
             "white",
             "#f2f2f2",
             "white",
             "#f2f2f2",
             "white",
             "#f2f2f2",
             "white",
             "#f2f2f2",
             "white",
             "#f2f2f2",
             "white",
             "#f2f2f2",
             "white",
             "#f2f2f2",
             "white",
             "#f2f2f2",
             "white",
             "#f2f2f2",
             "white",
             "#f2f2f2",
             "white",
             "#f2f2f2",
             "white",
             "#f2f2f2",
             "white",
             "#f2f2f2",
             "white",
             "#f2f2f2",
             "white",
             "#f2f2f2",
             "white",
             "#f2f2f2",
             "white",
             "#f2f2f2",
             "white",
             "#f2f2f2",
             "white",
             "#f2f2f2",
             "white",
             "#f2f2f2",
             "white",
             "#f2f2f2",
             "white",
             "#f2f2f2",
             "white",
             "lavender"
            ],
            [
             "lavender",
             "lavender",
             "lavender",
             "lavender",
             "lavender",
             "lavender",
             "lavender",
             "lavender",
             "lavender",
             "lavender",
             "lavender",
             "lavender",
             "lavender",
             "lavender",
             "lavender",
             "lavender",
             "lavender",
             "lavender",
             "lavender",
             "lavender",
             "lavender",
             "lavender",
             "lavender",
             "lavender",
             "lavender",
             "lavender",
             "lavender",
             "lavender",
             "lavender",
             "lavender",
             "lavender",
             "lavender",
             "lavender",
             "lavender",
             "lavender",
             "lavender",
             "lavender",
             "lavender",
             "lavender",
             "lavender",
             "lavender",
             "lavender",
             "lavender",
             "lavender",
             "lavender",
             "lavender"
            ]
           ]
          },
          "font": {
           "color": "black",
           "family": "Menlo",
           "size": 12
          },
          "values": [
           [
            1,
            2,
            3,
            4,
            5,
            6,
            7,
            8,
            9,
            10,
            11,
            12,
            13,
            14,
            15,
            16,
            17,
            18,
            19,
            20,
            21,
            22,
            23,
            24,
            25,
            26,
            27,
            28,
            29,
            30,
            31,
            32,
            33,
            34,
            35,
            36,
            37,
            38,
            39,
            40,
            41,
            42,
            43,
            44,
            45,
            "<b>Total</b>"
           ],
           [
            "$9,284.98",
            "$9,245.15",
            "$8,183.11",
            "$9,346.50",
            "$8,080.03",
            "$9,195.63",
            "$8,939.61",
            "$8,969.84",
            "$7,871.20",
            "$10,637.03",
            "$9,023.48",
            "$9,942.45",
            "$9,994.84",
            "$9,658.22",
            "$9,963.24",
            "$8,427.68",
            "$9,269.20",
            "$9,436.50",
            "$10,257.77",
            "$9,778.09",
            "$8,672.40",
            "$9,364.50",
            "$9,595.18",
            "$10,265.21",
            "$9,407.86",
            "$9,419.43",
            "$10,271.49",
            "$10,388.13",
            "$9,114.90",
            "$6,383.90",
            "$9,203.53",
            "$9,367.59",
            "$6,329.25",
            "$9,360.55",
            "$9,118.18",
            "$5,429.91",
            "$6,252.40",
            "$7,327.52",
            "$8,962.42",
            "$9,584.96",
            "$9,107.19",
            "$6,800.50",
            "$6,150.93",
            "$6,650.44",
            "$9,224.66",
            "<b>$397,257.59</b>"
           ],
           [
            "$12,771.89",
            "$12,782.53",
            "$11,240.64",
            "$12,745.05",
            "$11,328.86",
            "$12,781.19",
            "$12,163.50",
            "$12,326.69",
            "$11,158.78",
            "$13,985.86",
            "$12,565.60",
            "$13,237.49",
            "$13,180.94",
            "$13,227.11",
            "$13,725.14",
            "$11,766.29",
            "$12,428.60",
            "$13,077.43",
            "$14,013.84",
            "$13,524.62",
            "$11,874.03",
            "$12,818.97",
            "$13,549.21",
            "$14,191.67",
            "$12,936.03",
            "$13,168.97",
            "$14,183.13",
            "$13,844.96",
            "$12,637.84",
            "$9,052.21",
            "$12,643.53",
            "$12,771.09",
            "$8,946.45",
            "$12,771.52",
            "$12,578.66",
            "$7,788.43",
            "$9,042.33",
            "$10,098.04",
            "$12,317.82",
            "$13,377.15",
            "$12,634.77",
            "$9,408.40",
            "$8,392.44",
            "$9,009.01",
            "$12,738.58",
            "<b>$546,807.27</b>"
           ],
           [
            "$10,916.63",
            "$10,937.64",
            "$9,664.15",
            "$10,945.65",
            "$9,576.10",
            "$10,912.58",
            "$10,525.63",
            "$10,557.98",
            "$9,556.46",
            "$12,227.34",
            "$10,833.14",
            "$11,830.03",
            "$11,226.92",
            "$11,428.40",
            "$11,745.55",
            "$10,484.81",
            "$10,739.92",
            "$11,441.83",
            "$12,032.64",
            "$11,616.12",
            "$10,301.72",
            "$11,153.06",
            "$11,466.74",
            "$12,153.90",
            "$11,166.42",
            "$11,347.63",
            "$12,149.13",
            "$12,240.45",
            "$10,790.80",
            "$7,647.85",
            "$10,799.53",
            "$10,920.14",
            "$8,007.00",
            "$10,727.95",
            "$10,875.20",
            "$6,758.40",
            "$8,005.67",
            "$9,205.47",
            "$10,521.80",
            "$11,531.20",
            "$10,990.20",
            "$8,758.10",
            "$7,182.08",
            "$7,956.84",
            "$10,986.29",
            "<b>$472,843.09</b>"
           ],
           [
            "<b>$32,973.49</b>",
            "<b>$32,965.32</b>",
            "<b>$29,087.90</b>",
            "<b>$33,037.19</b>",
            "<b>$28,984.99</b>",
            "<b>$32,889.40</b>",
            "<b>$31,628.74</b>",
            "<b>$31,854.52</b>",
            "<b>$28,586.44</b>",
            "<b>$36,850.23</b>",
            "<b>$32,422.23</b>",
            "<b>$35,009.97</b>",
            "<b>$34,402.70</b>",
            "<b>$34,313.73</b>",
            "<b>$35,433.93</b>",
            "<b>$30,678.77</b>",
            "<b>$32,437.71</b>",
            "<b>$33,955.76</b>",
            "<b>$36,304.26</b>",
            "<b>$34,918.83</b>",
            "<b>$30,848.15</b>",
            "<b>$33,336.52</b>",
            "<b>$34,611.13</b>",
            "<b>$36,610.78</b>",
            "<b>$33,510.31</b>",
            "<b>$33,936.03</b>",
            "<b>$36,603.75</b>",
            "<b>$36,473.54</b>",
            "<b>$32,543.54</b>",
            "<b>$23,083.96</b>",
            "<b>$32,646.59</b>",
            "<b>$33,058.82</b>",
            "<b>$23,282.69</b>",
            "<b>$32,860.02</b>",
            "<b>$32,572.03</b>",
            "<b>$19,976.75</b>",
            "<b>$23,300.41</b>",
            "<b>$26,631.03</b>",
            "<b>$31,802.03</b>",
            "<b>$34,493.32</b>",
            "<b>$32,732.16</b>",
            "<b>$24,967.01</b>",
            "<b>$21,725.45</b>",
            "<b>$23,616.29</b>",
            "<b>$32,949.53</b>",
            "<b><b>$1,416,907.95</b></b>"
           ]
          ]
         },
         "columnwidth": [
          18,
          30,
          30,
          30,
          30
         ],
         "domain": {
          "x": [
           0,
           0.644
          ],
          "y": [
           0,
           1
          ]
         },
         "header": {
          "align": [
           "center",
           "right",
           "right",
           "right",
           "right"
          ],
          "fill": {
           "color": "#C0C0C0"
          },
          "font": {
           "color": "black",
           "family": "Helvetica",
           "size": 12
          },
          "values": [
           "Store ID",
           "2010",
           "2011",
           "2012",
           "<b>Total</b>"
          ]
         },
         "type": "table"
        },
        {
         "domain": {
          "x": [
           0.724,
           1
          ],
          "y": [
           0.405,
           1
          ]
         },
         "hole": 0.6,
         "hovertemplate": "Year: %{label}<br>Total Fuel Sales: %{value:$,.2f}<extra></extra>",
         "labels": [
          "2010",
          "2011",
          "2012"
         ],
         "marker": {
          "colors": [
           "#1f77b4",
           "#d62728",
           "#33CC96"
          ]
         },
         "sort": false,
         "textfont": {
          "color": "black",
          "family": "Menlo",
          "size": 14
         },
         "textinfo": "label+percent",
         "type": "pie",
         "values": {
          "bdata": "5tAiWyY/GEHwp8aL7q8gQZ4aL10s3BxB",
          "dtype": "f8"
         }
        },
        {
         "cells": {
          "align": "center",
          "fill": {
           "color": "white"
          },
          "font": {
           "color": "black",
           "size": 36
          },
          "values": [
           "$1.42M"
          ]
         },
         "domain": {
          "x": [
           0.724,
           1
          ],
          "y": [
           0,
           0.225
          ]
         },
         "header": {
          "align": "center",
          "fill": {
           "color": "white"
          },
          "font": {
           "size": 16
          },
          "values": [
           "Total Fuel Price"
          ]
         },
         "type": "table"
        }
       ],
       "layout": {
        "annotations": [
         {
          "font": {
           "color": "black",
           "family": "Helvetica",
           "size": 16
          },
          "showarrow": false,
          "text": "Fuel Price by Store and Year",
          "x": 0.2,
          "xref": "paper",
          "y": 1.065,
          "yref": "paper"
         },
         {
          "font": {
           "color": "black",
           "family": "Helvetica",
           "size": 16
          },
          "showarrow": false,
          "text": "Fuel Price by Year",
          "x": 0.93,
          "xref": "paper",
          "y": 1.065,
          "yref": "paper"
         }
        ],
        "height": 700,
        "legend": {
         "orientation": "h",
         "x": 0.975,
         "xanchor": "right",
         "y": 0.35,
         "yanchor": "bottom"
        },
        "shapes": [
         {
          "layer": "below",
          "line": {
           "color": "grey",
           "width": 1
          },
          "type": "line",
          "x0": 0.725,
          "x1": 1,
          "xref": "paper",
          "y0": 0.3,
          "y1": 0.3,
          "yref": "paper"
         }
        ],
        "template": {
         "data": {
          "bar": [
           {
            "error_x": {
             "color": "#2a3f5f"
            },
            "error_y": {
             "color": "#2a3f5f"
            },
            "marker": {
             "line": {
              "color": "#E5ECF6",
              "width": 0.5
             },
             "pattern": {
              "fillmode": "overlay",
              "size": 10,
              "solidity": 0.2
             }
            },
            "type": "bar"
           }
          ],
          "barpolar": [
           {
            "marker": {
             "line": {
              "color": "#E5ECF6",
              "width": 0.5
             },
             "pattern": {
              "fillmode": "overlay",
              "size": 10,
              "solidity": 0.2
             }
            },
            "type": "barpolar"
           }
          ],
          "carpet": [
           {
            "aaxis": {
             "endlinecolor": "#2a3f5f",
             "gridcolor": "white",
             "linecolor": "white",
             "minorgridcolor": "white",
             "startlinecolor": "#2a3f5f"
            },
            "baxis": {
             "endlinecolor": "#2a3f5f",
             "gridcolor": "white",
             "linecolor": "white",
             "minorgridcolor": "white",
             "startlinecolor": "#2a3f5f"
            },
            "type": "carpet"
           }
          ],
          "choropleth": [
           {
            "colorbar": {
             "outlinewidth": 0,
             "ticks": ""
            },
            "type": "choropleth"
           }
          ],
          "contour": [
           {
            "colorbar": {
             "outlinewidth": 0,
             "ticks": ""
            },
            "colorscale": [
             [
              0,
              "#0d0887"
             ],
             [
              0.1111111111111111,
              "#46039f"
             ],
             [
              0.2222222222222222,
              "#7201a8"
             ],
             [
              0.3333333333333333,
              "#9c179e"
             ],
             [
              0.4444444444444444,
              "#bd3786"
             ],
             [
              0.5555555555555556,
              "#d8576b"
             ],
             [
              0.6666666666666666,
              "#ed7953"
             ],
             [
              0.7777777777777778,
              "#fb9f3a"
             ],
             [
              0.8888888888888888,
              "#fdca26"
             ],
             [
              1,
              "#f0f921"
             ]
            ],
            "type": "contour"
           }
          ],
          "contourcarpet": [
           {
            "colorbar": {
             "outlinewidth": 0,
             "ticks": ""
            },
            "type": "contourcarpet"
           }
          ],
          "heatmap": [
           {
            "colorbar": {
             "outlinewidth": 0,
             "ticks": ""
            },
            "colorscale": [
             [
              0,
              "#0d0887"
             ],
             [
              0.1111111111111111,
              "#46039f"
             ],
             [
              0.2222222222222222,
              "#7201a8"
             ],
             [
              0.3333333333333333,
              "#9c179e"
             ],
             [
              0.4444444444444444,
              "#bd3786"
             ],
             [
              0.5555555555555556,
              "#d8576b"
             ],
             [
              0.6666666666666666,
              "#ed7953"
             ],
             [
              0.7777777777777778,
              "#fb9f3a"
             ],
             [
              0.8888888888888888,
              "#fdca26"
             ],
             [
              1,
              "#f0f921"
             ]
            ],
            "type": "heatmap"
           }
          ],
          "histogram": [
           {
            "marker": {
             "pattern": {
              "fillmode": "overlay",
              "size": 10,
              "solidity": 0.2
             }
            },
            "type": "histogram"
           }
          ],
          "histogram2d": [
           {
            "colorbar": {
             "outlinewidth": 0,
             "ticks": ""
            },
            "colorscale": [
             [
              0,
              "#0d0887"
             ],
             [
              0.1111111111111111,
              "#46039f"
             ],
             [
              0.2222222222222222,
              "#7201a8"
             ],
             [
              0.3333333333333333,
              "#9c179e"
             ],
             [
              0.4444444444444444,
              "#bd3786"
             ],
             [
              0.5555555555555556,
              "#d8576b"
             ],
             [
              0.6666666666666666,
              "#ed7953"
             ],
             [
              0.7777777777777778,
              "#fb9f3a"
             ],
             [
              0.8888888888888888,
              "#fdca26"
             ],
             [
              1,
              "#f0f921"
             ]
            ],
            "type": "histogram2d"
           }
          ],
          "histogram2dcontour": [
           {
            "colorbar": {
             "outlinewidth": 0,
             "ticks": ""
            },
            "colorscale": [
             [
              0,
              "#0d0887"
             ],
             [
              0.1111111111111111,
              "#46039f"
             ],
             [
              0.2222222222222222,
              "#7201a8"
             ],
             [
              0.3333333333333333,
              "#9c179e"
             ],
             [
              0.4444444444444444,
              "#bd3786"
             ],
             [
              0.5555555555555556,
              "#d8576b"
             ],
             [
              0.6666666666666666,
              "#ed7953"
             ],
             [
              0.7777777777777778,
              "#fb9f3a"
             ],
             [
              0.8888888888888888,
              "#fdca26"
             ],
             [
              1,
              "#f0f921"
             ]
            ],
            "type": "histogram2dcontour"
           }
          ],
          "mesh3d": [
           {
            "colorbar": {
             "outlinewidth": 0,
             "ticks": ""
            },
            "type": "mesh3d"
           }
          ],
          "parcoords": [
           {
            "line": {
             "colorbar": {
              "outlinewidth": 0,
              "ticks": ""
             }
            },
            "type": "parcoords"
           }
          ],
          "pie": [
           {
            "automargin": true,
            "type": "pie"
           }
          ],
          "scatter": [
           {
            "fillpattern": {
             "fillmode": "overlay",
             "size": 10,
             "solidity": 0.2
            },
            "type": "scatter"
           }
          ],
          "scatter3d": [
           {
            "line": {
             "colorbar": {
              "outlinewidth": 0,
              "ticks": ""
             }
            },
            "marker": {
             "colorbar": {
              "outlinewidth": 0,
              "ticks": ""
             }
            },
            "type": "scatter3d"
           }
          ],
          "scattercarpet": [
           {
            "marker": {
             "colorbar": {
              "outlinewidth": 0,
              "ticks": ""
             }
            },
            "type": "scattercarpet"
           }
          ],
          "scattergeo": [
           {
            "marker": {
             "colorbar": {
              "outlinewidth": 0,
              "ticks": ""
             }
            },
            "type": "scattergeo"
           }
          ],
          "scattergl": [
           {
            "marker": {
             "colorbar": {
              "outlinewidth": 0,
              "ticks": ""
             }
            },
            "type": "scattergl"
           }
          ],
          "scattermap": [
           {
            "marker": {
             "colorbar": {
              "outlinewidth": 0,
              "ticks": ""
             }
            },
            "type": "scattermap"
           }
          ],
          "scattermapbox": [
           {
            "marker": {
             "colorbar": {
              "outlinewidth": 0,
              "ticks": ""
             }
            },
            "type": "scattermapbox"
           }
          ],
          "scatterpolar": [
           {
            "marker": {
             "colorbar": {
              "outlinewidth": 0,
              "ticks": ""
             }
            },
            "type": "scatterpolar"
           }
          ],
          "scatterpolargl": [
           {
            "marker": {
             "colorbar": {
              "outlinewidth": 0,
              "ticks": ""
             }
            },
            "type": "scatterpolargl"
           }
          ],
          "scatterternary": [
           {
            "marker": {
             "colorbar": {
              "outlinewidth": 0,
              "ticks": ""
             }
            },
            "type": "scatterternary"
           }
          ],
          "surface": [
           {
            "colorbar": {
             "outlinewidth": 0,
             "ticks": ""
            },
            "colorscale": [
             [
              0,
              "#0d0887"
             ],
             [
              0.1111111111111111,
              "#46039f"
             ],
             [
              0.2222222222222222,
              "#7201a8"
             ],
             [
              0.3333333333333333,
              "#9c179e"
             ],
             [
              0.4444444444444444,
              "#bd3786"
             ],
             [
              0.5555555555555556,
              "#d8576b"
             ],
             [
              0.6666666666666666,
              "#ed7953"
             ],
             [
              0.7777777777777778,
              "#fb9f3a"
             ],
             [
              0.8888888888888888,
              "#fdca26"
             ],
             [
              1,
              "#f0f921"
             ]
            ],
            "type": "surface"
           }
          ],
          "table": [
           {
            "cells": {
             "fill": {
              "color": "#EBF0F8"
             },
             "line": {
              "color": "white"
             }
            },
            "header": {
             "fill": {
              "color": "#C8D4E3"
             },
             "line": {
              "color": "white"
             }
            },
            "type": "table"
           }
          ]
         },
         "layout": {
          "annotationdefaults": {
           "arrowcolor": "#2a3f5f",
           "arrowhead": 0,
           "arrowwidth": 1
          },
          "autotypenumbers": "strict",
          "coloraxis": {
           "colorbar": {
            "outlinewidth": 0,
            "ticks": ""
           }
          },
          "colorscale": {
           "diverging": [
            [
             0,
             "#8e0152"
            ],
            [
             0.1,
             "#c51b7d"
            ],
            [
             0.2,
             "#de77ae"
            ],
            [
             0.3,
             "#f1b6da"
            ],
            [
             0.4,
             "#fde0ef"
            ],
            [
             0.5,
             "#f7f7f7"
            ],
            [
             0.6,
             "#e6f5d0"
            ],
            [
             0.7,
             "#b8e186"
            ],
            [
             0.8,
             "#7fbc41"
            ],
            [
             0.9,
             "#4d9221"
            ],
            [
             1,
             "#276419"
            ]
           ],
           "sequential": [
            [
             0,
             "#0d0887"
            ],
            [
             0.1111111111111111,
             "#46039f"
            ],
            [
             0.2222222222222222,
             "#7201a8"
            ],
            [
             0.3333333333333333,
             "#9c179e"
            ],
            [
             0.4444444444444444,
             "#bd3786"
            ],
            [
             0.5555555555555556,
             "#d8576b"
            ],
            [
             0.6666666666666666,
             "#ed7953"
            ],
            [
             0.7777777777777778,
             "#fb9f3a"
            ],
            [
             0.8888888888888888,
             "#fdca26"
            ],
            [
             1,
             "#f0f921"
            ]
           ],
           "sequentialminus": [
            [
             0,
             "#0d0887"
            ],
            [
             0.1111111111111111,
             "#46039f"
            ],
            [
             0.2222222222222222,
             "#7201a8"
            ],
            [
             0.3333333333333333,
             "#9c179e"
            ],
            [
             0.4444444444444444,
             "#bd3786"
            ],
            [
             0.5555555555555556,
             "#d8576b"
            ],
            [
             0.6666666666666666,
             "#ed7953"
            ],
            [
             0.7777777777777778,
             "#fb9f3a"
            ],
            [
             0.8888888888888888,
             "#fdca26"
            ],
            [
             1,
             "#f0f921"
            ]
           ]
          },
          "colorway": [
           "#636efa",
           "#EF553B",
           "#00cc96",
           "#ab63fa",
           "#FFA15A",
           "#19d3f3",
           "#FF6692",
           "#B6E880",
           "#FF97FF",
           "#FECB52"
          ],
          "font": {
           "color": "#2a3f5f"
          },
          "geo": {
           "bgcolor": "white",
           "lakecolor": "white",
           "landcolor": "#E5ECF6",
           "showlakes": true,
           "showland": true,
           "subunitcolor": "white"
          },
          "hoverlabel": {
           "align": "left"
          },
          "hovermode": "closest",
          "mapbox": {
           "style": "light"
          },
          "paper_bgcolor": "white",
          "plot_bgcolor": "#E5ECF6",
          "polar": {
           "angularaxis": {
            "gridcolor": "white",
            "linecolor": "white",
            "ticks": ""
           },
           "bgcolor": "#E5ECF6",
           "radialaxis": {
            "gridcolor": "white",
            "linecolor": "white",
            "ticks": ""
           }
          },
          "scene": {
           "xaxis": {
            "backgroundcolor": "#E5ECF6",
            "gridcolor": "white",
            "gridwidth": 2,
            "linecolor": "white",
            "showbackground": true,
            "ticks": "",
            "zerolinecolor": "white"
           },
           "yaxis": {
            "backgroundcolor": "#E5ECF6",
            "gridcolor": "white",
            "gridwidth": 2,
            "linecolor": "white",
            "showbackground": true,
            "ticks": "",
            "zerolinecolor": "white"
           },
           "zaxis": {
            "backgroundcolor": "#E5ECF6",
            "gridcolor": "white",
            "gridwidth": 2,
            "linecolor": "white",
            "showbackground": true,
            "ticks": "",
            "zerolinecolor": "white"
           }
          },
          "shapedefaults": {
           "line": {
            "color": "#2a3f5f"
           }
          },
          "ternary": {
           "aaxis": {
            "gridcolor": "white",
            "linecolor": "white",
            "ticks": ""
           },
           "baxis": {
            "gridcolor": "white",
            "linecolor": "white",
            "ticks": ""
           },
           "bgcolor": "#E5ECF6",
           "caxis": {
            "gridcolor": "white",
            "linecolor": "white",
            "ticks": ""
           }
          },
          "title": {
           "x": 0.05
          },
          "xaxis": {
           "automargin": true,
           "gridcolor": "white",
           "linecolor": "white",
           "ticks": "",
           "title": {
            "standoff": 15
           },
           "zerolinecolor": "white",
           "zerolinewidth": 2
          },
          "yaxis": {
           "automargin": true,
           "gridcolor": "white",
           "linecolor": "white",
           "ticks": "",
           "title": {
            "standoff": 15
           },
           "zerolinecolor": "white",
           "zerolinewidth": 2
          }
         }
        },
        "title": {
         "font": {
          "color": "black",
          "family": "Helvetica",
          "size": 20,
          "weight": "bold"
         },
         "text": "Fuel Price by Year",
         "x": 0.5
        },
        "width": 1150
       }
      },
      "image/png": "[encoded data removed]"
     },
     "metadata": {},
     "output_type": "display_data"
    }
   ],
   "source": [
    "# Let's create a dashboard-style presentation\n",
    "\n",
    "# First, set up the overall container for the charts.  Here, we have a 3-row, 2-column\n",
    "# layout where row1,col2 spans 3 rows\n",
    "fig = make_subplots(\n",
    "    rows=2,\n",
    "    cols=2,\n",
    "    specs=[\n",
    "        [{'type':\"indicator\", 't':0, 'b':0, \"rowspan\": 2}, {\"type\": \"domain\"}],\n",
    "        [ None,                                            {\"type\": \"indicator\", 't':0.03}]\n",
    "    ],\n",
    "    column_widths=[0.70, 0.30],\n",
    "    row_heights=[0.70, 0.30],\n",
    "    horizontal_spacing = 0.08,\n",
    "    vertical_spacing = 0.15\n",
    ")\n",
    "\n",
    "# ========================================\n",
    "\n",
    "# First, let's add the summary table for fuel prices by store and year\n",
    "# We have previously generated the dataframe with a total column on the\n",
    "# right and a total row at the bottom.  We only need to format the table.\n",
    "df_fmt = df.copy()\n",
    "for col in df_fmt.columns[1:]:\n",
    "    df_fmt[col] = df_fmt[col].apply(lambda x: f\"${x:,.2f}\")\n",
    "    \n",
    "# First, lets add zebra striping\n",
    "# Alternate row colors: white for even, light gray for odd.\n",
    "# We build color lists for each column, with the last row (the total row) as white.\n",
    "fill_colors = [\n",
    "    ['white' if i % 2 == 0 else '#f2f2f2' for i in range(len(df.index) - 1)] + ['white']\n",
    "    for _ in range(5)\n",
    "]\n",
    "\n",
    "# Overwrite the fill color of the last column (the total_fuel_cost column)\n",
    "for i in range(len(fill_colors[-1])):\n",
    "    fill_colors[-1][i] = 'lavender'\n",
    "\n",
    "# Overwrite the final row (the Total row) to a distinct color for emphasis as well\n",
    "for i in range(len(fill_colors)):\n",
    "    fill_colors[i][-1] = 'lavender'\n",
    "\n",
    "# Now add a bold tag to the total row.  Loop through each column in the last row\n",
    "# and surround it with the <b></b> tags. Don't be confused by the statement:\n",
    "# df_weekly_sales.iloc[-1][col]\n",
    "# This is chaining 2 statements together to fetch the last row first (as a series), then\n",
    "# fetching the label-based element associated with the variable \"col\" to get the specific\n",
    "# element.\n",
    "for col in df_fmt.columns:\n",
    "    df_fmt.loc[len(df_fmt)-1, col] = f\"<b>{df_fmt.iloc[-1][col]}</b>\"\n",
    "\n",
    "# Need to bold the entire total column as well.\n",
    "for row in range(len(df_fmt)):\n",
    "    df_fmt.iloc[row,-1] = f\"<b>{df_fmt.iloc[row,-1]}</b>\"\n",
    "\n",
    "# Gather the header values for the summary data\n",
    "column_map = {\n",
    "    'store_id': 'Store ID',\n",
    "    'total_fuel_2010': '2010',\n",
    "    'total_fuel_2011': '2011',\n",
    "    'total_fuel_2012': '2012',\n",
    "    'total_fuel_cost': '<b>Total</b>'\n",
    "}\n",
    "\n",
    "formatted_headers = [column_map[col] for col in df_fmt.columns]\n",
    "\n",
    "# Gather the cell values for the summary data\n",
    "cell_values = [df_fmt[col] for col in df_fmt.columns]\n",
    "\n",
    "fuel_cost_by_store_year = go.Table(\n",
    "    columnwidth=[18,30,30,30,30],\n",
    "    header = dict(\n",
    "        values = formatted_headers,\n",
    "        fill_color = '#C0C0C0',\n",
    "        align = ['center','right','right','right','right'],\n",
    "        font = dict(size=12,family=\"Helvetica\", color='black')\n",
    "    ),\n",
    "    cells = dict(\n",
    "        values = cell_values,\n",
    "        align = ['center','right','right','right','right'],\n",
    "        fill_color = fill_colors,\n",
    "        font = dict(size=12, family=\"Menlo\", color='black')\n",
    "    )\n",
    ")\n",
    "\n",
    "fig.add_trace(fuel_cost_by_store_year, row=1, col=1)\n",
    "\n",
    "# Add a nice header to the cell\n",
    "fig.add_annotation(\n",
    "    text = \"Fuel Price by Store and Year\",\n",
    "    x = 0.2,  # roughly center of line chart\n",
    "    y = 1.065,  # above the line chart\n",
    "    xref = \"paper\",\n",
    "    yref = \"paper\",\n",
    "    showarrow = False,\n",
    "    font = dict(size=16, family=\"Helvetica\", color=\"black\")\n",
    ")\n",
    "\n",
    "# ========================================\n",
    "\n",
    "# Next, let's add the donut chart to row1, col2\n",
    "# Extract the existing fuel totals from the summary table dataframe\n",
    "total_row = df.iloc[len(df)-1]\n",
    "\n",
    "total_data = {\n",
    "    'year':['2010','2011','2012'],\n",
    "    'total_fuel':[total_row['total_fuel_2010'], total_row['total_fuel_2011'],total_row['total_fuel_2012']]\n",
    "}\n",
    "\n",
    "df_totals_by_year = pd.DataFrame(total_data)\n",
    "\n",
    "fuel_price_by_year_trace = go.Pie(\n",
    "    labels = df_totals_by_year['year'],\n",
    "    values = df_totals_by_year['total_fuel'],\n",
    "    textinfo = 'label+percent',\n",
    "    hovertemplate = 'Year: %{label}<br>Total Fuel Sales: %{value:$,.2f}<extra></extra>',\n",
    "    hole = 0.6,\n",
    "    sort = False,    # keep Plotly from sorting the legend values - use the order I created.\n",
    "    textfont = dict(size=14, family=\"Menlo\", color=\"black\"),\n",
    "    marker = dict(colors=['#1f77b4', '#d62728', '#33CC96'])\n",
    ")\n",
    "\n",
    "fig.add_trace(fuel_price_by_year_trace, row=1, col=2)\n",
    "\n",
    "fig.add_annotation(\n",
    "    text = \"Fuel Price by Year\",\n",
    "    x = 0.93,  # roughly center of line chart\n",
    "    y = 1.065,  # above the line chart\n",
    "    xref = \"paper\",\n",
    "    yref = \"paper\",\n",
    "    showarrow = False,\n",
    "    font = dict(size=16, family=\"Helvetica\", color=\"black\")\n",
    ")\n",
    "\n",
    "# ========================================\n",
    "\n",
    "# Next, let's add the total fuel price in row2, col2\n",
    "# Pull only the total fuel cost for the dashboard report\n",
    "\n",
    "def formatTotalFuelSales(value):\n",
    "    if value >= 1_000_000_000:\n",
    "        return f\"${value / 1_000_000_000:.2f}B\"\n",
    "    elif value >= 1_000_000:\n",
    "        return f\"${value / 1_000_000:.2f}M\"\n",
    "    elif value >= 1_000:\n",
    "        return f\"${value / 1_000:.2f}K\"\n",
    "    else:\n",
    "        return f\"${value:2f}\"\n",
    "        \n",
    "total_fuel_cost = df.iloc[-1, -1]\n",
    "totalFuelCostFormattedStr = formatTotalFuelSales(total_fuel_cost)\n",
    "\n",
    "total_fuel_cost_indicator = go.Table(\n",
    "    header = dict(\n",
    "        values = [\"Total Fuel Price\"],\n",
    "        fill_color = 'white',\n",
    "        align = 'center',\n",
    "        font = dict(size=16)\n",
    "    ),\n",
    "    cells = dict(\n",
    "        values = [totalFuelCostFormattedStr],\n",
    "        align = 'center',\n",
    "        fill_color = 'white',\n",
    "        font = dict(size=36, color='black')\n",
    "    )\n",
    ")\n",
    "\n",
    "fig.add_trace(total_fuel_cost_indicator, row=2, col=2)\n",
    "\n",
    "# Final layout adjustments\n",
    "fig.update_layout(\n",
    "    height = 700,\n",
    "    width = 1150,\n",
    "#     title = 'Weekly Sales by Temperature and Year',\n",
    "#     title_x = 0.5,\n",
    "#     xaxis_title = 'Temperature (°F)',\n",
    "#     xaxis_tickangle = 45,\n",
    "#     yaxis_title = 'Total Weekly Sales',\n",
    "#     yaxis_tickformat = \".2s\",\n",
    "#     barmode = 'group',  # for grouped chart\n",
    "#     plot_bgcolor = 'white',\n",
    "    legend = dict(\n",
    "        orientation = \"h\",\n",
    "        yanchor = \"bottom\",\n",
    "        y = 0.35,\n",
    "        xanchor = \"right\",\n",
    "        x = 0.975\n",
    "    )\n",
    ")\n",
    "\n",
    "# Let's make the report title pop a little more\n",
    "title_font = dict(size=20, family=\"Helvetica\", color='black', weight='bold')\n",
    "fig.update_layout(title=dict(text='Fuel Price by Year', x=0.5, font=title_font))\n",
    "\n",
    "# Horizontal, between earliest date and average temperature\n",
    "fig.add_shape(\n",
    "    type=\"line\",\n",
    "    x0=0.725, x1=1,\n",
    "    y0=0.3, y1=0.3,\n",
    "    xref=\"paper\", yref=\"paper\",\n",
    "    line=dict(color=\"grey\", width=1),\n",
    "    layer=\"below\"\n",
    ")\n",
    "\n",
    "# fig.add_shape(\n",
    "#     type=\"line\",\n",
    "#     x0=0.5, x1=0.5,\n",
    "#     y0=0, y1=1,\n",
    "#     xref=\"paper\", yref=\"paper\",\n",
    "#     line=dict(color=\"blue\", width=1),\n",
    "#     layer=\"above\"\n",
    "# )\n",
    "\n",
    "fig.show()\n"
   ]
  },
  {
   "cell_type": "code",
   "execution_count": null,
   "id": "28795787-6e52-4b13-8692-498675a230ad",
   "metadata": {},
   "outputs": [],
   "source": [
    "# Close the connection\n",
    "conn.close()"
   ]
  }
 ],
 "metadata": {
  "kernelspec": {
   "display_name": "Python 3 (ipykernel)",
   "language": "python",
   "name": "python3"
  },
  "language_info": {
   "codemirror_mode": {
    "name": "ipython",
    "version": 3
   },
   "file_extension": ".py",
   "mimetype": "text/x-python",
   "name": "python",
   "nbconvert_exporter": "python",
   "pygments_lexer": "ipython3",
   "version": "3.13.2"
  }
 },
 "nbformat": 4,
 "nbformat_minor": 5
}
