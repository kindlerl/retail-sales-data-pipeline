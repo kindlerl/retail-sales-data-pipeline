{
 "cells": [
  {
   "cell_type": "code",
   "execution_count": 81,
   "id": "76487bfa-c291-4d3b-8dad-f920f16d831e",
   "metadata": {},
   "outputs": [
    {
     "data": {
      "text/plain": [
       "True"
      ]
     },
     "execution_count": 81,
     "metadata": {},
     "output_type": "execute_result"
    }
   ],
   "source": [
    "import os\n",
    "from dotenv import load_dotenv\n",
    "import snowflake.connector\n",
    "import pandas as pd\n",
    "import plotly.express as px\n",
    "# Use Plotly's \"make_subplots\" function from \"plotly.subplots\" to layout elements horizontally\n",
    "from plotly.subplots import make_subplots\n",
    "import plotly.graph_objects as go\n",
    "\n",
    "# Load credentials\n",
    "load_dotenv()"
   ]
  },
  {
   "cell_type": "code",
   "execution_count": 82,
   "id": "1e2ab658-d842-467e-9920-5f0824343aa2",
   "metadata": {},
   "outputs": [],
   "source": [
    "# Connect to Snowflake\n",
    "conn = snowflake.connector.connect(\n",
    "    user=os.getenv('SNOWFLAKE_USER'),\n",
    "    password=os.getenv('SNOWFLAKE_PASSWORD'),\n",
    "    account=os.getenv('SNOWFLAKE_ACCOUNT') + '.' + os.getenv('SNOWFLAKE_REGION'),\n",
    "    warehouse=os.getenv('SNOWFLAKE_WAREHOUSE'),\n",
    "    database='WALMART_DB',\n",
    "    schema='SILVER',\n",
    "    role=os.getenv('SNOWFLAKE_ROLE')\n",
    ")"
   ]
  },
  {
   "cell_type": "code",
   "execution_count": 83,
   "id": "2b8d9a09-33c2-411a-878f-71dc688ef9a1",
   "metadata": {},
   "outputs": [],
   "source": [
    "# SQL query\n",
    "# After an initial run, I saw sales numbers up to 30B.  This seemed very\n",
    "# high to me. After further investigation, I found that multiple stores\n",
    "# share the same size.  This means we're aggregating weekly sales across\n",
    "# multiple stores when the store sizes match. The only way I found to \n",
    "# address this was to take the average sales between all stores that had\n",
    "# the same size.  For stores with no store size duplicates, the weekly\n",
    "# sales and average weekly sales will be identical.\n",
    "# sql = \"\"\"\n",
    "# SELECT \n",
    "#   wsd.store_size,\n",
    "#   COUNT(wft.store_id) AS store_count,\n",
    "#   SUM(wft.store_weekly_sales) AS weekly_sales,\n",
    "#   SUM(wft.store_weekly_sales) / COUNT(wft.store_id) AS avg_sales_per_store\n",
    "# FROM \n",
    "#   walmart_fact_table wft\n",
    "# JOIN\n",
    "#   walmart_store_dim wsd\n",
    "# ON\n",
    "#   wft.store_id = wsd.store_id\n",
    "# GROUP BY 1\n",
    "# ORDER BY 1\n",
    "# \"\"\"\n",
    "\n",
    "# In an attempt to match the area chart included in the project documentation,\n",
    "# the SQL below was used.\n",
    "sql_sales_by_store_type = \"\"\"\n",
    "SELECT \n",
    "    wsd.store_type,\n",
    "    SUM(wft.store_weekly_sales) AS total_sales\n",
    "FROM \n",
    "    WALMART_DB.SILVER.walmart_fact_table wft\n",
    "JOIN\n",
    "    WALMART_DB.SILVER.walmart_store_dim wsd\n",
    "ON\n",
    "    wft.store_id = wsd.store_id\n",
    "WHERE \n",
    "    wsd.store_size IS NOT NULL\n",
    "GROUP BY 1\n",
    "\"\"\"\n",
    "\n",
    "# The following SQL is for the grouped horizontal bar chart.\n",
    "\n",
    "sql_sales_by_store_type_and_store_id = \"\"\"\n",
    "SELECT\n",
    "    wft.store_id,\n",
    "    wsd.store_type,\n",
    "    SUM(wft.store_weekly_sales) AS total_sales\n",
    "FROM\n",
    "    WALMART_DB.SILVER.walmart_fact_table wft\n",
    "JOIN\n",
    "    WALMART_DB.SILVER.walmart_store_dim wsd\n",
    "ON\n",
    "    wft.store_id = wsd.store_id\n",
    "GROUP BY\n",
    "    1,2\n",
    "ORDER BY\n",
    "    2,3 DESC\n",
    "\"\"\"\n",
    "\n",
    "# Run query using Snowflake connector\n",
    "cur = conn.cursor()\n",
    "cur.execute(sql_sales_by_store_type)\n",
    "\n",
    "# Load results into DataFrame\n",
    "columns = [col[0] for col in cur.description]\n",
    "data = cur.fetchall()\n",
    "df = pd.DataFrame(data, columns=columns)\n",
    "\n",
    "# Force column names to lowercase so Snowflake will match the model table\n",
    "df.columns = [col.lower() for col in df.columns]\n",
    "\n",
    "# print(df.columns)\n",
    "\n",
    "# Convert the store size to a string \n",
    "# plotly create a more managable range for the y-axis\n",
    "# df['store_size'] = df['store_size'].astype(str)\n"
   ]
  },
  {
   "cell_type": "code",
   "execution_count": 108,
   "id": "d1b571f4-b506-4038-8115-f253e4a0c5af",
   "metadata": {},
   "outputs": [
    {
     "name": "stdout",
     "output_type": "stream",
     "text": [
      "  store_type   total_sales\n",
      "0          A  3.337809e+11\n",
      "1          B  1.521098e+11\n",
      "2          C  2.523125e+10\n"
     ]
    },
    {
     "data": {
      "application/vnd.plotly.v1+json": {
       "config": {
        "plotlyServerURL": "https://plot.ly"
       },
       "data": [
        {
         "domain": {
          "x": [
           0,
           1
          ],
          "y": [
           0,
           1
          ]
         },
         "hovertemplate": "%{label}: $%{value:,.2f}",
         "labels": [
          "A",
          "B",
          "C"
         ],
         "legendgroup": "",
         "name": "",
         "showlegend": true,
         "textinfo": "label+percent",
         "type": "pie",
         "values": {
          "bdata": "4arcQbltU0LsUQL5ObVBQoXrMhWZfxdC",
          "dtype": "f8"
         }
        }
       ],
       "layout": {
        "legend": {
         "tracegroupgap": 0
        },
        "template": {
         "data": {
          "bar": [
           {
            "error_x": {
             "color": "#2a3f5f"
            },
            "error_y": {
             "color": "#2a3f5f"
            },
            "marker": {
             "line": {
              "color": "#E5ECF6",
              "width": 0.5
             },
             "pattern": {
              "fillmode": "overlay",
              "size": 10,
              "solidity": 0.2
             }
            },
            "type": "bar"
           }
          ],
          "barpolar": [
           {
            "marker": {
             "line": {
              "color": "#E5ECF6",
              "width": 0.5
             },
             "pattern": {
              "fillmode": "overlay",
              "size": 10,
              "solidity": 0.2
             }
            },
            "type": "barpolar"
           }
          ],
          "carpet": [
           {
            "aaxis": {
             "endlinecolor": "#2a3f5f",
             "gridcolor": "white",
             "linecolor": "white",
             "minorgridcolor": "white",
             "startlinecolor": "#2a3f5f"
            },
            "baxis": {
             "endlinecolor": "#2a3f5f",
             "gridcolor": "white",
             "linecolor": "white",
             "minorgridcolor": "white",
             "startlinecolor": "#2a3f5f"
            },
            "type": "carpet"
           }
          ],
          "choropleth": [
           {
            "colorbar": {
             "outlinewidth": 0,
             "ticks": ""
            },
            "type": "choropleth"
           }
          ],
          "contour": [
           {
            "colorbar": {
             "outlinewidth": 0,
             "ticks": ""
            },
            "colorscale": [
             [
              0,
              "#0d0887"
             ],
             [
              0.1111111111111111,
              "#46039f"
             ],
             [
              0.2222222222222222,
              "#7201a8"
             ],
             [
              0.3333333333333333,
              "#9c179e"
             ],
             [
              0.4444444444444444,
              "#bd3786"
             ],
             [
              0.5555555555555556,
              "#d8576b"
             ],
             [
              0.6666666666666666,
              "#ed7953"
             ],
             [
              0.7777777777777778,
              "#fb9f3a"
             ],
             [
              0.8888888888888888,
              "#fdca26"
             ],
             [
              1,
              "#f0f921"
             ]
            ],
            "type": "contour"
           }
          ],
          "contourcarpet": [
           {
            "colorbar": {
             "outlinewidth": 0,
             "ticks": ""
            },
            "type": "contourcarpet"
           }
          ],
          "heatmap": [
           {
            "colorbar": {
             "outlinewidth": 0,
             "ticks": ""
            },
            "colorscale": [
             [
              0,
              "#0d0887"
             ],
             [
              0.1111111111111111,
              "#46039f"
             ],
             [
              0.2222222222222222,
              "#7201a8"
             ],
             [
              0.3333333333333333,
              "#9c179e"
             ],
             [
              0.4444444444444444,
              "#bd3786"
             ],
             [
              0.5555555555555556,
              "#d8576b"
             ],
             [
              0.6666666666666666,
              "#ed7953"
             ],
             [
              0.7777777777777778,
              "#fb9f3a"
             ],
             [
              0.8888888888888888,
              "#fdca26"
             ],
             [
              1,
              "#f0f921"
             ]
            ],
            "type": "heatmap"
           }
          ],
          "histogram": [
           {
            "marker": {
             "pattern": {
              "fillmode": "overlay",
              "size": 10,
              "solidity": 0.2
             }
            },
            "type": "histogram"
           }
          ],
          "histogram2d": [
           {
            "colorbar": {
             "outlinewidth": 0,
             "ticks": ""
            },
            "colorscale": [
             [
              0,
              "#0d0887"
             ],
             [
              0.1111111111111111,
              "#46039f"
             ],
             [
              0.2222222222222222,
              "#7201a8"
             ],
             [
              0.3333333333333333,
              "#9c179e"
             ],
             [
              0.4444444444444444,
              "#bd3786"
             ],
             [
              0.5555555555555556,
              "#d8576b"
             ],
             [
              0.6666666666666666,
              "#ed7953"
             ],
             [
              0.7777777777777778,
              "#fb9f3a"
             ],
             [
              0.8888888888888888,
              "#fdca26"
             ],
             [
              1,
              "#f0f921"
             ]
            ],
            "type": "histogram2d"
           }
          ],
          "histogram2dcontour": [
           {
            "colorbar": {
             "outlinewidth": 0,
             "ticks": ""
            },
            "colorscale": [
             [
              0,
              "#0d0887"
             ],
             [
              0.1111111111111111,
              "#46039f"
             ],
             [
              0.2222222222222222,
              "#7201a8"
             ],
             [
              0.3333333333333333,
              "#9c179e"
             ],
             [
              0.4444444444444444,
              "#bd3786"
             ],
             [
              0.5555555555555556,
              "#d8576b"
             ],
             [
              0.6666666666666666,
              "#ed7953"
             ],
             [
              0.7777777777777778,
              "#fb9f3a"
             ],
             [
              0.8888888888888888,
              "#fdca26"
             ],
             [
              1,
              "#f0f921"
             ]
            ],
            "type": "histogram2dcontour"
           }
          ],
          "mesh3d": [
           {
            "colorbar": {
             "outlinewidth": 0,
             "ticks": ""
            },
            "type": "mesh3d"
           }
          ],
          "parcoords": [
           {
            "line": {
             "colorbar": {
              "outlinewidth": 0,
              "ticks": ""
             }
            },
            "type": "parcoords"
           }
          ],
          "pie": [
           {
            "automargin": true,
            "type": "pie"
           }
          ],
          "scatter": [
           {
            "fillpattern": {
             "fillmode": "overlay",
             "size": 10,
             "solidity": 0.2
            },
            "type": "scatter"
           }
          ],
          "scatter3d": [
           {
            "line": {
             "colorbar": {
              "outlinewidth": 0,
              "ticks": ""
             }
            },
            "marker": {
             "colorbar": {
              "outlinewidth": 0,
              "ticks": ""
             }
            },
            "type": "scatter3d"
           }
          ],
          "scattercarpet": [
           {
            "marker": {
             "colorbar": {
              "outlinewidth": 0,
              "ticks": ""
             }
            },
            "type": "scattercarpet"
           }
          ],
          "scattergeo": [
           {
            "marker": {
             "colorbar": {
              "outlinewidth": 0,
              "ticks": ""
             }
            },
            "type": "scattergeo"
           }
          ],
          "scattergl": [
           {
            "marker": {
             "colorbar": {
              "outlinewidth": 0,
              "ticks": ""
             }
            },
            "type": "scattergl"
           }
          ],
          "scattermap": [
           {
            "marker": {
             "colorbar": {
              "outlinewidth": 0,
              "ticks": ""
             }
            },
            "type": "scattermap"
           }
          ],
          "scattermapbox": [
           {
            "marker": {
             "colorbar": {
              "outlinewidth": 0,
              "ticks": ""
             }
            },
            "type": "scattermapbox"
           }
          ],
          "scatterpolar": [
           {
            "marker": {
             "colorbar": {
              "outlinewidth": 0,
              "ticks": ""
             }
            },
            "type": "scatterpolar"
           }
          ],
          "scatterpolargl": [
           {
            "marker": {
             "colorbar": {
              "outlinewidth": 0,
              "ticks": ""
             }
            },
            "type": "scatterpolargl"
           }
          ],
          "scatterternary": [
           {
            "marker": {
             "colorbar": {
              "outlinewidth": 0,
              "ticks": ""
             }
            },
            "type": "scatterternary"
           }
          ],
          "surface": [
           {
            "colorbar": {
             "outlinewidth": 0,
             "ticks": ""
            },
            "colorscale": [
             [
              0,
              "#0d0887"
             ],
             [
              0.1111111111111111,
              "#46039f"
             ],
             [
              0.2222222222222222,
              "#7201a8"
             ],
             [
              0.3333333333333333,
              "#9c179e"
             ],
             [
              0.4444444444444444,
              "#bd3786"
             ],
             [
              0.5555555555555556,
              "#d8576b"
             ],
             [
              0.6666666666666666,
              "#ed7953"
             ],
             [
              0.7777777777777778,
              "#fb9f3a"
             ],
             [
              0.8888888888888888,
              "#fdca26"
             ],
             [
              1,
              "#f0f921"
             ]
            ],
            "type": "surface"
           }
          ],
          "table": [
           {
            "cells": {
             "fill": {
              "color": "#EBF0F8"
             },
             "line": {
              "color": "white"
             }
            },
            "header": {
             "fill": {
              "color": "#C8D4E3"
             },
             "line": {
              "color": "white"
             }
            },
            "type": "table"
           }
          ]
         },
         "layout": {
          "annotationdefaults": {
           "arrowcolor": "#2a3f5f",
           "arrowhead": 0,
           "arrowwidth": 1
          },
          "autotypenumbers": "strict",
          "coloraxis": {
           "colorbar": {
            "outlinewidth": 0,
            "ticks": ""
           }
          },
          "colorscale": {
           "diverging": [
            [
             0,
             "#8e0152"
            ],
            [
             0.1,
             "#c51b7d"
            ],
            [
             0.2,
             "#de77ae"
            ],
            [
             0.3,
             "#f1b6da"
            ],
            [
             0.4,
             "#fde0ef"
            ],
            [
             0.5,
             "#f7f7f7"
            ],
            [
             0.6,
             "#e6f5d0"
            ],
            [
             0.7,
             "#b8e186"
            ],
            [
             0.8,
             "#7fbc41"
            ],
            [
             0.9,
             "#4d9221"
            ],
            [
             1,
             "#276419"
            ]
           ],
           "sequential": [
            [
             0,
             "#0d0887"
            ],
            [
             0.1111111111111111,
             "#46039f"
            ],
            [
             0.2222222222222222,
             "#7201a8"
            ],
            [
             0.3333333333333333,
             "#9c179e"
            ],
            [
             0.4444444444444444,
             "#bd3786"
            ],
            [
             0.5555555555555556,
             "#d8576b"
            ],
            [
             0.6666666666666666,
             "#ed7953"
            ],
            [
             0.7777777777777778,
             "#fb9f3a"
            ],
            [
             0.8888888888888888,
             "#fdca26"
            ],
            [
             1,
             "#f0f921"
            ]
           ],
           "sequentialminus": [
            [
             0,
             "#0d0887"
            ],
            [
             0.1111111111111111,
             "#46039f"
            ],
            [
             0.2222222222222222,
             "#7201a8"
            ],
            [
             0.3333333333333333,
             "#9c179e"
            ],
            [
             0.4444444444444444,
             "#bd3786"
            ],
            [
             0.5555555555555556,
             "#d8576b"
            ],
            [
             0.6666666666666666,
             "#ed7953"
            ],
            [
             0.7777777777777778,
             "#fb9f3a"
            ],
            [
             0.8888888888888888,
             "#fdca26"
            ],
            [
             1,
             "#f0f921"
            ]
           ]
          },
          "colorway": [
           "#636efa",
           "#EF553B",
           "#00cc96",
           "#ab63fa",
           "#FFA15A",
           "#19d3f3",
           "#FF6692",
           "#B6E880",
           "#FF97FF",
           "#FECB52"
          ],
          "font": {
           "color": "#2a3f5f"
          },
          "geo": {
           "bgcolor": "white",
           "lakecolor": "white",
           "landcolor": "#E5ECF6",
           "showlakes": true,
           "showland": true,
           "subunitcolor": "white"
          },
          "hoverlabel": {
           "align": "left"
          },
          "hovermode": "closest",
          "mapbox": {
           "style": "light"
          },
          "paper_bgcolor": "white",
          "plot_bgcolor": "#E5ECF6",
          "polar": {
           "angularaxis": {
            "gridcolor": "white",
            "linecolor": "white",
            "ticks": ""
           },
           "bgcolor": "#E5ECF6",
           "radialaxis": {
            "gridcolor": "white",
            "linecolor": "white",
            "ticks": ""
           }
          },
          "scene": {
           "xaxis": {
            "backgroundcolor": "#E5ECF6",
            "gridcolor": "white",
            "gridwidth": 2,
            "linecolor": "white",
            "showbackground": true,
            "ticks": "",
            "zerolinecolor": "white"
           },
           "yaxis": {
            "backgroundcolor": "#E5ECF6",
            "gridcolor": "white",
            "gridwidth": 2,
            "linecolor": "white",
            "showbackground": true,
            "ticks": "",
            "zerolinecolor": "white"
           },
           "zaxis": {
            "backgroundcolor": "#E5ECF6",
            "gridcolor": "white",
            "gridwidth": 2,
            "linecolor": "white",
            "showbackground": true,
            "ticks": "",
            "zerolinecolor": "white"
           }
          },
          "shapedefaults": {
           "line": {
            "color": "#2a3f5f"
           }
          },
          "ternary": {
           "aaxis": {
            "gridcolor": "white",
            "linecolor": "white",
            "ticks": ""
           },
           "baxis": {
            "gridcolor": "white",
            "linecolor": "white",
            "ticks": ""
           },
           "bgcolor": "#E5ECF6",
           "caxis": {
            "gridcolor": "white",
            "linecolor": "white",
            "ticks": ""
           }
          },
          "title": {
           "x": 0.05
          },
          "xaxis": {
           "automargin": true,
           "gridcolor": "white",
           "linecolor": "white",
           "ticks": "",
           "title": {
            "standoff": 15
           },
           "zerolinecolor": "white",
           "zerolinewidth": 2
          },
          "yaxis": {
           "automargin": true,
           "gridcolor": "white",
           "linecolor": "white",
           "ticks": "",
           "title": {
            "standoff": 15
           },
           "zerolinecolor": "white",
           "zerolinewidth": 2
          }
         }
        },
        "title": {
         "text": "Weekly Sales by Store Type"
        }
       }
      },
      "image/png": "[encoded data removed]"
     },
     "metadata": {},
     "output_type": "display_data"
    }
   ],
   "source": [
    "# THIS PIE CHART IS FOR WEEKLY SALES BY STORE TYPE\n",
    "# Plot using Plotly\n",
    "\n",
    "# # Create some hover text\n",
    "# df['hover_text'] = (\n",
    "#     'Store Type: ' + df['store_type'] +\n",
    "#     '<br>Month: ' + df['month_name'] +\n",
    "#     '<br>Sales: $' + df['weekly_sales'].round(2).map('{:,.2f}'.format)\n",
    "# )\n",
    "\n",
    "fig = px.pie(\n",
    "    df,\n",
    "    names='store_type',\n",
    "    values='total_sales',\n",
    "    title='Weekly Sales by Store Type'\n",
    "    # hole=0.4  # optional - makes it a donut chart\n",
    ")\n",
    "\n",
    "fig.update_traces(textinfo=\"label+percent\", hovertemplate=\"%{label}: $%{value:,.2f}\")\n",
    "\n",
    "fig.show()"
   ]
  },
  {
   "cell_type": "code",
   "execution_count": 9,
   "id": "a1324cd8-8764-4e4e-a2fc-7dd3ea381a9a",
   "metadata": {},
   "outputs": [
    {
     "name": "stdout",
     "output_type": "stream",
     "text": [
      "$1,234,567.89\n"
     ]
    }
   ],
   "source": [
    "print(f\"${1234567.8912:,.2f}\")"
   ]
  },
  {
   "cell_type": "code",
   "execution_count": 26,
   "id": "40853e40-55db-4aab-8bc1-c8f9e47ca93f",
   "metadata": {},
   "outputs": [
    {
     "name": "stdout",
     "output_type": "stream",
     "text": [
      "['C', 'B', 'A']\n"
     ]
    }
   ],
   "source": [
    "s = ['A', 'B', 'C']\n",
    "print (s[::-1])"
   ]
  },
  {
   "cell_type": "code",
   "execution_count": 85,
   "id": "f88f693f-a980-460b-a057-ef46fc83b17f",
   "metadata": {},
   "outputs": [
    {
     "name": "stderr",
     "output_type": "stream",
     "text": [
      "/var/folders/90/m9dcfcxn38j0ypf7wjqn_bf80000gp/T/ipykernel_67776/597954381.py:5: UserWarning:\n",
      "\n",
      "pandas only supports SQLAlchemy connectable (engine/connection) or database string URI or sqlite3 DBAPI2 connection. Other DBAPI2 objects are not tested. Please consider using SQLAlchemy.\n",
      "\n"
     ]
    },
    {
     "name": "stdout",
     "output_type": "stream",
     "text": [
      "['C' 'B' 'A']\n"
     ]
    },
    {
     "data": {
      "application/vnd.plotly.v1+json": {
       "config": {
        "plotlyServerURL": "https://plot.ly"
       },
       "data": [
        {
         "legendrank": 3,
         "name": "Type C",
         "orientation": "h",
         "text": [
          "$2,684,171,446.08",
          "$5,524,491,560.01",
          "$4,933,076,650.66",
          "$3,475,056,464.46",
          "$4,600,569,899.84",
          "$4,013,880,647.68"
         ],
         "textposition": "auto",
         "type": "bar",
         "x": {
          "bdata": "XI/Clqb/40H2KIDSkJT0QVyPqmqMYPJBUrgO6iTk6UGkcL0CciPxQY/C9aje5+1B",
          "dtype": "f8"
         },
         "y": [
          "C-44",
          "C-43",
          "C-42",
          "C-38",
          "C-37",
          "C-30"
         ]
        },
        {
         "legendrank": 2,
         "name": "Type B",
         "orientation": "h",
         "text": [
          "$8,317,255,265.08",
          "$9,732,529,733.92",
          "$5,939,899,681.87",
          "$7,781,710,796.09",
          "$15,303,797,574.45",
          "$11,177,749,291.32",
          "$8,325,076,676.84",
          "$12,098,949,268.38",
          "$9,711,442,551.08",
          "$5,643,184,330.40",
          "$7,041,561,029.68",
          "$10,821,542,261.25",
          "$20,914,563,969.53",
          "$5,678,612,986.27",
          "$6,201,468,910.64",
          "$3,274,249,600.80",
          "$4,146,244,925.04"
         ],
         "textposition": "auto",
         "type": "bar",
         "x": {
          "bdata": "rkcR5vP7/kEpXC/y1CACQoXrHdK6IPZBpHDBvDf9/EGamTNaa4EMQlyPWln30QRCpHBNbGkD/0E9CqOEOokGQtejuNPGFgJCZmamjMIF9UFI4VocWzv6QQAAqgsdKARCuB4Grmt6E0LsUaQfjCf1QXE96n4uGvdBmpkZsCJl6EGuR6GnVeTuQQ==",
          "dtype": "f8"
         },
         "y": [
          "B-45",
          "B-35",
          "B-29",
          "B-25",
          "B-23",
          "B-22",
          "B-21",
          "B-18",
          "B-17",
          "B-16",
          "B-15",
          "B-12",
          "B-10",
          "B-9",
          "B-7",
          "B-5",
          "B-3"
         ]
        },
        {
         "legendrank": 1,
         "name": "Type A",
         "orientation": "h",
         "text": [
          "$13,963,328,986.53",
          "$10,616,013,853.83",
          "$15,558,415,685.25",
          "$3,364,969,543.11",
          "$10,783,481,514.00",
          "$2,341,093,983.48",
          "$12,845,081,954.32",
          "$15,170,656,818.00",
          "$14,573,303,404.66",
          "$19,800,761,516.64",
          "$10,899,645,928.04",
          "$14,939,233,638.56",
          "$23,509,027,811.88",
          "$16,324,154,105.90",
          "$22,252,993,173.18",
          "$22,634,898,600.20",
          "$15,129,097,370.40",
          "$9,876,289,765.88",
          "$17,229,222,059.28",
          "$23,364,428,363.64",
          "$21,479,830,396.44",
          "$17,125,016,281.45"
         ],
         "textposition": "auto",
         "type": "bar",
         "x": {
          "bdata": "cT3U7jsCCkLXo+4gHMYDQgAAKqrU+gxCH4XjiCsS6UEAAFD19hUEQilc70tIceFBXI8SKwPtB0IAAJDR7kEMQq5HZbMXJQtCXI+ykt5wEkLsUUAvW00EQuF6NOuU0wtCH4WPL/3kFUIzM8+X9mcOQlK4VOqGuRRCzcygkpQUFUIzM9OkHS4MQj0KL8dhZQJCuB6tQsQLEEJcjy6Jg8IVQo/C8c0wARRCmpnLFtjlD0I=",
          "dtype": "f8"
         },
         "y": [
          "A-41",
          "A-40",
          "A-39",
          "A-36",
          "A-34",
          "A-33",
          "A-32",
          "A-31",
          "A-28",
          "A-27",
          "A-26",
          "A-24",
          "A-20",
          "A-19",
          "A-14",
          "A-13",
          "A-11",
          "A-8",
          "A-6",
          "A-4",
          "A-2",
          "A-1"
         ]
        }
       ],
       "layout": {
        "barmode": "group",
        "height": 900,
        "template": {
         "data": {
          "bar": [
           {
            "error_x": {
             "color": "#2a3f5f"
            },
            "error_y": {
             "color": "#2a3f5f"
            },
            "marker": {
             "line": {
              "color": "#E5ECF6",
              "width": 0.5
             },
             "pattern": {
              "fillmode": "overlay",
              "size": 10,
              "solidity": 0.2
             }
            },
            "type": "bar"
           }
          ],
          "barpolar": [
           {
            "marker": {
             "line": {
              "color": "#E5ECF6",
              "width": 0.5
             },
             "pattern": {
              "fillmode": "overlay",
              "size": 10,
              "solidity": 0.2
             }
            },
            "type": "barpolar"
           }
          ],
          "carpet": [
           {
            "aaxis": {
             "endlinecolor": "#2a3f5f",
             "gridcolor": "white",
             "linecolor": "white",
             "minorgridcolor": "white",
             "startlinecolor": "#2a3f5f"
            },
            "baxis": {
             "endlinecolor": "#2a3f5f",
             "gridcolor": "white",
             "linecolor": "white",
             "minorgridcolor": "white",
             "startlinecolor": "#2a3f5f"
            },
            "type": "carpet"
           }
          ],
          "choropleth": [
           {
            "colorbar": {
             "outlinewidth": 0,
             "ticks": ""
            },
            "type": "choropleth"
           }
          ],
          "contour": [
           {
            "colorbar": {
             "outlinewidth": 0,
             "ticks": ""
            },
            "colorscale": [
             [
              0,
              "#0d0887"
             ],
             [
              0.1111111111111111,
              "#46039f"
             ],
             [
              0.2222222222222222,
              "#7201a8"
             ],
             [
              0.3333333333333333,
              "#9c179e"
             ],
             [
              0.4444444444444444,
              "#bd3786"
             ],
             [
              0.5555555555555556,
              "#d8576b"
             ],
             [
              0.6666666666666666,
              "#ed7953"
             ],
             [
              0.7777777777777778,
              "#fb9f3a"
             ],
             [
              0.8888888888888888,
              "#fdca26"
             ],
             [
              1,
              "#f0f921"
             ]
            ],
            "type": "contour"
           }
          ],
          "contourcarpet": [
           {
            "colorbar": {
             "outlinewidth": 0,
             "ticks": ""
            },
            "type": "contourcarpet"
           }
          ],
          "heatmap": [
           {
            "colorbar": {
             "outlinewidth": 0,
             "ticks": ""
            },
            "colorscale": [
             [
              0,
              "#0d0887"
             ],
             [
              0.1111111111111111,
              "#46039f"
             ],
             [
              0.2222222222222222,
              "#7201a8"
             ],
             [
              0.3333333333333333,
              "#9c179e"
             ],
             [
              0.4444444444444444,
              "#bd3786"
             ],
             [
              0.5555555555555556,
              "#d8576b"
             ],
             [
              0.6666666666666666,
              "#ed7953"
             ],
             [
              0.7777777777777778,
              "#fb9f3a"
             ],
             [
              0.8888888888888888,
              "#fdca26"
             ],
             [
              1,
              "#f0f921"
             ]
            ],
            "type": "heatmap"
           }
          ],
          "histogram": [
           {
            "marker": {
             "pattern": {
              "fillmode": "overlay",
              "size": 10,
              "solidity": 0.2
             }
            },
            "type": "histogram"
           }
          ],
          "histogram2d": [
           {
            "colorbar": {
             "outlinewidth": 0,
             "ticks": ""
            },
            "colorscale": [
             [
              0,
              "#0d0887"
             ],
             [
              0.1111111111111111,
              "#46039f"
             ],
             [
              0.2222222222222222,
              "#7201a8"
             ],
             [
              0.3333333333333333,
              "#9c179e"
             ],
             [
              0.4444444444444444,
              "#bd3786"
             ],
             [
              0.5555555555555556,
              "#d8576b"
             ],
             [
              0.6666666666666666,
              "#ed7953"
             ],
             [
              0.7777777777777778,
              "#fb9f3a"
             ],
             [
              0.8888888888888888,
              "#fdca26"
             ],
             [
              1,
              "#f0f921"
             ]
            ],
            "type": "histogram2d"
           }
          ],
          "histogram2dcontour": [
           {
            "colorbar": {
             "outlinewidth": 0,
             "ticks": ""
            },
            "colorscale": [
             [
              0,
              "#0d0887"
             ],
             [
              0.1111111111111111,
              "#46039f"
             ],
             [
              0.2222222222222222,
              "#7201a8"
             ],
             [
              0.3333333333333333,
              "#9c179e"
             ],
             [
              0.4444444444444444,
              "#bd3786"
             ],
             [
              0.5555555555555556,
              "#d8576b"
             ],
             [
              0.6666666666666666,
              "#ed7953"
             ],
             [
              0.7777777777777778,
              "#fb9f3a"
             ],
             [
              0.8888888888888888,
              "#fdca26"
             ],
             [
              1,
              "#f0f921"
             ]
            ],
            "type": "histogram2dcontour"
           }
          ],
          "mesh3d": [
           {
            "colorbar": {
             "outlinewidth": 0,
             "ticks": ""
            },
            "type": "mesh3d"
           }
          ],
          "parcoords": [
           {
            "line": {
             "colorbar": {
              "outlinewidth": 0,
              "ticks": ""
             }
            },
            "type": "parcoords"
           }
          ],
          "pie": [
           {
            "automargin": true,
            "type": "pie"
           }
          ],
          "scatter": [
           {
            "fillpattern": {
             "fillmode": "overlay",
             "size": 10,
             "solidity": 0.2
            },
            "type": "scatter"
           }
          ],
          "scatter3d": [
           {
            "line": {
             "colorbar": {
              "outlinewidth": 0,
              "ticks": ""
             }
            },
            "marker": {
             "colorbar": {
              "outlinewidth": 0,
              "ticks": ""
             }
            },
            "type": "scatter3d"
           }
          ],
          "scattercarpet": [
           {
            "marker": {
             "colorbar": {
              "outlinewidth": 0,
              "ticks": ""
             }
            },
            "type": "scattercarpet"
           }
          ],
          "scattergeo": [
           {
            "marker": {
             "colorbar": {
              "outlinewidth": 0,
              "ticks": ""
             }
            },
            "type": "scattergeo"
           }
          ],
          "scattergl": [
           {
            "marker": {
             "colorbar": {
              "outlinewidth": 0,
              "ticks": ""
             }
            },
            "type": "scattergl"
           }
          ],
          "scattermap": [
           {
            "marker": {
             "colorbar": {
              "outlinewidth": 0,
              "ticks": ""
             }
            },
            "type": "scattermap"
           }
          ],
          "scattermapbox": [
           {
            "marker": {
             "colorbar": {
              "outlinewidth": 0,
              "ticks": ""
             }
            },
            "type": "scattermapbox"
           }
          ],
          "scatterpolar": [
           {
            "marker": {
             "colorbar": {
              "outlinewidth": 0,
              "ticks": ""
             }
            },
            "type": "scatterpolar"
           }
          ],
          "scatterpolargl": [
           {
            "marker": {
             "colorbar": {
              "outlinewidth": 0,
              "ticks": ""
             }
            },
            "type": "scatterpolargl"
           }
          ],
          "scatterternary": [
           {
            "marker": {
             "colorbar": {
              "outlinewidth": 0,
              "ticks": ""
             }
            },
            "type": "scatterternary"
           }
          ],
          "surface": [
           {
            "colorbar": {
             "outlinewidth": 0,
             "ticks": ""
            },
            "colorscale": [
             [
              0,
              "#0d0887"
             ],
             [
              0.1111111111111111,
              "#46039f"
             ],
             [
              0.2222222222222222,
              "#7201a8"
             ],
             [
              0.3333333333333333,
              "#9c179e"
             ],
             [
              0.4444444444444444,
              "#bd3786"
             ],
             [
              0.5555555555555556,
              "#d8576b"
             ],
             [
              0.6666666666666666,
              "#ed7953"
             ],
             [
              0.7777777777777778,
              "#fb9f3a"
             ],
             [
              0.8888888888888888,
              "#fdca26"
             ],
             [
              1,
              "#f0f921"
             ]
            ],
            "type": "surface"
           }
          ],
          "table": [
           {
            "cells": {
             "fill": {
              "color": "#EBF0F8"
             },
             "line": {
              "color": "white"
             }
            },
            "header": {
             "fill": {
              "color": "#C8D4E3"
             },
             "line": {
              "color": "white"
             }
            },
            "type": "table"
           }
          ]
         },
         "layout": {
          "annotationdefaults": {
           "arrowcolor": "#2a3f5f",
           "arrowhead": 0,
           "arrowwidth": 1
          },
          "autotypenumbers": "strict",
          "coloraxis": {
           "colorbar": {
            "outlinewidth": 0,
            "ticks": ""
           }
          },
          "colorscale": {
           "diverging": [
            [
             0,
             "#8e0152"
            ],
            [
             0.1,
             "#c51b7d"
            ],
            [
             0.2,
             "#de77ae"
            ],
            [
             0.3,
             "#f1b6da"
            ],
            [
             0.4,
             "#fde0ef"
            ],
            [
             0.5,
             "#f7f7f7"
            ],
            [
             0.6,
             "#e6f5d0"
            ],
            [
             0.7,
             "#b8e186"
            ],
            [
             0.8,
             "#7fbc41"
            ],
            [
             0.9,
             "#4d9221"
            ],
            [
             1,
             "#276419"
            ]
           ],
           "sequential": [
            [
             0,
             "#0d0887"
            ],
            [
             0.1111111111111111,
             "#46039f"
            ],
            [
             0.2222222222222222,
             "#7201a8"
            ],
            [
             0.3333333333333333,
             "#9c179e"
            ],
            [
             0.4444444444444444,
             "#bd3786"
            ],
            [
             0.5555555555555556,
             "#d8576b"
            ],
            [
             0.6666666666666666,
             "#ed7953"
            ],
            [
             0.7777777777777778,
             "#fb9f3a"
            ],
            [
             0.8888888888888888,
             "#fdca26"
            ],
            [
             1,
             "#f0f921"
            ]
           ],
           "sequentialminus": [
            [
             0,
             "#0d0887"
            ],
            [
             0.1111111111111111,
             "#46039f"
            ],
            [
             0.2222222222222222,
             "#7201a8"
            ],
            [
             0.3333333333333333,
             "#9c179e"
            ],
            [
             0.4444444444444444,
             "#bd3786"
            ],
            [
             0.5555555555555556,
             "#d8576b"
            ],
            [
             0.6666666666666666,
             "#ed7953"
            ],
            [
             0.7777777777777778,
             "#fb9f3a"
            ],
            [
             0.8888888888888888,
             "#fdca26"
            ],
            [
             1,
             "#f0f921"
            ]
           ]
          },
          "colorway": [
           "#636efa",
           "#EF553B",
           "#00cc96",
           "#ab63fa",
           "#FFA15A",
           "#19d3f3",
           "#FF6692",
           "#B6E880",
           "#FF97FF",
           "#FECB52"
          ],
          "font": {
           "color": "#2a3f5f"
          },
          "geo": {
           "bgcolor": "white",
           "lakecolor": "white",
           "landcolor": "#E5ECF6",
           "showlakes": true,
           "showland": true,
           "subunitcolor": "white"
          },
          "hoverlabel": {
           "align": "left"
          },
          "hovermode": "closest",
          "mapbox": {
           "style": "light"
          },
          "paper_bgcolor": "white",
          "plot_bgcolor": "#E5ECF6",
          "polar": {
           "angularaxis": {
            "gridcolor": "white",
            "linecolor": "white",
            "ticks": ""
           },
           "bgcolor": "#E5ECF6",
           "radialaxis": {
            "gridcolor": "white",
            "linecolor": "white",
            "ticks": ""
           }
          },
          "scene": {
           "xaxis": {
            "backgroundcolor": "#E5ECF6",
            "gridcolor": "white",
            "gridwidth": 2,
            "linecolor": "white",
            "showbackground": true,
            "ticks": "",
            "zerolinecolor": "white"
           },
           "yaxis": {
            "backgroundcolor": "#E5ECF6",
            "gridcolor": "white",
            "gridwidth": 2,
            "linecolor": "white",
            "showbackground": true,
            "ticks": "",
            "zerolinecolor": "white"
           },
           "zaxis": {
            "backgroundcolor": "#E5ECF6",
            "gridcolor": "white",
            "gridwidth": 2,
            "linecolor": "white",
            "showbackground": true,
            "ticks": "",
            "zerolinecolor": "white"
           }
          },
          "shapedefaults": {
           "line": {
            "color": "#2a3f5f"
           }
          },
          "ternary": {
           "aaxis": {
            "gridcolor": "white",
            "linecolor": "white",
            "ticks": ""
           },
           "baxis": {
            "gridcolor": "white",
            "linecolor": "white",
            "ticks": ""
           },
           "bgcolor": "#E5ECF6",
           "caxis": {
            "gridcolor": "white",
            "linecolor": "white",
            "ticks": ""
           }
          },
          "title": {
           "x": 0.05
          },
          "xaxis": {
           "automargin": true,
           "gridcolor": "white",
           "linecolor": "white",
           "ticks": "",
           "title": {
            "standoff": 15
           },
           "zerolinecolor": "white",
           "zerolinewidth": 2
          },
          "yaxis": {
           "automargin": true,
           "gridcolor": "white",
           "linecolor": "white",
           "ticks": "",
           "title": {
            "standoff": 15
           },
           "zerolinecolor": "white",
           "zerolinewidth": 2
          }
         }
        },
        "title": {
         "text": "Weekly Sales by Type and Store",
         "x": 0.5
        },
        "xaxis": {
         "title": {
          "text": "Weekly Sales (USD)"
         }
        },
        "yaxis": {
         "title": {
          "text": "Store Type and ID"
         }
        }
       }
      },
      "image/png": "[encoded data removed]"
     },
     "metadata": {},
     "output_type": "display_data"
    }
   ],
   "source": [
    "# THIS IS THE UPDATED GROUPED BAR CHART USING go.Figure() TO IMPOSE ADDITIONAL\n",
    "# CONTROL ON THE CHART.\n",
    "\n",
    "# Read the data\n",
    "df_salesbystore = pd.read_sql(sql_sales_by_store_type_and_store_id, conn)\n",
    "\n",
    "# Force column names to lowercase so Snowflake will match the model table\n",
    "df_salesbystore.columns = [col.lower() for col in df_salesbystore.columns]\n",
    "\n",
    "# Sort your DataFrame by store_type for consistent grouping\n",
    "df_salesbystore = df_salesbystore.sort_values(by=['store_type', 'store_id'], ascending=[True, False])\n",
    "\n",
    "# Create figure container\n",
    "fig = go.Figure()\n",
    "\n",
    "# Loop through each store type and add bars for its store_ids\n",
    "store_types = df_salesbystore['store_type'].unique()\n",
    "\n",
    "# Reverse the list of store_types to show A-B-C top-down on the chart\n",
    "store_types = store_types[::-1]\n",
    "\n",
    "print(store_types)\n",
    "\n",
    "for store_type in store_types:\n",
    "    df_sub = df_salesbystore[df_salesbystore['store_type'] == store_type]\n",
    "    # Each go.Bar() trace = one group of bars for a given store type (A, B, C)\n",
    "    fig.add_trace(go.Bar(\n",
    "        x=df_sub['total_sales'],\n",
    "        y=[f\"{store_type}-{sid}\" for sid in df_sub['store_id']],\n",
    "        name=f\"Type {store_type}\",\n",
    "        orientation='h',\n",
    "        text=df_sub['total_sales'].map(\"${:,.2f}\".format),\n",
    "        textposition='auto'\n",
    "    ))\n",
    "\n",
    "# We reversed the store_types list to plot the bars as A-B-C from the top of the y-axis\n",
    "# However, that also reversed the legend. Fix that in the update_traces\n",
    "fig.update_traces(\n",
    "    selector=dict(name='Type A'),\n",
    "    legendrank=1\n",
    ")\n",
    "fig.update_traces(\n",
    "    selector=dict(name='Type B'),\n",
    "    legendrank=2\n",
    ")\n",
    "fig.update_traces(\n",
    "    selector=dict(name='Type C'),\n",
    "    legendrank=3\n",
    ")\n",
    "\n",
    "# Update layout\n",
    "fig.update_layout(\n",
    "    title='Weekly Sales by Type and Store',\n",
    "    xaxis_title='Weekly Sales (USD)',\n",
    "    yaxis_title='Store Type and ID',\n",
    "    barmode='group',\n",
    "    title_x=0.5,\n",
    "    height=900\n",
    ")\n",
    "\n",
    "fig.show()\n"
   ]
  },
  {
   "cell_type": "code",
   "execution_count": 107,
   "id": "76f38d29-a280-4474-a301-ea0f876afc89",
   "metadata": {},
   "outputs": [
    {
     "data": {
      "application/vnd.plotly.v1+json": {
       "config": {
        "plotlyServerURL": "https://plot.ly"
       },
       "data": [
        {
         "domain": {
          "x": [
           0,
           0.17600000000000002
          ],
          "y": [
           0,
           1
          ]
         },
         "hovertemplate": "Store Type: ${label]<br>Sales: %{value:$,.2f}<extra></extra>",
         "labels": [
          "A",
          "B",
          "C"
         ],
         "legendrank": 1,
         "textinfo": "label+percent",
         "type": "pie",
         "values": {
          "bdata": "4arcQbltU0LsUQL5ObVBQoXrMhWZfxdC",
          "dtype": "f8"
         }
        },
        {
         "hovertemplate": "Store ID: %{y}<br>Total Sales: %{x:$,.2f}<extra></extra>",
         "legendrank": 6,
         "name": "Type C",
         "orientation": "h",
         "text": [
          "$2,684,171,446.08",
          "$5,524,491,560.01",
          "$4,933,076,650.66",
          "$3,475,056,464.46",
          "$4,600,569,899.84",
          "$4,013,880,647.68"
         ],
         "textposition": "auto",
         "type": "bar",
         "x": {
          "bdata": "XI/Clqb/40H2KIDSkJT0QVyPqmqMYPJBUrgO6iTk6UGkcL0CciPxQY/C9aje5+1B",
          "dtype": "f8"
         },
         "xaxis": "x",
         "y": [
          "C-44",
          "C-43",
          "C-42",
          "C-38",
          "C-37",
          "C-30"
         ],
         "yaxis": "y"
        },
        {
         "hovertemplate": "Store ID: %{y}<br>Total Sales: %{x:$,.2f}<extra></extra>",
         "legendrank": 5,
         "name": "Type B",
         "orientation": "h",
         "text": [
          "$8,317,255,265.08",
          "$9,732,529,733.92",
          "$5,939,899,681.87",
          "$7,781,710,796.09",
          "$15,303,797,574.45",
          "$11,177,749,291.32",
          "$8,325,076,676.84",
          "$12,098,949,268.38",
          "$9,711,442,551.08",
          "$5,643,184,330.40",
          "$7,041,561,029.68",
          "$10,821,542,261.25",
          "$20,914,563,969.53",
          "$5,678,612,986.27",
          "$6,201,468,910.64",
          "$3,274,249,600.80",
          "$4,146,244,925.04"
         ],
         "textposition": "auto",
         "type": "bar",
         "x": {
          "bdata": "rkcR5vP7/kEpXC/y1CACQoXrHdK6IPZBpHDBvDf9/EGamTNaa4EMQlyPWln30QRCpHBNbGkD/0E9CqOEOokGQtejuNPGFgJCZmamjMIF9UFI4VocWzv6QQAAqgsdKARCuB4Grmt6E0LsUaQfjCf1QXE96n4uGvdBmpkZsCJl6EGuR6GnVeTuQQ==",
          "dtype": "f8"
         },
         "xaxis": "x",
         "y": [
          "B-45",
          "B-35",
          "B-29",
          "B-25",
          "B-23",
          "B-22",
          "B-21",
          "B-18",
          "B-17",
          "B-16",
          "B-15",
          "B-12",
          "B-10",
          "B-9",
          "B-7",
          "B-5",
          "B-3"
         ],
         "yaxis": "y"
        },
        {
         "hovertemplate": "Store ID: %{y}<br>Total Sales: %{x:$,.2f}<extra></extra>",
         "legendrank": 4,
         "name": "Type A",
         "orientation": "h",
         "text": [
          "$13,963,328,986.53",
          "$10,616,013,853.83",
          "$15,558,415,685.25",
          "$3,364,969,543.11",
          "$10,783,481,514.00",
          "$2,341,093,983.48",
          "$12,845,081,954.32",
          "$15,170,656,818.00",
          "$14,573,303,404.66",
          "$19,800,761,516.64",
          "$10,899,645,928.04",
          "$14,939,233,638.56",
          "$23,509,027,811.88",
          "$16,324,154,105.90",
          "$22,252,993,173.18",
          "$22,634,898,600.20",
          "$15,129,097,370.40",
          "$9,876,289,765.88",
          "$17,229,222,059.28",
          "$23,364,428,363.64",
          "$21,479,830,396.44",
          "$17,125,016,281.45"
         ],
         "textposition": "auto",
         "type": "bar",
         "x": {
          "bdata": "cT3U7jsCCkLXo+4gHMYDQgAAKqrU+gxCH4XjiCsS6UEAAFD19hUEQilc70tIceFBXI8SKwPtB0IAAJDR7kEMQq5HZbMXJQtCXI+ykt5wEkLsUUAvW00EQuF6NOuU0wtCH4WPL/3kFUIzM8+X9mcOQlK4VOqGuRRCzcygkpQUFUIzM9OkHS4MQj0KL8dhZQJCuB6tQsQLEEJcjy6Jg8IVQo/C8c0wARRCmpnLFtjlD0I=",
          "dtype": "f8"
         },
         "xaxis": "x",
         "y": [
          "A-41",
          "A-40",
          "A-39",
          "A-36",
          "A-34",
          "A-33",
          "A-32",
          "A-31",
          "A-28",
          "A-27",
          "A-26",
          "A-24",
          "A-20",
          "A-19",
          "A-14",
          "A-13",
          "A-11",
          "A-8",
          "A-6",
          "A-4",
          "A-2",
          "A-1"
         ],
         "yaxis": "y"
        },
        {
         "legendrank": 3.5,
         "mode": "none",
         "name": "                   ",
         "showlegend": true,
         "type": "scatter",
         "x": [
          null
         ],
         "xaxis": "x",
         "y": [
          null
         ],
         "yaxis": "y"
        }
       ],
       "layout": {
        "annotations": [
         {
          "font": {
           "color": "black",
           "family": "Helvetica",
           "size": 16
          },
          "showarrow": false,
          "text": "Weekly Sales by Store Type",
          "x": -0.01,
          "xref": "paper",
          "y": 1.08,
          "yref": "paper"
         },
         {
          "font": {
           "color": "black",
           "family": "Helvetica",
           "size": 16
          },
          "showarrow": false,
          "text": "Weekly Sales by Store Type and Store",
          "x": 0.65,
          "xref": "paper",
          "y": 1.08,
          "yref": "paper"
         }
        ],
        "height": 800,
        "legend": {
         "orientation": "h",
         "x": 0.27,
         "xanchor": "center",
         "y": -0.15,
         "yanchor": "bottom"
        },
        "margin": {
         "b": 10,
         "l": 10,
         "r": 10,
         "t": 10
        },
        "shapes": [
         {
          "layer": "below",
          "line": {
           "color": "grey",
           "width": 2
          },
          "type": "line",
          "x0": 0.24,
          "x1": 0.24,
          "xref": "paper",
          "y0": 0,
          "y1": 1,
          "yref": "paper"
         }
        ],
        "showlegend": true,
        "template": {
         "data": {
          "bar": [
           {
            "error_x": {
             "color": "#2a3f5f"
            },
            "error_y": {
             "color": "#2a3f5f"
            },
            "marker": {
             "line": {
              "color": "#E5ECF6",
              "width": 0.5
             },
             "pattern": {
              "fillmode": "overlay",
              "size": 10,
              "solidity": 0.2
             }
            },
            "type": "bar"
           }
          ],
          "barpolar": [
           {
            "marker": {
             "line": {
              "color": "#E5ECF6",
              "width": 0.5
             },
             "pattern": {
              "fillmode": "overlay",
              "size": 10,
              "solidity": 0.2
             }
            },
            "type": "barpolar"
           }
          ],
          "carpet": [
           {
            "aaxis": {
             "endlinecolor": "#2a3f5f",
             "gridcolor": "white",
             "linecolor": "white",
             "minorgridcolor": "white",
             "startlinecolor": "#2a3f5f"
            },
            "baxis": {
             "endlinecolor": "#2a3f5f",
             "gridcolor": "white",
             "linecolor": "white",
             "minorgridcolor": "white",
             "startlinecolor": "#2a3f5f"
            },
            "type": "carpet"
           }
          ],
          "choropleth": [
           {
            "colorbar": {
             "outlinewidth": 0,
             "ticks": ""
            },
            "type": "choropleth"
           }
          ],
          "contour": [
           {
            "colorbar": {
             "outlinewidth": 0,
             "ticks": ""
            },
            "colorscale": [
             [
              0,
              "#0d0887"
             ],
             [
              0.1111111111111111,
              "#46039f"
             ],
             [
              0.2222222222222222,
              "#7201a8"
             ],
             [
              0.3333333333333333,
              "#9c179e"
             ],
             [
              0.4444444444444444,
              "#bd3786"
             ],
             [
              0.5555555555555556,
              "#d8576b"
             ],
             [
              0.6666666666666666,
              "#ed7953"
             ],
             [
              0.7777777777777778,
              "#fb9f3a"
             ],
             [
              0.8888888888888888,
              "#fdca26"
             ],
             [
              1,
              "#f0f921"
             ]
            ],
            "type": "contour"
           }
          ],
          "contourcarpet": [
           {
            "colorbar": {
             "outlinewidth": 0,
             "ticks": ""
            },
            "type": "contourcarpet"
           }
          ],
          "heatmap": [
           {
            "colorbar": {
             "outlinewidth": 0,
             "ticks": ""
            },
            "colorscale": [
             [
              0,
              "#0d0887"
             ],
             [
              0.1111111111111111,
              "#46039f"
             ],
             [
              0.2222222222222222,
              "#7201a8"
             ],
             [
              0.3333333333333333,
              "#9c179e"
             ],
             [
              0.4444444444444444,
              "#bd3786"
             ],
             [
              0.5555555555555556,
              "#d8576b"
             ],
             [
              0.6666666666666666,
              "#ed7953"
             ],
             [
              0.7777777777777778,
              "#fb9f3a"
             ],
             [
              0.8888888888888888,
              "#fdca26"
             ],
             [
              1,
              "#f0f921"
             ]
            ],
            "type": "heatmap"
           }
          ],
          "histogram": [
           {
            "marker": {
             "pattern": {
              "fillmode": "overlay",
              "size": 10,
              "solidity": 0.2
             }
            },
            "type": "histogram"
           }
          ],
          "histogram2d": [
           {
            "colorbar": {
             "outlinewidth": 0,
             "ticks": ""
            },
            "colorscale": [
             [
              0,
              "#0d0887"
             ],
             [
              0.1111111111111111,
              "#46039f"
             ],
             [
              0.2222222222222222,
              "#7201a8"
             ],
             [
              0.3333333333333333,
              "#9c179e"
             ],
             [
              0.4444444444444444,
              "#bd3786"
             ],
             [
              0.5555555555555556,
              "#d8576b"
             ],
             [
              0.6666666666666666,
              "#ed7953"
             ],
             [
              0.7777777777777778,
              "#fb9f3a"
             ],
             [
              0.8888888888888888,
              "#fdca26"
             ],
             [
              1,
              "#f0f921"
             ]
            ],
            "type": "histogram2d"
           }
          ],
          "histogram2dcontour": [
           {
            "colorbar": {
             "outlinewidth": 0,
             "ticks": ""
            },
            "colorscale": [
             [
              0,
              "#0d0887"
             ],
             [
              0.1111111111111111,
              "#46039f"
             ],
             [
              0.2222222222222222,
              "#7201a8"
             ],
             [
              0.3333333333333333,
              "#9c179e"
             ],
             [
              0.4444444444444444,
              "#bd3786"
             ],
             [
              0.5555555555555556,
              "#d8576b"
             ],
             [
              0.6666666666666666,
              "#ed7953"
             ],
             [
              0.7777777777777778,
              "#fb9f3a"
             ],
             [
              0.8888888888888888,
              "#fdca26"
             ],
             [
              1,
              "#f0f921"
             ]
            ],
            "type": "histogram2dcontour"
           }
          ],
          "mesh3d": [
           {
            "colorbar": {
             "outlinewidth": 0,
             "ticks": ""
            },
            "type": "mesh3d"
           }
          ],
          "parcoords": [
           {
            "line": {
             "colorbar": {
              "outlinewidth": 0,
              "ticks": ""
             }
            },
            "type": "parcoords"
           }
          ],
          "pie": [
           {
            "automargin": true,
            "type": "pie"
           }
          ],
          "scatter": [
           {
            "fillpattern": {
             "fillmode": "overlay",
             "size": 10,
             "solidity": 0.2
            },
            "type": "scatter"
           }
          ],
          "scatter3d": [
           {
            "line": {
             "colorbar": {
              "outlinewidth": 0,
              "ticks": ""
             }
            },
            "marker": {
             "colorbar": {
              "outlinewidth": 0,
              "ticks": ""
             }
            },
            "type": "scatter3d"
           }
          ],
          "scattercarpet": [
           {
            "marker": {
             "colorbar": {
              "outlinewidth": 0,
              "ticks": ""
             }
            },
            "type": "scattercarpet"
           }
          ],
          "scattergeo": [
           {
            "marker": {
             "colorbar": {
              "outlinewidth": 0,
              "ticks": ""
             }
            },
            "type": "scattergeo"
           }
          ],
          "scattergl": [
           {
            "marker": {
             "colorbar": {
              "outlinewidth": 0,
              "ticks": ""
             }
            },
            "type": "scattergl"
           }
          ],
          "scattermap": [
           {
            "marker": {
             "colorbar": {
              "outlinewidth": 0,
              "ticks": ""
             }
            },
            "type": "scattermap"
           }
          ],
          "scattermapbox": [
           {
            "marker": {
             "colorbar": {
              "outlinewidth": 0,
              "ticks": ""
             }
            },
            "type": "scattermapbox"
           }
          ],
          "scatterpolar": [
           {
            "marker": {
             "colorbar": {
              "outlinewidth": 0,
              "ticks": ""
             }
            },
            "type": "scatterpolar"
           }
          ],
          "scatterpolargl": [
           {
            "marker": {
             "colorbar": {
              "outlinewidth": 0,
              "ticks": ""
             }
            },
            "type": "scatterpolargl"
           }
          ],
          "scatterternary": [
           {
            "marker": {
             "colorbar": {
              "outlinewidth": 0,
              "ticks": ""
             }
            },
            "type": "scatterternary"
           }
          ],
          "surface": [
           {
            "colorbar": {
             "outlinewidth": 0,
             "ticks": ""
            },
            "colorscale": [
             [
              0,
              "#0d0887"
             ],
             [
              0.1111111111111111,
              "#46039f"
             ],
             [
              0.2222222222222222,
              "#7201a8"
             ],
             [
              0.3333333333333333,
              "#9c179e"
             ],
             [
              0.4444444444444444,
              "#bd3786"
             ],
             [
              0.5555555555555556,
              "#d8576b"
             ],
             [
              0.6666666666666666,
              "#ed7953"
             ],
             [
              0.7777777777777778,
              "#fb9f3a"
             ],
             [
              0.8888888888888888,
              "#fdca26"
             ],
             [
              1,
              "#f0f921"
             ]
            ],
            "type": "surface"
           }
          ],
          "table": [
           {
            "cells": {
             "fill": {
              "color": "#EBF0F8"
             },
             "line": {
              "color": "white"
             }
            },
            "header": {
             "fill": {
              "color": "#C8D4E3"
             },
             "line": {
              "color": "white"
             }
            },
            "type": "table"
           }
          ]
         },
         "layout": {
          "annotationdefaults": {
           "arrowcolor": "#2a3f5f",
           "arrowhead": 0,
           "arrowwidth": 1
          },
          "autotypenumbers": "strict",
          "coloraxis": {
           "colorbar": {
            "outlinewidth": 0,
            "ticks": ""
           }
          },
          "colorscale": {
           "diverging": [
            [
             0,
             "#8e0152"
            ],
            [
             0.1,
             "#c51b7d"
            ],
            [
             0.2,
             "#de77ae"
            ],
            [
             0.3,
             "#f1b6da"
            ],
            [
             0.4,
             "#fde0ef"
            ],
            [
             0.5,
             "#f7f7f7"
            ],
            [
             0.6,
             "#e6f5d0"
            ],
            [
             0.7,
             "#b8e186"
            ],
            [
             0.8,
             "#7fbc41"
            ],
            [
             0.9,
             "#4d9221"
            ],
            [
             1,
             "#276419"
            ]
           ],
           "sequential": [
            [
             0,
             "#0d0887"
            ],
            [
             0.1111111111111111,
             "#46039f"
            ],
            [
             0.2222222222222222,
             "#7201a8"
            ],
            [
             0.3333333333333333,
             "#9c179e"
            ],
            [
             0.4444444444444444,
             "#bd3786"
            ],
            [
             0.5555555555555556,
             "#d8576b"
            ],
            [
             0.6666666666666666,
             "#ed7953"
            ],
            [
             0.7777777777777778,
             "#fb9f3a"
            ],
            [
             0.8888888888888888,
             "#fdca26"
            ],
            [
             1,
             "#f0f921"
            ]
           ],
           "sequentialminus": [
            [
             0,
             "#0d0887"
            ],
            [
             0.1111111111111111,
             "#46039f"
            ],
            [
             0.2222222222222222,
             "#7201a8"
            ],
            [
             0.3333333333333333,
             "#9c179e"
            ],
            [
             0.4444444444444444,
             "#bd3786"
            ],
            [
             0.5555555555555556,
             "#d8576b"
            ],
            [
             0.6666666666666666,
             "#ed7953"
            ],
            [
             0.7777777777777778,
             "#fb9f3a"
            ],
            [
             0.8888888888888888,
             "#fdca26"
            ],
            [
             1,
             "#f0f921"
            ]
           ]
          },
          "colorway": [
           "#636efa",
           "#EF553B",
           "#00cc96",
           "#ab63fa",
           "#FFA15A",
           "#19d3f3",
           "#FF6692",
           "#B6E880",
           "#FF97FF",
           "#FECB52"
          ],
          "font": {
           "color": "#2a3f5f"
          },
          "geo": {
           "bgcolor": "white",
           "lakecolor": "white",
           "landcolor": "#E5ECF6",
           "showlakes": true,
           "showland": true,
           "subunitcolor": "white"
          },
          "hoverlabel": {
           "align": "left"
          },
          "hovermode": "closest",
          "mapbox": {
           "style": "light"
          },
          "paper_bgcolor": "white",
          "plot_bgcolor": "#E5ECF6",
          "polar": {
           "angularaxis": {
            "gridcolor": "white",
            "linecolor": "white",
            "ticks": ""
           },
           "bgcolor": "#E5ECF6",
           "radialaxis": {
            "gridcolor": "white",
            "linecolor": "white",
            "ticks": ""
           }
          },
          "scene": {
           "xaxis": {
            "backgroundcolor": "#E5ECF6",
            "gridcolor": "white",
            "gridwidth": 2,
            "linecolor": "white",
            "showbackground": true,
            "ticks": "",
            "zerolinecolor": "white"
           },
           "yaxis": {
            "backgroundcolor": "#E5ECF6",
            "gridcolor": "white",
            "gridwidth": 2,
            "linecolor": "white",
            "showbackground": true,
            "ticks": "",
            "zerolinecolor": "white"
           },
           "zaxis": {
            "backgroundcolor": "#E5ECF6",
            "gridcolor": "white",
            "gridwidth": 2,
            "linecolor": "white",
            "showbackground": true,
            "ticks": "",
            "zerolinecolor": "white"
           }
          },
          "shapedefaults": {
           "line": {
            "color": "#2a3f5f"
           }
          },
          "ternary": {
           "aaxis": {
            "gridcolor": "white",
            "linecolor": "white",
            "ticks": ""
           },
           "baxis": {
            "gridcolor": "white",
            "linecolor": "white",
            "ticks": ""
           },
           "bgcolor": "#E5ECF6",
           "caxis": {
            "gridcolor": "white",
            "linecolor": "white",
            "ticks": ""
           }
          },
          "title": {
           "x": 0.05
          },
          "xaxis": {
           "automargin": true,
           "gridcolor": "white",
           "linecolor": "white",
           "ticks": "",
           "title": {
            "standoff": 15
           },
           "zerolinecolor": "white",
           "zerolinewidth": 2
          },
          "yaxis": {
           "automargin": true,
           "gridcolor": "white",
           "linecolor": "white",
           "ticks": "",
           "title": {
            "standoff": 15
           },
           "zerolinecolor": "white",
           "zerolinewidth": 2
          }
         }
        },
        "title": {
         "font": {
          "color": "black",
          "family": "Helvetica",
          "size": 20,
          "weight": "bold"
         },
         "text": "Weekly Sales by Store Type",
         "x": 0.5,
         "y": 0.9
        },
        "width": 1080,
        "xaxis": {
         "anchor": "y",
         "domain": [
          0.29600000000000004,
          1
         ]
        },
        "yaxis": {
         "anchor": "x",
         "domain": [
          0,
          1
         ]
        }
       }
      },
      "image/png": "[encoded data removed]"
     },
     "metadata": {},
     "output_type": "display_data"
    }
   ],
   "source": [
    "# Let's combine the pie chart and the horizontal grouped bar chart into single dashboard\n",
    "# type of presentation. \n",
    "\n",
    "# First, let's layout the overall container for the charts\n",
    "fig = make_subplots(\n",
    "    rows=1,\n",
    "    cols=2,\n",
    "    specs=[[\n",
    "        {'type': 'domain'}, # row 1: pie chart\n",
    "        {'type': 'xy'}      # row 1: bar chart\n",
    "    ]],\n",
    "    shared_xaxes=False,\n",
    "    horizontal_spacing=0.12,  # The space between the rows\n",
    "    column_widths=[0.20, 0.80]\n",
    ")\n",
    "\n",
    "# Next, let's add the pie chart to the first cell in row 1\n",
    "fig.add_trace(\n",
    "    go.Pie(\n",
    "        labels=df['store_type'],\n",
    "        values=df['total_sales'],\n",
    "        textinfo='label+percent',\n",
    "        hovertemplate='Store Type: ${label]<br>Sales: %{value:$,.2f}<extra></extra>',\n",
    "        legendrank=1  # Specifically start the legend position at 1\n",
    "    ),\n",
    "    row=1,\n",
    "    col=1\n",
    ")\n",
    "\n",
    "fig.add_annotation(\n",
    "    text = \"Weekly Sales by Store Type\",\n",
    "    x = -0.01,  # roughly center of line chart\n",
    "    y = 1.08,  # above the line chart\n",
    "    xref = \"paper\",\n",
    "    yref = \"paper\",\n",
    "    showarrow = False,\n",
    "    font = dict(size=16, family=\"Helvetica\", color=\"black\")\n",
    ")\n",
    "\n",
    "# ===============================\n",
    "\n",
    "# Now add the horizontal grouped bar chart\n",
    "\n",
    "# Loop through each store type and add bars for its store_ids\n",
    "store_types = df_salesbystore['store_type'].unique()  # ['A', 'B', 'C']\n",
    "\n",
    "# Reverse the list of store_types to show A-B-C top-down on the chart\n",
    "store_types = store_types[::-1]\n",
    "\n",
    "# By reversing the order in which the bar charts are rendered, the legend\n",
    "# will also be reversed.  We need to fix that by creating a dictionary of\n",
    "# store types with the order we want, then feed it into the add_trace\n",
    "# method so it is created in the desired order.\n",
    "# Create the dictionary with the store_type as the key and the overall sort \n",
    "# order position as the value\n",
    "legend_ranks = {'A':4, 'B':5, 'C':6}\n",
    "\n",
    "for store_type in store_types:\n",
    "    df_sub = df_salesbystore[df_salesbystore['store_type'] == store_type]\n",
    "    # Each go.Bar() trace = one group of bars for a given store type (A, B, C)\n",
    "    fig.add_trace(\n",
    "        go.Bar(\n",
    "            x=df_sub['total_sales'],\n",
    "            y=[f\"{store_type}-{sid}\" for sid in df_sub['store_id']],\n",
    "            name=f\"Type {store_type}\",\n",
    "            orientation='h',\n",
    "            text=df_sub['total_sales'].map(\"${:,.2f}\".format),\n",
    "            textposition='auto',\n",
    "            hovertemplate='Store ID: %{y}<br>Total Sales: %{x:$,.2f}<extra></extra>',\n",
    "            legendrank=legend_ranks[store_type]  # Set the specific overall legend rank\n",
    "        ),\n",
    "        row=1,\n",
    "        col=2\n",
    "    )\n",
    "\n",
    "fig.add_trace(\n",
    "    go.Scatter(\n",
    "        x=[None],  # No data shown\n",
    "        y=[None],\n",
    "        mode='none',\n",
    "        name=\"                   \",  # A blank name gives a visual gap\n",
    "        showlegend=True,\n",
    "        legendrank=3.5  # between pie (1–3) and bars (4–6)\n",
    "    ),\n",
    "    row=1,\n",
    "    col=2  # or wherever it's needed — it won't actually render\n",
    ")\n",
    "\n",
    "fig.add_annotation(\n",
    "    text = \"Weekly Sales by Store Type and Store\",\n",
    "    x = 0.65,  # roughly center of line chart\n",
    "    y = 1.08,  # above the line chart\n",
    "    xref = \"paper\",\n",
    "    yref = \"paper\",\n",
    "    showarrow = False,\n",
    "    font = dict(size=16, family=\"Helvetica\", color=\"black\")\n",
    ")\n",
    "\n",
    "# Update layout\n",
    "fig.update_layout(\n",
    "    # title=dict(\n",
    "    #     text=\"Weekly Sales by Store Type\",\n",
    "    #     y=0.9,\n",
    "    #     x=0.5,  # Center\n",
    "    #     xanchor='center',\n",
    "    #     yanchor='top'\n",
    "    # ),\n",
    "    margin=dict(\n",
    "        l=0, \n",
    "        r=0, \n",
    "        t=0, \n",
    "        b=10\n",
    "    ),  # reduce the left/right margin a bit to help with horizontal scrolling\n",
    "    width=1080,\n",
    "    height=800,\n",
    "    showlegend=True,\n",
    "    legend=dict(\n",
    "        orientation=\"h\",\n",
    "        yanchor=\"bottom\",\n",
    "        y=-0.15,\n",
    "        xanchor=\"center\",\n",
    "        x=0.27\n",
    "    )\n",
    ")\n",
    "\n",
    "fig.update_layout(margin=dict(t=10, b=10, l=10, r=10))\n",
    "\n",
    "# Let's make the report title pop a little more\n",
    "title_font = dict(size=20, family=\"Helvetica\", color='black', weight='bold')\n",
    "fig.update_layout(title=dict(text='Weekly Sales by Store Type', x=0.5, y=0.9, font=title_font))\n",
    "\n",
    "\n",
    "fig.add_shape(\n",
    "    type=\"line\",\n",
    "    x0=0.24, x1=0.24,\n",
    "    y0=0, y1=1,\n",
    "    xref=\"paper\", yref=\"paper\",\n",
    "    line=dict(color=\"grey\", width=2),\n",
    "    layer=\"below\"\n",
    ")\n",
    "\n",
    "fig.show()"
   ]
  },
  {
   "cell_type": "code",
   "execution_count": null,
   "id": "28795787-6e52-4b13-8692-498675a230ad",
   "metadata": {},
   "outputs": [],
   "source": [
    "# Close the connection\n",
    "conn.close()"
   ]
  }
 ],
 "metadata": {
  "kernelspec": {
   "display_name": "Python 3 (ipykernel)",
   "language": "python",
   "name": "python3"
  },
  "language_info": {
   "codemirror_mode": {
    "name": "ipython",
    "version": 3
   },
   "file_extension": ".py",
   "mimetype": "text/x-python",
   "name": "python",
   "nbconvert_exporter": "python",
   "pygments_lexer": "ipython3",
   "version": "3.13.2"
  }
 },
 "nbformat": 4,
 "nbformat_minor": 5
}
