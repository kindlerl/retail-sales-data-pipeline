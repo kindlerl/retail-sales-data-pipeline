{
 "cells": [
  {
   "cell_type": "code",
   "execution_count": 1,
   "id": "76487bfa-c291-4d3b-8dad-f920f16d831e",
   "metadata": {},
   "outputs": [
    {
     "data": {
      "text/plain": [
       "True"
      ]
     },
     "execution_count": 1,
     "metadata": {},
     "output_type": "execute_result"
    }
   ],
   "source": [
    "import os\n",
    "from dotenv import load_dotenv\n",
    "import snowflake.connector\n",
    "import pandas as pd\n",
    "import plotly.express as px\n",
    "# Use Plotly's \"make_subplots\" function from \"plotly.subplots\" to layout elements horizontally\n",
    "from plotly.subplots import make_subplots\n",
    "import plotly.graph_objects as go\n",
    "\n",
    "# Load credentials\n",
    "load_dotenv()"
   ]
  },
  {
   "cell_type": "code",
   "execution_count": 2,
   "id": "1e2ab658-d842-467e-9920-5f0824343aa2",
   "metadata": {},
   "outputs": [],
   "source": [
    "# Connect to Snowflake\n",
    "conn = snowflake.connector.connect(\n",
    "    user=os.getenv('SNOWFLAKE_USER'),\n",
    "    password=os.getenv('SNOWFLAKE_PASSWORD'),\n",
    "    account=os.getenv('SNOWFLAKE_ACCOUNT') + '.' + os.getenv('SNOWFLAKE_REGION'),\n",
    "    warehouse=os.getenv('SNOWFLAKE_WAREHOUSE'),\n",
    "    database='WALMART_DB',\n",
    "    schema='SILVER',\n",
    "    role=os.getenv('SNOWFLAKE_ROLE')\n",
    ")"
   ]
  },
  {
   "cell_type": "code",
   "execution_count": 3,
   "id": "2b8d9a09-33c2-411a-878f-71dc688ef9a1",
   "metadata": {},
   "outputs": [],
   "source": [
    "# SQL query\n",
    "# After an initial run, I saw sales numbers up to 30B.  This seemed very\n",
    "# high to me. After further investigation, I found that multiple stores\n",
    "# share the same size.  This means we're aggregating weekly sales across\n",
    "# multiple stores when the store sizes match. The only way I found to \n",
    "# address this was to take the average sales between all stores that had\n",
    "# the same size.  For stores with no store size duplicates, the weekly\n",
    "# sales and average weekly sales will be identical.\n",
    "# sql = \"\"\"\n",
    "# SELECT \n",
    "#   wsd.store_size,\n",
    "#   COUNT(wft.store_id) AS store_count,\n",
    "#   SUM(wft.store_weekly_sales) AS weekly_sales,\n",
    "#   SUM(wft.store_weekly_sales) / COUNT(wft.store_id) AS avg_sales_per_store\n",
    "# FROM \n",
    "#   walmart_fact_table wft\n",
    "# JOIN\n",
    "#   walmart_store_dim wsd\n",
    "# ON\n",
    "#   wft.store_id = wsd.store_id\n",
    "# GROUP BY 1\n",
    "# ORDER BY 1\n",
    "# \"\"\"\n",
    "\n",
    "# In an attempt to match the area chart included in the project documentation,\n",
    "# the SQL below was used.\n",
    "sql = \"\"\"\n",
    "SELECT \n",
    "    wdd.month_name,\n",
    "    wsd.store_type,\n",
    "    SUM(wft.store_weekly_sales) AS weekly_sales\n",
    "FROM \n",
    "    WALMART_DB.SILVER.walmart_fact_table wft\n",
    "JOIN \n",
    "    WALMART_DB.SILVER.walmart_store_dim wsd \n",
    "ON \n",
    "    wft.store_id = wsd.store_id\n",
    "JOIN\n",
    "    WALMART_DB.SILVER.walmart_date_dim wdd\n",
    "ON\n",
    "    wft.date_id = wdd.date_id\n",
    "WHERE \n",
    "    wsd.store_size IS NOT NULL\n",
    "GROUP BY 1,2\n",
    "ORDER BY MIN(wdd.month),2\n",
    "\"\"\"\n",
    "\n",
    "# The following SQL is for the summary chart section in the report.\n",
    "\n",
    "sql_summary_chart = \"\"\"\n",
    "SELECT \n",
    "    wdd.month_name,\n",
    "    SUM(CASE WHEN wsd.store_type = 'A' THEN wft.store_weekly_sales ELSE 0 END) AS store_type_a_sales,\n",
    "    SUM(CASE WHEN wsd.store_type = 'B' THEN wft.store_weekly_sales ELSE 0 END) AS store_type_b_sales,\n",
    "    SUM(CASE WHEN wsd.store_type = 'C' THEN wft.store_weekly_sales ELSE 0 END) AS store_type_c_sales\n",
    "FROM \n",
    "    WALMART_DB.SILVER.walmart_fact_table wft\n",
    "JOIN \n",
    "    WALMART_DB.SILVER.walmart_store_dim wsd \n",
    "ON \n",
    "    wft.store_id = wsd.store_id\n",
    "JOIN\n",
    "    WALMART_DB.SILVER.walmart_date_dim wdd\n",
    "ON\n",
    "    wft.date_id = wdd.date_id\n",
    "WHERE \n",
    "    wsd.store_size IS NOT NULL\n",
    "GROUP BY 1\n",
    "ORDER BY MIN(wdd.month)\n",
    "\"\"\"\n",
    "\n",
    "# Run query using Snowflake connector\n",
    "cur = conn.cursor()\n",
    "cur.execute(sql)\n",
    "\n",
    "# Load results into DataFrame\n",
    "columns = [col[0] for col in cur.description]\n",
    "data = cur.fetchall()\n",
    "df = pd.DataFrame(data, columns=columns)\n",
    "\n",
    "# Force column names to lowercase so Snowflake will match the model table\n",
    "df.columns = [col.lower() for col in df.columns]\n",
    "\n",
    "# print(df.columns)\n",
    "\n",
    "# Convert the store size to a string \n",
    "# plotly create a more managable range for the y-axis\n",
    "# df['store_size'] = df['store_size'].astype(str)\n"
   ]
  },
  {
   "cell_type": "code",
   "execution_count": 4,
   "id": "d1b571f4-b506-4038-8115-f253e4a0c5af",
   "metadata": {},
   "outputs": [
    {
     "data": {
      "application/vnd.plotly.v1+json": {
       "config": {
        "plotlyServerURL": "https://plot.ly"
       },
       "data": [
        {
         "hovertemplate": "%{text}<extra></extra>",
         "legendgroup": "A",
         "line": {
          "color": "#636efa",
          "dash": "solid"
         },
         "marker": {
          "symbol": "circle"
         },
         "mode": "lines+markers",
         "name": "A",
         "orientation": "v",
         "showlegend": true,
         "text": [
          "Store Type: A<br>Month: January<br>Sales: $16,499,101,314.85",
          "Store Type: A<br>Month: February<br>Sales: $28,244,767,312.56",
          "Store Type: A<br>Month: March<br>Sales: $29,338,085,632.69",
          "Store Type: A<br>Month: April<br>Sales: $32,066,125,525.08",
          "Store Type: A<br>Month: May<br>Sales: $27,666,410,385.63",
          "Store Type: A<br>Month: June<br>Sales: $30,782,718,484.42",
          "Store Type: A<br>Month: July<br>Sales: $32,151,548,629.39",
          "Store Type: A<br>Month: August<br>Sales: $30,429,943,946.20",
          "Store Type: A<br>Month: September<br>Sales: $28,754,182,649.69",
          "Store Type: A<br>Month: October<br>Sales: $29,064,473,069.46",
          "Store Type: A<br>Month: November<br>Sales: $20,410,065,301.94",
          "Store Type: A<br>Month: December<br>Sales: $28,373,522,502.76"
         ],
         "type": "scatter",
         "x": [
          "January",
          "February",
          "March",
          "April",
          "May",
          "June",
          "July",
          "August",
          "September",
          "October",
          "November",
          "December"
         ],
         "xaxis": "x",
         "y": {
          "bdata": "zcwWdGK7DkJwPULJE04aQpDCAqS+UhtC7FFU+yjdHUIfhUauL8QZQhSuUQgsqxxCXI9Vy4bxHULNzChiEFccQo/C5geIxxpCCte1p4IRG0KPwleGIwITQj0KG2HGbBpC",
          "dtype": "f8"
         },
         "yaxis": "y"
        },
        {
         "hovertemplate": "%{text}<extra></extra>",
         "legendgroup": "B",
         "line": {
          "color": "#EF553B",
          "dash": "solid"
         },
         "marker": {
          "symbol": "circle"
         },
         "mode": "lines+markers",
         "name": "B",
         "orientation": "v",
         "showlegend": true,
         "text": [
          "Store Type: B<br>Month: January<br>Sales: $7,254,939,724.93",
          "Store Type: B<br>Month: February<br>Sales: $12,744,030,969.82",
          "Store Type: B<br>Month: March<br>Sales: $13,310,918,542.07",
          "Store Type: B<br>Month: April<br>Sales: $14,509,924,955.25",
          "Store Type: B<br>Month: May<br>Sales: $12,426,481,830.36",
          "Store Type: B<br>Month: June<br>Sales: $14,168,906,359.83",
          "Store Type: B<br>Month: July<br>Sales: $14,732,299,190.21",
          "Store Type: B<br>Month: August<br>Sales: $13,802,786,769.30",
          "Store Type: B<br>Month: September<br>Sales: $12,842,044,034.85",
          "Store Type: B<br>Month: October<br>Sales: $12,970,136,340.63",
          "Store Type: B<br>Month: November<br>Sales: $9,546,265,628.26",
          "Store Type: B<br>Month: December<br>Sales: $13,801,104,507.13"
         ],
         "type": "scatter",
         "x": [
          "January",
          "February",
          "March",
          "April",
          "May",
          "June",
          "July",
          "August",
          "September",
          "October",
          "November",
          "December"
         ],
         "xaxis": "x",
         "y": {
          "bdata": "R+HOhNkG+0Fcj87X07wHQlyPcPwjywhCAQDaEt8GC0JI4TKFaCUHQtijvtNCZApCFK6xXehwC0JnZop+rrUJQs3MFlSQ6wdCPQqlmKQoCEJ7FOKgA8gBQj4K2SPhtAlC",
          "dtype": "f8"
         },
         "yaxis": "y"
        },
        {
         "hovertemplate": "%{text}<extra></extra>",
         "legendgroup": "C",
         "line": {
          "color": "#00cc96",
          "dash": "solid"
         },
         "marker": {
          "symbol": "circle"
         },
         "mode": "lines+markers",
         "name": "C",
         "orientation": "v",
         "showlegend": true,
         "text": [
          "Store Type: C<br>Month: January<br>Sales: $1,429,844,735.25",
          "Store Type: C<br>Month: February<br>Sales: $2,149,852,757.09",
          "Store Type: C<br>Month: March<br>Sales: $2,294,497,464.02",
          "Store Type: C<br>Month: April<br>Sales: $2,476,406,502.70",
          "Store Type: C<br>Month: May<br>Sales: $2,151,798,254.46",
          "Store Type: C<br>Month: June<br>Sales: $2,290,829,074.32",
          "Store Type: C<br>Month: July<br>Sales: $2,427,462,912.30",
          "Store Type: C<br>Month: August<br>Sales: $2,284,637,949.08",
          "Store Type: C<br>Month: September<br>Sales: $2,282,469,302.52",
          "Store Type: C<br>Month: October<br>Sales: $2,305,314,082.41",
          "Store Type: C<br>Month: November<br>Sales: $1,415,565,800.77",
          "Store Type: C<br>Month: December<br>Sales: $1,722,567,833.81"
         ],
         "type": "scatter",
         "x": [
          "January",
          "February",
          "March",
          "April",
          "May",
          "June",
          "July",
          "August",
          "September",
          "October",
          "November",
          "December"
         ],
         "xaxis": "x",
         "y": {
          "bdata": "AADQv2xO1UFI4aLKhATgQdejABdoGOFBZmbW3F5z4kFSuM69OgjgQXE9SuJoEeFBmpkJoAQW4kFcj6LfmQXhQdej0PZ2AeFBuB5NpAkt4UGuRzF69BfVQQrXcyYTq9lB",
          "dtype": "f8"
         },
         "yaxis": "y"
        }
       ],
       "layout": {
        "legend": {
         "title": {
          "text": "Store Type"
         },
         "tracegroupgap": 0
        },
        "template": {
         "data": {
          "bar": [
           {
            "error_x": {
             "color": "#2a3f5f"
            },
            "error_y": {
             "color": "#2a3f5f"
            },
            "marker": {
             "line": {
              "color": "#E5ECF6",
              "width": 0.5
             },
             "pattern": {
              "fillmode": "overlay",
              "size": 10,
              "solidity": 0.2
             }
            },
            "type": "bar"
           }
          ],
          "barpolar": [
           {
            "marker": {
             "line": {
              "color": "#E5ECF6",
              "width": 0.5
             },
             "pattern": {
              "fillmode": "overlay",
              "size": 10,
              "solidity": 0.2
             }
            },
            "type": "barpolar"
           }
          ],
          "carpet": [
           {
            "aaxis": {
             "endlinecolor": "#2a3f5f",
             "gridcolor": "white",
             "linecolor": "white",
             "minorgridcolor": "white",
             "startlinecolor": "#2a3f5f"
            },
            "baxis": {
             "endlinecolor": "#2a3f5f",
             "gridcolor": "white",
             "linecolor": "white",
             "minorgridcolor": "white",
             "startlinecolor": "#2a3f5f"
            },
            "type": "carpet"
           }
          ],
          "choropleth": [
           {
            "colorbar": {
             "outlinewidth": 0,
             "ticks": ""
            },
            "type": "choropleth"
           }
          ],
          "contour": [
           {
            "colorbar": {
             "outlinewidth": 0,
             "ticks": ""
            },
            "colorscale": [
             [
              0,
              "#0d0887"
             ],
             [
              0.1111111111111111,
              "#46039f"
             ],
             [
              0.2222222222222222,
              "#7201a8"
             ],
             [
              0.3333333333333333,
              "#9c179e"
             ],
             [
              0.4444444444444444,
              "#bd3786"
             ],
             [
              0.5555555555555556,
              "#d8576b"
             ],
             [
              0.6666666666666666,
              "#ed7953"
             ],
             [
              0.7777777777777778,
              "#fb9f3a"
             ],
             [
              0.8888888888888888,
              "#fdca26"
             ],
             [
              1,
              "#f0f921"
             ]
            ],
            "type": "contour"
           }
          ],
          "contourcarpet": [
           {
            "colorbar": {
             "outlinewidth": 0,
             "ticks": ""
            },
            "type": "contourcarpet"
           }
          ],
          "heatmap": [
           {
            "colorbar": {
             "outlinewidth": 0,
             "ticks": ""
            },
            "colorscale": [
             [
              0,
              "#0d0887"
             ],
             [
              0.1111111111111111,
              "#46039f"
             ],
             [
              0.2222222222222222,
              "#7201a8"
             ],
             [
              0.3333333333333333,
              "#9c179e"
             ],
             [
              0.4444444444444444,
              "#bd3786"
             ],
             [
              0.5555555555555556,
              "#d8576b"
             ],
             [
              0.6666666666666666,
              "#ed7953"
             ],
             [
              0.7777777777777778,
              "#fb9f3a"
             ],
             [
              0.8888888888888888,
              "#fdca26"
             ],
             [
              1,
              "#f0f921"
             ]
            ],
            "type": "heatmap"
           }
          ],
          "histogram": [
           {
            "marker": {
             "pattern": {
              "fillmode": "overlay",
              "size": 10,
              "solidity": 0.2
             }
            },
            "type": "histogram"
           }
          ],
          "histogram2d": [
           {
            "colorbar": {
             "outlinewidth": 0,
             "ticks": ""
            },
            "colorscale": [
             [
              0,
              "#0d0887"
             ],
             [
              0.1111111111111111,
              "#46039f"
             ],
             [
              0.2222222222222222,
              "#7201a8"
             ],
             [
              0.3333333333333333,
              "#9c179e"
             ],
             [
              0.4444444444444444,
              "#bd3786"
             ],
             [
              0.5555555555555556,
              "#d8576b"
             ],
             [
              0.6666666666666666,
              "#ed7953"
             ],
             [
              0.7777777777777778,
              "#fb9f3a"
             ],
             [
              0.8888888888888888,
              "#fdca26"
             ],
             [
              1,
              "#f0f921"
             ]
            ],
            "type": "histogram2d"
           }
          ],
          "histogram2dcontour": [
           {
            "colorbar": {
             "outlinewidth": 0,
             "ticks": ""
            },
            "colorscale": [
             [
              0,
              "#0d0887"
             ],
             [
              0.1111111111111111,
              "#46039f"
             ],
             [
              0.2222222222222222,
              "#7201a8"
             ],
             [
              0.3333333333333333,
              "#9c179e"
             ],
             [
              0.4444444444444444,
              "#bd3786"
             ],
             [
              0.5555555555555556,
              "#d8576b"
             ],
             [
              0.6666666666666666,
              "#ed7953"
             ],
             [
              0.7777777777777778,
              "#fb9f3a"
             ],
             [
              0.8888888888888888,
              "#fdca26"
             ],
             [
              1,
              "#f0f921"
             ]
            ],
            "type": "histogram2dcontour"
           }
          ],
          "mesh3d": [
           {
            "colorbar": {
             "outlinewidth": 0,
             "ticks": ""
            },
            "type": "mesh3d"
           }
          ],
          "parcoords": [
           {
            "line": {
             "colorbar": {
              "outlinewidth": 0,
              "ticks": ""
             }
            },
            "type": "parcoords"
           }
          ],
          "pie": [
           {
            "automargin": true,
            "type": "pie"
           }
          ],
          "scatter": [
           {
            "fillpattern": {
             "fillmode": "overlay",
             "size": 10,
             "solidity": 0.2
            },
            "type": "scatter"
           }
          ],
          "scatter3d": [
           {
            "line": {
             "colorbar": {
              "outlinewidth": 0,
              "ticks": ""
             }
            },
            "marker": {
             "colorbar": {
              "outlinewidth": 0,
              "ticks": ""
             }
            },
            "type": "scatter3d"
           }
          ],
          "scattercarpet": [
           {
            "marker": {
             "colorbar": {
              "outlinewidth": 0,
              "ticks": ""
             }
            },
            "type": "scattercarpet"
           }
          ],
          "scattergeo": [
           {
            "marker": {
             "colorbar": {
              "outlinewidth": 0,
              "ticks": ""
             }
            },
            "type": "scattergeo"
           }
          ],
          "scattergl": [
           {
            "marker": {
             "colorbar": {
              "outlinewidth": 0,
              "ticks": ""
             }
            },
            "type": "scattergl"
           }
          ],
          "scattermap": [
           {
            "marker": {
             "colorbar": {
              "outlinewidth": 0,
              "ticks": ""
             }
            },
            "type": "scattermap"
           }
          ],
          "scattermapbox": [
           {
            "marker": {
             "colorbar": {
              "outlinewidth": 0,
              "ticks": ""
             }
            },
            "type": "scattermapbox"
           }
          ],
          "scatterpolar": [
           {
            "marker": {
             "colorbar": {
              "outlinewidth": 0,
              "ticks": ""
             }
            },
            "type": "scatterpolar"
           }
          ],
          "scatterpolargl": [
           {
            "marker": {
             "colorbar": {
              "outlinewidth": 0,
              "ticks": ""
             }
            },
            "type": "scatterpolargl"
           }
          ],
          "scatterternary": [
           {
            "marker": {
             "colorbar": {
              "outlinewidth": 0,
              "ticks": ""
             }
            },
            "type": "scatterternary"
           }
          ],
          "surface": [
           {
            "colorbar": {
             "outlinewidth": 0,
             "ticks": ""
            },
            "colorscale": [
             [
              0,
              "#0d0887"
             ],
             [
              0.1111111111111111,
              "#46039f"
             ],
             [
              0.2222222222222222,
              "#7201a8"
             ],
             [
              0.3333333333333333,
              "#9c179e"
             ],
             [
              0.4444444444444444,
              "#bd3786"
             ],
             [
              0.5555555555555556,
              "#d8576b"
             ],
             [
              0.6666666666666666,
              "#ed7953"
             ],
             [
              0.7777777777777778,
              "#fb9f3a"
             ],
             [
              0.8888888888888888,
              "#fdca26"
             ],
             [
              1,
              "#f0f921"
             ]
            ],
            "type": "surface"
           }
          ],
          "table": [
           {
            "cells": {
             "fill": {
              "color": "#EBF0F8"
             },
             "line": {
              "color": "white"
             }
            },
            "header": {
             "fill": {
              "color": "#C8D4E3"
             },
             "line": {
              "color": "white"
             }
            },
            "type": "table"
           }
          ]
         },
         "layout": {
          "annotationdefaults": {
           "arrowcolor": "#2a3f5f",
           "arrowhead": 0,
           "arrowwidth": 1
          },
          "autotypenumbers": "strict",
          "coloraxis": {
           "colorbar": {
            "outlinewidth": 0,
            "ticks": ""
           }
          },
          "colorscale": {
           "diverging": [
            [
             0,
             "#8e0152"
            ],
            [
             0.1,
             "#c51b7d"
            ],
            [
             0.2,
             "#de77ae"
            ],
            [
             0.3,
             "#f1b6da"
            ],
            [
             0.4,
             "#fde0ef"
            ],
            [
             0.5,
             "#f7f7f7"
            ],
            [
             0.6,
             "#e6f5d0"
            ],
            [
             0.7,
             "#b8e186"
            ],
            [
             0.8,
             "#7fbc41"
            ],
            [
             0.9,
             "#4d9221"
            ],
            [
             1,
             "#276419"
            ]
           ],
           "sequential": [
            [
             0,
             "#0d0887"
            ],
            [
             0.1111111111111111,
             "#46039f"
            ],
            [
             0.2222222222222222,
             "#7201a8"
            ],
            [
             0.3333333333333333,
             "#9c179e"
            ],
            [
             0.4444444444444444,
             "#bd3786"
            ],
            [
             0.5555555555555556,
             "#d8576b"
            ],
            [
             0.6666666666666666,
             "#ed7953"
            ],
            [
             0.7777777777777778,
             "#fb9f3a"
            ],
            [
             0.8888888888888888,
             "#fdca26"
            ],
            [
             1,
             "#f0f921"
            ]
           ],
           "sequentialminus": [
            [
             0,
             "#0d0887"
            ],
            [
             0.1111111111111111,
             "#46039f"
            ],
            [
             0.2222222222222222,
             "#7201a8"
            ],
            [
             0.3333333333333333,
             "#9c179e"
            ],
            [
             0.4444444444444444,
             "#bd3786"
            ],
            [
             0.5555555555555556,
             "#d8576b"
            ],
            [
             0.6666666666666666,
             "#ed7953"
            ],
            [
             0.7777777777777778,
             "#fb9f3a"
            ],
            [
             0.8888888888888888,
             "#fdca26"
            ],
            [
             1,
             "#f0f921"
            ]
           ]
          },
          "colorway": [
           "#636efa",
           "#EF553B",
           "#00cc96",
           "#ab63fa",
           "#FFA15A",
           "#19d3f3",
           "#FF6692",
           "#B6E880",
           "#FF97FF",
           "#FECB52"
          ],
          "font": {
           "color": "#2a3f5f"
          },
          "geo": {
           "bgcolor": "white",
           "lakecolor": "white",
           "landcolor": "#E5ECF6",
           "showlakes": true,
           "showland": true,
           "subunitcolor": "white"
          },
          "hoverlabel": {
           "align": "left"
          },
          "hovermode": "closest",
          "mapbox": {
           "style": "light"
          },
          "paper_bgcolor": "white",
          "plot_bgcolor": "#E5ECF6",
          "polar": {
           "angularaxis": {
            "gridcolor": "white",
            "linecolor": "white",
            "ticks": ""
           },
           "bgcolor": "#E5ECF6",
           "radialaxis": {
            "gridcolor": "white",
            "linecolor": "white",
            "ticks": ""
           }
          },
          "scene": {
           "xaxis": {
            "backgroundcolor": "#E5ECF6",
            "gridcolor": "white",
            "gridwidth": 2,
            "linecolor": "white",
            "showbackground": true,
            "ticks": "",
            "zerolinecolor": "white"
           },
           "yaxis": {
            "backgroundcolor": "#E5ECF6",
            "gridcolor": "white",
            "gridwidth": 2,
            "linecolor": "white",
            "showbackground": true,
            "ticks": "",
            "zerolinecolor": "white"
           },
           "zaxis": {
            "backgroundcolor": "#E5ECF6",
            "gridcolor": "white",
            "gridwidth": 2,
            "linecolor": "white",
            "showbackground": true,
            "ticks": "",
            "zerolinecolor": "white"
           }
          },
          "shapedefaults": {
           "line": {
            "color": "#2a3f5f"
           }
          },
          "ternary": {
           "aaxis": {
            "gridcolor": "white",
            "linecolor": "white",
            "ticks": ""
           },
           "baxis": {
            "gridcolor": "white",
            "linecolor": "white",
            "ticks": ""
           },
           "bgcolor": "#E5ECF6",
           "caxis": {
            "gridcolor": "white",
            "linecolor": "white",
            "ticks": ""
           }
          },
          "title": {
           "x": 0.05
          },
          "xaxis": {
           "automargin": true,
           "gridcolor": "white",
           "linecolor": "white",
           "ticks": "",
           "title": {
            "standoff": 15
           },
           "zerolinecolor": "white",
           "zerolinewidth": 2
          },
          "yaxis": {
           "automargin": true,
           "gridcolor": "white",
           "linecolor": "white",
           "ticks": "",
           "title": {
            "standoff": 15
           },
           "zerolinecolor": "white",
           "zerolinewidth": 2
          }
         }
        },
        "title": {
         "text": "Weekly Sales by Store Type and Month"
        },
        "xaxis": {
         "anchor": "y",
         "categoryarray": [
          "January",
          "February",
          "March",
          "April",
          "May",
          "June",
          "July",
          "August",
          "September",
          "October",
          "November",
          "December"
         ],
         "categoryorder": "array",
         "domain": [
          0,
          1
         ],
         "title": {
          "text": "Month"
         }
        },
        "yaxis": {
         "anchor": "x",
         "domain": [
          0,
          1
         ],
         "title": {
          "text": "Weekly Sales"
         }
        }
       }
      },
      "image/png": "[encoded data removed]"
     },
     "metadata": {},
     "output_type": "display_data"
    }
   ],
   "source": [
    "# THIS CHART IS FOR AVERAGE WEEKLY SALES BY STORE TYPE AND MONTH\n",
    "# Plot using Plotly\n",
    "\n",
    "# Create some hover text\n",
    "df['hover_text'] = (\n",
    "    'Store Type: ' + df['store_type'] +\n",
    "    '<br>Month: ' + df['month_name'] +\n",
    "    '<br>Sales: $' + df['weekly_sales'].round(2).map('{:,.2f}'.format)\n",
    ")\n",
    "\n",
    "fig = px.line(\n",
    "    df,\n",
    "    x='month_name',\n",
    "    y='weekly_sales',\n",
    "    color='store_type',\n",
    "    text='hover_text',  # Use my custom text for the hover\n",
    "    markers=True,\n",
    "    title='Weekly Sales by Store Type and Month',\n",
    "    labels={\n",
    "        'month_name': 'Month',\n",
    "        'weekly_sales': 'Weekly Sales',\n",
    "        'store_type': 'Store Type'\n",
    "    },\n",
    "    category_orders={'month_name': ['January', 'February', 'March', 'April', 'May', 'June', \n",
    "                                     'July', 'August', 'September', 'October', 'November', 'December']}\n",
    ")\n",
    "\n",
    "fig.update_traces(\n",
    "    hovertemplate='%{text}<extra></extra>',\n",
    "    mode='lines+markers'\n",
    ")\n",
    "\n",
    "fig.show()"
   ]
  },
  {
   "cell_type": "code",
   "execution_count": 13,
   "id": "a1324cd8-8764-4e4e-a2fc-7dd3ea381a9a",
   "metadata": {},
   "outputs": [
    {
     "data": {
      "text/plain": [
       "month_name       object\n",
       "store_type       object\n",
       "weekly_sales    float64\n",
       "dtype: object"
      ]
     },
     "execution_count": 13,
     "metadata": {},
     "output_type": "execute_result"
    }
   ],
   "source": [
    "df.dtypes"
   ]
  },
  {
   "cell_type": "code",
   "execution_count": 5,
   "id": "a3972a5b-d644-4c0d-96a9-7ad83fab80ae",
   "metadata": {},
   "outputs": [
    {
     "name": "stderr",
     "output_type": "stream",
     "text": [
      "/var/folders/90/m9dcfcxn38j0ypf7wjqn_bf80000gp/T/ipykernel_98158/839785212.py:2: UserWarning:\n",
      "\n",
      "pandas only supports SQLAlchemy connectable (engine/connection) or database string URI or sqlite3 DBAPI2 connection. Other DBAPI2 objects are not tested. Please consider using SQLAlchemy.\n",
      "\n"
     ]
    },
    {
     "name": "stdout",
     "output_type": "stream",
     "text": [
      "   month_name   store_type_a_sales  store_type_b_sales  store_type_c_sales\n",
      "0     January   $16,499,101,314.85   $1,429,844,735.25   $1,429,844,735.25\n",
      "1    February   $28,244,767,312.56   $2,149,852,757.09   $2,149,852,757.09\n",
      "2       March   $29,338,085,632.69   $2,294,497,464.02   $2,294,497,464.02\n",
      "3       April   $32,066,125,525.08   $2,476,406,502.70   $2,476,406,502.70\n",
      "4         May   $27,666,410,385.63   $2,151,798,254.46   $2,151,798,254.46\n",
      "5        June   $30,782,718,484.42   $2,290,829,074.32   $2,290,829,074.32\n",
      "6        July   $32,151,548,629.39   $2,427,462,912.30   $2,427,462,912.30\n",
      "7      August   $30,429,943,946.20   $2,284,637,949.08   $2,284,637,949.08\n",
      "8   September   $28,754,182,649.69   $2,282,469,302.52   $2,282,469,302.52\n",
      "9     October   $29,064,473,069.46   $2,305,314,082.41   $2,305,314,082.41\n",
      "10   November   $20,410,065,301.94   $1,415,565,800.77   $1,415,565,800.77\n",
      "11   December   $28,373,522,502.76   $1,722,567,833.81   $1,722,567,833.81\n",
      "12      Total  $333,780,944,754.67  $25,231,246,668.73  $25,231,246,668.73\n"
     ]
    }
   ],
   "source": [
    "# This is the summary table\n",
    "df_summary = pd.read_sql(sql_summary_chart, conn)\n",
    "# Force column names to lowercase so Snowflake will match the model table\n",
    "df_summary.columns = [col.lower() for col in df_summary.columns]\n",
    "\n",
    "df_total_row = pd.DataFrame([{\n",
    "    'month_name':'Total',\n",
    "    'store_type_a_sales': df_summary['store_type_a_sales'].sum(),\n",
    "    'store_type_b_sales': df_summary['store_type_b_sales'].sum(),\n",
    "    'store_type_c_sales': df_summary['store_type_c_sales'].sum()\n",
    "}])\n",
    "df_summary = pd.concat([df_summary, df_total_row], ignore_index=True)\n",
    "\n",
    "# Make a copy of the dataframe to format the numbers.  The original\n",
    "# will be used later for the dashboard layout, so the numbers need to\n",
    "# remain unformatted.\n",
    "df_summary_formatted = df_summary.copy(deep=True)\n",
    "\n",
    "# Format the weekly_sales number to look like currency\n",
    "df_summary_formatted['store_type_a_sales'] = df_summary['store_type_a_sales'].apply(lambda x: f\"${x:,.2f}\" if isinstance(x, (int, float)) else x)\n",
    "df_summary_formatted['store_type_b_sales'] = df_summary['store_type_c_sales'].apply(lambda x: f\"${x:,.2f}\" if isinstance(x, (int, float)) else x)\n",
    "df_summary_formatted['store_type_c_sales'] = df_summary['store_type_c_sales'].apply(lambda x: f\"${x:,.2f}\" if isinstance(x, (int, float)) else x)\n",
    "print(df_summary_formatted)\n"
   ]
  },
  {
   "cell_type": "code",
   "execution_count": 6,
   "id": "76f38d29-a280-4474-a301-ea0f876afc89",
   "metadata": {},
   "outputs": [
    {
     "data": {
      "application/vnd.plotly.v1+json": {
       "config": {
        "plotlyServerURL": "https://plot.ly"
       },
       "data": [
        {
         "hovertemplate": "%{text}<extra></extra>",
         "mode": "lines+markers",
         "name": "Type A",
         "text": [
          "Store Type: A<br>Month: January<br>Sales: $16,499,101,314.85",
          "Store Type: A<br>Month: February<br>Sales: $28,244,767,312.56",
          "Store Type: A<br>Month: March<br>Sales: $29,338,085,632.69",
          "Store Type: A<br>Month: April<br>Sales: $32,066,125,525.08",
          "Store Type: A<br>Month: May<br>Sales: $27,666,410,385.63",
          "Store Type: A<br>Month: June<br>Sales: $30,782,718,484.42",
          "Store Type: A<br>Month: July<br>Sales: $32,151,548,629.39",
          "Store Type: A<br>Month: August<br>Sales: $30,429,943,946.20",
          "Store Type: A<br>Month: September<br>Sales: $28,754,182,649.69",
          "Store Type: A<br>Month: October<br>Sales: $29,064,473,069.46",
          "Store Type: A<br>Month: November<br>Sales: $20,410,065,301.94",
          "Store Type: A<br>Month: December<br>Sales: $28,373,522,502.76"
         ],
         "type": "scatter",
         "x": [
          "January",
          "February",
          "March",
          "April",
          "May",
          "June",
          "July",
          "August",
          "September",
          "October",
          "November",
          "December"
         ],
         "xaxis": "x",
         "y": {
          "bdata": "zcwWdGK7DkJwPULJE04aQpDCAqS+UhtC7FFU+yjdHUIfhUauL8QZQhSuUQgsqxxCXI9Vy4bxHULNzChiEFccQo/C5geIxxpCCte1p4IRG0KPwleGIwITQj0KG2HGbBpC",
          "dtype": "f8"
         },
         "yaxis": "y"
        },
        {
         "hovertemplate": "%{text}<extra></extra>",
         "mode": "lines+markers",
         "name": "Type B",
         "text": [
          "Store Type: B<br>Month: January<br>Sales: $7,254,939,724.93",
          "Store Type: B<br>Month: February<br>Sales: $12,744,030,969.82",
          "Store Type: B<br>Month: March<br>Sales: $13,310,918,542.07",
          "Store Type: B<br>Month: April<br>Sales: $14,509,924,955.25",
          "Store Type: B<br>Month: May<br>Sales: $12,426,481,830.36",
          "Store Type: B<br>Month: June<br>Sales: $14,168,906,359.83",
          "Store Type: B<br>Month: July<br>Sales: $14,732,299,190.21",
          "Store Type: B<br>Month: August<br>Sales: $13,802,786,769.30",
          "Store Type: B<br>Month: September<br>Sales: $12,842,044,034.85",
          "Store Type: B<br>Month: October<br>Sales: $12,970,136,340.63",
          "Store Type: B<br>Month: November<br>Sales: $9,546,265,628.26",
          "Store Type: B<br>Month: December<br>Sales: $13,801,104,507.13"
         ],
         "type": "scatter",
         "x": [
          "January",
          "February",
          "March",
          "April",
          "May",
          "June",
          "July",
          "August",
          "September",
          "October",
          "November",
          "December"
         ],
         "xaxis": "x",
         "y": {
          "bdata": "R+HOhNkG+0Fcj87X07wHQlyPcPwjywhCAQDaEt8GC0JI4TKFaCUHQtijvtNCZApCFK6xXehwC0JnZop+rrUJQs3MFlSQ6wdCPQqlmKQoCEJ7FOKgA8gBQj4K2SPhtAlC",
          "dtype": "f8"
         },
         "yaxis": "y"
        },
        {
         "hovertemplate": "%{text}<extra></extra>",
         "mode": "lines+markers",
         "name": "Type C",
         "text": [
          "Store Type: C<br>Month: January<br>Sales: $1,429,844,735.25",
          "Store Type: C<br>Month: February<br>Sales: $2,149,852,757.09",
          "Store Type: C<br>Month: March<br>Sales: $2,294,497,464.02",
          "Store Type: C<br>Month: April<br>Sales: $2,476,406,502.70",
          "Store Type: C<br>Month: May<br>Sales: $2,151,798,254.46",
          "Store Type: C<br>Month: June<br>Sales: $2,290,829,074.32",
          "Store Type: C<br>Month: July<br>Sales: $2,427,462,912.30",
          "Store Type: C<br>Month: August<br>Sales: $2,284,637,949.08",
          "Store Type: C<br>Month: September<br>Sales: $2,282,469,302.52",
          "Store Type: C<br>Month: October<br>Sales: $2,305,314,082.41",
          "Store Type: C<br>Month: November<br>Sales: $1,415,565,800.77",
          "Store Type: C<br>Month: December<br>Sales: $1,722,567,833.81"
         ],
         "type": "scatter",
         "x": [
          "January",
          "February",
          "March",
          "April",
          "May",
          "June",
          "July",
          "August",
          "September",
          "October",
          "November",
          "December"
         ],
         "xaxis": "x",
         "y": {
          "bdata": "AADQv2xO1UFI4aLKhATgQdejABdoGOFBZmbW3F5z4kFSuM69OgjgQXE9SuJoEeFBmpkJoAQW4kFcj6LfmQXhQdej0PZ2AeFBuB5NpAkt4UGuRzF69BfVQQrXcyYTq9lB",
          "dtype": "f8"
         },
         "yaxis": "y"
        },
        {
         "cells": {
          "align": [
           "left",
           "right",
           "right",
           "right"
          ],
          "format": [
           "",
           ",.2f",
           ",.2f",
           ",.2f"
          ],
          "prefix": [
           "",
           "$",
           "$",
           "$"
          ],
          "values": [
           [
            "January",
            "February",
            "March",
            "April",
            "May",
            "June",
            "July",
            "August",
            "September",
            "October",
            "November",
            "December",
            "Total"
           ],
           [
            16499101314.85,
            28244767312.559998,
            29338085632.690002,
            32066125525.08,
            27666410385.63,
            30782718484.42,
            32151548629.39,
            30429943946.2,
            28754182649.69,
            29064473069.46,
            20410065301.94,
            28373522502.76,
            333780944754.67004
           ],
           [
            7254939724.929999,
            12744030969.82,
            13310918542.07,
            14509924955.250002,
            12426481830.36,
            14168906359.830002,
            14732299190.21,
            13802786769.300001,
            12842044034.85,
            12970136340.63,
            9546265628.26,
            13801104507.130001,
            152109838852.64
           ],
           [
            1429844735.25,
            2149852757.09,
            2294497464.02,
            2476406502.7,
            2151798254.46,
            2290829074.32,
            2427462912.3,
            2284637949.08,
            2282469302.52,
            2305314082.41,
            1415565800.77,
            1722567833.81,
            25231246668.730003
           ]
          ]
         },
         "columnwidth": [
          22,
          40,
          40,
          40
         ],
         "domain": {
          "x": [
           0.4316,
           0.9999999999999999
          ],
          "y": [
           0,
           1
          ]
         },
         "header": {
          "align": "left",
          "fill": {
           "color": "lightblue"
          },
          "values": [
           "Month",
           "Store A",
           "Store B",
           "Store C"
          ]
         },
         "type": "table"
        }
       ],
       "layout": {
        "annotations": [
         {
          "font": {
           "size": 16
          },
          "showarrow": false,
          "text": "Weekly Sales by Store Type and Month",
          "x": 0.20579999999999998,
          "xanchor": "center",
          "xref": "paper",
          "y": 1,
          "yanchor": "bottom",
          "yref": "paper"
         },
         {
          "font": {
           "size": 16
          },
          "showarrow": false,
          "text": "Summary Table",
          "x": 0.7158,
          "xanchor": "center",
          "xref": "paper",
          "y": 1,
          "yanchor": "bottom",
          "yref": "paper"
         }
        ],
        "height": 600,
        "legend": {
         "orientation": "h",
         "x": 0.55,
         "xanchor": "center",
         "y": 0,
         "yanchor": "bottom"
        },
        "margin": {
         "b": 20,
         "l": 20,
         "r": 20,
         "t": 50
        },
        "template": {
         "data": {
          "bar": [
           {
            "error_x": {
             "color": "#2a3f5f"
            },
            "error_y": {
             "color": "#2a3f5f"
            },
            "marker": {
             "line": {
              "color": "#E5ECF6",
              "width": 0.5
             },
             "pattern": {
              "fillmode": "overlay",
              "size": 10,
              "solidity": 0.2
             }
            },
            "type": "bar"
           }
          ],
          "barpolar": [
           {
            "marker": {
             "line": {
              "color": "#E5ECF6",
              "width": 0.5
             },
             "pattern": {
              "fillmode": "overlay",
              "size": 10,
              "solidity": 0.2
             }
            },
            "type": "barpolar"
           }
          ],
          "carpet": [
           {
            "aaxis": {
             "endlinecolor": "#2a3f5f",
             "gridcolor": "white",
             "linecolor": "white",
             "minorgridcolor": "white",
             "startlinecolor": "#2a3f5f"
            },
            "baxis": {
             "endlinecolor": "#2a3f5f",
             "gridcolor": "white",
             "linecolor": "white",
             "minorgridcolor": "white",
             "startlinecolor": "#2a3f5f"
            },
            "type": "carpet"
           }
          ],
          "choropleth": [
           {
            "colorbar": {
             "outlinewidth": 0,
             "ticks": ""
            },
            "type": "choropleth"
           }
          ],
          "contour": [
           {
            "colorbar": {
             "outlinewidth": 0,
             "ticks": ""
            },
            "colorscale": [
             [
              0,
              "#0d0887"
             ],
             [
              0.1111111111111111,
              "#46039f"
             ],
             [
              0.2222222222222222,
              "#7201a8"
             ],
             [
              0.3333333333333333,
              "#9c179e"
             ],
             [
              0.4444444444444444,
              "#bd3786"
             ],
             [
              0.5555555555555556,
              "#d8576b"
             ],
             [
              0.6666666666666666,
              "#ed7953"
             ],
             [
              0.7777777777777778,
              "#fb9f3a"
             ],
             [
              0.8888888888888888,
              "#fdca26"
             ],
             [
              1,
              "#f0f921"
             ]
            ],
            "type": "contour"
           }
          ],
          "contourcarpet": [
           {
            "colorbar": {
             "outlinewidth": 0,
             "ticks": ""
            },
            "type": "contourcarpet"
           }
          ],
          "heatmap": [
           {
            "colorbar": {
             "outlinewidth": 0,
             "ticks": ""
            },
            "colorscale": [
             [
              0,
              "#0d0887"
             ],
             [
              0.1111111111111111,
              "#46039f"
             ],
             [
              0.2222222222222222,
              "#7201a8"
             ],
             [
              0.3333333333333333,
              "#9c179e"
             ],
             [
              0.4444444444444444,
              "#bd3786"
             ],
             [
              0.5555555555555556,
              "#d8576b"
             ],
             [
              0.6666666666666666,
              "#ed7953"
             ],
             [
              0.7777777777777778,
              "#fb9f3a"
             ],
             [
              0.8888888888888888,
              "#fdca26"
             ],
             [
              1,
              "#f0f921"
             ]
            ],
            "type": "heatmap"
           }
          ],
          "histogram": [
           {
            "marker": {
             "pattern": {
              "fillmode": "overlay",
              "size": 10,
              "solidity": 0.2
             }
            },
            "type": "histogram"
           }
          ],
          "histogram2d": [
           {
            "colorbar": {
             "outlinewidth": 0,
             "ticks": ""
            },
            "colorscale": [
             [
              0,
              "#0d0887"
             ],
             [
              0.1111111111111111,
              "#46039f"
             ],
             [
              0.2222222222222222,
              "#7201a8"
             ],
             [
              0.3333333333333333,
              "#9c179e"
             ],
             [
              0.4444444444444444,
              "#bd3786"
             ],
             [
              0.5555555555555556,
              "#d8576b"
             ],
             [
              0.6666666666666666,
              "#ed7953"
             ],
             [
              0.7777777777777778,
              "#fb9f3a"
             ],
             [
              0.8888888888888888,
              "#fdca26"
             ],
             [
              1,
              "#f0f921"
             ]
            ],
            "type": "histogram2d"
           }
          ],
          "histogram2dcontour": [
           {
            "colorbar": {
             "outlinewidth": 0,
             "ticks": ""
            },
            "colorscale": [
             [
              0,
              "#0d0887"
             ],
             [
              0.1111111111111111,
              "#46039f"
             ],
             [
              0.2222222222222222,
              "#7201a8"
             ],
             [
              0.3333333333333333,
              "#9c179e"
             ],
             [
              0.4444444444444444,
              "#bd3786"
             ],
             [
              0.5555555555555556,
              "#d8576b"
             ],
             [
              0.6666666666666666,
              "#ed7953"
             ],
             [
              0.7777777777777778,
              "#fb9f3a"
             ],
             [
              0.8888888888888888,
              "#fdca26"
             ],
             [
              1,
              "#f0f921"
             ]
            ],
            "type": "histogram2dcontour"
           }
          ],
          "mesh3d": [
           {
            "colorbar": {
             "outlinewidth": 0,
             "ticks": ""
            },
            "type": "mesh3d"
           }
          ],
          "parcoords": [
           {
            "line": {
             "colorbar": {
              "outlinewidth": 0,
              "ticks": ""
             }
            },
            "type": "parcoords"
           }
          ],
          "pie": [
           {
            "automargin": true,
            "type": "pie"
           }
          ],
          "scatter": [
           {
            "fillpattern": {
             "fillmode": "overlay",
             "size": 10,
             "solidity": 0.2
            },
            "type": "scatter"
           }
          ],
          "scatter3d": [
           {
            "line": {
             "colorbar": {
              "outlinewidth": 0,
              "ticks": ""
             }
            },
            "marker": {
             "colorbar": {
              "outlinewidth": 0,
              "ticks": ""
             }
            },
            "type": "scatter3d"
           }
          ],
          "scattercarpet": [
           {
            "marker": {
             "colorbar": {
              "outlinewidth": 0,
              "ticks": ""
             }
            },
            "type": "scattercarpet"
           }
          ],
          "scattergeo": [
           {
            "marker": {
             "colorbar": {
              "outlinewidth": 0,
              "ticks": ""
             }
            },
            "type": "scattergeo"
           }
          ],
          "scattergl": [
           {
            "marker": {
             "colorbar": {
              "outlinewidth": 0,
              "ticks": ""
             }
            },
            "type": "scattergl"
           }
          ],
          "scattermap": [
           {
            "marker": {
             "colorbar": {
              "outlinewidth": 0,
              "ticks": ""
             }
            },
            "type": "scattermap"
           }
          ],
          "scattermapbox": [
           {
            "marker": {
             "colorbar": {
              "outlinewidth": 0,
              "ticks": ""
             }
            },
            "type": "scattermapbox"
           }
          ],
          "scatterpolar": [
           {
            "marker": {
             "colorbar": {
              "outlinewidth": 0,
              "ticks": ""
             }
            },
            "type": "scatterpolar"
           }
          ],
          "scatterpolargl": [
           {
            "marker": {
             "colorbar": {
              "outlinewidth": 0,
              "ticks": ""
             }
            },
            "type": "scatterpolargl"
           }
          ],
          "scatterternary": [
           {
            "marker": {
             "colorbar": {
              "outlinewidth": 0,
              "ticks": ""
             }
            },
            "type": "scatterternary"
           }
          ],
          "surface": [
           {
            "colorbar": {
             "outlinewidth": 0,
             "ticks": ""
            },
            "colorscale": [
             [
              0,
              "#0d0887"
             ],
             [
              0.1111111111111111,
              "#46039f"
             ],
             [
              0.2222222222222222,
              "#7201a8"
             ],
             [
              0.3333333333333333,
              "#9c179e"
             ],
             [
              0.4444444444444444,
              "#bd3786"
             ],
             [
              0.5555555555555556,
              "#d8576b"
             ],
             [
              0.6666666666666666,
              "#ed7953"
             ],
             [
              0.7777777777777778,
              "#fb9f3a"
             ],
             [
              0.8888888888888888,
              "#fdca26"
             ],
             [
              1,
              "#f0f921"
             ]
            ],
            "type": "surface"
           }
          ],
          "table": [
           {
            "cells": {
             "fill": {
              "color": "#EBF0F8"
             },
             "line": {
              "color": "white"
             }
            },
            "header": {
             "fill": {
              "color": "#C8D4E3"
             },
             "line": {
              "color": "white"
             }
            },
            "type": "table"
           }
          ]
         },
         "layout": {
          "annotationdefaults": {
           "arrowcolor": "#2a3f5f",
           "arrowhead": 0,
           "arrowwidth": 1
          },
          "autotypenumbers": "strict",
          "coloraxis": {
           "colorbar": {
            "outlinewidth": 0,
            "ticks": ""
           }
          },
          "colorscale": {
           "diverging": [
            [
             0,
             "#8e0152"
            ],
            [
             0.1,
             "#c51b7d"
            ],
            [
             0.2,
             "#de77ae"
            ],
            [
             0.3,
             "#f1b6da"
            ],
            [
             0.4,
             "#fde0ef"
            ],
            [
             0.5,
             "#f7f7f7"
            ],
            [
             0.6,
             "#e6f5d0"
            ],
            [
             0.7,
             "#b8e186"
            ],
            [
             0.8,
             "#7fbc41"
            ],
            [
             0.9,
             "#4d9221"
            ],
            [
             1,
             "#276419"
            ]
           ],
           "sequential": [
            [
             0,
             "#0d0887"
            ],
            [
             0.1111111111111111,
             "#46039f"
            ],
            [
             0.2222222222222222,
             "#7201a8"
            ],
            [
             0.3333333333333333,
             "#9c179e"
            ],
            [
             0.4444444444444444,
             "#bd3786"
            ],
            [
             0.5555555555555556,
             "#d8576b"
            ],
            [
             0.6666666666666666,
             "#ed7953"
            ],
            [
             0.7777777777777778,
             "#fb9f3a"
            ],
            [
             0.8888888888888888,
             "#fdca26"
            ],
            [
             1,
             "#f0f921"
            ]
           ],
           "sequentialminus": [
            [
             0,
             "#0d0887"
            ],
            [
             0.1111111111111111,
             "#46039f"
            ],
            [
             0.2222222222222222,
             "#7201a8"
            ],
            [
             0.3333333333333333,
             "#9c179e"
            ],
            [
             0.4444444444444444,
             "#bd3786"
            ],
            [
             0.5555555555555556,
             "#d8576b"
            ],
            [
             0.6666666666666666,
             "#ed7953"
            ],
            [
             0.7777777777777778,
             "#fb9f3a"
            ],
            [
             0.8888888888888888,
             "#fdca26"
            ],
            [
             1,
             "#f0f921"
            ]
           ]
          },
          "colorway": [
           "#636efa",
           "#EF553B",
           "#00cc96",
           "#ab63fa",
           "#FFA15A",
           "#19d3f3",
           "#FF6692",
           "#B6E880",
           "#FF97FF",
           "#FECB52"
          ],
          "font": {
           "color": "#2a3f5f"
          },
          "geo": {
           "bgcolor": "white",
           "lakecolor": "white",
           "landcolor": "#E5ECF6",
           "showlakes": true,
           "showland": true,
           "subunitcolor": "white"
          },
          "hoverlabel": {
           "align": "left"
          },
          "hovermode": "closest",
          "mapbox": {
           "style": "light"
          },
          "paper_bgcolor": "white",
          "plot_bgcolor": "#E5ECF6",
          "polar": {
           "angularaxis": {
            "gridcolor": "white",
            "linecolor": "white",
            "ticks": ""
           },
           "bgcolor": "#E5ECF6",
           "radialaxis": {
            "gridcolor": "white",
            "linecolor": "white",
            "ticks": ""
           }
          },
          "scene": {
           "xaxis": {
            "backgroundcolor": "#E5ECF6",
            "gridcolor": "white",
            "gridwidth": 2,
            "linecolor": "white",
            "showbackground": true,
            "ticks": "",
            "zerolinecolor": "white"
           },
           "yaxis": {
            "backgroundcolor": "#E5ECF6",
            "gridcolor": "white",
            "gridwidth": 2,
            "linecolor": "white",
            "showbackground": true,
            "ticks": "",
            "zerolinecolor": "white"
           },
           "zaxis": {
            "backgroundcolor": "#E5ECF6",
            "gridcolor": "white",
            "gridwidth": 2,
            "linecolor": "white",
            "showbackground": true,
            "ticks": "",
            "zerolinecolor": "white"
           }
          },
          "shapedefaults": {
           "line": {
            "color": "#2a3f5f"
           }
          },
          "ternary": {
           "aaxis": {
            "gridcolor": "white",
            "linecolor": "white",
            "ticks": ""
           },
           "baxis": {
            "gridcolor": "white",
            "linecolor": "white",
            "ticks": ""
           },
           "bgcolor": "#E5ECF6",
           "caxis": {
            "gridcolor": "white",
            "linecolor": "white",
            "ticks": ""
           }
          },
          "title": {
           "x": 0.05
          },
          "xaxis": {
           "automargin": true,
           "gridcolor": "white",
           "linecolor": "white",
           "ticks": "",
           "title": {
            "standoff": 15
           },
           "zerolinecolor": "white",
           "zerolinewidth": 2
          },
          "yaxis": {
           "automargin": true,
           "gridcolor": "white",
           "linecolor": "white",
           "ticks": "",
           "title": {
            "standoff": 15
           },
           "zerolinecolor": "white",
           "zerolinewidth": 2
          }
         }
        },
        "title": {
         "text": "Report #4: Weekly Sales by Store Type and Month"
        },
        "width": 1125,
        "xaxis": {
         "anchor": "y",
         "domain": [
          0,
          0.41159999999999997
         ]
        },
        "yaxis": {
         "anchor": "x",
         "domain": [
          0,
          1
         ]
        }
       }
      },
      "image/png": "[encoded data removed]"
     },
     "metadata": {},
     "output_type": "display_data"
    }
   ],
   "source": [
    "# Let's combine the graph and the summary table into single dashboard-type of presentation\n",
    "\n",
    "# First, let's layout the overall container for the charts\n",
    "fig = make_subplots(\n",
    "    rows=1,\n",
    "    cols=2,\n",
    "    column_widths=[0.42,0.58],\n",
    "    horizontal_spacing=0.02,  # reduce the gutter between col1 and col2\n",
    "    subplot_titles=(\"Weekly Sales by Store Type and Month\", \"Summary Table\"),\n",
    "    specs=[[{\"type\": \"xy\"}, {\"type\": \"table\"}]]\n",
    ")\n",
    "\n",
    "# Next, let's add the line chart to layout column 1\n",
    "for store_type in df['store_type'].unique():\n",
    "    df_subset = df[df['store_type'] == store_type]\n",
    "    fig.add_trace(\n",
    "        go.Scatter(\n",
    "            x=df_subset['month_name'],\n",
    "            y=df_subset['weekly_sales'],\n",
    "            mode='lines+markers',\n",
    "            name=f\"Type {store_type}\",\n",
    "            text=df_subset['hover_text'],\n",
    "            hovertemplate=\"%{text}<extra></extra>\"\n",
    "        ),\n",
    "        row=1,\n",
    "        col=1\n",
    "    )\n",
    "\n",
    "# Now add the summary table to layout column 2.  Be sure to use the \n",
    "# unformatted summary data in df_summary.\n",
    "fig.add_trace(\n",
    "    go.Table(\n",
    "        columnwidth=[22, 40, 40, 40],\n",
    "        header=dict(\n",
    "            values=[\"Month\", \"Store A\", \"Store B\", \"Store C\"],\n",
    "            fill_color=\"lightblue\",\n",
    "            align=\"left\"\n",
    "        ),\n",
    "        cells=dict(\n",
    "            values=[\n",
    "                df_summary['month_name'],\n",
    "                df_summary['store_type_a_sales'],\n",
    "                df_summary['store_type_b_sales'],\n",
    "                df_summary['store_type_c_sales']\n",
    "            ],\n",
    "            format=[\"\", \",.2f\", \",.2f\", \",.2f\"],\n",
    "            align=[\"left\", \"right\",\"right\",\"right\"],\n",
    "            prefix=[\"\", \"$\", \"$\", \"$\"]\n",
    "        )\n",
    "    ),\n",
    "    row=1,\n",
    "    col=2\n",
    ")\n",
    "\n",
    "# Update layout\n",
    "fig.update_layout(\n",
    "    margin=dict(l=20, r=20, t=50, b=20),  # reduce the left/right margin a bit to help with horizontal scrolling\n",
    "    height=600,\n",
    "    width=1125,\n",
    "    title_text=\"Report #4: Weekly Sales by Store Type and Month\",\n",
    "    legend=dict(\n",
    "        orientation=\"h\",\n",
    "        yanchor=\"bottom\",\n",
    "        y=0.0,\n",
    "        xanchor=\"center\",\n",
    "        x=0.55\n",
    "    )\n",
    ")\n",
    "\n",
    "fig.show()\n",
    "    \n"
   ]
  },
  {
   "cell_type": "code",
   "execution_count": null,
   "id": "28795787-6e52-4b13-8692-498675a230ad",
   "metadata": {},
   "outputs": [],
   "source": [
    "# Close the connection\n",
    "conn.close()"
   ]
  }
 ],
 "metadata": {
  "kernelspec": {
   "display_name": "Python 3 (ipykernel)",
   "language": "python",
   "name": "python3"
  },
  "language_info": {
   "codemirror_mode": {
    "name": "ipython",
    "version": 3
   },
   "file_extension": ".py",
   "mimetype": "text/x-python",
   "name": "python",
   "nbconvert_exporter": "python",
   "pygments_lexer": "ipython3",
   "version": "3.13.2"
  }
 },
 "nbformat": 4,
 "nbformat_minor": 5
}
