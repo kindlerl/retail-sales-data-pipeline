{
 "cells": [
  {
   "cell_type": "code",
   "execution_count": 1,
   "id": "76487bfa-c291-4d3b-8dad-f920f16d831e",
   "metadata": {},
   "outputs": [
    {
     "data": {
      "text/plain": [
       "True"
      ]
     },
     "execution_count": 1,
     "metadata": {},
     "output_type": "execute_result"
    }
   ],
   "source": [
    "import os\n",
    "from dotenv import load_dotenv\n",
    "import snowflake.connector\n",
    "import pandas as pd\n",
    "import plotly.express as px\n",
    "# Use Plotly's \"make_subplots\" function from \"plotly.subplots\" to layout elements horizontally\n",
    "from plotly.subplots import make_subplots\n",
    "import plotly.graph_objects as go\n",
    "\n",
    "# Load credentials\n",
    "load_dotenv()"
   ]
  },
  {
   "cell_type": "code",
   "execution_count": 2,
   "id": "1e2ab658-d842-467e-9920-5f0824343aa2",
   "metadata": {},
   "outputs": [],
   "source": [
    "# Connect to Snowflake\n",
    "conn = snowflake.connector.connect(\n",
    "    user=os.getenv('SNOWFLAKE_USER'),\n",
    "    password=os.getenv('SNOWFLAKE_PASSWORD'),\n",
    "    account=os.getenv('SNOWFLAKE_ACCOUNT') + '.' + os.getenv('SNOWFLAKE_REGION'),\n",
    "    warehouse=os.getenv('SNOWFLAKE_WAREHOUSE'),\n",
    "    database='WALMART_DB',\n",
    "    schema='SILVER',\n",
    "    role=os.getenv('SNOWFLAKE_ROLE')\n",
    ")"
   ]
  },
  {
   "cell_type": "code",
   "execution_count": 4,
   "id": "2b8d9a09-33c2-411a-878f-71dc688ef9a1",
   "metadata": {},
   "outputs": [
    {
     "name": "stderr",
     "output_type": "stream",
     "text": [
      "/var/folders/90/m9dcfcxn38j0ypf7wjqn_bf80000gp/T/ipykernel_6243/3199554947.py:64: UserWarning: pandas only supports SQLAlchemy connectable (engine/connection) or database string URI or sqlite3 DBAPI2 connection. Other DBAPI2 objects are not tested. Please consider using SQLAlchemy.\n",
      "  df_by_month = pd.read_sql(sql_by_month, conn)\n"
     ]
    },
    {
     "name": "stdout",
     "output_type": "stream",
     "text": [
      "Index(['year', 'total_annual_sales'], dtype='object')\n",
      "Index(['month', 'month_name', 'total_monthly_sales'], dtype='object')\n",
      "Index(['day', 'total_daily_sales'], dtype='object')\n"
     ]
    },
    {
     "name": "stderr",
     "output_type": "stream",
     "text": [
      "/var/folders/90/m9dcfcxn38j0ypf7wjqn_bf80000gp/T/ipykernel_6243/3199554947.py:67: UserWarning: pandas only supports SQLAlchemy connectable (engine/connection) or database string URI or sqlite3 DBAPI2 connection. Other DBAPI2 objects are not tested. Please consider using SQLAlchemy.\n",
      "  df_by_day = pd.read_sql(sql_by_day, conn)\n"
     ]
    }
   ],
   "source": [
    "# SQL query\n",
    "\n",
    "sql_by_year = \"\"\"\n",
    "SELECT\n",
    "    wdd.year,\n",
    "    sum(wft.store_weekly_sales) as total_annual_sales\n",
    "FROM\n",
    "    walmart_fact_table wft\n",
    "JOIN\n",
    "    walmart_date_dim wdd\n",
    "ON\n",
    "    wft.date_id = wdd.date_id\n",
    "GROUP BY\n",
    "    wdd.year\n",
    "ORDER BY\n",
    "    1\n",
    "\"\"\"\n",
    "\n",
    "sql_by_month = \"\"\"\n",
    "SELECT\n",
    "    wdd.month,\n",
    "    wdd.month_name,\n",
    "    sum(wft.store_weekly_sales) as total_monthly_sales\n",
    "FROM\n",
    "    walmart_fact_table wft\n",
    "JOIN\n",
    "    walmart_date_dim wdd\n",
    "ON\n",
    "    wft.date_id = wdd.date_id\n",
    "GROUP BY\n",
    "    1,2\n",
    "ORDER BY\n",
    "    1\n",
    "\"\"\"\n",
    "\n",
    "sql_by_day = \"\"\"\n",
    "SELECT\n",
    "    wdd.day,\n",
    "    sum(wft.store_weekly_sales) as total_daily_sales\n",
    "FROM\n",
    "    walmart_fact_table wft\n",
    "JOIN\n",
    "    walmart_date_dim wdd\n",
    "ON\n",
    "    wft.date_id = wdd.date_id\n",
    "GROUP BY\n",
    "    1\n",
    "ORDER BY\n",
    "    1\n",
    "\"\"\"\n",
    "\n",
    "\n",
    "# Run the first query using Snowflake connector.  Once we establish\n",
    "# the connector, we can reuse it for the other 2 queries\n",
    "cur = conn.cursor()\n",
    "cur.execute(sql_by_year)\n",
    "\n",
    "# Load results into DataFrame\n",
    "columns = [col[0] for col in cur.description]\n",
    "data = cur.fetchall()\n",
    "df_by_year = pd.DataFrame(data, columns=columns)\n",
    "\n",
    "# Next, get the monthly sales data\n",
    "df_by_month = pd.read_sql(sql_by_month, conn)\n",
    "\n",
    "# Finally, get the daily sales data\n",
    "df_by_day = pd.read_sql(sql_by_day, conn)\n",
    "\n",
    "# Force the column names to lowercase for each dataframe\n",
    "df_by_year.columns = [col.lower() for col in df_by_year.columns]\n",
    "df_by_month.columns = [col.lower() for col in df_by_month.columns]\n",
    "df_by_day.columns = [col.lower() for col in df_by_day.columns]\n",
    "\n",
    "print(df_by_year.columns)\n",
    "print(df_by_month.columns)\n",
    "print(df_by_day.columns)"
   ]
  },
  {
   "cell_type": "code",
   "execution_count": 54,
   "id": "76f38d29-a280-4474-a301-ea0f876afc89",
   "metadata": {},
   "outputs": [
    {
     "data": {
      "application/vnd.plotly.v1+json": {
       "config": {
        "plotlyServerURL": "https://plot.ly"
       },
       "data": [
        {
         "hovertemplate": "Year: %{x}<br>Total Annual Sales: %{y:$,.2f}<extra></extra>",
         "orientation": "v",
         "text": [
          "$2.29B",
          "$2.45B",
          "$2.00B"
         ],
         "textposition": "auto",
         "type": "bar",
         "x": {
          "bdata": "2gfbB9wH",
          "dtype": "i2"
         },
         "xaxis": "x",
         "y": {
          "bdata": "uB4NLbQN4UEzM+sokj3iQWZm1r7mzd1B",
          "dtype": "f8"
         },
         "yaxis": "y"
        },
        {
         "hovertemplate": "Month: %{x}<br>Total Monthly Sales: %{y:$,.2f}<extra></extra>",
         "orientation": "v",
         "text": [
          "$332.60M",
          "$568.73M",
          "$592.79M",
          "$646.86M",
          "$557.13M",
          "$622.63M",
          "$650.00M",
          "$613.09M",
          "$578.76M",
          "$584.78M",
          "$413.02M",
          "$576.84M"
         ],
         "textposition": "auto",
         "type": "bar",
         "x": [
          "January",
          "February",
          "March",
          "April",
          "May",
          "June",
          "July",
          "August",
          "September",
          "October",
          "November",
          "December"
         ],
         "xaxis": "x2",
         "y": {
          "bdata": "pHB9pgzTs0GamTmpDPPAQQrXo/aYqsFB9ih8BCZHw0Gamfnhh5rAQR+Fa/9JjsJBAACgKB1fw0HD9WjQgUXCQa5Hoe2YP8FBH4XLyY1twUFcjwKtHp64QZqZmfXtMMFB",
          "dtype": "f8"
         },
         "yaxis": "y2"
        },
        {
         "hovertemplate": "Day: %{x}<br>Total Daily Sales: %{y:$,.2f}<extra></extra>",
         "orientation": "v",
         "text": [
          "$181.56M",
          "$240.97M",
          "$239.45M",
          "$239.10M",
          "$237.99M",
          "$244.78M",
          "$186.82M",
          "$188.50M",
          "$245.07M",
          "$246.38M",
          "$235.19M",
          "$232.76M",
          "$226.66M",
          "$174.60M",
          "$182.05M",
          "$242.21M",
          "$249.90M",
          "$234.47M",
          "$230.43M",
          "$224.32M",
          "$175.95M",
          "$184.69M",
          "$254.33M",
          "$261.39M",
          "$248.10M",
          "$246.88M",
          "$218.85M",
          "$176.95M",
          "$177.41M",
          "$221.85M",
          "$87.59M"
         ],
         "textposition": "auto",
         "type": "bar",
         "x": {
          "bdata": "AQIDBAUGBwgJCgsMDQ4PEBESExQVFhcYGRobHB0eHw==",
          "dtype": "i1"
         },
         "xaxis": "x3",
         "y": {
          "bdata": "KVyP+L2kpUFI4fp0zrmsQQrXowZWi6xBH4VrYNCArEHXo/D1w16sQexROOoFLq1BH4XrVVFFpkF7FC4Zl3imQc3MTKLuNq1BMzOzIwlfrUHNzEwlbwmsQfYo3Dxsv6tB16Nw1jEFq0GuR2GSgtCkQR+FazTAs6VBpHA9r5/frEEUrkdqXMqtQTMzM+CP86tB4XqUnTR4q0HXo3DZuL2qQRSuR8GD+aRBrkfh0ysEpkGF61H0o1GuQbgeha0TKa9BXI/CF1OTrUGF61HwUW6tQbgeBTzWFqpBAAAA2AYYpUFcj0IEOSalQQAAAOg4cqpB7FG4eTPilEE=",
          "dtype": "f8"
         },
         "yaxis": "y3"
        }
       ],
       "layout": {
        "annotations": [
         {
          "font": {
           "color": "black",
           "family": "Helvetica",
           "size": 16
          },
          "showarrow": false,
          "text": "Weekly Sales by Year",
          "x": 0.08,
          "xref": "paper",
          "y": 1.06,
          "yref": "paper"
         },
         {
          "font": {
           "color": "black",
           "family": "Helvetica",
           "size": 16
          },
          "showarrow": false,
          "text": "Weekly Sales by Month",
          "x": 0.8,
          "xref": "paper",
          "y": 1.06,
          "yref": "paper"
         },
         {
          "font": {
           "color": "black",
           "family": "Helvetica",
           "size": 16
          },
          "showarrow": false,
          "text": "Weekly Sales by Day",
          "x": 0.48,
          "xref": "paper",
          "y": 0.43,
          "yref": "paper"
         }
        ],
        "height": 750,
        "margin": {
         "b": 110,
         "l": 0,
         "r": 0,
         "t": 110
        },
        "showlegend": false,
        "template": {
         "data": {
          "bar": [
           {
            "error_x": {
             "color": "#2a3f5f"
            },
            "error_y": {
             "color": "#2a3f5f"
            },
            "marker": {
             "line": {
              "color": "#E5ECF6",
              "width": 0.5
             },
             "pattern": {
              "fillmode": "overlay",
              "size": 10,
              "solidity": 0.2
             }
            },
            "type": "bar"
           }
          ],
          "barpolar": [
           {
            "marker": {
             "line": {
              "color": "#E5ECF6",
              "width": 0.5
             },
             "pattern": {
              "fillmode": "overlay",
              "size": 10,
              "solidity": 0.2
             }
            },
            "type": "barpolar"
           }
          ],
          "carpet": [
           {
            "aaxis": {
             "endlinecolor": "#2a3f5f",
             "gridcolor": "white",
             "linecolor": "white",
             "minorgridcolor": "white",
             "startlinecolor": "#2a3f5f"
            },
            "baxis": {
             "endlinecolor": "#2a3f5f",
             "gridcolor": "white",
             "linecolor": "white",
             "minorgridcolor": "white",
             "startlinecolor": "#2a3f5f"
            },
            "type": "carpet"
           }
          ],
          "choropleth": [
           {
            "colorbar": {
             "outlinewidth": 0,
             "ticks": ""
            },
            "type": "choropleth"
           }
          ],
          "contour": [
           {
            "colorbar": {
             "outlinewidth": 0,
             "ticks": ""
            },
            "colorscale": [
             [
              0,
              "#0d0887"
             ],
             [
              0.1111111111111111,
              "#46039f"
             ],
             [
              0.2222222222222222,
              "#7201a8"
             ],
             [
              0.3333333333333333,
              "#9c179e"
             ],
             [
              0.4444444444444444,
              "#bd3786"
             ],
             [
              0.5555555555555556,
              "#d8576b"
             ],
             [
              0.6666666666666666,
              "#ed7953"
             ],
             [
              0.7777777777777778,
              "#fb9f3a"
             ],
             [
              0.8888888888888888,
              "#fdca26"
             ],
             [
              1,
              "#f0f921"
             ]
            ],
            "type": "contour"
           }
          ],
          "contourcarpet": [
           {
            "colorbar": {
             "outlinewidth": 0,
             "ticks": ""
            },
            "type": "contourcarpet"
           }
          ],
          "heatmap": [
           {
            "colorbar": {
             "outlinewidth": 0,
             "ticks": ""
            },
            "colorscale": [
             [
              0,
              "#0d0887"
             ],
             [
              0.1111111111111111,
              "#46039f"
             ],
             [
              0.2222222222222222,
              "#7201a8"
             ],
             [
              0.3333333333333333,
              "#9c179e"
             ],
             [
              0.4444444444444444,
              "#bd3786"
             ],
             [
              0.5555555555555556,
              "#d8576b"
             ],
             [
              0.6666666666666666,
              "#ed7953"
             ],
             [
              0.7777777777777778,
              "#fb9f3a"
             ],
             [
              0.8888888888888888,
              "#fdca26"
             ],
             [
              1,
              "#f0f921"
             ]
            ],
            "type": "heatmap"
           }
          ],
          "histogram": [
           {
            "marker": {
             "pattern": {
              "fillmode": "overlay",
              "size": 10,
              "solidity": 0.2
             }
            },
            "type": "histogram"
           }
          ],
          "histogram2d": [
           {
            "colorbar": {
             "outlinewidth": 0,
             "ticks": ""
            },
            "colorscale": [
             [
              0,
              "#0d0887"
             ],
             [
              0.1111111111111111,
              "#46039f"
             ],
             [
              0.2222222222222222,
              "#7201a8"
             ],
             [
              0.3333333333333333,
              "#9c179e"
             ],
             [
              0.4444444444444444,
              "#bd3786"
             ],
             [
              0.5555555555555556,
              "#d8576b"
             ],
             [
              0.6666666666666666,
              "#ed7953"
             ],
             [
              0.7777777777777778,
              "#fb9f3a"
             ],
             [
              0.8888888888888888,
              "#fdca26"
             ],
             [
              1,
              "#f0f921"
             ]
            ],
            "type": "histogram2d"
           }
          ],
          "histogram2dcontour": [
           {
            "colorbar": {
             "outlinewidth": 0,
             "ticks": ""
            },
            "colorscale": [
             [
              0,
              "#0d0887"
             ],
             [
              0.1111111111111111,
              "#46039f"
             ],
             [
              0.2222222222222222,
              "#7201a8"
             ],
             [
              0.3333333333333333,
              "#9c179e"
             ],
             [
              0.4444444444444444,
              "#bd3786"
             ],
             [
              0.5555555555555556,
              "#d8576b"
             ],
             [
              0.6666666666666666,
              "#ed7953"
             ],
             [
              0.7777777777777778,
              "#fb9f3a"
             ],
             [
              0.8888888888888888,
              "#fdca26"
             ],
             [
              1,
              "#f0f921"
             ]
            ],
            "type": "histogram2dcontour"
           }
          ],
          "mesh3d": [
           {
            "colorbar": {
             "outlinewidth": 0,
             "ticks": ""
            },
            "type": "mesh3d"
           }
          ],
          "parcoords": [
           {
            "line": {
             "colorbar": {
              "outlinewidth": 0,
              "ticks": ""
             }
            },
            "type": "parcoords"
           }
          ],
          "pie": [
           {
            "automargin": true,
            "type": "pie"
           }
          ],
          "scatter": [
           {
            "fillpattern": {
             "fillmode": "overlay",
             "size": 10,
             "solidity": 0.2
            },
            "type": "scatter"
           }
          ],
          "scatter3d": [
           {
            "line": {
             "colorbar": {
              "outlinewidth": 0,
              "ticks": ""
             }
            },
            "marker": {
             "colorbar": {
              "outlinewidth": 0,
              "ticks": ""
             }
            },
            "type": "scatter3d"
           }
          ],
          "scattercarpet": [
           {
            "marker": {
             "colorbar": {
              "outlinewidth": 0,
              "ticks": ""
             }
            },
            "type": "scattercarpet"
           }
          ],
          "scattergeo": [
           {
            "marker": {
             "colorbar": {
              "outlinewidth": 0,
              "ticks": ""
             }
            },
            "type": "scattergeo"
           }
          ],
          "scattergl": [
           {
            "marker": {
             "colorbar": {
              "outlinewidth": 0,
              "ticks": ""
             }
            },
            "type": "scattergl"
           }
          ],
          "scattermap": [
           {
            "marker": {
             "colorbar": {
              "outlinewidth": 0,
              "ticks": ""
             }
            },
            "type": "scattermap"
           }
          ],
          "scattermapbox": [
           {
            "marker": {
             "colorbar": {
              "outlinewidth": 0,
              "ticks": ""
             }
            },
            "type": "scattermapbox"
           }
          ],
          "scatterpolar": [
           {
            "marker": {
             "colorbar": {
              "outlinewidth": 0,
              "ticks": ""
             }
            },
            "type": "scatterpolar"
           }
          ],
          "scatterpolargl": [
           {
            "marker": {
             "colorbar": {
              "outlinewidth": 0,
              "ticks": ""
             }
            },
            "type": "scatterpolargl"
           }
          ],
          "scatterternary": [
           {
            "marker": {
             "colorbar": {
              "outlinewidth": 0,
              "ticks": ""
             }
            },
            "type": "scatterternary"
           }
          ],
          "surface": [
           {
            "colorbar": {
             "outlinewidth": 0,
             "ticks": ""
            },
            "colorscale": [
             [
              0,
              "#0d0887"
             ],
             [
              0.1111111111111111,
              "#46039f"
             ],
             [
              0.2222222222222222,
              "#7201a8"
             ],
             [
              0.3333333333333333,
              "#9c179e"
             ],
             [
              0.4444444444444444,
              "#bd3786"
             ],
             [
              0.5555555555555556,
              "#d8576b"
             ],
             [
              0.6666666666666666,
              "#ed7953"
             ],
             [
              0.7777777777777778,
              "#fb9f3a"
             ],
             [
              0.8888888888888888,
              "#fdca26"
             ],
             [
              1,
              "#f0f921"
             ]
            ],
            "type": "surface"
           }
          ],
          "table": [
           {
            "cells": {
             "fill": {
              "color": "#EBF0F8"
             },
             "line": {
              "color": "white"
             }
            },
            "header": {
             "fill": {
              "color": "#C8D4E3"
             },
             "line": {
              "color": "white"
             }
            },
            "type": "table"
           }
          ]
         },
         "layout": {
          "annotationdefaults": {
           "arrowcolor": "#2a3f5f",
           "arrowhead": 0,
           "arrowwidth": 1
          },
          "autotypenumbers": "strict",
          "coloraxis": {
           "colorbar": {
            "outlinewidth": 0,
            "ticks": ""
           }
          },
          "colorscale": {
           "diverging": [
            [
             0,
             "#8e0152"
            ],
            [
             0.1,
             "#c51b7d"
            ],
            [
             0.2,
             "#de77ae"
            ],
            [
             0.3,
             "#f1b6da"
            ],
            [
             0.4,
             "#fde0ef"
            ],
            [
             0.5,
             "#f7f7f7"
            ],
            [
             0.6,
             "#e6f5d0"
            ],
            [
             0.7,
             "#b8e186"
            ],
            [
             0.8,
             "#7fbc41"
            ],
            [
             0.9,
             "#4d9221"
            ],
            [
             1,
             "#276419"
            ]
           ],
           "sequential": [
            [
             0,
             "#0d0887"
            ],
            [
             0.1111111111111111,
             "#46039f"
            ],
            [
             0.2222222222222222,
             "#7201a8"
            ],
            [
             0.3333333333333333,
             "#9c179e"
            ],
            [
             0.4444444444444444,
             "#bd3786"
            ],
            [
             0.5555555555555556,
             "#d8576b"
            ],
            [
             0.6666666666666666,
             "#ed7953"
            ],
            [
             0.7777777777777778,
             "#fb9f3a"
            ],
            [
             0.8888888888888888,
             "#fdca26"
            ],
            [
             1,
             "#f0f921"
            ]
           ],
           "sequentialminus": [
            [
             0,
             "#0d0887"
            ],
            [
             0.1111111111111111,
             "#46039f"
            ],
            [
             0.2222222222222222,
             "#7201a8"
            ],
            [
             0.3333333333333333,
             "#9c179e"
            ],
            [
             0.4444444444444444,
             "#bd3786"
            ],
            [
             0.5555555555555556,
             "#d8576b"
            ],
            [
             0.6666666666666666,
             "#ed7953"
            ],
            [
             0.7777777777777778,
             "#fb9f3a"
            ],
            [
             0.8888888888888888,
             "#fdca26"
            ],
            [
             1,
             "#f0f921"
            ]
           ]
          },
          "colorway": [
           "#636efa",
           "#EF553B",
           "#00cc96",
           "#ab63fa",
           "#FFA15A",
           "#19d3f3",
           "#FF6692",
           "#B6E880",
           "#FF97FF",
           "#FECB52"
          ],
          "font": {
           "color": "#2a3f5f"
          },
          "geo": {
           "bgcolor": "white",
           "lakecolor": "white",
           "landcolor": "#E5ECF6",
           "showlakes": true,
           "showland": true,
           "subunitcolor": "white"
          },
          "hoverlabel": {
           "align": "left"
          },
          "hovermode": "closest",
          "mapbox": {
           "style": "light"
          },
          "paper_bgcolor": "white",
          "plot_bgcolor": "#E5ECF6",
          "polar": {
           "angularaxis": {
            "gridcolor": "white",
            "linecolor": "white",
            "ticks": ""
           },
           "bgcolor": "#E5ECF6",
           "radialaxis": {
            "gridcolor": "white",
            "linecolor": "white",
            "ticks": ""
           }
          },
          "scene": {
           "xaxis": {
            "backgroundcolor": "#E5ECF6",
            "gridcolor": "white",
            "gridwidth": 2,
            "linecolor": "white",
            "showbackground": true,
            "ticks": "",
            "zerolinecolor": "white"
           },
           "yaxis": {
            "backgroundcolor": "#E5ECF6",
            "gridcolor": "white",
            "gridwidth": 2,
            "linecolor": "white",
            "showbackground": true,
            "ticks": "",
            "zerolinecolor": "white"
           },
           "zaxis": {
            "backgroundcolor": "#E5ECF6",
            "gridcolor": "white",
            "gridwidth": 2,
            "linecolor": "white",
            "showbackground": true,
            "ticks": "",
            "zerolinecolor": "white"
           }
          },
          "shapedefaults": {
           "line": {
            "color": "#2a3f5f"
           }
          },
          "ternary": {
           "aaxis": {
            "gridcolor": "white",
            "linecolor": "white",
            "ticks": ""
           },
           "baxis": {
            "gridcolor": "white",
            "linecolor": "white",
            "ticks": ""
           },
           "bgcolor": "#E5ECF6",
           "caxis": {
            "gridcolor": "white",
            "linecolor": "white",
            "ticks": ""
           }
          },
          "title": {
           "x": 0.05
          },
          "xaxis": {
           "automargin": true,
           "gridcolor": "white",
           "linecolor": "white",
           "ticks": "",
           "title": {
            "standoff": 15
           },
           "zerolinecolor": "white",
           "zerolinewidth": 2
          },
          "yaxis": {
           "automargin": true,
           "gridcolor": "white",
           "linecolor": "white",
           "ticks": "",
           "title": {
            "standoff": 15
           },
           "zerolinecolor": "white",
           "zerolinewidth": 2
          }
         }
        },
        "title": {
         "font": {
          "color": "black",
          "family": "Helvetica",
          "size": 20,
          "weight": "bold"
         },
         "text": "Weekly Sales by Year, Month, and Day",
         "x": 0.48
        },
        "width": 1075,
        "xaxis": {
         "anchor": "y",
         "domain": [
          0,
          0.3045
         ],
         "title": {
          "text": "Year"
         }
        },
        "xaxis2": {
         "anchor": "y2",
         "domain": [
          0.4345,
          1
         ],
         "title": {
          "text": "Month"
         }
        },
        "xaxis3": {
         "anchor": "y3",
         "domain": [
          0,
          1
         ],
         "title": {
          "text": "Day of Month"
         }
        },
        "yaxis": {
         "anchor": "x",
         "domain": [
          0.615,
          1
         ],
         "title": {
          "text": "Total Sales"
         }
        },
        "yaxis2": {
         "anchor": "x2",
         "domain": [
          0.615,
          1
         ],
         "title": {
          "text": "Total Sales"
         }
        },
        "yaxis3": {
         "anchor": "x3",
         "domain": [
          0,
          0.385
         ],
         "title": {
          "text": "Total Sales"
         }
        }
       }
      },
      "image/png": "[encoded data removed]"
     },
     "metadata": {},
     "output_type": "display_data"
    }
   ],
   "source": [
    "# Build the dashboard-type of presentation\n",
    "\n",
    "# First, let's layout the overall container for the charts\n",
    "fig = make_subplots(\n",
    "    rows=2,\n",
    "    cols=2,\n",
    "    specs=[\n",
    "        [{'type':\"xy\", 't':0, 'b':0}, {\"type\": \"xy\", 't':0, 'b':0}],\n",
    "        [{\"type\": \"xy\", 't':0, 'b':0, 'colspan':2}, None]\n",
    "    ],\n",
    "    column_widths=[0.35,0.65],\n",
    "    row_heights=[0.50, 0.50],\n",
    "    horizontal_spacing=0.13,  # horizontal gutter between col1 and col2\n",
    "    vertical_spacing = 0.23,  # vertical spacing between the charts\n",
    ")\n",
    "\n",
    "# ==============================\n",
    "\n",
    "# Formatting function\n",
    "def formatSales(value):\n",
    "    if value >= 1_000_000_000:\n",
    "        return f\"${value / 1_000_000_000:.2f}B\"\n",
    "    elif value >= 1_000_000:\n",
    "        return f\"${value / 1_000_000:.2f}M\"\n",
    "    elif value >= 1_000:\n",
    "        return f\"${value / 1_000:.2f}K\"\n",
    "    else:\n",
    "        return f\"${value:2f}\"\n",
    "\n",
    "# ===============================\n",
    "\n",
    "# Total Weekly Sales - BY YEAR\n",
    "trace_year = go.Bar(\n",
    "    x = df_by_year['year'],\n",
    "    y = df_by_year['total_annual_sales'],\n",
    "    # name=f\"Type {store_type}\",\n",
    "    orientation='v',\n",
    "    text=df_by_year['total_annual_sales'].apply(formatSales),\n",
    "    textposition='auto',\n",
    "    hovertemplate='Year: %{x}<br>Total Annual Sales: %{y:$,.2f}<extra></extra>'\n",
    ")\n",
    "\n",
    "# Create a trace for the yearly bar chart\n",
    "fig.add_trace(trace_year, row=1, col=1)\n",
    "\n",
    "fig.add_annotation(\n",
    "    text = \"Weekly Sales by Year\",\n",
    "    x = 0.08,  # roughly center of line chart\n",
    "    y = 1.06,  # above the line chart\n",
    "    xref = \"paper\",\n",
    "    yref = \"paper\",\n",
    "    showarrow = False,\n",
    "    font = dict(size=16, family=\"Helvetica\", color=\"black\")\n",
    ")\n",
    "\n",
    "# ===============================\n",
    "\n",
    "# Total Weekly Sales - BY MONTH\n",
    "trace_month = go.Bar(\n",
    "    x = df_by_month['month_name'],\n",
    "    y = df_by_month['total_monthly_sales'],\n",
    "    # name=f\"Type {store_type}\",\n",
    "    orientation='v',\n",
    "    text=df_by_month['total_monthly_sales'].apply(formatSales),\n",
    "    textposition='auto',\n",
    "    hovertemplate='Month: %{x}<br>Total Monthly Sales: %{y:$,.2f}<extra></extra>'\n",
    ")\n",
    "\n",
    "# Create a trace for the monthly bar chart\n",
    "fig.add_trace(trace_month, row=1, col=2)\n",
    "\n",
    "fig.add_annotation(\n",
    "    text = \"Weekly Sales by Month\",\n",
    "    x = 0.8,  # roughly center of line chart\n",
    "    y = 1.06,  # above the line chart\n",
    "    xref = \"paper\",\n",
    "    yref = \"paper\",\n",
    "    showarrow = False,\n",
    "    font = dict(size=16, family=\"Helvetica\", color=\"black\")\n",
    ")\n",
    "\n",
    "# ===============================\n",
    "\n",
    "# Total Weekly Sales - BY DAY\n",
    "trace_day = go.Bar(\n",
    "    x = df_by_day['day'],\n",
    "    y = df_by_day['total_daily_sales'],\n",
    "    # name=f\"Type {store_type}\",\n",
    "    orientation='v',\n",
    "    text=df_by_day['total_daily_sales'].apply(formatSales),\n",
    "    textposition='auto',\n",
    "    hovertemplate='Day: %{x}<br>Total Daily Sales: %{y:$,.2f}<extra></extra>'\n",
    ")\n",
    "\n",
    "fig.add_trace(trace_day, row=2, col=1)\n",
    "\n",
    "fig.add_annotation(\n",
    "    text = \"Weekly Sales by Day\",\n",
    "    x = 0.48,  # roughly center of line chart\n",
    "    y = 0.43,  # above the line chart\n",
    "    xref = \"paper\",\n",
    "    yref = \"paper\",\n",
    "    showarrow = False,\n",
    "    font = dict(size=16, family=\"Helvetica\", color=\"black\")\n",
    ")\n",
    "\n",
    "# ================================\n",
    "\n",
    "# Update layout\n",
    "fig.update_layout(\n",
    "    margin=dict(l=0, r=0, t=110, b=110),  # reduce the left/right margin a bit to help with horizontal scrolling\n",
    "    height=750,\n",
    "    width=1075,\n",
    "    showlegend = False\n",
    ")\n",
    "\n",
    "fig.update_xaxes(title_text=\"Year\", row=1, col=1)\n",
    "fig.update_yaxes(title_text=\"Total Sales\", row=1, col=1)\n",
    "\n",
    "fig.update_xaxes(title_text=\"Month\", row=1, col=2)\n",
    "fig.update_yaxes(title_text=\"Total Sales\", row=1, col=2)\n",
    "\n",
    "fig.update_xaxes(title_text=\"Day of Month\", row=2, col=1)\n",
    "fig.update_yaxes(title_text=\"Total Sales\", row=2, col=1)\n",
    "\n",
    "\n",
    "# Let's make the report title pop a little more\n",
    "title_font = dict(size=20, family=\"Helvetica\", color='black', weight='bold')\n",
    "fig.update_layout(title=dict(text='Weekly Sales by Year, Month, and Day', x=0.48, font=title_font))\n",
    "\n",
    "\n",
    "fig.show()\n",
    "    \n"
   ]
  },
  {
   "cell_type": "code",
   "execution_count": null,
   "id": "28795787-6e52-4b13-8692-498675a230ad",
   "metadata": {},
   "outputs": [],
   "source": [
    "# Close the connection\n",
    "conn.close()"
   ]
  }
 ],
 "metadata": {
  "kernelspec": {
   "display_name": "Python 3 (ipykernel)",
   "language": "python",
   "name": "python3"
  },
  "language_info": {
   "codemirror_mode": {
    "name": "ipython",
    "version": 3
   },
   "file_extension": ".py",
   "mimetype": "text/x-python",
   "name": "python",
   "nbconvert_exporter": "python",
   "pygments_lexer": "ipython3",
   "version": "3.13.2"
  }
 },
 "nbformat": 4,
 "nbformat_minor": 5
}
