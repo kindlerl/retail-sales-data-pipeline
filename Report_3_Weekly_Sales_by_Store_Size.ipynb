{
 "cells": [
  {
   "cell_type": "code",
   "execution_count": 92,
   "id": "76487bfa-c291-4d3b-8dad-f920f16d831e",
   "metadata": {},
   "outputs": [
    {
     "data": {
      "text/plain": [
       "True"
      ]
     },
     "execution_count": 92,
     "metadata": {},
     "output_type": "execute_result"
    }
   ],
   "source": [
    "import os\n",
    "from dotenv import load_dotenv\n",
    "import snowflake.connector\n",
    "import pandas as pd\n",
    "import plotly.express as px\n",
    "# Use Plotly's \"make_subplots\" function from \"plotly.subplots\" to layout elements horizontally\n",
    "from plotly.subplots import make_subplots\n",
    "import plotly.graph_objects as go\n",
    "\n",
    "\n",
    "# Load credentials\n",
    "load_dotenv()"
   ]
  },
  {
   "cell_type": "code",
   "execution_count": 84,
   "id": "1e2ab658-d842-467e-9920-5f0824343aa2",
   "metadata": {},
   "outputs": [],
   "source": [
    "# Connect to Snowflake\n",
    "conn = snowflake.connector.connect(\n",
    "    user=os.getenv('SNOWFLAKE_USER'),\n",
    "    password=os.getenv('SNOWFLAKE_PASSWORD'),\n",
    "    account=os.getenv('SNOWFLAKE_ACCOUNT') + '.' + os.getenv('SNOWFLAKE_REGION'),\n",
    "    warehouse=os.getenv('SNOWFLAKE_WAREHOUSE'),\n",
    "    database='WALMART_DB',\n",
    "    schema='SILVER',\n",
    "    role=os.getenv('SNOWFLAKE_ROLE')\n",
    ")"
   ]
  },
  {
   "cell_type": "code",
   "execution_count": 101,
   "id": "2b8d9a09-33c2-411a-878f-71dc688ef9a1",
   "metadata": {},
   "outputs": [],
   "source": [
    "# SQL query\n",
    "sql = \"\"\"\n",
    "WITH sales_per_store_per_week AS (\n",
    "    SELECT\n",
    "        store_id,\n",
    "        date_id,\n",
    "        SUM(store_weekly_sales) AS sales_per_store_per_week\n",
    "    FROM\n",
    "        WALMART_DB.SILVER.walmart_fact_table\n",
    "    GROUP BY\n",
    "        1,2\n",
    ")\n",
    "SELECT\n",
    "    wsd.store_id,\n",
    "    wsd.store_size,\n",
    "    AVG(pspw.sales_per_store_per_week) AS average_weekly_sales_per_store\n",
    "FROM\n",
    "    sales_per_store_per_week pspw\n",
    "JOIN\n",
    "    WALMART_DB.SILVER.walmart_store_dim wsd\n",
    "ON\n",
    "    pspw.store_id = wsd.store_id\n",
    "GROUP BY\n",
    "    1,2\n",
    "ORDER BY\n",
    "    1,2\n",
    "\"\"\"\n",
    "\n",
    "# Run query using Snowflake connector\n",
    "cur = conn.cursor()\n",
    "cur.execute(sql)\n",
    "\n",
    "# Load results into DataFrame\n",
    "columns = [col[0] for col in cur.description]\n",
    "data = cur.fetchall()\n",
    "df = pd.DataFrame(data, columns=columns)\n",
    "\n",
    "# Force column names to lowercase so Snowflake will match the model table\n",
    "df.columns = [col.lower() for col in df.columns]\n",
    "\n",
    "# print(df.columns)\n",
    "\n",
    "# Convert the store size to a string \n",
    "# plotly create a more managable range for the y-axis\n",
    "# df['store_size'] = df['store_size'].astype(str)\n"
   ]
  },
  {
   "cell_type": "code",
   "execution_count": 86,
   "id": "0ce2f571-26e6-4d9b-a3d9-26d6840bed4a",
   "metadata": {},
   "outputs": [
    {
     "data": {
      "application/vnd.plotly.v1+json": {
       "config": {
        "plotlyServerURL": "https://plot.ly"
       },
       "data": [
        {
         "fill": "tozeroy",
         "fillpattern": {
          "shape": ""
         },
         "hovertemplate": "Store Size (sq ft)=%{x}<br>Average Weekly Sales Per Store=%{y}<extra></extra>",
         "legendgroup": "",
         "line": {
          "color": "#636efa",
          "shape": "linear"
         },
         "marker": {
          "symbol": "circle"
         },
         "mode": "lines+markers",
         "name": "",
         "opacity": 0.8,
         "orientation": "v",
         "showlegend": false,
         "stackgroup": "1",
         "type": "scatter",
         "x": {
          "bdata": "E08CAEMWAwAQkgAAJyQDADuIAAAJFwMAORQBAMZdAgCJ6wEAMO4BAIsqAwButgEA5lkDAMIQAwBZ4wEAbd8AAARsAQBN1wEAKxwDAN4bAwCHIwIABdMBAGW/AQArHAMAa/QBAMFTAgCYHQMA3iUDAMZtAQDspwAA5hsDAP8YAwAKmwAAomkCAAGVAQDmmwAA5psAAAqbAAAtzwIAy10CAOH+AgAKmwAAZqAAAOabAADNzQEA",
          "dtype": "i4"
         },
         "xaxis": "x",
         "y": {
          "bdata": "Sf/FZUC7N0GZ7uRVd2I9QRNWosNBlBhBrmPw9Xj2P0FW9vA972gTQcDxsC844DdBHCsKnvJpIUH4n2oJm7srQV890RrZmSBB7quZkqD7PEHDoN0fX7I0Qc+XCDjTyi5BrENpTqSSPkGmj6ZmctY+QfidLvOgBSNBpXOX6z6xH0FDE+XHGkUrQTLdyWsujTBBQ0whCYcMNkEKnmdvjhRAQdK4rSrKEidBU2TxEypjL0H8o+J1KDU1QRHFwGTTszRBlXa4EEORJUH1l3qwP5suQbGFszNwFjtB3svnPQIyNEFp+YPbdnYgQZddA3fOxBpBTVvjb71MNUHdyasn6MwxQR72RYmtuA9BNv5uHvuALUGUkIv1WREsQXfUn/gfzBZB5Zu5INGrH0EyMfecDosXQUyvECGsIjZBhwq7FEBsLUHHNTdrnVkzQWRi7rnn+iBB6U1ActlTI0HPXsx2c3oSQWEJK9F6/CdB",
          "dtype": "f8"
         },
         "yaxis": "y"
        }
       ],
       "layout": {
        "legend": {
         "tracegroupgap": 0
        },
        "template": {
         "data": {
          "bar": [
           {
            "error_x": {
             "color": "#2a3f5f"
            },
            "error_y": {
             "color": "#2a3f5f"
            },
            "marker": {
             "line": {
              "color": "#E5ECF6",
              "width": 0.5
             },
             "pattern": {
              "fillmode": "overlay",
              "size": 10,
              "solidity": 0.2
             }
            },
            "type": "bar"
           }
          ],
          "barpolar": [
           {
            "marker": {
             "line": {
              "color": "#E5ECF6",
              "width": 0.5
             },
             "pattern": {
              "fillmode": "overlay",
              "size": 10,
              "solidity": 0.2
             }
            },
            "type": "barpolar"
           }
          ],
          "carpet": [
           {
            "aaxis": {
             "endlinecolor": "#2a3f5f",
             "gridcolor": "white",
             "linecolor": "white",
             "minorgridcolor": "white",
             "startlinecolor": "#2a3f5f"
            },
            "baxis": {
             "endlinecolor": "#2a3f5f",
             "gridcolor": "white",
             "linecolor": "white",
             "minorgridcolor": "white",
             "startlinecolor": "#2a3f5f"
            },
            "type": "carpet"
           }
          ],
          "choropleth": [
           {
            "colorbar": {
             "outlinewidth": 0,
             "ticks": ""
            },
            "type": "choropleth"
           }
          ],
          "contour": [
           {
            "colorbar": {
             "outlinewidth": 0,
             "ticks": ""
            },
            "colorscale": [
             [
              0,
              "#0d0887"
             ],
             [
              0.1111111111111111,
              "#46039f"
             ],
             [
              0.2222222222222222,
              "#7201a8"
             ],
             [
              0.3333333333333333,
              "#9c179e"
             ],
             [
              0.4444444444444444,
              "#bd3786"
             ],
             [
              0.5555555555555556,
              "#d8576b"
             ],
             [
              0.6666666666666666,
              "#ed7953"
             ],
             [
              0.7777777777777778,
              "#fb9f3a"
             ],
             [
              0.8888888888888888,
              "#fdca26"
             ],
             [
              1,
              "#f0f921"
             ]
            ],
            "type": "contour"
           }
          ],
          "contourcarpet": [
           {
            "colorbar": {
             "outlinewidth": 0,
             "ticks": ""
            },
            "type": "contourcarpet"
           }
          ],
          "heatmap": [
           {
            "colorbar": {
             "outlinewidth": 0,
             "ticks": ""
            },
            "colorscale": [
             [
              0,
              "#0d0887"
             ],
             [
              0.1111111111111111,
              "#46039f"
             ],
             [
              0.2222222222222222,
              "#7201a8"
             ],
             [
              0.3333333333333333,
              "#9c179e"
             ],
             [
              0.4444444444444444,
              "#bd3786"
             ],
             [
              0.5555555555555556,
              "#d8576b"
             ],
             [
              0.6666666666666666,
              "#ed7953"
             ],
             [
              0.7777777777777778,
              "#fb9f3a"
             ],
             [
              0.8888888888888888,
              "#fdca26"
             ],
             [
              1,
              "#f0f921"
             ]
            ],
            "type": "heatmap"
           }
          ],
          "histogram": [
           {
            "marker": {
             "pattern": {
              "fillmode": "overlay",
              "size": 10,
              "solidity": 0.2
             }
            },
            "type": "histogram"
           }
          ],
          "histogram2d": [
           {
            "colorbar": {
             "outlinewidth": 0,
             "ticks": ""
            },
            "colorscale": [
             [
              0,
              "#0d0887"
             ],
             [
              0.1111111111111111,
              "#46039f"
             ],
             [
              0.2222222222222222,
              "#7201a8"
             ],
             [
              0.3333333333333333,
              "#9c179e"
             ],
             [
              0.4444444444444444,
              "#bd3786"
             ],
             [
              0.5555555555555556,
              "#d8576b"
             ],
             [
              0.6666666666666666,
              "#ed7953"
             ],
             [
              0.7777777777777778,
              "#fb9f3a"
             ],
             [
              0.8888888888888888,
              "#fdca26"
             ],
             [
              1,
              "#f0f921"
             ]
            ],
            "type": "histogram2d"
           }
          ],
          "histogram2dcontour": [
           {
            "colorbar": {
             "outlinewidth": 0,
             "ticks": ""
            },
            "colorscale": [
             [
              0,
              "#0d0887"
             ],
             [
              0.1111111111111111,
              "#46039f"
             ],
             [
              0.2222222222222222,
              "#7201a8"
             ],
             [
              0.3333333333333333,
              "#9c179e"
             ],
             [
              0.4444444444444444,
              "#bd3786"
             ],
             [
              0.5555555555555556,
              "#d8576b"
             ],
             [
              0.6666666666666666,
              "#ed7953"
             ],
             [
              0.7777777777777778,
              "#fb9f3a"
             ],
             [
              0.8888888888888888,
              "#fdca26"
             ],
             [
              1,
              "#f0f921"
             ]
            ],
            "type": "histogram2dcontour"
           }
          ],
          "mesh3d": [
           {
            "colorbar": {
             "outlinewidth": 0,
             "ticks": ""
            },
            "type": "mesh3d"
           }
          ],
          "parcoords": [
           {
            "line": {
             "colorbar": {
              "outlinewidth": 0,
              "ticks": ""
             }
            },
            "type": "parcoords"
           }
          ],
          "pie": [
           {
            "automargin": true,
            "type": "pie"
           }
          ],
          "scatter": [
           {
            "fillpattern": {
             "fillmode": "overlay",
             "size": 10,
             "solidity": 0.2
            },
            "type": "scatter"
           }
          ],
          "scatter3d": [
           {
            "line": {
             "colorbar": {
              "outlinewidth": 0,
              "ticks": ""
             }
            },
            "marker": {
             "colorbar": {
              "outlinewidth": 0,
              "ticks": ""
             }
            },
            "type": "scatter3d"
           }
          ],
          "scattercarpet": [
           {
            "marker": {
             "colorbar": {
              "outlinewidth": 0,
              "ticks": ""
             }
            },
            "type": "scattercarpet"
           }
          ],
          "scattergeo": [
           {
            "marker": {
             "colorbar": {
              "outlinewidth": 0,
              "ticks": ""
             }
            },
            "type": "scattergeo"
           }
          ],
          "scattergl": [
           {
            "marker": {
             "colorbar": {
              "outlinewidth": 0,
              "ticks": ""
             }
            },
            "type": "scattergl"
           }
          ],
          "scattermap": [
           {
            "marker": {
             "colorbar": {
              "outlinewidth": 0,
              "ticks": ""
             }
            },
            "type": "scattermap"
           }
          ],
          "scattermapbox": [
           {
            "marker": {
             "colorbar": {
              "outlinewidth": 0,
              "ticks": ""
             }
            },
            "type": "scattermapbox"
           }
          ],
          "scatterpolar": [
           {
            "marker": {
             "colorbar": {
              "outlinewidth": 0,
              "ticks": ""
             }
            },
            "type": "scatterpolar"
           }
          ],
          "scatterpolargl": [
           {
            "marker": {
             "colorbar": {
              "outlinewidth": 0,
              "ticks": ""
             }
            },
            "type": "scatterpolargl"
           }
          ],
          "scatterternary": [
           {
            "marker": {
             "colorbar": {
              "outlinewidth": 0,
              "ticks": ""
             }
            },
            "type": "scatterternary"
           }
          ],
          "surface": [
           {
            "colorbar": {
             "outlinewidth": 0,
             "ticks": ""
            },
            "colorscale": [
             [
              0,
              "#0d0887"
             ],
             [
              0.1111111111111111,
              "#46039f"
             ],
             [
              0.2222222222222222,
              "#7201a8"
             ],
             [
              0.3333333333333333,
              "#9c179e"
             ],
             [
              0.4444444444444444,
              "#bd3786"
             ],
             [
              0.5555555555555556,
              "#d8576b"
             ],
             [
              0.6666666666666666,
              "#ed7953"
             ],
             [
              0.7777777777777778,
              "#fb9f3a"
             ],
             [
              0.8888888888888888,
              "#fdca26"
             ],
             [
              1,
              "#f0f921"
             ]
            ],
            "type": "surface"
           }
          ],
          "table": [
           {
            "cells": {
             "fill": {
              "color": "#EBF0F8"
             },
             "line": {
              "color": "white"
             }
            },
            "header": {
             "fill": {
              "color": "#C8D4E3"
             },
             "line": {
              "color": "white"
             }
            },
            "type": "table"
           }
          ]
         },
         "layout": {
          "annotationdefaults": {
           "arrowcolor": "#2a3f5f",
           "arrowhead": 0,
           "arrowwidth": 1
          },
          "autotypenumbers": "strict",
          "coloraxis": {
           "colorbar": {
            "outlinewidth": 0,
            "ticks": ""
           }
          },
          "colorscale": {
           "diverging": [
            [
             0,
             "#8e0152"
            ],
            [
             0.1,
             "#c51b7d"
            ],
            [
             0.2,
             "#de77ae"
            ],
            [
             0.3,
             "#f1b6da"
            ],
            [
             0.4,
             "#fde0ef"
            ],
            [
             0.5,
             "#f7f7f7"
            ],
            [
             0.6,
             "#e6f5d0"
            ],
            [
             0.7,
             "#b8e186"
            ],
            [
             0.8,
             "#7fbc41"
            ],
            [
             0.9,
             "#4d9221"
            ],
            [
             1,
             "#276419"
            ]
           ],
           "sequential": [
            [
             0,
             "#0d0887"
            ],
            [
             0.1111111111111111,
             "#46039f"
            ],
            [
             0.2222222222222222,
             "#7201a8"
            ],
            [
             0.3333333333333333,
             "#9c179e"
            ],
            [
             0.4444444444444444,
             "#bd3786"
            ],
            [
             0.5555555555555556,
             "#d8576b"
            ],
            [
             0.6666666666666666,
             "#ed7953"
            ],
            [
             0.7777777777777778,
             "#fb9f3a"
            ],
            [
             0.8888888888888888,
             "#fdca26"
            ],
            [
             1,
             "#f0f921"
            ]
           ],
           "sequentialminus": [
            [
             0,
             "#0d0887"
            ],
            [
             0.1111111111111111,
             "#46039f"
            ],
            [
             0.2222222222222222,
             "#7201a8"
            ],
            [
             0.3333333333333333,
             "#9c179e"
            ],
            [
             0.4444444444444444,
             "#bd3786"
            ],
            [
             0.5555555555555556,
             "#d8576b"
            ],
            [
             0.6666666666666666,
             "#ed7953"
            ],
            [
             0.7777777777777778,
             "#fb9f3a"
            ],
            [
             0.8888888888888888,
             "#fdca26"
            ],
            [
             1,
             "#f0f921"
            ]
           ]
          },
          "colorway": [
           "#636efa",
           "#EF553B",
           "#00cc96",
           "#ab63fa",
           "#FFA15A",
           "#19d3f3",
           "#FF6692",
           "#B6E880",
           "#FF97FF",
           "#FECB52"
          ],
          "font": {
           "color": "#2a3f5f"
          },
          "geo": {
           "bgcolor": "white",
           "lakecolor": "white",
           "landcolor": "#E5ECF6",
           "showlakes": true,
           "showland": true,
           "subunitcolor": "white"
          },
          "hoverlabel": {
           "align": "left"
          },
          "hovermode": "closest",
          "mapbox": {
           "style": "light"
          },
          "paper_bgcolor": "white",
          "plot_bgcolor": "#E5ECF6",
          "polar": {
           "angularaxis": {
            "gridcolor": "white",
            "linecolor": "white",
            "ticks": ""
           },
           "bgcolor": "#E5ECF6",
           "radialaxis": {
            "gridcolor": "white",
            "linecolor": "white",
            "ticks": ""
           }
          },
          "scene": {
           "xaxis": {
            "backgroundcolor": "#E5ECF6",
            "gridcolor": "white",
            "gridwidth": 2,
            "linecolor": "white",
            "showbackground": true,
            "ticks": "",
            "zerolinecolor": "white"
           },
           "yaxis": {
            "backgroundcolor": "#E5ECF6",
            "gridcolor": "white",
            "gridwidth": 2,
            "linecolor": "white",
            "showbackground": true,
            "ticks": "",
            "zerolinecolor": "white"
           },
           "zaxis": {
            "backgroundcolor": "#E5ECF6",
            "gridcolor": "white",
            "gridwidth": 2,
            "linecolor": "white",
            "showbackground": true,
            "ticks": "",
            "zerolinecolor": "white"
           }
          },
          "shapedefaults": {
           "line": {
            "color": "#2a3f5f"
           }
          },
          "ternary": {
           "aaxis": {
            "gridcolor": "white",
            "linecolor": "white",
            "ticks": ""
           },
           "baxis": {
            "gridcolor": "white",
            "linecolor": "white",
            "ticks": ""
           },
           "bgcolor": "#E5ECF6",
           "caxis": {
            "gridcolor": "white",
            "linecolor": "white",
            "ticks": ""
           }
          },
          "title": {
           "x": 0.05
          },
          "xaxis": {
           "automargin": true,
           "gridcolor": "white",
           "linecolor": "white",
           "ticks": "",
           "title": {
            "standoff": 15
           },
           "zerolinecolor": "white",
           "zerolinewidth": 2
          },
          "yaxis": {
           "automargin": true,
           "gridcolor": "white",
           "linecolor": "white",
           "ticks": "",
           "title": {
            "standoff": 15
           },
           "zerolinecolor": "white",
           "zerolinewidth": 2
          }
         }
        },
        "title": {
         "text": "Average Weekly Sales by Store Size",
         "x": 0.5
        },
        "xaxis": {
         "anchor": "y",
         "domain": [
          0,
          1
         ],
         "title": {
          "text": "Store Size (sq ft)"
         }
        },
        "yaxis": {
         "anchor": "x",
         "domain": [
          0,
          1
         ],
         "tickformat": ".2s",
         "title": {
          "text": "Average Weekly Sales Per Store"
         }
        }
       }
      },
      "image/png": "[encoded data removed]"
     },
     "metadata": {},
     "output_type": "display_data"
    }
   ],
   "source": [
    "# THIS CHART IS FOR ACTUAL WEEKLY SALES, IGNORING DUPLICATE STORE SIZES\n",
    "# Plot using Plotly\n",
    "fig = px.area(\n",
    "    df,\n",
    "    x='store_size',\n",
    "    y='average_weekly_sales_per_store',\n",
    "    title='Average Weekly Sales by Store Size',\n",
    "    labels={\n",
    "        'store_size': 'Store Size (sq ft)',\n",
    "        'average_weekly_sales_per_store': 'Average Weekly Sales Per Store'\n",
    "    }\n",
    ")\n",
    "\n",
    "# Add markers to help visualize key points and facillitate hover for details\n",
    "fig.update_traces(mode=\"lines+markers\", fill='tozeroy', line_shape='linear', opacity=0.8)\n",
    "\n",
    "# Center the title\n",
    "fig.update_layout(title_x=0.5)\n",
    "\n",
    "fig.update_layout(yaxis_tickformat=\".2s\")\n"
   ]
  },
  {
   "cell_type": "code",
   "execution_count": 87,
   "id": "a3972a5b-d644-4c0d-96a9-7ad83fab80ae",
   "metadata": {},
   "outputs": [
    {
     "data": {
      "application/vnd.plotly.v1+json": {
       "config": {
        "plotlyServerURL": "https://plot.ly"
       },
       "data": [
        {
         "cells": {
          "align": [
           "right",
           "right",
           "right"
          ],
          "fill": {
           "color": [
            [
             "white",
             "white",
             "white",
             "white",
             "white",
             "white",
             "white",
             "white",
             "white",
             "white",
             "white",
             "white",
             "white",
             "white",
             "white",
             "white",
             "white",
             "white",
             "white",
             "white",
             "white",
             "white",
             "white",
             "white",
             "white",
             "white",
             "white",
             "white",
             "white",
             "white",
             "white",
             "white",
             "white",
             "white",
             "white",
             "white",
             "white",
             "white",
             "white",
             "white",
             "white",
             "white",
             "white",
             "white",
             "white",
             "lavender"
            ],
            [
             "white",
             "white",
             "white",
             "white",
             "white",
             "white",
             "white",
             "white",
             "white",
             "white",
             "white",
             "white",
             "white",
             "white",
             "white",
             "white",
             "white",
             "white",
             "white",
             "white",
             "white",
             "white",
             "white",
             "white",
             "white",
             "white",
             "white",
             "white",
             "white",
             "white",
             "white",
             "white",
             "white",
             "white",
             "white",
             "white",
             "white",
             "white",
             "white",
             "white",
             "white",
             "white",
             "white",
             "white",
             "white",
             "lavender"
            ],
            [
             "white",
             "white",
             "white",
             "white",
             "white",
             "white",
             "white",
             "white",
             "white",
             "white",
             "white",
             "white",
             "white",
             "white",
             "white",
             "white",
             "white",
             "white",
             "white",
             "white",
             "white",
             "white",
             "white",
             "white",
             "white",
             "white",
             "white",
             "white",
             "white",
             "white",
             "white",
             "white",
             "white",
             "white",
             "white",
             "white",
             "white",
             "white",
             "white",
             "white",
             "white",
             "white",
             "white",
             "white",
             "white",
             "lavender"
            ]
           ]
          },
          "font": {
           "color": [
            "black",
            "black",
            "black",
            "black",
            "black",
            "black",
            "black",
            "black",
            "black",
            "black",
            "black",
            "black",
            "black",
            "black",
            "black",
            "black",
            "black",
            "black",
            "black",
            "black",
            "black",
            "black",
            "black",
            "black",
            "black",
            "black",
            "black",
            "black",
            "black",
            "black",
            "black",
            "black",
            "black",
            "black",
            "black",
            "black",
            "black",
            "black",
            "black",
            "black",
            "black",
            "black",
            "black",
            "black",
            "black",
            "black"
           ]
          },
          "values": [
           [
            "1",
            "2",
            "3",
            "4",
            "5",
            "6",
            "7",
            "8",
            "9",
            "10",
            "11",
            "12",
            "13",
            "14",
            "15",
            "16",
            "17",
            "18",
            "19",
            "20",
            "21",
            "22",
            "23",
            "24",
            "25",
            "26",
            "27",
            "28",
            "29",
            "30",
            "31",
            "32",
            "33",
            "34",
            "35",
            "36",
            "37",
            "38",
            "39",
            "40",
            "41",
            "42",
            "43",
            "44",
            "45",
            "<b>Total</b>"
           ],
           [
            "151,315",
            "202,307",
            "37,392",
            "205,863",
            "34,875",
            "202,505",
            "70,713",
            "155,078",
            "125,833",
            "126,512",
            "207,499",
            "112,238",
            "219,622",
            "200,898",
            "123,737",
            "57,197",
            "93,188",
            "120,653",
            "203,819",
            "203,742",
            "140,167",
            "119,557",
            "114,533",
            "203,819",
            "128,107",
            "152,513",
            "204,184",
            "206,302",
            "93,638",
            "42,988",
            "203,750",
            "203,007",
            "39,690",
            "158,114",
            "103,681",
            "39,910",
            "39,910",
            "39,690",
            "184,109",
            "155,083",
            "196,321",
            "39,690",
            "41,062",
            "39,910",
            "118,221",
            "<b></b>"
           ],
           [
            "$1,555,264.40",
            "$1,925,751.34",
            "$402,704.44",
            "$2,094,712.96",
            "$318,011.81",
            "$1,564,728.19",
            "$570,617.31",
            "$908,749.52",
            "$543,980.55",
            "$1,899,424.57",
            "$1,356,383.12",
            "$1,009,001.61",
            "$2,003,620.31",
            "$2,020,978.40",
            "$623,312.47",
            "$519,247.73",
            "$893,581.39",
            "$1,084,718.42",
            "$1,444,999.04",
            "$2,107,676.87",
            "$756,069.08",
            "$1,028,501.04",
            "$1,389,864.46",
            "$1,356,755.39",
            "$706,721.53",
            "$1,002,911.84",
            "$1,775,216.20",
            "$1,323,522.24",
            "$539,451.43",
            "$438,579.62",
            "$1,395,901.44",
            "$1,166,568.15",
            "$259,861.69",
            "$966,781.56",
            "$919,724.98",
            "$373,511.99",
            "$518,900.28",
            "$385,731.65",
            "$1,450,668.13",
            "$964,128.04",
            "$1,268,125.42",
            "$556,403.86",
            "$633,324.72",
            "$302,748.87",
            "$785,981.41",
            "<b>$47,113,419.49</b>"
           ]
          ]
         },
         "columnwidth": [
          10,
          15,
          25
         ],
         "header": {
          "align": [
           "right",
           "right",
           "right"
          ],
          "fill": {
           "color": "lightblue"
          },
          "values": [
           "Store",
           "Store Size",
           "Average Weekly Sales"
          ]
         },
         "type": "table"
        }
       ],
       "layout": {
        "template": {
         "data": {
          "bar": [
           {
            "error_x": {
             "color": "#2a3f5f"
            },
            "error_y": {
             "color": "#2a3f5f"
            },
            "marker": {
             "line": {
              "color": "#E5ECF6",
              "width": 0.5
             },
             "pattern": {
              "fillmode": "overlay",
              "size": 10,
              "solidity": 0.2
             }
            },
            "type": "bar"
           }
          ],
          "barpolar": [
           {
            "marker": {
             "line": {
              "color": "#E5ECF6",
              "width": 0.5
             },
             "pattern": {
              "fillmode": "overlay",
              "size": 10,
              "solidity": 0.2
             }
            },
            "type": "barpolar"
           }
          ],
          "carpet": [
           {
            "aaxis": {
             "endlinecolor": "#2a3f5f",
             "gridcolor": "white",
             "linecolor": "white",
             "minorgridcolor": "white",
             "startlinecolor": "#2a3f5f"
            },
            "baxis": {
             "endlinecolor": "#2a3f5f",
             "gridcolor": "white",
             "linecolor": "white",
             "minorgridcolor": "white",
             "startlinecolor": "#2a3f5f"
            },
            "type": "carpet"
           }
          ],
          "choropleth": [
           {
            "colorbar": {
             "outlinewidth": 0,
             "ticks": ""
            },
            "type": "choropleth"
           }
          ],
          "contour": [
           {
            "colorbar": {
             "outlinewidth": 0,
             "ticks": ""
            },
            "colorscale": [
             [
              0,
              "#0d0887"
             ],
             [
              0.1111111111111111,
              "#46039f"
             ],
             [
              0.2222222222222222,
              "#7201a8"
             ],
             [
              0.3333333333333333,
              "#9c179e"
             ],
             [
              0.4444444444444444,
              "#bd3786"
             ],
             [
              0.5555555555555556,
              "#d8576b"
             ],
             [
              0.6666666666666666,
              "#ed7953"
             ],
             [
              0.7777777777777778,
              "#fb9f3a"
             ],
             [
              0.8888888888888888,
              "#fdca26"
             ],
             [
              1,
              "#f0f921"
             ]
            ],
            "type": "contour"
           }
          ],
          "contourcarpet": [
           {
            "colorbar": {
             "outlinewidth": 0,
             "ticks": ""
            },
            "type": "contourcarpet"
           }
          ],
          "heatmap": [
           {
            "colorbar": {
             "outlinewidth": 0,
             "ticks": ""
            },
            "colorscale": [
             [
              0,
              "#0d0887"
             ],
             [
              0.1111111111111111,
              "#46039f"
             ],
             [
              0.2222222222222222,
              "#7201a8"
             ],
             [
              0.3333333333333333,
              "#9c179e"
             ],
             [
              0.4444444444444444,
              "#bd3786"
             ],
             [
              0.5555555555555556,
              "#d8576b"
             ],
             [
              0.6666666666666666,
              "#ed7953"
             ],
             [
              0.7777777777777778,
              "#fb9f3a"
             ],
             [
              0.8888888888888888,
              "#fdca26"
             ],
             [
              1,
              "#f0f921"
             ]
            ],
            "type": "heatmap"
           }
          ],
          "histogram": [
           {
            "marker": {
             "pattern": {
              "fillmode": "overlay",
              "size": 10,
              "solidity": 0.2
             }
            },
            "type": "histogram"
           }
          ],
          "histogram2d": [
           {
            "colorbar": {
             "outlinewidth": 0,
             "ticks": ""
            },
            "colorscale": [
             [
              0,
              "#0d0887"
             ],
             [
              0.1111111111111111,
              "#46039f"
             ],
             [
              0.2222222222222222,
              "#7201a8"
             ],
             [
              0.3333333333333333,
              "#9c179e"
             ],
             [
              0.4444444444444444,
              "#bd3786"
             ],
             [
              0.5555555555555556,
              "#d8576b"
             ],
             [
              0.6666666666666666,
              "#ed7953"
             ],
             [
              0.7777777777777778,
              "#fb9f3a"
             ],
             [
              0.8888888888888888,
              "#fdca26"
             ],
             [
              1,
              "#f0f921"
             ]
            ],
            "type": "histogram2d"
           }
          ],
          "histogram2dcontour": [
           {
            "colorbar": {
             "outlinewidth": 0,
             "ticks": ""
            },
            "colorscale": [
             [
              0,
              "#0d0887"
             ],
             [
              0.1111111111111111,
              "#46039f"
             ],
             [
              0.2222222222222222,
              "#7201a8"
             ],
             [
              0.3333333333333333,
              "#9c179e"
             ],
             [
              0.4444444444444444,
              "#bd3786"
             ],
             [
              0.5555555555555556,
              "#d8576b"
             ],
             [
              0.6666666666666666,
              "#ed7953"
             ],
             [
              0.7777777777777778,
              "#fb9f3a"
             ],
             [
              0.8888888888888888,
              "#fdca26"
             ],
             [
              1,
              "#f0f921"
             ]
            ],
            "type": "histogram2dcontour"
           }
          ],
          "mesh3d": [
           {
            "colorbar": {
             "outlinewidth": 0,
             "ticks": ""
            },
            "type": "mesh3d"
           }
          ],
          "parcoords": [
           {
            "line": {
             "colorbar": {
              "outlinewidth": 0,
              "ticks": ""
             }
            },
            "type": "parcoords"
           }
          ],
          "pie": [
           {
            "automargin": true,
            "type": "pie"
           }
          ],
          "scatter": [
           {
            "fillpattern": {
             "fillmode": "overlay",
             "size": 10,
             "solidity": 0.2
            },
            "type": "scatter"
           }
          ],
          "scatter3d": [
           {
            "line": {
             "colorbar": {
              "outlinewidth": 0,
              "ticks": ""
             }
            },
            "marker": {
             "colorbar": {
              "outlinewidth": 0,
              "ticks": ""
             }
            },
            "type": "scatter3d"
           }
          ],
          "scattercarpet": [
           {
            "marker": {
             "colorbar": {
              "outlinewidth": 0,
              "ticks": ""
             }
            },
            "type": "scattercarpet"
           }
          ],
          "scattergeo": [
           {
            "marker": {
             "colorbar": {
              "outlinewidth": 0,
              "ticks": ""
             }
            },
            "type": "scattergeo"
           }
          ],
          "scattergl": [
           {
            "marker": {
             "colorbar": {
              "outlinewidth": 0,
              "ticks": ""
             }
            },
            "type": "scattergl"
           }
          ],
          "scattermap": [
           {
            "marker": {
             "colorbar": {
              "outlinewidth": 0,
              "ticks": ""
             }
            },
            "type": "scattermap"
           }
          ],
          "scattermapbox": [
           {
            "marker": {
             "colorbar": {
              "outlinewidth": 0,
              "ticks": ""
             }
            },
            "type": "scattermapbox"
           }
          ],
          "scatterpolar": [
           {
            "marker": {
             "colorbar": {
              "outlinewidth": 0,
              "ticks": ""
             }
            },
            "type": "scatterpolar"
           }
          ],
          "scatterpolargl": [
           {
            "marker": {
             "colorbar": {
              "outlinewidth": 0,
              "ticks": ""
             }
            },
            "type": "scatterpolargl"
           }
          ],
          "scatterternary": [
           {
            "marker": {
             "colorbar": {
              "outlinewidth": 0,
              "ticks": ""
             }
            },
            "type": "scatterternary"
           }
          ],
          "surface": [
           {
            "colorbar": {
             "outlinewidth": 0,
             "ticks": ""
            },
            "colorscale": [
             [
              0,
              "#0d0887"
             ],
             [
              0.1111111111111111,
              "#46039f"
             ],
             [
              0.2222222222222222,
              "#7201a8"
             ],
             [
              0.3333333333333333,
              "#9c179e"
             ],
             [
              0.4444444444444444,
              "#bd3786"
             ],
             [
              0.5555555555555556,
              "#d8576b"
             ],
             [
              0.6666666666666666,
              "#ed7953"
             ],
             [
              0.7777777777777778,
              "#fb9f3a"
             ],
             [
              0.8888888888888888,
              "#fdca26"
             ],
             [
              1,
              "#f0f921"
             ]
            ],
            "type": "surface"
           }
          ],
          "table": [
           {
            "cells": {
             "fill": {
              "color": "#EBF0F8"
             },
             "line": {
              "color": "white"
             }
            },
            "header": {
             "fill": {
              "color": "#C8D4E3"
             },
             "line": {
              "color": "white"
             }
            },
            "type": "table"
           }
          ]
         },
         "layout": {
          "annotationdefaults": {
           "arrowcolor": "#2a3f5f",
           "arrowhead": 0,
           "arrowwidth": 1
          },
          "autotypenumbers": "strict",
          "coloraxis": {
           "colorbar": {
            "outlinewidth": 0,
            "ticks": ""
           }
          },
          "colorscale": {
           "diverging": [
            [
             0,
             "#8e0152"
            ],
            [
             0.1,
             "#c51b7d"
            ],
            [
             0.2,
             "#de77ae"
            ],
            [
             0.3,
             "#f1b6da"
            ],
            [
             0.4,
             "#fde0ef"
            ],
            [
             0.5,
             "#f7f7f7"
            ],
            [
             0.6,
             "#e6f5d0"
            ],
            [
             0.7,
             "#b8e186"
            ],
            [
             0.8,
             "#7fbc41"
            ],
            [
             0.9,
             "#4d9221"
            ],
            [
             1,
             "#276419"
            ]
           ],
           "sequential": [
            [
             0,
             "#0d0887"
            ],
            [
             0.1111111111111111,
             "#46039f"
            ],
            [
             0.2222222222222222,
             "#7201a8"
            ],
            [
             0.3333333333333333,
             "#9c179e"
            ],
            [
             0.4444444444444444,
             "#bd3786"
            ],
            [
             0.5555555555555556,
             "#d8576b"
            ],
            [
             0.6666666666666666,
             "#ed7953"
            ],
            [
             0.7777777777777778,
             "#fb9f3a"
            ],
            [
             0.8888888888888888,
             "#fdca26"
            ],
            [
             1,
             "#f0f921"
            ]
           ],
           "sequentialminus": [
            [
             0,
             "#0d0887"
            ],
            [
             0.1111111111111111,
             "#46039f"
            ],
            [
             0.2222222222222222,
             "#7201a8"
            ],
            [
             0.3333333333333333,
             "#9c179e"
            ],
            [
             0.4444444444444444,
             "#bd3786"
            ],
            [
             0.5555555555555556,
             "#d8576b"
            ],
            [
             0.6666666666666666,
             "#ed7953"
            ],
            [
             0.7777777777777778,
             "#fb9f3a"
            ],
            [
             0.8888888888888888,
             "#fdca26"
            ],
            [
             1,
             "#f0f921"
            ]
           ]
          },
          "colorway": [
           "#636efa",
           "#EF553B",
           "#00cc96",
           "#ab63fa",
           "#FFA15A",
           "#19d3f3",
           "#FF6692",
           "#B6E880",
           "#FF97FF",
           "#FECB52"
          ],
          "font": {
           "color": "#2a3f5f"
          },
          "geo": {
           "bgcolor": "white",
           "lakecolor": "white",
           "landcolor": "#E5ECF6",
           "showlakes": true,
           "showland": true,
           "subunitcolor": "white"
          },
          "hoverlabel": {
           "align": "left"
          },
          "hovermode": "closest",
          "mapbox": {
           "style": "light"
          },
          "paper_bgcolor": "white",
          "plot_bgcolor": "#E5ECF6",
          "polar": {
           "angularaxis": {
            "gridcolor": "white",
            "linecolor": "white",
            "ticks": ""
           },
           "bgcolor": "#E5ECF6",
           "radialaxis": {
            "gridcolor": "white",
            "linecolor": "white",
            "ticks": ""
           }
          },
          "scene": {
           "xaxis": {
            "backgroundcolor": "#E5ECF6",
            "gridcolor": "white",
            "gridwidth": 2,
            "linecolor": "white",
            "showbackground": true,
            "ticks": "",
            "zerolinecolor": "white"
           },
           "yaxis": {
            "backgroundcolor": "#E5ECF6",
            "gridcolor": "white",
            "gridwidth": 2,
            "linecolor": "white",
            "showbackground": true,
            "ticks": "",
            "zerolinecolor": "white"
           },
           "zaxis": {
            "backgroundcolor": "#E5ECF6",
            "gridcolor": "white",
            "gridwidth": 2,
            "linecolor": "white",
            "showbackground": true,
            "ticks": "",
            "zerolinecolor": "white"
           }
          },
          "shapedefaults": {
           "line": {
            "color": "#2a3f5f"
           }
          },
          "ternary": {
           "aaxis": {
            "gridcolor": "white",
            "linecolor": "white",
            "ticks": ""
           },
           "baxis": {
            "gridcolor": "white",
            "linecolor": "white",
            "ticks": ""
           },
           "bgcolor": "#E5ECF6",
           "caxis": {
            "gridcolor": "white",
            "linecolor": "white",
            "ticks": ""
           }
          },
          "title": {
           "x": 0.05
          },
          "xaxis": {
           "automargin": true,
           "gridcolor": "white",
           "linecolor": "white",
           "ticks": "",
           "title": {
            "standoff": 15
           },
           "zerolinecolor": "white",
           "zerolinewidth": 2
          },
          "yaxis": {
           "automargin": true,
           "gridcolor": "white",
           "linecolor": "white",
           "ticks": "",
           "title": {
            "standoff": 15
           },
           "zerolinecolor": "white",
           "zerolinewidth": 2
          }
         }
        }
       }
      },
      "image/png": "[encoded data removed]"
     },
     "metadata": {},
     "output_type": "display_data"
    }
   ],
   "source": [
    "df_weekly_sales = df.copy()\n",
    "\n",
    "# Convert the store_size column to a string so the total row does not try to coerce a blank to an integer value\n",
    "df_weekly_sales['store_size'] = df_weekly_sales['store_size'].apply(lambda x: f\"{int(x):,}\" if x != '' else '')\n",
    "\n",
    "# Create a separate total_row dataframe\n",
    "df_total_row = pd.DataFrame([{\n",
    "    'store_id':'Total',\n",
    "    'store_size': '',\n",
    "    'average_weekly_sales_per_store': df_weekly_sales['average_weekly_sales_per_store'].sum()\n",
    "}])\n",
    "\n",
    "# Append the total row to the dataframe\n",
    "df_weekly_sales = pd.concat([df_weekly_sales, df_total_row], ignore_index=True)\n",
    "\n",
    "# Let's make the total row bold. To do that, each column needs to be of type \n",
    "# String so we can apply an HTML tag <b> on it to make it bold.\n",
    "df_weekly_sales['store_id'] = df_weekly_sales['store_id'].astype(str)\n",
    "df_weekly_sales['average_weekly_sales_per_store'] = df_weekly_sales['average_weekly_sales_per_store'].apply(lambda x: f\"${x:,.2f}\" if x != '' else '')\n",
    "\n",
    "# Now add a bold tag to the total row.  Loop through each column in the last row\n",
    "# and surround it with the <b></b> tags. Don't be confused by the statement:\n",
    "# df_weekly_sales.iloc[-1][col]\n",
    "# This is chaining 2 statements together to fetch the last row first (as a series), then\n",
    "# fetching the label-based element associated with the variable \"col\" to get the specific\n",
    "# element.\n",
    "for col in df_weekly_sales.columns:\n",
    "    df_weekly_sales.loc[len(df_weekly_sales)-1, col] = f\"<b>{df_weekly_sales.iloc[-1][col]}</b>\"\n",
    "\n",
    "# Format the weekly_sales number to look like currency\n",
    "#df_weekly_sales['total_weekly_sales': df_weekly_sales['total_weekly_sales'].sum()] = df_weekly_sales['total_weekly_sales'].apply(lambda x: f\"${x:,.2f}\" if isinstance(x, (int, float)) else x)\n",
    "#print(df_weekly_sales)\n",
    "\n",
    "# Create a plotly table from the dataframe\n",
    "fig_summary = go.Figure(\n",
    "    data = [go.Table(\n",
    "        columnwidth=[10, 15, 25],\n",
    "        header=dict(\n",
    "            values=[\"Store\", \"Store Size\", \"Average Weekly Sales\"],\n",
    "            fill_color=\"lightblue\",\n",
    "            align=['right', 'right', 'right']\n",
    "        ),\n",
    "        cells=dict(\n",
    "            values=[df_weekly_sales[col] for col in df_weekly_sales.columns],\n",
    "            # format=[\"\", \"\", \",.2f\"],\n",
    "            align=[\"right\",\"right\",\"right\"],\n",
    "            # prefix=[\"\", \"\", \"$\"],\n",
    "            fill_color=[[\"white\"] * (len(df_weekly_sales)-1) + [\"lavender\"]] * 3,\n",
    "            font=dict(color=[\"black\"] * (len(df_weekly_sales)-1) + [\"black\"])\n",
    "        ),\n",
    "    )]\n",
    ")\n",
    "\n",
    "fig_summary.show()"
   ]
  },
  {
   "cell_type": "code",
   "execution_count": 118,
   "id": "68d5950c-40ef-4dff-9937-bab5f126d1a1",
   "metadata": {},
   "outputs": [
    {
     "data": {
      "application/vnd.plotly.v1+json": {
       "config": {
        "plotlyServerURL": "https://plot.ly"
       },
       "data": [
        {
         "fill": "tozeroy",
         "hovertemplate": "Store Size: %{x}<br>Weekly Sales: %{y:$,.2f}<extra></extra>",
         "line": {
          "color": "blue",
          "shape": "linear"
         },
         "mode": "lines+markers",
         "name": "Average Weekly Sales",
         "opacity": 0.8,
         "type": "scatter",
         "x": {
          "bdata": "O4gAABCSAAAKmwAACpsAAAqbAADmmwAA5psAAOabAABmoAAA7KcAAG3fAAA5FAEABGwBAMZtAQABlQEAbrYBAGW/AQDNzQEABdMBAE3XAQBZ4wEAiesBADDuAQBr9AEAhyMCABNPAgDBUwIAxl0CAMtdAgCiaQIALc8CAOH+AgDCEAMAQxYDAAkXAwD/GAMA3hsDAOYbAwArHAMAKxwDAJgdAwAnJAMA3iUDAIsqAwDmWQMA",
          "dtype": "i4"
         },
         "xaxis": "x",
         "y": {
          "bdata": "VvbwPe9oE0ETVqLDQZQYQTIx95wOixdBHvZFia24D0FkYu655/ogQeWbuSDRqx9Bd9Sf+B/MFkHPXsx2c3oSQelNQHLZUyNBl10Dd87EGkGlc5frPrEfQRwrCp7yaSFBQxPlxxpFK0Fp+YPbdnYgQZSQi/VZESxBz5cIONPKLkH8o+J1KDU1QWEJK9F6/CdBU2TxEypjL0Ey3clrLo0wQfidLvOgBSNBXz3RGtmZIEHuq5mSoPs8QZV2uBBDkSVB0ritKsoSJ0FJ/8VlQLs3QfWXerA/my5B+J9qCZu7K0GHCrsUQGwtQTb+bh77gC1BTK8QIawiNkHHNTdrnVkzQaaPpmZy1j5Bme7kVXdiPUHA8bAvOOA3Qd3JqyfozDFBCp5nb44UQEFNW+NvvUw1QRHFwGTTszRBQ0whCYcMNkGxhbMzcBY7Qa5j8PV49j9B3svnPQIyNEHDoN0fX7I0QaxDaU6kkj5B",
          "dtype": "f8"
         },
         "yaxis": "y"
        },
        {
         "cells": {
          "align": [
           "right",
           "right",
           "right"
          ],
          "fill": {
           "color": [
            [
             "white",
             "#f2f2f2",
             "white",
             "#f2f2f2",
             "white",
             "#f2f2f2",
             "white",
             "#f2f2f2",
             "white",
             "#f2f2f2",
             "white",
             "#f2f2f2",
             "white",
             "#f2f2f2",
             "white",
             "#f2f2f2",
             "white",
             "#f2f2f2",
             "white",
             "#f2f2f2",
             "white",
             "#f2f2f2",
             "white",
             "#f2f2f2",
             "white",
             "#f2f2f2",
             "white",
             "#f2f2f2",
             "white",
             "#f2f2f2",
             "white",
             "#f2f2f2",
             "white",
             "#f2f2f2",
             "white",
             "#f2f2f2",
             "white",
             "#f2f2f2",
             "white",
             "#f2f2f2",
             "white",
             "#f2f2f2",
             "white",
             "#f2f2f2",
             "white",
             "lavender"
            ],
            [
             "white",
             "#f2f2f2",
             "white",
             "#f2f2f2",
             "white",
             "#f2f2f2",
             "white",
             "#f2f2f2",
             "white",
             "#f2f2f2",
             "white",
             "#f2f2f2",
             "white",
             "#f2f2f2",
             "white",
             "#f2f2f2",
             "white",
             "#f2f2f2",
             "white",
             "#f2f2f2",
             "white",
             "#f2f2f2",
             "white",
             "#f2f2f2",
             "white",
             "#f2f2f2",
             "white",
             "#f2f2f2",
             "white",
             "#f2f2f2",
             "white",
             "#f2f2f2",
             "white",
             "#f2f2f2",
             "white",
             "#f2f2f2",
             "white",
             "#f2f2f2",
             "white",
             "#f2f2f2",
             "white",
             "#f2f2f2",
             "white",
             "#f2f2f2",
             "white",
             "lavender"
            ],
            [
             "white",
             "#f2f2f2",
             "white",
             "#f2f2f2",
             "white",
             "#f2f2f2",
             "white",
             "#f2f2f2",
             "white",
             "#f2f2f2",
             "white",
             "#f2f2f2",
             "white",
             "#f2f2f2",
             "white",
             "#f2f2f2",
             "white",
             "#f2f2f2",
             "white",
             "#f2f2f2",
             "white",
             "#f2f2f2",
             "white",
             "#f2f2f2",
             "white",
             "#f2f2f2",
             "white",
             "#f2f2f2",
             "white",
             "#f2f2f2",
             "white",
             "#f2f2f2",
             "white",
             "#f2f2f2",
             "white",
             "#f2f2f2",
             "white",
             "#f2f2f2",
             "white",
             "#f2f2f2",
             "white",
             "#f2f2f2",
             "white",
             "#f2f2f2",
             "white",
             "lavender"
            ]
           ]
          },
          "values": [
           [
            "1",
            "2",
            "3",
            "4",
            "5",
            "6",
            "7",
            "8",
            "9",
            "10",
            "11",
            "12",
            "13",
            "14",
            "15",
            "16",
            "17",
            "18",
            "19",
            "20",
            "21",
            "22",
            "23",
            "24",
            "25",
            "26",
            "27",
            "28",
            "29",
            "30",
            "31",
            "32",
            "33",
            "34",
            "35",
            "36",
            "37",
            "38",
            "39",
            "40",
            "41",
            "42",
            "43",
            "44",
            "45",
            "<b>Total</b>"
           ],
           [
            "151,315",
            "202,307",
            "37,392",
            "205,863",
            "34,875",
            "202,505",
            "70,713",
            "155,078",
            "125,833",
            "126,512",
            "207,499",
            "112,238",
            "219,622",
            "200,898",
            "123,737",
            "57,197",
            "93,188",
            "120,653",
            "203,819",
            "203,742",
            "140,167",
            "119,557",
            "114,533",
            "203,819",
            "128,107",
            "152,513",
            "204,184",
            "206,302",
            "93,638",
            "42,988",
            "203,750",
            "203,007",
            "39,690",
            "158,114",
            "103,681",
            "39,910",
            "39,910",
            "39,690",
            "184,109",
            "155,083",
            "196,321",
            "39,690",
            "41,062",
            "39,910",
            "118,221",
            "<b></b>"
           ],
           [
            "$1,555,264.40",
            "$1,925,751.34",
            "$402,704.44",
            "$2,094,712.96",
            "$318,011.81",
            "$1,564,728.19",
            "$570,617.31",
            "$908,749.52",
            "$543,980.55",
            "$1,899,424.57",
            "$1,356,383.12",
            "$1,009,001.61",
            "$2,003,620.31",
            "$2,020,978.40",
            "$623,312.47",
            "$519,247.73",
            "$893,581.39",
            "$1,084,718.42",
            "$1,444,999.04",
            "$2,107,676.87",
            "$756,069.08",
            "$1,028,501.04",
            "$1,389,864.46",
            "$1,356,755.39",
            "$706,721.53",
            "$1,002,911.84",
            "$1,775,216.20",
            "$1,323,522.24",
            "$539,451.43",
            "$438,579.62",
            "$1,395,901.44",
            "$1,166,568.15",
            "$259,861.69",
            "$966,781.56",
            "$919,724.98",
            "$373,511.99",
            "$518,900.28",
            "$385,731.65",
            "$1,450,668.13",
            "$964,128.04",
            "$1,268,125.42",
            "$556,403.86",
            "$633,324.72",
            "$302,748.87",
            "$785,981.41",
            "<b>$47,113,419.49</b>"
           ]
          ]
         },
         "columnwidth": [
          8,
          15,
          25
         ],
         "domain": {
          "x": [
           0.706,
           1
          ],
          "y": [
           0,
           1
          ]
         },
         "header": {
          "align": [
           "right",
           "right",
           "right"
          ],
          "fill": {
           "color": "lightblue"
          },
          "values": [
           "Store",
           "Store Size",
           "Avg Weekly Sales"
          ]
         },
         "type": "table"
        }
       ],
       "layout": {
        "annotations": [
         {
          "font": {
           "size": 16
          },
          "showarrow": false,
          "text": "Weekly Sales by Size",
          "x": 0.34299999999999997,
          "xanchor": "center",
          "xref": "paper",
          "y": 1,
          "yanchor": "bottom",
          "yref": "paper"
         },
         {
          "font": {
           "size": 16
          },
          "showarrow": false,
          "text": "Summary Table",
          "x": 0.853,
          "xanchor": "center",
          "xref": "paper",
          "y": 1,
          "yanchor": "bottom",
          "yref": "paper"
         }
        ],
        "template": {
         "data": {
          "bar": [
           {
            "error_x": {
             "color": "#2a3f5f"
            },
            "error_y": {
             "color": "#2a3f5f"
            },
            "marker": {
             "line": {
              "color": "#E5ECF6",
              "width": 0.5
             },
             "pattern": {
              "fillmode": "overlay",
              "size": 10,
              "solidity": 0.2
             }
            },
            "type": "bar"
           }
          ],
          "barpolar": [
           {
            "marker": {
             "line": {
              "color": "#E5ECF6",
              "width": 0.5
             },
             "pattern": {
              "fillmode": "overlay",
              "size": 10,
              "solidity": 0.2
             }
            },
            "type": "barpolar"
           }
          ],
          "carpet": [
           {
            "aaxis": {
             "endlinecolor": "#2a3f5f",
             "gridcolor": "white",
             "linecolor": "white",
             "minorgridcolor": "white",
             "startlinecolor": "#2a3f5f"
            },
            "baxis": {
             "endlinecolor": "#2a3f5f",
             "gridcolor": "white",
             "linecolor": "white",
             "minorgridcolor": "white",
             "startlinecolor": "#2a3f5f"
            },
            "type": "carpet"
           }
          ],
          "choropleth": [
           {
            "colorbar": {
             "outlinewidth": 0,
             "ticks": ""
            },
            "type": "choropleth"
           }
          ],
          "contour": [
           {
            "colorbar": {
             "outlinewidth": 0,
             "ticks": ""
            },
            "colorscale": [
             [
              0,
              "#0d0887"
             ],
             [
              0.1111111111111111,
              "#46039f"
             ],
             [
              0.2222222222222222,
              "#7201a8"
             ],
             [
              0.3333333333333333,
              "#9c179e"
             ],
             [
              0.4444444444444444,
              "#bd3786"
             ],
             [
              0.5555555555555556,
              "#d8576b"
             ],
             [
              0.6666666666666666,
              "#ed7953"
             ],
             [
              0.7777777777777778,
              "#fb9f3a"
             ],
             [
              0.8888888888888888,
              "#fdca26"
             ],
             [
              1,
              "#f0f921"
             ]
            ],
            "type": "contour"
           }
          ],
          "contourcarpet": [
           {
            "colorbar": {
             "outlinewidth": 0,
             "ticks": ""
            },
            "type": "contourcarpet"
           }
          ],
          "heatmap": [
           {
            "colorbar": {
             "outlinewidth": 0,
             "ticks": ""
            },
            "colorscale": [
             [
              0,
              "#0d0887"
             ],
             [
              0.1111111111111111,
              "#46039f"
             ],
             [
              0.2222222222222222,
              "#7201a8"
             ],
             [
              0.3333333333333333,
              "#9c179e"
             ],
             [
              0.4444444444444444,
              "#bd3786"
             ],
             [
              0.5555555555555556,
              "#d8576b"
             ],
             [
              0.6666666666666666,
              "#ed7953"
             ],
             [
              0.7777777777777778,
              "#fb9f3a"
             ],
             [
              0.8888888888888888,
              "#fdca26"
             ],
             [
              1,
              "#f0f921"
             ]
            ],
            "type": "heatmap"
           }
          ],
          "histogram": [
           {
            "marker": {
             "pattern": {
              "fillmode": "overlay",
              "size": 10,
              "solidity": 0.2
             }
            },
            "type": "histogram"
           }
          ],
          "histogram2d": [
           {
            "colorbar": {
             "outlinewidth": 0,
             "ticks": ""
            },
            "colorscale": [
             [
              0,
              "#0d0887"
             ],
             [
              0.1111111111111111,
              "#46039f"
             ],
             [
              0.2222222222222222,
              "#7201a8"
             ],
             [
              0.3333333333333333,
              "#9c179e"
             ],
             [
              0.4444444444444444,
              "#bd3786"
             ],
             [
              0.5555555555555556,
              "#d8576b"
             ],
             [
              0.6666666666666666,
              "#ed7953"
             ],
             [
              0.7777777777777778,
              "#fb9f3a"
             ],
             [
              0.8888888888888888,
              "#fdca26"
             ],
             [
              1,
              "#f0f921"
             ]
            ],
            "type": "histogram2d"
           }
          ],
          "histogram2dcontour": [
           {
            "colorbar": {
             "outlinewidth": 0,
             "ticks": ""
            },
            "colorscale": [
             [
              0,
              "#0d0887"
             ],
             [
              0.1111111111111111,
              "#46039f"
             ],
             [
              0.2222222222222222,
              "#7201a8"
             ],
             [
              0.3333333333333333,
              "#9c179e"
             ],
             [
              0.4444444444444444,
              "#bd3786"
             ],
             [
              0.5555555555555556,
              "#d8576b"
             ],
             [
              0.6666666666666666,
              "#ed7953"
             ],
             [
              0.7777777777777778,
              "#fb9f3a"
             ],
             [
              0.8888888888888888,
              "#fdca26"
             ],
             [
              1,
              "#f0f921"
             ]
            ],
            "type": "histogram2dcontour"
           }
          ],
          "mesh3d": [
           {
            "colorbar": {
             "outlinewidth": 0,
             "ticks": ""
            },
            "type": "mesh3d"
           }
          ],
          "parcoords": [
           {
            "line": {
             "colorbar": {
              "outlinewidth": 0,
              "ticks": ""
             }
            },
            "type": "parcoords"
           }
          ],
          "pie": [
           {
            "automargin": true,
            "type": "pie"
           }
          ],
          "scatter": [
           {
            "fillpattern": {
             "fillmode": "overlay",
             "size": 10,
             "solidity": 0.2
            },
            "type": "scatter"
           }
          ],
          "scatter3d": [
           {
            "line": {
             "colorbar": {
              "outlinewidth": 0,
              "ticks": ""
             }
            },
            "marker": {
             "colorbar": {
              "outlinewidth": 0,
              "ticks": ""
             }
            },
            "type": "scatter3d"
           }
          ],
          "scattercarpet": [
           {
            "marker": {
             "colorbar": {
              "outlinewidth": 0,
              "ticks": ""
             }
            },
            "type": "scattercarpet"
           }
          ],
          "scattergeo": [
           {
            "marker": {
             "colorbar": {
              "outlinewidth": 0,
              "ticks": ""
             }
            },
            "type": "scattergeo"
           }
          ],
          "scattergl": [
           {
            "marker": {
             "colorbar": {
              "outlinewidth": 0,
              "ticks": ""
             }
            },
            "type": "scattergl"
           }
          ],
          "scattermap": [
           {
            "marker": {
             "colorbar": {
              "outlinewidth": 0,
              "ticks": ""
             }
            },
            "type": "scattermap"
           }
          ],
          "scattermapbox": [
           {
            "marker": {
             "colorbar": {
              "outlinewidth": 0,
              "ticks": ""
             }
            },
            "type": "scattermapbox"
           }
          ],
          "scatterpolar": [
           {
            "marker": {
             "colorbar": {
              "outlinewidth": 0,
              "ticks": ""
             }
            },
            "type": "scatterpolar"
           }
          ],
          "scatterpolargl": [
           {
            "marker": {
             "colorbar": {
              "outlinewidth": 0,
              "ticks": ""
             }
            },
            "type": "scatterpolargl"
           }
          ],
          "scatterternary": [
           {
            "marker": {
             "colorbar": {
              "outlinewidth": 0,
              "ticks": ""
             }
            },
            "type": "scatterternary"
           }
          ],
          "surface": [
           {
            "colorbar": {
             "outlinewidth": 0,
             "ticks": ""
            },
            "colorscale": [
             [
              0,
              "#0d0887"
             ],
             [
              0.1111111111111111,
              "#46039f"
             ],
             [
              0.2222222222222222,
              "#7201a8"
             ],
             [
              0.3333333333333333,
              "#9c179e"
             ],
             [
              0.4444444444444444,
              "#bd3786"
             ],
             [
              0.5555555555555556,
              "#d8576b"
             ],
             [
              0.6666666666666666,
              "#ed7953"
             ],
             [
              0.7777777777777778,
              "#fb9f3a"
             ],
             [
              0.8888888888888888,
              "#fdca26"
             ],
             [
              1,
              "#f0f921"
             ]
            ],
            "type": "surface"
           }
          ],
          "table": [
           {
            "cells": {
             "fill": {
              "color": "#EBF0F8"
             },
             "line": {
              "color": "white"
             }
            },
            "header": {
             "fill": {
              "color": "#C8D4E3"
             },
             "line": {
              "color": "white"
             }
            },
            "type": "table"
           }
          ]
         },
         "layout": {
          "annotationdefaults": {
           "arrowcolor": "#2a3f5f",
           "arrowhead": 0,
           "arrowwidth": 1
          },
          "autotypenumbers": "strict",
          "coloraxis": {
           "colorbar": {
            "outlinewidth": 0,
            "ticks": ""
           }
          },
          "colorscale": {
           "diverging": [
            [
             0,
             "#8e0152"
            ],
            [
             0.1,
             "#c51b7d"
            ],
            [
             0.2,
             "#de77ae"
            ],
            [
             0.3,
             "#f1b6da"
            ],
            [
             0.4,
             "#fde0ef"
            ],
            [
             0.5,
             "#f7f7f7"
            ],
            [
             0.6,
             "#e6f5d0"
            ],
            [
             0.7,
             "#b8e186"
            ],
            [
             0.8,
             "#7fbc41"
            ],
            [
             0.9,
             "#4d9221"
            ],
            [
             1,
             "#276419"
            ]
           ],
           "sequential": [
            [
             0,
             "#0d0887"
            ],
            [
             0.1111111111111111,
             "#46039f"
            ],
            [
             0.2222222222222222,
             "#7201a8"
            ],
            [
             0.3333333333333333,
             "#9c179e"
            ],
            [
             0.4444444444444444,
             "#bd3786"
            ],
            [
             0.5555555555555556,
             "#d8576b"
            ],
            [
             0.6666666666666666,
             "#ed7953"
            ],
            [
             0.7777777777777778,
             "#fb9f3a"
            ],
            [
             0.8888888888888888,
             "#fdca26"
            ],
            [
             1,
             "#f0f921"
            ]
           ],
           "sequentialminus": [
            [
             0,
             "#0d0887"
            ],
            [
             0.1111111111111111,
             "#46039f"
            ],
            [
             0.2222222222222222,
             "#7201a8"
            ],
            [
             0.3333333333333333,
             "#9c179e"
            ],
            [
             0.4444444444444444,
             "#bd3786"
            ],
            [
             0.5555555555555556,
             "#d8576b"
            ],
            [
             0.6666666666666666,
             "#ed7953"
            ],
            [
             0.7777777777777778,
             "#fb9f3a"
            ],
            [
             0.8888888888888888,
             "#fdca26"
            ],
            [
             1,
             "#f0f921"
            ]
           ]
          },
          "colorway": [
           "#636efa",
           "#EF553B",
           "#00cc96",
           "#ab63fa",
           "#FFA15A",
           "#19d3f3",
           "#FF6692",
           "#B6E880",
           "#FF97FF",
           "#FECB52"
          ],
          "font": {
           "color": "#2a3f5f"
          },
          "geo": {
           "bgcolor": "white",
           "lakecolor": "white",
           "landcolor": "#E5ECF6",
           "showlakes": true,
           "showland": true,
           "subunitcolor": "white"
          },
          "hoverlabel": {
           "align": "left"
          },
          "hovermode": "closest",
          "mapbox": {
           "style": "light"
          },
          "paper_bgcolor": "white",
          "plot_bgcolor": "#E5ECF6",
          "polar": {
           "angularaxis": {
            "gridcolor": "white",
            "linecolor": "white",
            "ticks": ""
           },
           "bgcolor": "#E5ECF6",
           "radialaxis": {
            "gridcolor": "white",
            "linecolor": "white",
            "ticks": ""
           }
          },
          "scene": {
           "xaxis": {
            "backgroundcolor": "#E5ECF6",
            "gridcolor": "white",
            "gridwidth": 2,
            "linecolor": "white",
            "showbackground": true,
            "ticks": "",
            "zerolinecolor": "white"
           },
           "yaxis": {
            "backgroundcolor": "#E5ECF6",
            "gridcolor": "white",
            "gridwidth": 2,
            "linecolor": "white",
            "showbackground": true,
            "ticks": "",
            "zerolinecolor": "white"
           },
           "zaxis": {
            "backgroundcolor": "#E5ECF6",
            "gridcolor": "white",
            "gridwidth": 2,
            "linecolor": "white",
            "showbackground": true,
            "ticks": "",
            "zerolinecolor": "white"
           }
          },
          "shapedefaults": {
           "line": {
            "color": "#2a3f5f"
           }
          },
          "ternary": {
           "aaxis": {
            "gridcolor": "white",
            "linecolor": "white",
            "ticks": ""
           },
           "baxis": {
            "gridcolor": "white",
            "linecolor": "white",
            "ticks": ""
           },
           "bgcolor": "#E5ECF6",
           "caxis": {
            "gridcolor": "white",
            "linecolor": "white",
            "ticks": ""
           }
          },
          "title": {
           "x": 0.05
          },
          "xaxis": {
           "automargin": true,
           "gridcolor": "white",
           "linecolor": "white",
           "ticks": "",
           "title": {
            "standoff": 15
           },
           "zerolinecolor": "white",
           "zerolinewidth": 2
          },
          "yaxis": {
           "automargin": true,
           "gridcolor": "white",
           "linecolor": "white",
           "ticks": "",
           "title": {
            "standoff": 15
           },
           "zerolinecolor": "white",
           "zerolinewidth": 2
          }
         }
        },
        "title": {
         "text": "Average Weekly Sales by Store Size",
         "x": 0.5
        },
        "xaxis": {
         "anchor": "y",
         "domain": [
          0,
          0.6859999999999999
         ],
         "title": {
          "text": "Store Size (sq ft)"
         }
        },
        "yaxis": {
         "anchor": "x",
         "domain": [
          0,
          1
         ],
         "tickformat": ".2s",
         "title": {
          "text": "Average Weekly Sales Per Store"
         }
        }
       }
      },
      "image/png": "[encoded data removed]"
     },
     "metadata": {},
     "output_type": "display_data"
    }
   ],
   "source": [
    "# Let's combine the graph and the summary table into a single dashboard-style presentation\n",
    "\n",
    "# First, set up the overall container for the charts\n",
    "fig = make_subplots(\n",
    "    rows=1,\n",
    "    cols=2,\n",
    "    column_widths=[0.70, 0.30],\n",
    "    horizontal_spacing=0.02,  # reduce the gutter between col1 and col2\n",
    "    subplot_titles=(\"Weekly Sales by Size\", \"Summary Table\"),\n",
    "    specs=[[{\"type\": \"xy\"}, {\"type\": \"table\"}]]\n",
    ")\n",
    "\n",
    "# Add the area-style line chart to column 1. We use go.Scatter here instead of px.area.\n",
    "# Important: sort the data by x-axis values to avoid a \"spaghetti\" graph.\n",
    "df_sorted = df.sort_values(by=\"store_size\", ascending=True)\n",
    "\n",
    "area_trace = go.Scatter(\n",
    "    x=df_sorted['store_size'],\n",
    "    y=df_sorted['average_weekly_sales_per_store'],\n",
    "    mode='lines+markers',         # enables lines with dots on each point\n",
    "    fill='tozeroy',               # fills the area under the line\n",
    "    line=dict(color='blue'),\n",
    "    name=\"Average Weekly Sales\",\n",
    "    line_shape='linear',\n",
    "    opacity=0.8,\n",
    "    hovertemplate='Store Size: %{x}<br>Weekly Sales: %{y:$,.2f}<extra></extra>'\n",
    ")\n",
    "\n",
    "fig.add_trace(area_trace, row=1, col=1)\n",
    "\n",
    "# Prepare zebra striping for the summary table\n",
    "# Alternate row colors: white for even, light gray for odd.\n",
    "# We build color lists for each column, with the last row (the total row) as white.\n",
    "fill_colors = [\n",
    "    ['white' if i % 2 == 0 else '#f2f2f2' for i in range(len(df_weekly_sales) - 1)] + ['white']\n",
    "    for _ in range(3)\n",
    "]\n",
    "\n",
    "# Overwrite the fill color of the final row (the Total row) to a distinct color for emphasis\n",
    "for i in range(len(fill_colors)):\n",
    "    fill_colors[i][-1] = 'lavender'\n",
    "\n",
    "# Add the summary table to column 2\n",
    "fig.add_trace(\n",
    "    go.Table(\n",
    "        columnwidth=[8, 15, 25],\n",
    "        header=dict(\n",
    "            values=[\"Store\", \"Store Size\", \"Avg Weekly Sales\"],\n",
    "            fill_color=\"lightblue\",\n",
    "            align=['right', 'right', 'right']\n",
    "        ),\n",
    "        cells=dict(\n",
    "            values=[df_weekly_sales[col] for col in df_weekly_sales.columns],\n",
    "            align=[\"right\", \"right\", \"right\"],\n",
    "            fill_color=fill_colors\n",
    "        )\n",
    "    ),\n",
    "    row=1,\n",
    "    col=2\n",
    ")\n",
    "\n",
    "# Final layout adjustments\n",
    "fig.update_layout(\n",
    "    title='Average Weekly Sales by Store Size',\n",
    "    title_x=0.5,\n",
    "    xaxis_title='Store Size (sq ft)',\n",
    "    yaxis_title='Average Weekly Sales Per Store',\n",
    "    yaxis_tickformat=\".2s\"\n",
    ")\n",
    "\n",
    "fig.show()\n"
   ]
  },
  {
   "cell_type": "code",
   "execution_count": null,
   "id": "28795787-6e52-4b13-8692-498675a230ad",
   "metadata": {},
   "outputs": [],
   "source": [
    "# Close the connection\n",
    "conn.close()"
   ]
  },
  {
   "cell_type": "code",
   "execution_count": null,
   "id": "2a9884e1-3478-43c6-835b-af878f981a4b",
   "metadata": {},
   "outputs": [],
   "source": []
  }
 ],
 "metadata": {
  "kernelspec": {
   "display_name": "Python 3 (ipykernel)",
   "language": "python",
   "name": "python3"
  },
  "language_info": {
   "codemirror_mode": {
    "name": "ipython",
    "version": 3
   },
   "file_extension": ".py",
   "mimetype": "text/x-python",
   "name": "python",
   "nbconvert_exporter": "python",
   "pygments_lexer": "ipython3",
   "version": "3.13.2"
  }
 },
 "nbformat": 4,
 "nbformat_minor": 5
}
