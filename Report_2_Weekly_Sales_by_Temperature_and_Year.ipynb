{
 "cells": [
  {
   "cell_type": "code",
   "execution_count": 23,
   "id": "76487bfa-c291-4d3b-8dad-f920f16d831e",
   "metadata": {},
   "outputs": [
    {
     "data": {
      "text/plain": [
       "True"
      ]
     },
     "execution_count": 23,
     "metadata": {},
     "output_type": "execute_result"
    }
   ],
   "source": [
    "import os\n",
    "from dotenv import load_dotenv\n",
    "import snowflake.connector\n",
    "import pandas as pd\n",
    "import plotly.express as px\n",
    "# Use Plotly's \"make_subplots\" function from \"plotly.subplots\" to layout elements horizontally\n",
    "from plotly.subplots import make_subplots\n",
    "import plotly.graph_objects as go\n",
    "\n",
    "# Load credentials\n",
    "load_dotenv()"
   ]
  },
  {
   "cell_type": "code",
   "execution_count": 19,
   "id": "1e2ab658-d842-467e-9920-5f0824343aa2",
   "metadata": {},
   "outputs": [],
   "source": [
    "# Connect to Snowflake\n",
    "conn = snowflake.connector.connect(\n",
    "    user=os.getenv('SNOWFLAKE_USER'),\n",
    "    password=os.getenv('SNOWFLAKE_PASSWORD'),\n",
    "    account=os.getenv('SNOWFLAKE_ACCOUNT') + '.' + os.getenv('SNOWFLAKE_REGION'),\n",
    "    warehouse=os.getenv('SNOWFLAKE_WAREHOUSE'),\n",
    "    database='WALMART_DB',\n",
    "    schema='SILVER',\n",
    "    role=os.getenv('SNOWFLAKE_ROLE')\n",
    ")"
   ]
  },
  {
   "cell_type": "code",
   "execution_count": 69,
   "id": "2b8d9a09-33c2-411a-878f-71dc688ef9a1",
   "metadata": {},
   "outputs": [],
   "source": [
    "# SQL query\n",
    "# After running the query and reviewing the chart, it was determined that\n",
    "# the store_temperature values are too finely grained (e.g. 7.46, 12.19, 14.02, etc)\n",
    "# This is creating a bar in the bar chart for each individual value.  The \n",
    "# result is that we have created hundreds of bars to represent each individual\n",
    "# value.  Visually, the bars are too thin to be seen and are of no use.\n",
    "# Fractional variance in degrees are negligible (i.e. the difference between\n",
    "# 7.42 degrees and 7.65 degrees is insignificant at this level).  To see \n",
    "# measurable and visual bars for the report, round the store_temperature to\n",
    "# the nearest whole number.\n",
    "# UPDATE: Tried the above approach and the temperatures are still too finely granulated.\n",
    "# Group the temperatures into \"bins\" where we truncate the temperature to the nearest\n",
    "# multiple of 5.\n",
    "sql = \"\"\"\n",
    "SELECT \n",
    "  FLOOR(f.store_temperature / 5) * 5 AS store_temperature,\n",
    "  d.store_date,\n",
    "  AVG(f.store_weekly_sales) AS weekly_sales,\n",
    "  SUM(f.store_weekly_sales) AS total_weekly_sales\n",
    "FROM \n",
    "  walmart_fact_table f\n",
    "LEFT JOIN\n",
    "  walmart_date_dim d\n",
    "ON\n",
    "  f.date_id = d.date_id\n",
    "WHERE\n",
    "  f.store_temperature IS NOT NULL\n",
    "AND\n",
    "  f.store_temperature >= 0\n",
    "GROUP BY 1,2\n",
    "ORDER BY 1,2\n",
    "\"\"\"\n",
    "\n",
    "# Run query using Snowflake connector\n",
    "cur = conn.cursor()\n",
    "cur.execute(sql)\n",
    "\n",
    "# Load results into DataFrame\n",
    "columns = [col[0] for col in cur.description]\n",
    "data = cur.fetchall()\n",
    "df = pd.DataFrame(data, columns=columns)\n",
    "\n",
    "# Force column names to lowercase so Snowflake will match the model table\n",
    "df.columns = [col.lower() for col in df.columns]\n",
    "\n",
    "# print(df.columns)\n",
    "df['year'] = pd.to_datetime(df['store_date']).dt.year\n",
    "\n",
    "# Convert the temperature bins to string representations to help\n",
    "# plotly create a more managable range for the y-axis.  However,\n",
    "# let's sort the temperatures to ensure they remain in the correct order.\n",
    "df.sort_values(by='store_temperature', inplace=True)\n",
    "df['store_temperature_bin'] = df['store_temperature'].astype(str)\n"
   ]
  },
  {
   "cell_type": "code",
   "execution_count": 70,
   "id": "d1b571f4-b506-4038-8115-f253e4a0c5af",
   "metadata": {},
   "outputs": [
    {
     "data": {
      "application/vnd.plotly.v1+json": {
       "config": {
        "plotlyServerURL": "https://plot.ly"
       },
       "data": [
        {
         "hovertemplate": "Temperature (°F)=%{x}<br>Weekly Sales=%{y}<br>Year=%{marker.color}<extra></extra>",
         "legendgroup": "",
         "marker": {
          "color": {
           "bdata": "2gcAANsHAADbBwAA3AcAANoHAADaBwAA2wcAANsHAADbBwAA2wcAANsHAADbBwAA2wcAANsHAADbBwAA3AcAANoHAADaBwAA2gcAANoHAADaBwAA2gcAANsHAADbBwAA2wcAANsHAADbBwAA2wcAANsHAADbBwAA2wcAANsHAADbBwAA2wcAANsHAADbBwAA3AcAANwHAADcBwAA3AcAANoHAADaBwAA2gcAANoHAADaBwAA2gcAANoHAADaBwAA2gcAANoHAADaBwAA2gcAANsHAADbBwAA2wcAANsHAADbBwAA2wcAANsHAADbBwAA2wcAANsHAADbBwAA2wcAANsHAADbBwAA2wcAANsHAADbBwAA2wcAANwHAADcBwAA3AcAANwHAADcBwAA3AcAANwHAADcBwAA3AcAANoHAADaBwAA2gcAANoHAADaBwAA2gcAANoHAADaBwAA2gcAANoHAADaBwAA2gcAANoHAADaBwAA2gcAANsHAADbBwAA2wcAANsHAADbBwAA2wcAANsHAADbBwAA2wcAANsHAADbBwAA2wcAANsHAADbBwAA2wcAANsHAADbBwAA2wcAANsHAADbBwAA2wcAANsHAADbBwAA2wcAANwHAADcBwAA3AcAANwHAADcBwAA3AcAANwHAADcBwAA3AcAANwHAADaBwAA2gcAANoHAADaBwAA2gcAANoHAADaBwAA2gcAANoHAADaBwAA2gcAANoHAADaBwAA2gcAANoHAADaBwAA2gcAANoHAADaBwAA2wcAANsHAADbBwAA2wcAANsHAADbBwAA2wcAANsHAADbBwAA2wcAANsHAADbBwAA2wcAANsHAADbBwAA2wcAANsHAADbBwAA2wcAANsHAADbBwAA2wcAANsHAADbBwAA2wcAANsHAADcBwAA3AcAANwHAADcBwAA3AcAANwHAADcBwAA3AcAANwHAADcBwAA3AcAANwHAADaBwAA2gcAANoHAADaBwAA2gcAANoHAADaBwAA2gcAANoHAADaBwAA2gcAANoHAADaBwAA2gcAANoHAADaBwAA2gcAANoHAADaBwAA2gcAANoHAADaBwAA2gcAANoHAADaBwAA2wcAANsHAADbBwAA2wcAANsHAADbBwAA2wcAANsHAADbBwAA2wcAANsHAADbBwAA2wcAANsHAADbBwAA2wcAANsHAADbBwAA2wcAANsHAADbBwAA2wcAANsHAADbBwAA2wcAANsHAADbBwAA2wcAANsHAADbBwAA2wcAANsHAADbBwAA3AcAANwHAADcBwAA3AcAANwHAADcBwAA3AcAANwHAADcBwAA3AcAANwHAADcBwAA3AcAANwHAADcBwAA3AcAANwHAADcBwAA2gcAANoHAADaBwAA2gcAANoHAADaBwAA2gcAANoHAADaBwAA2gcAANoHAADaBwAA2gcAANoHAADaBwAA2gcAANoHAADaBwAA2gcAANoHAADaBwAA2gcAANoHAADaBwAA2gcAANoHAADaBwAA2gcAANsHAADbBwAA2wcAANsHAADbBwAA2wcAANsHAADbBwAA2wcAANsHAADbBwAA2wcAANsHAADbBwAA2wcAANsHAADbBwAA2wcAANsHAADbBwAA2wcAANsHAADbBwAA2wcAANsHAADbBwAA2wcAANsHAADbBwAA2wcAANsHAADbBwAA3AcAANwHAADcBwAA3AcAANwHAADcBwAA3AcAANwHAADcBwAA3AcAANwHAADcBwAA3AcAANwHAADcBwAA3AcAANwHAADcBwAA3AcAANwHAADcBwAA2gcAANoHAADaBwAA2gcAANoHAADaBwAA2gcAANoHAADaBwAA2gcAANoHAADaBwAA2gcAANoHAADaBwAA2gcAANoHAADaBwAA2gcAANoHAADaBwAA2gcAANoHAADaBwAA2gcAANoHAADaBwAA2gcAANoHAADaBwAA2gcAANoHAADaBwAA2gcAANsHAADbBwAA2wcAANsHAADbBwAA2wcAANsHAADbBwAA2wcAANsHAADbBwAA2wcAANsHAADbBwAA2wcAANsHAADbBwAA2wcAANsHAADbBwAA2wcAANsHAADbBwAA2wcAANsHAADbBwAA2wcAANsHAADbBwAA2wcAANsHAADbBwAA2wcAANsHAADbBwAA2wcAANsHAADbBwAA3AcAANwHAADcBwAA3AcAANwHAADcBwAA3AcAANwHAADcBwAA3AcAANwHAADcBwAA3AcAANwHAADcBwAA3AcAANwHAADcBwAA3AcAANwHAADcBwAA3AcAANwHAADcBwAA2gcAANoHAADaBwAA2gcAANoHAADaBwAA2gcAANoHAADaBwAA2gcAANoHAADaBwAA2gcAANoHAADaBwAA2gcAANoHAADaBwAA2gcAANoHAADaBwAA2gcAANoHAADaBwAA2gcAANoHAADaBwAA2gcAANoHAADaBwAA2gcAANoHAADaBwAA2gcAANoHAADbBwAA2wcAANsHAADbBwAA2wcAANsHAADbBwAA2wcAANsHAADbBwAA2wcAANsHAADbBwAA2wcAANsHAADbBwAA2wcAANsHAADbBwAA2wcAANsHAADbBwAA2wcAANsHAADbBwAA2wcAANsHAADbBwAA2wcAANsHAADbBwAA2wcAANsHAADbBwAA2wcAANsHAADbBwAA2wcAANsHAADbBwAA3AcAANwHAADcBwAA3AcAANwHAADcBwAA3AcAANwHAADcBwAA3AcAANwHAADcBwAA3AcAANwHAADcBwAA3AcAANwHAADcBwAA3AcAANwHAADcBwAA3AcAANwHAADcBwAA3AcAANwHAADcBwAA3AcAANwHAADaBwAA2gcAANoHAADaBwAA2gcAANoHAADaBwAA2gcAANoHAADaBwAA2gcAANoHAADaBwAA2gcAANoHAADaBwAA2gcAANoHAADaBwAA2gcAANoHAADaBwAA2gcAANoHAADaBwAA2gcAANoHAADaBwAA2gcAANoHAADaBwAA2gcAANoHAADaBwAA2gcAANoHAADaBwAA2gcAANoHAADaBwAA2gcAANoHAADbBwAA2wcAANsHAADbBwAA2wcAANsHAADbBwAA2wcAANsHAADbBwAA2wcAANsHAADbBwAA2wcAANsHAADbBwAA2wcAANsHAADbBwAA2wcAANsHAADbBwAA2wcAANsHAADbBwAA2wcAANsHAADbBwAA2wcAANsHAADbBwAA2wcAANsHAADbBwAA2wcAANsHAADbBwAA2wcAANsHAADbBwAA2wcAANsHAADcBwAA3AcAANwHAADcBwAA3AcAANwHAADcBwAA3AcAANwHAADcBwAA3AcAANwHAADcBwAA3AcAANwHAADcBwAA3AcAANwHAADcBwAA3AcAANwHAADcBwAA3AcAANwHAADcBwAA3AcAANwHAADcBwAA3AcAANwHAADcBwAA3AcAANwHAADaBwAA2gcAANoHAADaBwAA2gcAANoHAADaBwAA2gcAANoHAADaBwAA2gcAANoHAADaBwAA2gcAANoHAADaBwAA2gcAANoHAADaBwAA2gcAANoHAADaBwAA2gcAANoHAADaBwAA2gcAANoHAADaBwAA2gcAANoHAADaBwAA2gcAANoHAADaBwAA2gcAANoHAADaBwAA2gcAANoHAADaBwAA2gcAANoHAADbBwAA2wcAANsHAADbBwAA2wcAANsHAADbBwAA2wcAANsHAADbBwAA2wcAANsHAADbBwAA2wcAANsHAADbBwAA2wcAANsHAADbBwAA2wcAANsHAADbBwAA2wcAANsHAADbBwAA2wcAANsHAADbBwAA2wcAANsHAADbBwAA2wcAANsHAADbBwAA2wcAANsHAADbBwAA2wcAANsHAADbBwAA3AcAANwHAADcBwAA3AcAANwHAADcBwAA3AcAANwHAADcBwAA3AcAANwHAADcBwAA3AcAANwHAADcBwAA3AcAANwHAADcBwAA3AcAANwHAADcBwAA3AcAANwHAADcBwAA3AcAANwHAADcBwAA3AcAANwHAADcBwAA3AcAANwHAADcBwAA3AcAANwHAADcBwAA3AcAANwHAADcBwAA2gcAANoHAADaBwAA2gcAANoHAADaBwAA2gcAANoHAADaBwAA2gcAANoHAADaBwAA2gcAANoHAADaBwAA2gcAANoHAADaBwAA2gcAANoHAADaBwAA2gcAANoHAADaBwAA2gcAANoHAADaBwAA2gcAANoHAADaBwAA2gcAANoHAADaBwAA2gcAANsHAADbBwAA2wcAANsHAADbBwAA2wcAANsHAADbBwAA2wcAANsHAADbBwAA2wcAANsHAADbBwAA2wcAANsHAADbBwAA2wcAANsHAADbBwAA2wcAANsHAADbBwAA2wcAANsHAADbBwAA2wcAANsHAADbBwAA2wcAANsHAADbBwAA2wcAANsHAADbBwAA2wcAANsHAADbBwAA3AcAANwHAADcBwAA3AcAANwHAADcBwAA3AcAANwHAADcBwAA3AcAANwHAADcBwAA3AcAANwHAADcBwAA3AcAANwHAADcBwAA3AcAANwHAADcBwAA3AcAANwHAADcBwAA3AcAANwHAADcBwAA3AcAANwHAADcBwAA3AcAANwHAADcBwAA2gcAANoHAADaBwAA2gcAANoHAADaBwAA2gcAANoHAADaBwAA2gcAANoHAADaBwAA2gcAANoHAADaBwAA2gcAANoHAADaBwAA2gcAANoHAADaBwAA2gcAANoHAADaBwAA2gcAANoHAADaBwAA2gcAANoHAADaBwAA2wcAANsHAADbBwAA2wcAANsHAADbBwAA2wcAANsHAADbBwAA2wcAANsHAADbBwAA2wcAANsHAADbBwAA2wcAANsHAADbBwAA2wcAANsHAADbBwAA2wcAANsHAADbBwAA2wcAANsHAADbBwAA2wcAANsHAADbBwAA2wcAANsHAADbBwAA2wcAANwHAADcBwAA3AcAANwHAADcBwAA3AcAANwHAADcBwAA3AcAANwHAADcBwAA3AcAANwHAADcBwAA3AcAANwHAADcBwAA3AcAANwHAADcBwAA3AcAANwHAADcBwAA3AcAANwHAADcBwAA3AcAANwHAADcBwAA3AcAANwHAADaBwAA2gcAANoHAADaBwAA2gcAANoHAADaBwAA2gcAANoHAADaBwAA2gcAANoHAADaBwAA2gcAANoHAADaBwAA2gcAANoHAADaBwAA2gcAANoHAADaBwAA2gcAANoHAADaBwAA2wcAANsHAADbBwAA2wcAANsHAADbBwAA2wcAANsHAADbBwAA2wcAANsHAADbBwAA2wcAANsHAADbBwAA2wcAANsHAADbBwAA2wcAANsHAADbBwAA2wcAANsHAADbBwAA2wcAANsHAADbBwAA2wcAANsHAADcBwAA3AcAANwHAADcBwAA3AcAANwHAADcBwAA3AcAANwHAADcBwAA3AcAANwHAADcBwAA3AcAANwHAADcBwAA3AcAANwHAADcBwAA3AcAANwHAADcBwAA3AcAANwHAADaBwAA2gcAANoHAADaBwAA2gcAANoHAADaBwAA2gcAANoHAADaBwAA2gcAANoHAADaBwAA2gcAANoHAADaBwAA2gcAANoHAADaBwAA2wcAANsHAADbBwAA2wcAANsHAADbBwAA2wcAANsHAADbBwAA2wcAANsHAADbBwAA2wcAANsHAADbBwAA2wcAANsHAADbBwAA2wcAANsHAADbBwAA3AcAANwHAADcBwAA3AcAANwHAADcBwAA3AcAANwHAADcBwAA3AcAANwHAADcBwAA3AcAANwHAADcBwAA3AcAANwHAADcBwAA3AcAANwHAADcBwAA3AcAANwHAADcBwAA2gcAANoHAADaBwAA2gcAANoHAADaBwAA2gcAANoHAADaBwAA2gcAANoHAADaBwAA2gcAANoHAADbBwAA2wcAANsHAADbBwAA2wcAANsHAADbBwAA2wcAANsHAADbBwAA2wcAANsHAADbBwAA2wcAANsHAADbBwAA2wcAANsHAADbBwAA3AcAANwHAADcBwAA3AcAANwHAADcBwAA3AcAANwHAADcBwAA3AcAANwHAADcBwAA3AcAANwHAADcBwAA3AcAANwHAADcBwAA3AcAANoHAADaBwAA2gcAANoHAADaBwAA2gcAANoHAADaBwAA2gcAANoHAADaBwAA2gcAANoHAADbBwAA2wcAANsHAADbBwAA2wcAANsHAADbBwAA2wcAANsHAADbBwAA2wcAANwHAADcBwAA3AcAANwHAADcBwAA3AcAANwHAADcBwAA3AcAANwHAADcBwAA3AcAANoHAADaBwAA2gcAANoHAADaBwAA2gcAANoHAADbBwAA2wcAANsHAADbBwAA2wcAANsHAADbBwAA2wcAANsHAADbBwAA3AcAANwHAADcBwAA3AcAANwHAADaBwAA3AcAAA==",
           "dtype": "i4"
          },
          "coloraxis": "coloraxis",
          "pattern": {
           "shape": ""
          }
         },
         "name": "",
         "orientation": "v",
         "showlegend": false,
         "textposition": "auto",
         "type": "bar",
         "x": [
          "5.0",
          "5.0",
          "5.0",
          "5.0",
          "10.0",
          "10.0",
          "10.0",
          "10.0",
          "10.0",
          "10.0",
          "10.0",
          "10.0",
          "10.0",
          "10.0",
          "10.0",
          "10.0",
          "15.0",
          "15.0",
          "15.0",
          "15.0",
          "15.0",
          "15.0",
          "15.0",
          "15.0",
          "15.0",
          "15.0",
          "15.0",
          "15.0",
          "15.0",
          "15.0",
          "15.0",
          "15.0",
          "15.0",
          "15.0",
          "15.0",
          "15.0",
          "15.0",
          "15.0",
          "15.0",
          "15.0",
          "20.0",
          "20.0",
          "20.0",
          "20.0",
          "20.0",
          "20.0",
          "20.0",
          "20.0",
          "20.0",
          "20.0",
          "20.0",
          "20.0",
          "20.0",
          "20.0",
          "20.0",
          "20.0",
          "20.0",
          "20.0",
          "20.0",
          "20.0",
          "20.0",
          "20.0",
          "20.0",
          "20.0",
          "20.0",
          "20.0",
          "20.0",
          "20.0",
          "20.0",
          "20.0",
          "20.0",
          "20.0",
          "20.0",
          "20.0",
          "20.0",
          "20.0",
          "20.0",
          "20.0",
          "20.0",
          "25.0",
          "25.0",
          "25.0",
          "25.0",
          "25.0",
          "25.0",
          "25.0",
          "25.0",
          "25.0",
          "25.0",
          "25.0",
          "25.0",
          "25.0",
          "25.0",
          "25.0",
          "25.0",
          "25.0",
          "25.0",
          "25.0",
          "25.0",
          "25.0",
          "25.0",
          "25.0",
          "25.0",
          "25.0",
          "25.0",
          "25.0",
          "25.0",
          "25.0",
          "25.0",
          "25.0",
          "25.0",
          "25.0",
          "25.0",
          "25.0",
          "25.0",
          "25.0",
          "25.0",
          "25.0",
          "25.0",
          "25.0",
          "25.0",
          "25.0",
          "25.0",
          "25.0",
          "25.0",
          "25.0",
          "25.0",
          "25.0",
          "30.0",
          "30.0",
          "30.0",
          "30.0",
          "30.0",
          "30.0",
          "30.0",
          "30.0",
          "30.0",
          "30.0",
          "30.0",
          "30.0",
          "30.0",
          "30.0",
          "30.0",
          "30.0",
          "30.0",
          "30.0",
          "30.0",
          "30.0",
          "30.0",
          "30.0",
          "30.0",
          "30.0",
          "30.0",
          "30.0",
          "30.0",
          "30.0",
          "30.0",
          "30.0",
          "30.0",
          "30.0",
          "30.0",
          "30.0",
          "30.0",
          "30.0",
          "30.0",
          "30.0",
          "30.0",
          "30.0",
          "30.0",
          "30.0",
          "30.0",
          "30.0",
          "30.0",
          "30.0",
          "30.0",
          "30.0",
          "30.0",
          "30.0",
          "30.0",
          "30.0",
          "30.0",
          "30.0",
          "30.0",
          "30.0",
          "30.0",
          "35.0",
          "35.0",
          "35.0",
          "35.0",
          "35.0",
          "35.0",
          "35.0",
          "35.0",
          "35.0",
          "35.0",
          "35.0",
          "35.0",
          "35.0",
          "35.0",
          "35.0",
          "35.0",
          "35.0",
          "35.0",
          "35.0",
          "35.0",
          "35.0",
          "35.0",
          "35.0",
          "35.0",
          "35.0",
          "35.0",
          "35.0",
          "35.0",
          "35.0",
          "35.0",
          "35.0",
          "35.0",
          "35.0",
          "35.0",
          "35.0",
          "35.0",
          "35.0",
          "35.0",
          "35.0",
          "35.0",
          "35.0",
          "35.0",
          "35.0",
          "35.0",
          "35.0",
          "35.0",
          "35.0",
          "35.0",
          "35.0",
          "35.0",
          "35.0",
          "35.0",
          "35.0",
          "35.0",
          "35.0",
          "35.0",
          "35.0",
          "35.0",
          "35.0",
          "35.0",
          "35.0",
          "35.0",
          "35.0",
          "35.0",
          "35.0",
          "35.0",
          "35.0",
          "35.0",
          "35.0",
          "35.0",
          "35.0",
          "35.0",
          "35.0",
          "35.0",
          "35.0",
          "35.0",
          "40.0",
          "40.0",
          "40.0",
          "40.0",
          "40.0",
          "40.0",
          "40.0",
          "40.0",
          "40.0",
          "40.0",
          "40.0",
          "40.0",
          "40.0",
          "40.0",
          "40.0",
          "40.0",
          "40.0",
          "40.0",
          "40.0",
          "40.0",
          "40.0",
          "40.0",
          "40.0",
          "40.0",
          "40.0",
          "40.0",
          "40.0",
          "40.0",
          "40.0",
          "40.0",
          "40.0",
          "40.0",
          "40.0",
          "40.0",
          "40.0",
          "40.0",
          "40.0",
          "40.0",
          "40.0",
          "40.0",
          "40.0",
          "40.0",
          "40.0",
          "40.0",
          "40.0",
          "40.0",
          "40.0",
          "40.0",
          "40.0",
          "40.0",
          "40.0",
          "40.0",
          "40.0",
          "40.0",
          "40.0",
          "40.0",
          "40.0",
          "40.0",
          "40.0",
          "40.0",
          "40.0",
          "40.0",
          "40.0",
          "40.0",
          "40.0",
          "40.0",
          "40.0",
          "40.0",
          "40.0",
          "40.0",
          "40.0",
          "40.0",
          "40.0",
          "40.0",
          "40.0",
          "40.0",
          "40.0",
          "40.0",
          "40.0",
          "40.0",
          "40.0",
          "45.0",
          "45.0",
          "45.0",
          "45.0",
          "45.0",
          "45.0",
          "45.0",
          "45.0",
          "45.0",
          "45.0",
          "45.0",
          "45.0",
          "45.0",
          "45.0",
          "45.0",
          "45.0",
          "45.0",
          "45.0",
          "45.0",
          "45.0",
          "45.0",
          "45.0",
          "45.0",
          "45.0",
          "45.0",
          "45.0",
          "45.0",
          "45.0",
          "45.0",
          "45.0",
          "45.0",
          "45.0",
          "45.0",
          "45.0",
          "45.0",
          "45.0",
          "45.0",
          "45.0",
          "45.0",
          "45.0",
          "45.0",
          "45.0",
          "45.0",
          "45.0",
          "45.0",
          "45.0",
          "45.0",
          "45.0",
          "45.0",
          "45.0",
          "45.0",
          "45.0",
          "45.0",
          "45.0",
          "45.0",
          "45.0",
          "45.0",
          "45.0",
          "45.0",
          "45.0",
          "45.0",
          "45.0",
          "45.0",
          "45.0",
          "45.0",
          "45.0",
          "45.0",
          "45.0",
          "45.0",
          "45.0",
          "45.0",
          "45.0",
          "45.0",
          "45.0",
          "45.0",
          "45.0",
          "45.0",
          "45.0",
          "45.0",
          "45.0",
          "45.0",
          "45.0",
          "45.0",
          "45.0",
          "45.0",
          "45.0",
          "45.0",
          "45.0",
          "45.0",
          "45.0",
          "45.0",
          "45.0",
          "45.0",
          "45.0",
          "45.0",
          "45.0",
          "50.0",
          "50.0",
          "50.0",
          "50.0",
          "50.0",
          "50.0",
          "50.0",
          "50.0",
          "50.0",
          "50.0",
          "50.0",
          "50.0",
          "50.0",
          "50.0",
          "50.0",
          "50.0",
          "50.0",
          "50.0",
          "50.0",
          "50.0",
          "50.0",
          "50.0",
          "50.0",
          "50.0",
          "50.0",
          "50.0",
          "50.0",
          "50.0",
          "50.0",
          "50.0",
          "50.0",
          "50.0",
          "50.0",
          "50.0",
          "50.0",
          "50.0",
          "50.0",
          "50.0",
          "50.0",
          "50.0",
          "50.0",
          "50.0",
          "50.0",
          "50.0",
          "50.0",
          "50.0",
          "50.0",
          "50.0",
          "50.0",
          "50.0",
          "50.0",
          "50.0",
          "50.0",
          "50.0",
          "50.0",
          "50.0",
          "50.0",
          "50.0",
          "50.0",
          "50.0",
          "50.0",
          "50.0",
          "50.0",
          "50.0",
          "50.0",
          "50.0",
          "50.0",
          "50.0",
          "50.0",
          "50.0",
          "50.0",
          "50.0",
          "50.0",
          "50.0",
          "50.0",
          "50.0",
          "50.0",
          "50.0",
          "50.0",
          "50.0",
          "50.0",
          "50.0",
          "50.0",
          "50.0",
          "50.0",
          "50.0",
          "50.0",
          "50.0",
          "50.0",
          "50.0",
          "50.0",
          "50.0",
          "50.0",
          "50.0",
          "50.0",
          "50.0",
          "50.0",
          "50.0",
          "50.0",
          "50.0",
          "50.0",
          "50.0",
          "50.0",
          "50.0",
          "55.0",
          "55.0",
          "55.0",
          "55.0",
          "55.0",
          "55.0",
          "55.0",
          "55.0",
          "55.0",
          "55.0",
          "55.0",
          "55.0",
          "55.0",
          "55.0",
          "55.0",
          "55.0",
          "55.0",
          "55.0",
          "55.0",
          "55.0",
          "55.0",
          "55.0",
          "55.0",
          "55.0",
          "55.0",
          "55.0",
          "55.0",
          "55.0",
          "55.0",
          "55.0",
          "55.0",
          "55.0",
          "55.0",
          "55.0",
          "55.0",
          "55.0",
          "55.0",
          "55.0",
          "55.0",
          "55.0",
          "55.0",
          "55.0",
          "55.0",
          "55.0",
          "55.0",
          "55.0",
          "55.0",
          "55.0",
          "55.0",
          "55.0",
          "55.0",
          "55.0",
          "55.0",
          "55.0",
          "55.0",
          "55.0",
          "55.0",
          "55.0",
          "55.0",
          "55.0",
          "55.0",
          "55.0",
          "55.0",
          "55.0",
          "55.0",
          "55.0",
          "55.0",
          "55.0",
          "55.0",
          "55.0",
          "55.0",
          "55.0",
          "55.0",
          "55.0",
          "55.0",
          "55.0",
          "55.0",
          "55.0",
          "55.0",
          "55.0",
          "55.0",
          "55.0",
          "55.0",
          "55.0",
          "55.0",
          "55.0",
          "55.0",
          "55.0",
          "55.0",
          "55.0",
          "55.0",
          "55.0",
          "55.0",
          "55.0",
          "55.0",
          "55.0",
          "55.0",
          "55.0",
          "55.0",
          "55.0",
          "55.0",
          "55.0",
          "55.0",
          "55.0",
          "55.0",
          "55.0",
          "55.0",
          "55.0",
          "55.0",
          "55.0",
          "55.0",
          "55.0",
          "55.0",
          "55.0",
          "55.0",
          "55.0",
          "55.0",
          "60.0",
          "60.0",
          "60.0",
          "60.0",
          "60.0",
          "60.0",
          "60.0",
          "60.0",
          "60.0",
          "60.0",
          "60.0",
          "60.0",
          "60.0",
          "60.0",
          "60.0",
          "60.0",
          "60.0",
          "60.0",
          "60.0",
          "60.0",
          "60.0",
          "60.0",
          "60.0",
          "60.0",
          "60.0",
          "60.0",
          "60.0",
          "60.0",
          "60.0",
          "60.0",
          "60.0",
          "60.0",
          "60.0",
          "60.0",
          "60.0",
          "60.0",
          "60.0",
          "60.0",
          "60.0",
          "60.0",
          "60.0",
          "60.0",
          "60.0",
          "60.0",
          "60.0",
          "60.0",
          "60.0",
          "60.0",
          "60.0",
          "60.0",
          "60.0",
          "60.0",
          "60.0",
          "60.0",
          "60.0",
          "60.0",
          "60.0",
          "60.0",
          "60.0",
          "60.0",
          "60.0",
          "60.0",
          "60.0",
          "60.0",
          "60.0",
          "60.0",
          "60.0",
          "60.0",
          "60.0",
          "60.0",
          "60.0",
          "60.0",
          "60.0",
          "60.0",
          "60.0",
          "60.0",
          "60.0",
          "60.0",
          "60.0",
          "60.0",
          "60.0",
          "60.0",
          "60.0",
          "60.0",
          "60.0",
          "60.0",
          "60.0",
          "60.0",
          "60.0",
          "60.0",
          "60.0",
          "60.0",
          "60.0",
          "60.0",
          "60.0",
          "60.0",
          "60.0",
          "60.0",
          "60.0",
          "60.0",
          "60.0",
          "60.0",
          "60.0",
          "60.0",
          "60.0",
          "60.0",
          "60.0",
          "60.0",
          "60.0",
          "60.0",
          "60.0",
          "60.0",
          "60.0",
          "60.0",
          "60.0",
          "60.0",
          "60.0",
          "60.0",
          "60.0",
          "60.0",
          "60.0",
          "65.0",
          "65.0",
          "65.0",
          "65.0",
          "65.0",
          "65.0",
          "65.0",
          "65.0",
          "65.0",
          "65.0",
          "65.0",
          "65.0",
          "65.0",
          "65.0",
          "65.0",
          "65.0",
          "65.0",
          "65.0",
          "65.0",
          "65.0",
          "65.0",
          "65.0",
          "65.0",
          "65.0",
          "65.0",
          "65.0",
          "65.0",
          "65.0",
          "65.0",
          "65.0",
          "65.0",
          "65.0",
          "65.0",
          "65.0",
          "65.0",
          "65.0",
          "65.0",
          "65.0",
          "65.0",
          "65.0",
          "65.0",
          "65.0",
          "65.0",
          "65.0",
          "65.0",
          "65.0",
          "65.0",
          "65.0",
          "65.0",
          "65.0",
          "65.0",
          "65.0",
          "65.0",
          "65.0",
          "65.0",
          "65.0",
          "65.0",
          "65.0",
          "65.0",
          "65.0",
          "65.0",
          "65.0",
          "65.0",
          "65.0",
          "65.0",
          "65.0",
          "65.0",
          "65.0",
          "65.0",
          "65.0",
          "65.0",
          "65.0",
          "65.0",
          "65.0",
          "65.0",
          "65.0",
          "65.0",
          "65.0",
          "65.0",
          "65.0",
          "65.0",
          "65.0",
          "65.0",
          "65.0",
          "65.0",
          "65.0",
          "65.0",
          "65.0",
          "65.0",
          "65.0",
          "65.0",
          "65.0",
          "65.0",
          "65.0",
          "65.0",
          "65.0",
          "65.0",
          "65.0",
          "65.0",
          "65.0",
          "65.0",
          "65.0",
          "65.0",
          "65.0",
          "65.0",
          "70.0",
          "70.0",
          "70.0",
          "70.0",
          "70.0",
          "70.0",
          "70.0",
          "70.0",
          "70.0",
          "70.0",
          "70.0",
          "70.0",
          "70.0",
          "70.0",
          "70.0",
          "70.0",
          "70.0",
          "70.0",
          "70.0",
          "70.0",
          "70.0",
          "70.0",
          "70.0",
          "70.0",
          "70.0",
          "70.0",
          "70.0",
          "70.0",
          "70.0",
          "70.0",
          "70.0",
          "70.0",
          "70.0",
          "70.0",
          "70.0",
          "70.0",
          "70.0",
          "70.0",
          "70.0",
          "70.0",
          "70.0",
          "70.0",
          "70.0",
          "70.0",
          "70.0",
          "70.0",
          "70.0",
          "70.0",
          "70.0",
          "70.0",
          "70.0",
          "70.0",
          "70.0",
          "70.0",
          "70.0",
          "70.0",
          "70.0",
          "70.0",
          "70.0",
          "70.0",
          "70.0",
          "70.0",
          "70.0",
          "70.0",
          "70.0",
          "70.0",
          "70.0",
          "70.0",
          "70.0",
          "70.0",
          "70.0",
          "70.0",
          "70.0",
          "70.0",
          "70.0",
          "70.0",
          "70.0",
          "70.0",
          "70.0",
          "70.0",
          "70.0",
          "70.0",
          "70.0",
          "70.0",
          "70.0",
          "70.0",
          "70.0",
          "70.0",
          "70.0",
          "70.0",
          "70.0",
          "70.0",
          "70.0",
          "70.0",
          "70.0",
          "75.0",
          "75.0",
          "75.0",
          "75.0",
          "75.0",
          "75.0",
          "75.0",
          "75.0",
          "75.0",
          "75.0",
          "75.0",
          "75.0",
          "75.0",
          "75.0",
          "75.0",
          "75.0",
          "75.0",
          "75.0",
          "75.0",
          "75.0",
          "75.0",
          "75.0",
          "75.0",
          "75.0",
          "75.0",
          "75.0",
          "75.0",
          "75.0",
          "75.0",
          "75.0",
          "75.0",
          "75.0",
          "75.0",
          "75.0",
          "75.0",
          "75.0",
          "75.0",
          "75.0",
          "75.0",
          "75.0",
          "75.0",
          "75.0",
          "75.0",
          "75.0",
          "75.0",
          "75.0",
          "75.0",
          "75.0",
          "75.0",
          "75.0",
          "75.0",
          "75.0",
          "75.0",
          "75.0",
          "75.0",
          "75.0",
          "75.0",
          "75.0",
          "75.0",
          "75.0",
          "75.0",
          "75.0",
          "75.0",
          "75.0",
          "75.0",
          "75.0",
          "75.0",
          "75.0",
          "75.0",
          "75.0",
          "75.0",
          "75.0",
          "75.0",
          "75.0",
          "75.0",
          "75.0",
          "75.0",
          "75.0",
          "80.0",
          "80.0",
          "80.0",
          "80.0",
          "80.0",
          "80.0",
          "80.0",
          "80.0",
          "80.0",
          "80.0",
          "80.0",
          "80.0",
          "80.0",
          "80.0",
          "80.0",
          "80.0",
          "80.0",
          "80.0",
          "80.0",
          "80.0",
          "80.0",
          "80.0",
          "80.0",
          "80.0",
          "80.0",
          "80.0",
          "80.0",
          "80.0",
          "80.0",
          "80.0",
          "80.0",
          "80.0",
          "80.0",
          "80.0",
          "80.0",
          "80.0",
          "80.0",
          "80.0",
          "80.0",
          "80.0",
          "80.0",
          "80.0",
          "80.0",
          "80.0",
          "80.0",
          "80.0",
          "80.0",
          "80.0",
          "80.0",
          "80.0",
          "80.0",
          "80.0",
          "80.0",
          "80.0",
          "80.0",
          "80.0",
          "80.0",
          "80.0",
          "80.0",
          "80.0",
          "80.0",
          "80.0",
          "80.0",
          "80.0",
          "85.0",
          "85.0",
          "85.0",
          "85.0",
          "85.0",
          "85.0",
          "85.0",
          "85.0",
          "85.0",
          "85.0",
          "85.0",
          "85.0",
          "85.0",
          "85.0",
          "85.0",
          "85.0",
          "85.0",
          "85.0",
          "85.0",
          "85.0",
          "85.0",
          "85.0",
          "85.0",
          "85.0",
          "85.0",
          "85.0",
          "85.0",
          "85.0",
          "85.0",
          "85.0",
          "85.0",
          "85.0",
          "85.0",
          "85.0",
          "85.0",
          "85.0",
          "85.0",
          "85.0",
          "85.0",
          "85.0",
          "85.0",
          "85.0",
          "85.0",
          "85.0",
          "85.0",
          "85.0",
          "85.0",
          "85.0",
          "85.0",
          "85.0",
          "85.0",
          "85.0",
          "90.0",
          "90.0",
          "90.0",
          "90.0",
          "90.0",
          "90.0",
          "90.0",
          "90.0",
          "90.0",
          "90.0",
          "90.0",
          "90.0",
          "90.0",
          "90.0",
          "90.0",
          "90.0",
          "90.0",
          "90.0",
          "90.0",
          "90.0",
          "90.0",
          "90.0",
          "90.0",
          "90.0",
          "90.0",
          "90.0",
          "90.0",
          "90.0",
          "90.0",
          "90.0",
          "90.0",
          "90.0",
          "90.0",
          "90.0",
          "90.0",
          "90.0",
          "95.0",
          "95.0",
          "95.0",
          "95.0",
          "95.0",
          "95.0",
          "95.0",
          "95.0",
          "95.0",
          "95.0",
          "95.0",
          "95.0",
          "95.0",
          "95.0",
          "95.0",
          "95.0",
          "95.0",
          "95.0",
          "95.0",
          "95.0",
          "95.0",
          "95.0",
          "100.0",
          "100.0"
         ],
         "xaxis": "x",
         "y": {
          "bdata": "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",
          "dtype": "f8"
         },
         "yaxis": "y"
        }
       ],
       "layout": {
        "barmode": "stack",
        "coloraxis": {
         "colorbar": {
          "title": {
           "text": "Year"
          }
         },
         "colorscale": [
          [
           0,
           "#0d0887"
          ],
          [
           0.1111111111111111,
           "#46039f"
          ],
          [
           0.2222222222222222,
           "#7201a8"
          ],
          [
           0.3333333333333333,
           "#9c179e"
          ],
          [
           0.4444444444444444,
           "#bd3786"
          ],
          [
           0.5555555555555556,
           "#d8576b"
          ],
          [
           0.6666666666666666,
           "#ed7953"
          ],
          [
           0.7777777777777778,
           "#fb9f3a"
          ],
          [
           0.8888888888888888,
           "#fdca26"
          ],
          [
           1,
           "#f0f921"
          ]
         ]
        },
        "legend": {
         "tracegroupgap": 0
        },
        "template": {
         "data": {
          "bar": [
           {
            "error_x": {
             "color": "#2a3f5f"
            },
            "error_y": {
             "color": "#2a3f5f"
            },
            "marker": {
             "line": {
              "color": "#E5ECF6",
              "width": 0.5
             },
             "pattern": {
              "fillmode": "overlay",
              "size": 10,
              "solidity": 0.2
             }
            },
            "type": "bar"
           }
          ],
          "barpolar": [
           {
            "marker": {
             "line": {
              "color": "#E5ECF6",
              "width": 0.5
             },
             "pattern": {
              "fillmode": "overlay",
              "size": 10,
              "solidity": 0.2
             }
            },
            "type": "barpolar"
           }
          ],
          "carpet": [
           {
            "aaxis": {
             "endlinecolor": "#2a3f5f",
             "gridcolor": "white",
             "linecolor": "white",
             "minorgridcolor": "white",
             "startlinecolor": "#2a3f5f"
            },
            "baxis": {
             "endlinecolor": "#2a3f5f",
             "gridcolor": "white",
             "linecolor": "white",
             "minorgridcolor": "white",
             "startlinecolor": "#2a3f5f"
            },
            "type": "carpet"
           }
          ],
          "choropleth": [
           {
            "colorbar": {
             "outlinewidth": 0,
             "ticks": ""
            },
            "type": "choropleth"
           }
          ],
          "contour": [
           {
            "colorbar": {
             "outlinewidth": 0,
             "ticks": ""
            },
            "colorscale": [
             [
              0,
              "#0d0887"
             ],
             [
              0.1111111111111111,
              "#46039f"
             ],
             [
              0.2222222222222222,
              "#7201a8"
             ],
             [
              0.3333333333333333,
              "#9c179e"
             ],
             [
              0.4444444444444444,
              "#bd3786"
             ],
             [
              0.5555555555555556,
              "#d8576b"
             ],
             [
              0.6666666666666666,
              "#ed7953"
             ],
             [
              0.7777777777777778,
              "#fb9f3a"
             ],
             [
              0.8888888888888888,
              "#fdca26"
             ],
             [
              1,
              "#f0f921"
             ]
            ],
            "type": "contour"
           }
          ],
          "contourcarpet": [
           {
            "colorbar": {
             "outlinewidth": 0,
             "ticks": ""
            },
            "type": "contourcarpet"
           }
          ],
          "heatmap": [
           {
            "colorbar": {
             "outlinewidth": 0,
             "ticks": ""
            },
            "colorscale": [
             [
              0,
              "#0d0887"
             ],
             [
              0.1111111111111111,
              "#46039f"
             ],
             [
              0.2222222222222222,
              "#7201a8"
             ],
             [
              0.3333333333333333,
              "#9c179e"
             ],
             [
              0.4444444444444444,
              "#bd3786"
             ],
             [
              0.5555555555555556,
              "#d8576b"
             ],
             [
              0.6666666666666666,
              "#ed7953"
             ],
             [
              0.7777777777777778,
              "#fb9f3a"
             ],
             [
              0.8888888888888888,
              "#fdca26"
             ],
             [
              1,
              "#f0f921"
             ]
            ],
            "type": "heatmap"
           }
          ],
          "histogram": [
           {
            "marker": {
             "pattern": {
              "fillmode": "overlay",
              "size": 10,
              "solidity": 0.2
             }
            },
            "type": "histogram"
           }
          ],
          "histogram2d": [
           {
            "colorbar": {
             "outlinewidth": 0,
             "ticks": ""
            },
            "colorscale": [
             [
              0,
              "#0d0887"
             ],
             [
              0.1111111111111111,
              "#46039f"
             ],
             [
              0.2222222222222222,
              "#7201a8"
             ],
             [
              0.3333333333333333,
              "#9c179e"
             ],
             [
              0.4444444444444444,
              "#bd3786"
             ],
             [
              0.5555555555555556,
              "#d8576b"
             ],
             [
              0.6666666666666666,
              "#ed7953"
             ],
             [
              0.7777777777777778,
              "#fb9f3a"
             ],
             [
              0.8888888888888888,
              "#fdca26"
             ],
             [
              1,
              "#f0f921"
             ]
            ],
            "type": "histogram2d"
           }
          ],
          "histogram2dcontour": [
           {
            "colorbar": {
             "outlinewidth": 0,
             "ticks": ""
            },
            "colorscale": [
             [
              0,
              "#0d0887"
             ],
             [
              0.1111111111111111,
              "#46039f"
             ],
             [
              0.2222222222222222,
              "#7201a8"
             ],
             [
              0.3333333333333333,
              "#9c179e"
             ],
             [
              0.4444444444444444,
              "#bd3786"
             ],
             [
              0.5555555555555556,
              "#d8576b"
             ],
             [
              0.6666666666666666,
              "#ed7953"
             ],
             [
              0.7777777777777778,
              "#fb9f3a"
             ],
             [
              0.8888888888888888,
              "#fdca26"
             ],
             [
              1,
              "#f0f921"
             ]
            ],
            "type": "histogram2dcontour"
           }
          ],
          "mesh3d": [
           {
            "colorbar": {
             "outlinewidth": 0,
             "ticks": ""
            },
            "type": "mesh3d"
           }
          ],
          "parcoords": [
           {
            "line": {
             "colorbar": {
              "outlinewidth": 0,
              "ticks": ""
             }
            },
            "type": "parcoords"
           }
          ],
          "pie": [
           {
            "automargin": true,
            "type": "pie"
           }
          ],
          "scatter": [
           {
            "fillpattern": {
             "fillmode": "overlay",
             "size": 10,
             "solidity": 0.2
            },
            "type": "scatter"
           }
          ],
          "scatter3d": [
           {
            "line": {
             "colorbar": {
              "outlinewidth": 0,
              "ticks": ""
             }
            },
            "marker": {
             "colorbar": {
              "outlinewidth": 0,
              "ticks": ""
             }
            },
            "type": "scatter3d"
           }
          ],
          "scattercarpet": [
           {
            "marker": {
             "colorbar": {
              "outlinewidth": 0,
              "ticks": ""
             }
            },
            "type": "scattercarpet"
           }
          ],
          "scattergeo": [
           {
            "marker": {
             "colorbar": {
              "outlinewidth": 0,
              "ticks": ""
             }
            },
            "type": "scattergeo"
           }
          ],
          "scattergl": [
           {
            "marker": {
             "colorbar": {
              "outlinewidth": 0,
              "ticks": ""
             }
            },
            "type": "scattergl"
           }
          ],
          "scattermap": [
           {
            "marker": {
             "colorbar": {
              "outlinewidth": 0,
              "ticks": ""
             }
            },
            "type": "scattermap"
           }
          ],
          "scattermapbox": [
           {
            "marker": {
             "colorbar": {
              "outlinewidth": 0,
              "ticks": ""
             }
            },
            "type": "scattermapbox"
           }
          ],
          "scatterpolar": [
           {
            "marker": {
             "colorbar": {
              "outlinewidth": 0,
              "ticks": ""
             }
            },
            "type": "scatterpolar"
           }
          ],
          "scatterpolargl": [
           {
            "marker": {
             "colorbar": {
              "outlinewidth": 0,
              "ticks": ""
             }
            },
            "type": "scatterpolargl"
           }
          ],
          "scatterternary": [
           {
            "marker": {
             "colorbar": {
              "outlinewidth": 0,
              "ticks": ""
             }
            },
            "type": "scatterternary"
           }
          ],
          "surface": [
           {
            "colorbar": {
             "outlinewidth": 0,
             "ticks": ""
            },
            "colorscale": [
             [
              0,
              "#0d0887"
             ],
             [
              0.1111111111111111,
              "#46039f"
             ],
             [
              0.2222222222222222,
              "#7201a8"
             ],
             [
              0.3333333333333333,
              "#9c179e"
             ],
             [
              0.4444444444444444,
              "#bd3786"
             ],
             [
              0.5555555555555556,
              "#d8576b"
             ],
             [
              0.6666666666666666,
              "#ed7953"
             ],
             [
              0.7777777777777778,
              "#fb9f3a"
             ],
             [
              0.8888888888888888,
              "#fdca26"
             ],
             [
              1,
              "#f0f921"
             ]
            ],
            "type": "surface"
           }
          ],
          "table": [
           {
            "cells": {
             "fill": {
              "color": "#EBF0F8"
             },
             "line": {
              "color": "white"
             }
            },
            "header": {
             "fill": {
              "color": "#C8D4E3"
             },
             "line": {
              "color": "white"
             }
            },
            "type": "table"
           }
          ]
         },
         "layout": {
          "annotationdefaults": {
           "arrowcolor": "#2a3f5f",
           "arrowhead": 0,
           "arrowwidth": 1
          },
          "autotypenumbers": "strict",
          "coloraxis": {
           "colorbar": {
            "outlinewidth": 0,
            "ticks": ""
           }
          },
          "colorscale": {
           "diverging": [
            [
             0,
             "#8e0152"
            ],
            [
             0.1,
             "#c51b7d"
            ],
            [
             0.2,
             "#de77ae"
            ],
            [
             0.3,
             "#f1b6da"
            ],
            [
             0.4,
             "#fde0ef"
            ],
            [
             0.5,
             "#f7f7f7"
            ],
            [
             0.6,
             "#e6f5d0"
            ],
            [
             0.7,
             "#b8e186"
            ],
            [
             0.8,
             "#7fbc41"
            ],
            [
             0.9,
             "#4d9221"
            ],
            [
             1,
             "#276419"
            ]
           ],
           "sequential": [
            [
             0,
             "#0d0887"
            ],
            [
             0.1111111111111111,
             "#46039f"
            ],
            [
             0.2222222222222222,
             "#7201a8"
            ],
            [
             0.3333333333333333,
             "#9c179e"
            ],
            [
             0.4444444444444444,
             "#bd3786"
            ],
            [
             0.5555555555555556,
             "#d8576b"
            ],
            [
             0.6666666666666666,
             "#ed7953"
            ],
            [
             0.7777777777777778,
             "#fb9f3a"
            ],
            [
             0.8888888888888888,
             "#fdca26"
            ],
            [
             1,
             "#f0f921"
            ]
           ],
           "sequentialminus": [
            [
             0,
             "#0d0887"
            ],
            [
             0.1111111111111111,
             "#46039f"
            ],
            [
             0.2222222222222222,
             "#7201a8"
            ],
            [
             0.3333333333333333,
             "#9c179e"
            ],
            [
             0.4444444444444444,
             "#bd3786"
            ],
            [
             0.5555555555555556,
             "#d8576b"
            ],
            [
             0.6666666666666666,
             "#ed7953"
            ],
            [
             0.7777777777777778,
             "#fb9f3a"
            ],
            [
             0.8888888888888888,
             "#fdca26"
            ],
            [
             1,
             "#f0f921"
            ]
           ]
          },
          "colorway": [
           "#636efa",
           "#EF553B",
           "#00cc96",
           "#ab63fa",
           "#FFA15A",
           "#19d3f3",
           "#FF6692",
           "#B6E880",
           "#FF97FF",
           "#FECB52"
          ],
          "font": {
           "color": "#2a3f5f"
          },
          "geo": {
           "bgcolor": "white",
           "lakecolor": "white",
           "landcolor": "#E5ECF6",
           "showlakes": true,
           "showland": true,
           "subunitcolor": "white"
          },
          "hoverlabel": {
           "align": "left"
          },
          "hovermode": "closest",
          "mapbox": {
           "style": "light"
          },
          "paper_bgcolor": "white",
          "plot_bgcolor": "#E5ECF6",
          "polar": {
           "angularaxis": {
            "gridcolor": "white",
            "linecolor": "white",
            "ticks": ""
           },
           "bgcolor": "#E5ECF6",
           "radialaxis": {
            "gridcolor": "white",
            "linecolor": "white",
            "ticks": ""
           }
          },
          "scene": {
           "xaxis": {
            "backgroundcolor": "#E5ECF6",
            "gridcolor": "white",
            "gridwidth": 2,
            "linecolor": "white",
            "showbackground": true,
            "ticks": "",
            "zerolinecolor": "white"
           },
           "yaxis": {
            "backgroundcolor": "#E5ECF6",
            "gridcolor": "white",
            "gridwidth": 2,
            "linecolor": "white",
            "showbackground": true,
            "ticks": "",
            "zerolinecolor": "white"
           },
           "zaxis": {
            "backgroundcolor": "#E5ECF6",
            "gridcolor": "white",
            "gridwidth": 2,
            "linecolor": "white",
            "showbackground": true,
            "ticks": "",
            "zerolinecolor": "white"
           }
          },
          "shapedefaults": {
           "line": {
            "color": "#2a3f5f"
           }
          },
          "ternary": {
           "aaxis": {
            "gridcolor": "white",
            "linecolor": "white",
            "ticks": ""
           },
           "baxis": {
            "gridcolor": "white",
            "linecolor": "white",
            "ticks": ""
           },
           "bgcolor": "#E5ECF6",
           "caxis": {
            "gridcolor": "white",
            "linecolor": "white",
            "ticks": ""
           }
          },
          "title": {
           "x": 0.05
          },
          "xaxis": {
           "automargin": true,
           "gridcolor": "white",
           "linecolor": "white",
           "ticks": "",
           "title": {
            "standoff": 15
           },
           "zerolinecolor": "white",
           "zerolinewidth": 2
          },
          "yaxis": {
           "automargin": true,
           "gridcolor": "white",
           "linecolor": "white",
           "ticks": "",
           "title": {
            "standoff": 15
           },
           "zerolinecolor": "white",
           "zerolinewidth": 2
          }
         }
        },
        "title": {
         "text": "Weekly Sales by Temperature and Year"
        },
        "xaxis": {
         "anchor": "y",
         "domain": [
          0,
          1
         ],
         "title": {
          "text": "Temperature (°F)"
         }
        },
        "yaxis": {
         "anchor": "x",
         "domain": [
          0,
          1
         ],
         "title": {
          "text": "Weekly Sales"
         }
        }
       }
      },
      "image/png": "[encoded data removed]"
     },
     "metadata": {},
     "output_type": "display_data"
    }
   ],
   "source": [
    "# Plot using Plotly\n",
    "fig = px.bar(\n",
    "    df,\n",
    "    x='store_temperature_bin',\n",
    "    y='weekly_sales',\n",
    "    color='year',\n",
    "    barmode='stack',\n",
    "    title='Weekly Sales by Temperature and Year',\n",
    "    labels={\n",
    "        'store_temperature_bin': 'Temperature (°F)',\n",
    "        'weekly_sales': 'Weekly Sales',\n",
    "        'year': 'Year'\n",
    "    }\n",
    ")\n",
    "\n",
    "fig.show()"
   ]
  },
  {
   "cell_type": "code",
   "execution_count": 12,
   "id": "2980ba08-f2e2-41b5-9ead-5282d746e4ff",
   "metadata": {},
   "outputs": [
    {
     "name": "stdout",
     "output_type": "stream",
     "text": [
      "Friday, February 5, 2010\n",
      "Earliest Date\n"
     ]
    },
    {
     "name": "stderr",
     "output_type": "stream",
     "text": [
      "/var/folders/90/m9dcfcxn38j0ypf7wjqn_bf80000gp/T/ipykernel_9892/745611481.py:1: UserWarning:\n",
      "\n",
      "pandas only supports SQLAlchemy connectable (engine/connection) or database string URI or sqlite3 DBAPI2 connection. Other DBAPI2 objects are not tested. Please consider using SQLAlchemy.\n",
      "\n"
     ]
    }
   ],
   "source": [
    "df_min_date = pd.read_sql('SELECT MIN(store_date) FROM walmart_date_dim', conn)\n",
    "earliest_date = df_min_date.iloc[0,0]\n",
    "weekdayname = earliest_date.strftime('%A')\n",
    "monthname = earliest_date.strftime('%B')\n",
    "\n",
    "print(f\"{weekdayname}, {monthname} {earliest_date.day}, {earliest_date.year}\\nEarliest Date\")\n"
   ]
  },
  {
   "cell_type": "code",
   "execution_count": 13,
   "id": "a3972a5b-d644-4c0d-96a9-7ad83fab80ae",
   "metadata": {},
   "outputs": [
    {
     "name": "stdout",
     "output_type": "stream",
     "text": [
      "The median temperature was 55.0\n",
      "The average temperature was 54.83°F\n"
     ]
    }
   ],
   "source": [
    "median_temp = df['store_temperature'].median()\n",
    "avg_temp = df['store_temperature'].mean()\n",
    "\n",
    "print(f\"The median temperature was {median_temp}\")\n",
    "print(f\"The average temperature was {avg_temp:.2f}°F\")"
   ]
  },
  {
   "cell_type": "code",
   "execution_count": 17,
   "id": "f27c4d57-7ba2-4b4f-9acd-b444e76f4fd2",
   "metadata": {},
   "outputs": [
    {
     "name": "stdout",
     "output_type": "stream",
     "text": [
      "Total Weekly Sales: 6.74 bn\n"
     ]
    }
   ],
   "source": [
    "total_sales = df['total_weekly_sales'].sum()\n",
    "print(f\"Total Weekly Sales: {total_sales / 1e9:.2f} bn\")"
   ]
  },
  {
   "cell_type": "code",
   "execution_count": 79,
   "id": "ffbe6b59-f515-42fe-8b7e-6cbf492e7dca",
   "metadata": {},
   "outputs": [
    {
     "name": "stderr",
     "output_type": "stream",
     "text": [
      "/var/folders/90/m9dcfcxn38j0ypf7wjqn_bf80000gp/T/ipykernel_9892/2485916046.py:28: UserWarning:\n",
      "\n",
      "pandas only supports SQLAlchemy connectable (engine/connection) or database string URI or sqlite3 DBAPI2 connection. Other DBAPI2 objects are not tested. Please consider using SQLAlchemy.\n",
      "\n"
     ]
    },
    {
     "data": {
      "application/vnd.plotly.v1+json": {
       "config": {
        "plotlyServerURL": "https://plot.ly"
       },
       "data": [
        {
         "cells": {
          "align": "center",
          "fill": {
           "color": "white"
          },
          "font": {
           "color": "black",
           "size": 18
          },
          "values": [
           [
            "Friday<br>February 5, 2010"
           ]
          ]
         },
         "domain": {
          "x": [
           0,
           0.22960000000000003
          ],
          "y": [
           0.7666666666666666,
           1
          ]
         },
         "header": {
          "align": "center",
          "fill": {
           "color": "white"
          },
          "font": {
           "size": 16
          },
          "values": [
           "Earliest Date"
          ]
         },
         "type": "table"
        },
        {
         "cells": {
          "align": "center",
          "fill": {
           "color": "white"
          },
          "font": {
           "color": "black",
           "size": 36
          },
          "values": [
           [
            "54.88 °F"
           ]
          ]
         },
         "domain": {
          "x": [
           0,
           0.22960000000000003
          ],
          "y": [
           0.3833333333333333,
           0.6166666666666667
          ]
         },
         "header": {
          "align": "center",
          "fill": {
           "color": "white"
          },
          "font": {
           "size": 16
          },
          "values": [
           "Average Temperature"
          ]
         },
         "type": "table"
        },
        {
         "cells": {
          "align": "center",
          "fill": {
           "color": "white"
          },
          "font": {
           "color": "black",
           "size": 36
          },
          "values": [
           [
            "6.74B"
           ]
          ]
         },
         "domain": {
          "x": [
           0,
           0.22960000000000003
          ],
          "y": [
           0,
           0.29333333333333333
          ]
         },
         "header": {
          "align": "center",
          "fill": {
           "color": "white"
          },
          "font": {
           "size": 16
          },
          "values": [
           "Total Weekly Sales"
          ]
         },
         "type": "table"
        },
        {
         "customdata": [
          [
           2010
          ],
          [
           2010
          ],
          [
           2010
          ],
          [
           2010
          ],
          [
           2010
          ],
          [
           2010
          ],
          [
           2010
          ],
          [
           2010
          ],
          [
           2010
          ],
          [
           2010
          ],
          [
           2010
          ],
          [
           2010
          ],
          [
           2010
          ],
          [
           2010
          ],
          [
           2010
          ],
          [
           2010
          ],
          [
           2010
          ],
          [
           2010
          ],
          [
           2010
          ],
          [
           2010
          ],
          [
           2010
          ],
          [
           2010
          ],
          [
           2010
          ],
          [
           2010
          ],
          [
           2010
          ],
          [
           2010
          ],
          [
           2010
          ],
          [
           2010
          ],
          [
           2010
          ],
          [
           2010
          ],
          [
           2010
          ],
          [
           2010
          ],
          [
           2010
          ],
          [
           2010
          ],
          [
           2010
          ],
          [
           2010
          ],
          [
           2010
          ],
          [
           2010
          ],
          [
           2010
          ],
          [
           2010
          ],
          [
           2010
          ],
          [
           2010
          ],
          [
           2010
          ],
          [
           2010
          ],
          [
           2010
          ],
          [
           2010
          ],
          [
           2010
          ],
          [
           2010
          ],
          [
           2010
          ],
          [
           2010
          ],
          [
           2010
          ],
          [
           2010
          ],
          [
           2010
          ],
          [
           2010
          ],
          [
           2010
          ],
          [
           2010
          ],
          [
           2010
          ],
          [
           2010
          ],
          [
           2010
          ],
          [
           2010
          ],
          [
           2010
          ],
          [
           2010
          ],
          [
           2010
          ],
          [
           2010
          ],
          [
           2010
          ],
          [
           2010
          ],
          [
           2010
          ],
          [
           2010
          ],
          [
           2010
          ],
          [
           2010
          ],
          [
           2010
          ],
          [
           2010
          ],
          [
           2010
          ],
          [
           2010
          ],
          [
           2010
          ],
          [
           2010
          ],
          [
           2010
          ],
          [
           2010
          ],
          [
           2010
          ],
          [
           2010
          ],
          [
           2010
          ],
          [
           2010
          ],
          [
           2010
          ],
          [
           2010
          ],
          [
           2010
          ],
          [
           2010
          ],
          [
           2010
          ],
          [
           2010
          ],
          [
           2010
          ],
          [
           2010
          ],
          [
           2010
          ],
          [
           2010
          ],
          [
           2010
          ],
          [
           2010
          ],
          [
           2010
          ],
          [
           2010
          ],
          [
           2010
          ],
          [
           2010
          ],
          [
           2010
          ],
          [
           2010
          ],
          [
           2010
          ],
          [
           2010
          ],
          [
           2010
          ],
          [
           2010
          ],
          [
           2010
          ],
          [
           2010
          ],
          [
           2010
          ],
          [
           2010
          ],
          [
           2010
          ],
          [
           2010
          ],
          [
           2010
          ],
          [
           2010
          ],
          [
           2010
          ],
          [
           2010
          ],
          [
           2010
          ],
          [
           2010
          ],
          [
           2010
          ],
          [
           2010
          ],
          [
           2010
          ],
          [
           2010
          ],
          [
           2010
          ],
          [
           2010
          ],
          [
           2010
          ],
          [
           2010
          ],
          [
           2010
          ],
          [
           2010
          ],
          [
           2010
          ],
          [
           2010
          ],
          [
           2010
          ],
          [
           2010
          ],
          [
           2010
          ],
          [
           2010
          ],
          [
           2010
          ],
          [
           2010
          ],
          [
           2010
          ],
          [
           2010
          ],
          [
           2010
          ],
          [
           2010
          ],
          [
           2010
          ],
          [
           2010
          ],
          [
           2010
          ],
          [
           2010
          ],
          [
           2010
          ],
          [
           2010
          ],
          [
           2010
          ],
          [
           2010
          ],
          [
           2010
          ],
          [
           2010
          ],
          [
           2010
          ],
          [
           2010
          ],
          [
           2010
          ],
          [
           2010
          ],
          [
           2010
          ],
          [
           2010
          ],
          [
           2010
          ],
          [
           2010
          ],
          [
           2010
          ],
          [
           2010
          ],
          [
           2010
          ],
          [
           2010
          ],
          [
           2010
          ],
          [
           2010
          ],
          [
           2010
          ],
          [
           2010
          ],
          [
           2010
          ],
          [
           2010
          ],
          [
           2010
          ],
          [
           2010
          ],
          [
           2010
          ],
          [
           2010
          ],
          [
           2010
          ],
          [
           2010
          ],
          [
           2010
          ],
          [
           2010
          ],
          [
           2010
          ],
          [
           2010
          ],
          [
           2010
          ],
          [
           2010
          ],
          [
           2010
          ],
          [
           2010
          ],
          [
           2010
          ],
          [
           2010
          ],
          [
           2010
          ],
          [
           2010
          ],
          [
           2010
          ],
          [
           2010
          ],
          [
           2010
          ],
          [
           2010
          ],
          [
           2010
          ],
          [
           2010
          ],
          [
           2010
          ],
          [
           2010
          ],
          [
           2010
          ],
          [
           2010
          ],
          [
           2010
          ],
          [
           2010
          ],
          [
           2010
          ],
          [
           2010
          ],
          [
           2010
          ],
          [
           2010
          ],
          [
           2010
          ],
          [
           2010
          ],
          [
           2010
          ],
          [
           2010
          ],
          [
           2010
          ],
          [
           2010
          ],
          [
           2010
          ],
          [
           2010
          ],
          [
           2010
          ],
          [
           2010
          ],
          [
           2010
          ],
          [
           2010
          ],
          [
           2010
          ],
          [
           2010
          ],
          [
           2010
          ],
          [
           2010
          ],
          [
           2010
          ],
          [
           2010
          ],
          [
           2010
          ],
          [
           2010
          ],
          [
           2010
          ],
          [
           2010
          ],
          [
           2010
          ],
          [
           2010
          ],
          [
           2010
          ],
          [
           2010
          ],
          [
           2010
          ],
          [
           2010
          ],
          [
           2010
          ],
          [
           2010
          ],
          [
           2010
          ],
          [
           2010
          ],
          [
           2010
          ],
          [
           2010
          ],
          [
           2010
          ],
          [
           2010
          ],
          [
           2010
          ],
          [
           2010
          ],
          [
           2010
          ],
          [
           2010
          ],
          [
           2010
          ],
          [
           2010
          ],
          [
           2010
          ],
          [
           2010
          ],
          [
           2010
          ],
          [
           2010
          ],
          [
           2010
          ],
          [
           2010
          ],
          [
           2010
          ],
          [
           2010
          ],
          [
           2010
          ],
          [
           2010
          ],
          [
           2010
          ],
          [
           2010
          ],
          [
           2010
          ],
          [
           2010
          ],
          [
           2010
          ],
          [
           2010
          ],
          [
           2010
          ],
          [
           2010
          ],
          [
           2010
          ],
          [
           2010
          ],
          [
           2010
          ],
          [
           2010
          ],
          [
           2010
          ],
          [
           2010
          ],
          [
           2010
          ],
          [
           2010
          ],
          [
           2010
          ],
          [
           2010
          ],
          [
           2010
          ],
          [
           2010
          ],
          [
           2010
          ],
          [
           2010
          ],
          [
           2010
          ],
          [
           2010
          ],
          [
           2010
          ],
          [
           2010
          ],
          [
           2010
          ],
          [
           2010
          ],
          [
           2010
          ],
          [
           2010
          ],
          [
           2010
          ],
          [
           2010
          ],
          [
           2010
          ],
          [
           2010
          ],
          [
           2010
          ],
          [
           2010
          ],
          [
           2010
          ],
          [
           2010
          ],
          [
           2010
          ],
          [
           2010
          ],
          [
           2010
          ],
          [
           2010
          ],
          [
           2010
          ],
          [
           2010
          ],
          [
           2010
          ],
          [
           2010
          ],
          [
           2010
          ],
          [
           2010
          ],
          [
           2010
          ],
          [
           2010
          ],
          [
           2010
          ],
          [
           2010
          ],
          [
           2010
          ],
          [
           2010
          ],
          [
           2010
          ],
          [
           2010
          ],
          [
           2010
          ],
          [
           2010
          ],
          [
           2010
          ],
          [
           2010
          ],
          [
           2010
          ],
          [
           2010
          ],
          [
           2010
          ],
          [
           2010
          ],
          [
           2010
          ],
          [
           2010
          ],
          [
           2010
          ],
          [
           2010
          ],
          [
           2010
          ],
          [
           2010
          ],
          [
           2010
          ],
          [
           2010
          ],
          [
           2010
          ],
          [
           2010
          ],
          [
           2010
          ],
          [
           2010
          ],
          [
           2010
          ],
          [
           2010
          ],
          [
           2010
          ],
          [
           2010
          ],
          [
           2010
          ],
          [
           2010
          ],
          [
           2010
          ],
          [
           2010
          ],
          [
           2010
          ],
          [
           2010
          ],
          [
           2010
          ],
          [
           2010
          ],
          [
           2010
          ],
          [
           2010
          ],
          [
           2010
          ],
          [
           2010
          ],
          [
           2010
          ],
          [
           2010
          ],
          [
           2010
          ],
          [
           2010
          ],
          [
           2010
          ],
          [
           2010
          ],
          [
           2010
          ],
          [
           2010
          ],
          [
           2010
          ],
          [
           2010
          ],
          [
           2010
          ],
          [
           2010
          ],
          [
           2010
          ],
          [
           2010
          ],
          [
           2010
          ],
          [
           2010
          ],
          [
           2010
          ],
          [
           2010
          ],
          [
           2010
          ],
          [
           2010
          ],
          [
           2010
          ],
          [
           2010
          ],
          [
           2010
          ],
          [
           2010
          ],
          [
           2010
          ],
          [
           2010
          ],
          [
           2010
          ],
          [
           2010
          ],
          [
           2010
          ],
          [
           2010
          ],
          [
           2010
          ],
          [
           2010
          ],
          [
           2010
          ],
          [
           2010
          ],
          [
           2010
          ],
          [
           2010
          ],
          [
           2010
          ],
          [
           2010
          ],
          [
           2010
          ],
          [
           2010
          ],
          [
           2010
          ],
          [
           2010
          ],
          [
           2010
          ],
          [
           2010
          ],
          [
           2010
          ],
          [
           2010
          ],
          [
           2010
          ],
          [
           2010
          ],
          [
           2010
          ],
          [
           2010
          ],
          [
           2010
          ],
          [
           2010
          ],
          [
           2010
          ],
          [
           2010
          ],
          [
           2010
          ],
          [
           2010
          ],
          [
           2010
          ],
          [
           2010
          ],
          [
           2010
          ],
          [
           2010
          ]
         ],
         "hovertemplate": "Temperature: %{x}<br>Total Weekly Sales: %{y:$,.2f}<br>Year: %{customdata}<extra></extra>",
         "marker": {
          "color": "#A56CC1"
         },
         "name": "2010",
         "type": "bar",
         "x": [
          "5.0",
          "10.0",
          "10.0",
          "15.0",
          "15.0",
          "15.0",
          "15.0",
          "15.0",
          "15.0",
          "20.0",
          "20.0",
          "20.0",
          "20.0",
          "20.0",
          "20.0",
          "20.0",
          "20.0",
          "20.0",
          "20.0",
          "20.0",
          "20.0",
          "25.0",
          "25.0",
          "25.0",
          "25.0",
          "25.0",
          "25.0",
          "25.0",
          "25.0",
          "25.0",
          "25.0",
          "25.0",
          "25.0",
          "25.0",
          "25.0",
          "25.0",
          "30.0",
          "30.0",
          "30.0",
          "30.0",
          "30.0",
          "30.0",
          "30.0",
          "30.0",
          "30.0",
          "30.0",
          "30.0",
          "30.0",
          "30.0",
          "30.0",
          "30.0",
          "30.0",
          "30.0",
          "30.0",
          "30.0",
          "35.0",
          "35.0",
          "35.0",
          "35.0",
          "35.0",
          "35.0",
          "35.0",
          "35.0",
          "35.0",
          "35.0",
          "35.0",
          "35.0",
          "35.0",
          "35.0",
          "35.0",
          "35.0",
          "35.0",
          "35.0",
          "35.0",
          "35.0",
          "35.0",
          "35.0",
          "35.0",
          "35.0",
          "35.0",
          "40.0",
          "40.0",
          "40.0",
          "40.0",
          "40.0",
          "40.0",
          "40.0",
          "40.0",
          "40.0",
          "40.0",
          "40.0",
          "40.0",
          "40.0",
          "40.0",
          "40.0",
          "40.0",
          "40.0",
          "40.0",
          "40.0",
          "40.0",
          "40.0",
          "40.0",
          "40.0",
          "40.0",
          "40.0",
          "40.0",
          "40.0",
          "40.0",
          "45.0",
          "45.0",
          "45.0",
          "45.0",
          "45.0",
          "45.0",
          "45.0",
          "45.0",
          "45.0",
          "45.0",
          "45.0",
          "45.0",
          "45.0",
          "45.0",
          "45.0",
          "45.0",
          "45.0",
          "45.0",
          "45.0",
          "45.0",
          "45.0",
          "45.0",
          "45.0",
          "45.0",
          "45.0",
          "45.0",
          "45.0",
          "45.0",
          "45.0",
          "45.0",
          "45.0",
          "45.0",
          "45.0",
          "45.0",
          "50.0",
          "50.0",
          "50.0",
          "50.0",
          "50.0",
          "50.0",
          "50.0",
          "50.0",
          "50.0",
          "50.0",
          "50.0",
          "50.0",
          "50.0",
          "50.0",
          "50.0",
          "50.0",
          "50.0",
          "50.0",
          "50.0",
          "50.0",
          "50.0",
          "50.0",
          "50.0",
          "50.0",
          "50.0",
          "50.0",
          "50.0",
          "50.0",
          "50.0",
          "50.0",
          "50.0",
          "50.0",
          "50.0",
          "50.0",
          "50.0",
          "55.0",
          "55.0",
          "55.0",
          "55.0",
          "55.0",
          "55.0",
          "55.0",
          "55.0",
          "55.0",
          "55.0",
          "55.0",
          "55.0",
          "55.0",
          "55.0",
          "55.0",
          "55.0",
          "55.0",
          "55.0",
          "55.0",
          "55.0",
          "55.0",
          "55.0",
          "55.0",
          "55.0",
          "55.0",
          "55.0",
          "55.0",
          "55.0",
          "55.0",
          "55.0",
          "55.0",
          "55.0",
          "55.0",
          "55.0",
          "55.0",
          "55.0",
          "55.0",
          "55.0",
          "55.0",
          "55.0",
          "55.0",
          "55.0",
          "60.0",
          "60.0",
          "60.0",
          "60.0",
          "60.0",
          "60.0",
          "60.0",
          "60.0",
          "60.0",
          "60.0",
          "60.0",
          "60.0",
          "60.0",
          "60.0",
          "60.0",
          "60.0",
          "60.0",
          "60.0",
          "60.0",
          "60.0",
          "60.0",
          "60.0",
          "60.0",
          "60.0",
          "60.0",
          "60.0",
          "60.0",
          "60.0",
          "60.0",
          "60.0",
          "60.0",
          "60.0",
          "60.0",
          "60.0",
          "60.0",
          "60.0",
          "60.0",
          "60.0",
          "60.0",
          "60.0",
          "60.0",
          "60.0",
          "65.0",
          "65.0",
          "65.0",
          "65.0",
          "65.0",
          "65.0",
          "65.0",
          "65.0",
          "65.0",
          "65.0",
          "65.0",
          "65.0",
          "65.0",
          "65.0",
          "65.0",
          "65.0",
          "65.0",
          "65.0",
          "65.0",
          "65.0",
          "65.0",
          "65.0",
          "65.0",
          "65.0",
          "65.0",
          "65.0",
          "65.0",
          "65.0",
          "65.0",
          "65.0",
          "65.0",
          "65.0",
          "65.0",
          "65.0",
          "70.0",
          "70.0",
          "70.0",
          "70.0",
          "70.0",
          "70.0",
          "70.0",
          "70.0",
          "70.0",
          "70.0",
          "70.0",
          "70.0",
          "70.0",
          "70.0",
          "70.0",
          "70.0",
          "70.0",
          "70.0",
          "70.0",
          "70.0",
          "70.0",
          "70.0",
          "70.0",
          "70.0",
          "70.0",
          "70.0",
          "70.0",
          "70.0",
          "70.0",
          "70.0",
          "75.0",
          "75.0",
          "75.0",
          "75.0",
          "75.0",
          "75.0",
          "75.0",
          "75.0",
          "75.0",
          "75.0",
          "75.0",
          "75.0",
          "75.0",
          "75.0",
          "75.0",
          "75.0",
          "75.0",
          "75.0",
          "75.0",
          "75.0",
          "75.0",
          "75.0",
          "75.0",
          "75.0",
          "75.0",
          "80.0",
          "80.0",
          "80.0",
          "80.0",
          "80.0",
          "80.0",
          "80.0",
          "80.0",
          "80.0",
          "80.0",
          "80.0",
          "80.0",
          "80.0",
          "80.0",
          "80.0",
          "80.0",
          "80.0",
          "80.0",
          "80.0",
          "85.0",
          "85.0",
          "85.0",
          "85.0",
          "85.0",
          "85.0",
          "85.0",
          "85.0",
          "85.0",
          "85.0",
          "85.0",
          "85.0",
          "85.0",
          "85.0",
          "90.0",
          "90.0",
          "90.0",
          "90.0",
          "90.0",
          "90.0",
          "90.0",
          "90.0",
          "90.0",
          "90.0",
          "90.0",
          "90.0",
          "90.0",
          "95.0",
          "95.0",
          "95.0",
          "95.0",
          "95.0",
          "95.0",
          "95.0",
          "100.0"
         ],
         "xaxis": "x",
         "y": {
          "bdata": "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",
          "dtype": "f8"
         },
         "yaxis": "y"
        },
        {
         "customdata": [
          [
           2011
          ],
          [
           2011
          ],
          [
           2011
          ],
          [
           2011
          ],
          [
           2011
          ],
          [
           2011
          ],
          [
           2011
          ],
          [
           2011
          ],
          [
           2011
          ],
          [
           2011
          ],
          [
           2011
          ],
          [
           2011
          ],
          [
           2011
          ],
          [
           2011
          ],
          [
           2011
          ],
          [
           2011
          ],
          [
           2011
          ],
          [
           2011
          ],
          [
           2011
          ],
          [
           2011
          ],
          [
           2011
          ],
          [
           2011
          ],
          [
           2011
          ],
          [
           2011
          ],
          [
           2011
          ],
          [
           2011
          ],
          [
           2011
          ],
          [
           2011
          ],
          [
           2011
          ],
          [
           2011
          ],
          [
           2011
          ],
          [
           2011
          ],
          [
           2011
          ],
          [
           2011
          ],
          [
           2011
          ],
          [
           2011
          ],
          [
           2011
          ],
          [
           2011
          ],
          [
           2011
          ],
          [
           2011
          ],
          [
           2011
          ],
          [
           2011
          ],
          [
           2011
          ],
          [
           2011
          ],
          [
           2011
          ],
          [
           2011
          ],
          [
           2011
          ],
          [
           2011
          ],
          [
           2011
          ],
          [
           2011
          ],
          [
           2011
          ],
          [
           2011
          ],
          [
           2011
          ],
          [
           2011
          ],
          [
           2011
          ],
          [
           2011
          ],
          [
           2011
          ],
          [
           2011
          ],
          [
           2011
          ],
          [
           2011
          ],
          [
           2011
          ],
          [
           2011
          ],
          [
           2011
          ],
          [
           2011
          ],
          [
           2011
          ],
          [
           2011
          ],
          [
           2011
          ],
          [
           2011
          ],
          [
           2011
          ],
          [
           2011
          ],
          [
           2011
          ],
          [
           2011
          ],
          [
           2011
          ],
          [
           2011
          ],
          [
           2011
          ],
          [
           2011
          ],
          [
           2011
          ],
          [
           2011
          ],
          [
           2011
          ],
          [
           2011
          ],
          [
           2011
          ],
          [
           2011
          ],
          [
           2011
          ],
          [
           2011
          ],
          [
           2011
          ],
          [
           2011
          ],
          [
           2011
          ],
          [
           2011
          ],
          [
           2011
          ],
          [
           2011
          ],
          [
           2011
          ],
          [
           2011
          ],
          [
           2011
          ],
          [
           2011
          ],
          [
           2011
          ],
          [
           2011
          ],
          [
           2011
          ],
          [
           2011
          ],
          [
           2011
          ],
          [
           2011
          ],
          [
           2011
          ],
          [
           2011
          ],
          [
           2011
          ],
          [
           2011
          ],
          [
           2011
          ],
          [
           2011
          ],
          [
           2011
          ],
          [
           2011
          ],
          [
           2011
          ],
          [
           2011
          ],
          [
           2011
          ],
          [
           2011
          ],
          [
           2011
          ],
          [
           2011
          ],
          [
           2011
          ],
          [
           2011
          ],
          [
           2011
          ],
          [
           2011
          ],
          [
           2011
          ],
          [
           2011
          ],
          [
           2011
          ],
          [
           2011
          ],
          [
           2011
          ],
          [
           2011
          ],
          [
           2011
          ],
          [
           2011
          ],
          [
           2011
          ],
          [
           2011
          ],
          [
           2011
          ],
          [
           2011
          ],
          [
           2011
          ],
          [
           2011
          ],
          [
           2011
          ],
          [
           2011
          ],
          [
           2011
          ],
          [
           2011
          ],
          [
           2011
          ],
          [
           2011
          ],
          [
           2011
          ],
          [
           2011
          ],
          [
           2011
          ],
          [
           2011
          ],
          [
           2011
          ],
          [
           2011
          ],
          [
           2011
          ],
          [
           2011
          ],
          [
           2011
          ],
          [
           2011
          ],
          [
           2011
          ],
          [
           2011
          ],
          [
           2011
          ],
          [
           2011
          ],
          [
           2011
          ],
          [
           2011
          ],
          [
           2011
          ],
          [
           2011
          ],
          [
           2011
          ],
          [
           2011
          ],
          [
           2011
          ],
          [
           2011
          ],
          [
           2011
          ],
          [
           2011
          ],
          [
           2011
          ],
          [
           2011
          ],
          [
           2011
          ],
          [
           2011
          ],
          [
           2011
          ],
          [
           2011
          ],
          [
           2011
          ],
          [
           2011
          ],
          [
           2011
          ],
          [
           2011
          ],
          [
           2011
          ],
          [
           2011
          ],
          [
           2011
          ],
          [
           2011
          ],
          [
           2011
          ],
          [
           2011
          ],
          [
           2011
          ],
          [
           2011
          ],
          [
           2011
          ],
          [
           2011
          ],
          [
           2011
          ],
          [
           2011
          ],
          [
           2011
          ],
          [
           2011
          ],
          [
           2011
          ],
          [
           2011
          ],
          [
           2011
          ],
          [
           2011
          ],
          [
           2011
          ],
          [
           2011
          ],
          [
           2011
          ],
          [
           2011
          ],
          [
           2011
          ],
          [
           2011
          ],
          [
           2011
          ],
          [
           2011
          ],
          [
           2011
          ],
          [
           2011
          ],
          [
           2011
          ],
          [
           2011
          ],
          [
           2011
          ],
          [
           2011
          ],
          [
           2011
          ],
          [
           2011
          ],
          [
           2011
          ],
          [
           2011
          ],
          [
           2011
          ],
          [
           2011
          ],
          [
           2011
          ],
          [
           2011
          ],
          [
           2011
          ],
          [
           2011
          ],
          [
           2011
          ],
          [
           2011
          ],
          [
           2011
          ],
          [
           2011
          ],
          [
           2011
          ],
          [
           2011
          ],
          [
           2011
          ],
          [
           2011
          ],
          [
           2011
          ],
          [
           2011
          ],
          [
           2011
          ],
          [
           2011
          ],
          [
           2011
          ],
          [
           2011
          ],
          [
           2011
          ],
          [
           2011
          ],
          [
           2011
          ],
          [
           2011
          ],
          [
           2011
          ],
          [
           2011
          ],
          [
           2011
          ],
          [
           2011
          ],
          [
           2011
          ],
          [
           2011
          ],
          [
           2011
          ],
          [
           2011
          ],
          [
           2011
          ],
          [
           2011
          ],
          [
           2011
          ],
          [
           2011
          ],
          [
           2011
          ],
          [
           2011
          ],
          [
           2011
          ],
          [
           2011
          ],
          [
           2011
          ],
          [
           2011
          ],
          [
           2011
          ],
          [
           2011
          ],
          [
           2011
          ],
          [
           2011
          ],
          [
           2011
          ],
          [
           2011
          ],
          [
           2011
          ],
          [
           2011
          ],
          [
           2011
          ],
          [
           2011
          ],
          [
           2011
          ],
          [
           2011
          ],
          [
           2011
          ],
          [
           2011
          ],
          [
           2011
          ],
          [
           2011
          ],
          [
           2011
          ],
          [
           2011
          ],
          [
           2011
          ],
          [
           2011
          ],
          [
           2011
          ],
          [
           2011
          ],
          [
           2011
          ],
          [
           2011
          ],
          [
           2011
          ],
          [
           2011
          ],
          [
           2011
          ],
          [
           2011
          ],
          [
           2011
          ],
          [
           2011
          ],
          [
           2011
          ],
          [
           2011
          ],
          [
           2011
          ],
          [
           2011
          ],
          [
           2011
          ],
          [
           2011
          ],
          [
           2011
          ],
          [
           2011
          ],
          [
           2011
          ],
          [
           2011
          ],
          [
           2011
          ],
          [
           2011
          ],
          [
           2011
          ],
          [
           2011
          ],
          [
           2011
          ],
          [
           2011
          ],
          [
           2011
          ],
          [
           2011
          ],
          [
           2011
          ],
          [
           2011
          ],
          [
           2011
          ],
          [
           2011
          ],
          [
           2011
          ],
          [
           2011
          ],
          [
           2011
          ],
          [
           2011
          ],
          [
           2011
          ],
          [
           2011
          ],
          [
           2011
          ],
          [
           2011
          ],
          [
           2011
          ],
          [
           2011
          ],
          [
           2011
          ],
          [
           2011
          ],
          [
           2011
          ],
          [
           2011
          ],
          [
           2011
          ],
          [
           2011
          ],
          [
           2011
          ],
          [
           2011
          ],
          [
           2011
          ],
          [
           2011
          ],
          [
           2011
          ],
          [
           2011
          ],
          [
           2011
          ],
          [
           2011
          ],
          [
           2011
          ],
          [
           2011
          ],
          [
           2011
          ],
          [
           2011
          ],
          [
           2011
          ],
          [
           2011
          ],
          [
           2011
          ],
          [
           2011
          ],
          [
           2011
          ],
          [
           2011
          ],
          [
           2011
          ],
          [
           2011
          ],
          [
           2011
          ],
          [
           2011
          ],
          [
           2011
          ],
          [
           2011
          ],
          [
           2011
          ],
          [
           2011
          ],
          [
           2011
          ],
          [
           2011
          ],
          [
           2011
          ],
          [
           2011
          ],
          [
           2011
          ],
          [
           2011
          ],
          [
           2011
          ],
          [
           2011
          ],
          [
           2011
          ],
          [
           2011
          ],
          [
           2011
          ],
          [
           2011
          ],
          [
           2011
          ],
          [
           2011
          ],
          [
           2011
          ],
          [
           2011
          ],
          [
           2011
          ],
          [
           2011
          ],
          [
           2011
          ],
          [
           2011
          ],
          [
           2011
          ],
          [
           2011
          ],
          [
           2011
          ],
          [
           2011
          ],
          [
           2011
          ],
          [
           2011
          ],
          [
           2011
          ],
          [
           2011
          ],
          [
           2011
          ],
          [
           2011
          ],
          [
           2011
          ],
          [
           2011
          ],
          [
           2011
          ],
          [
           2011
          ],
          [
           2011
          ],
          [
           2011
          ],
          [
           2011
          ],
          [
           2011
          ],
          [
           2011
          ],
          [
           2011
          ],
          [
           2011
          ],
          [
           2011
          ],
          [
           2011
          ],
          [
           2011
          ],
          [
           2011
          ],
          [
           2011
          ],
          [
           2011
          ],
          [
           2011
          ],
          [
           2011
          ],
          [
           2011
          ],
          [
           2011
          ],
          [
           2011
          ],
          [
           2011
          ],
          [
           2011
          ],
          [
           2011
          ],
          [
           2011
          ],
          [
           2011
          ],
          [
           2011
          ],
          [
           2011
          ],
          [
           2011
          ],
          [
           2011
          ],
          [
           2011
          ],
          [
           2011
          ],
          [
           2011
          ],
          [
           2011
          ],
          [
           2011
          ],
          [
           2011
          ],
          [
           2011
          ],
          [
           2011
          ],
          [
           2011
          ],
          [
           2011
          ],
          [
           2011
          ],
          [
           2011
          ],
          [
           2011
          ],
          [
           2011
          ],
          [
           2011
          ],
          [
           2011
          ],
          [
           2011
          ],
          [
           2011
          ],
          [
           2011
          ],
          [
           2011
          ],
          [
           2011
          ],
          [
           2011
          ],
          [
           2011
          ],
          [
           2011
          ],
          [
           2011
          ],
          [
           2011
          ],
          [
           2011
          ],
          [
           2011
          ],
          [
           2011
          ],
          [
           2011
          ],
          [
           2011
          ],
          [
           2011
          ],
          [
           2011
          ],
          [
           2011
          ],
          [
           2011
          ],
          [
           2011
          ],
          [
           2011
          ],
          [
           2011
          ],
          [
           2011
          ],
          [
           2011
          ],
          [
           2011
          ],
          [
           2011
          ],
          [
           2011
          ],
          [
           2011
          ],
          [
           2011
          ],
          [
           2011
          ],
          [
           2011
          ],
          [
           2011
          ],
          [
           2011
          ],
          [
           2011
          ],
          [
           2011
          ],
          [
           2011
          ],
          [
           2011
          ],
          [
           2011
          ],
          [
           2011
          ],
          [
           2011
          ],
          [
           2011
          ],
          [
           2011
          ],
          [
           2011
          ],
          [
           2011
          ],
          [
           2011
          ],
          [
           2011
          ],
          [
           2011
          ],
          [
           2011
          ],
          [
           2011
          ],
          [
           2011
          ],
          [
           2011
          ],
          [
           2011
          ],
          [
           2011
          ],
          [
           2011
          ],
          [
           2011
          ],
          [
           2011
          ],
          [
           2011
          ],
          [
           2011
          ],
          [
           2011
          ]
         ],
         "hovertemplate": "Temperature: %{x}<br>Total Weekly Sales: %{y:$,.2f}<br>Year: %{customdata}<extra></extra>",
         "marker": {
          "color": "#FFA15A"
         },
         "name": "2011",
         "type": "bar",
         "x": [
          "5.0",
          "5.0",
          "10.0",
          "10.0",
          "10.0",
          "10.0",
          "10.0",
          "10.0",
          "10.0",
          "10.0",
          "10.0",
          "15.0",
          "15.0",
          "15.0",
          "15.0",
          "15.0",
          "15.0",
          "15.0",
          "15.0",
          "15.0",
          "15.0",
          "15.0",
          "15.0",
          "15.0",
          "15.0",
          "20.0",
          "20.0",
          "20.0",
          "20.0",
          "20.0",
          "20.0",
          "20.0",
          "20.0",
          "20.0",
          "20.0",
          "20.0",
          "20.0",
          "20.0",
          "20.0",
          "20.0",
          "20.0",
          "20.0",
          "20.0",
          "25.0",
          "25.0",
          "25.0",
          "25.0",
          "25.0",
          "25.0",
          "25.0",
          "25.0",
          "25.0",
          "25.0",
          "25.0",
          "25.0",
          "25.0",
          "25.0",
          "25.0",
          "25.0",
          "25.0",
          "25.0",
          "25.0",
          "25.0",
          "25.0",
          "25.0",
          "25.0",
          "25.0",
          "30.0",
          "30.0",
          "30.0",
          "30.0",
          "30.0",
          "30.0",
          "30.0",
          "30.0",
          "30.0",
          "30.0",
          "30.0",
          "30.0",
          "30.0",
          "30.0",
          "30.0",
          "30.0",
          "30.0",
          "30.0",
          "30.0",
          "30.0",
          "30.0",
          "30.0",
          "30.0",
          "30.0",
          "30.0",
          "30.0",
          "35.0",
          "35.0",
          "35.0",
          "35.0",
          "35.0",
          "35.0",
          "35.0",
          "35.0",
          "35.0",
          "35.0",
          "35.0",
          "35.0",
          "35.0",
          "35.0",
          "35.0",
          "35.0",
          "35.0",
          "35.0",
          "35.0",
          "35.0",
          "35.0",
          "35.0",
          "35.0",
          "35.0",
          "35.0",
          "35.0",
          "35.0",
          "35.0",
          "35.0",
          "35.0",
          "35.0",
          "35.0",
          "35.0",
          "40.0",
          "40.0",
          "40.0",
          "40.0",
          "40.0",
          "40.0",
          "40.0",
          "40.0",
          "40.0",
          "40.0",
          "40.0",
          "40.0",
          "40.0",
          "40.0",
          "40.0",
          "40.0",
          "40.0",
          "40.0",
          "40.0",
          "40.0",
          "40.0",
          "40.0",
          "40.0",
          "40.0",
          "40.0",
          "40.0",
          "40.0",
          "40.0",
          "40.0",
          "40.0",
          "40.0",
          "40.0",
          "45.0",
          "45.0",
          "45.0",
          "45.0",
          "45.0",
          "45.0",
          "45.0",
          "45.0",
          "45.0",
          "45.0",
          "45.0",
          "45.0",
          "45.0",
          "45.0",
          "45.0",
          "45.0",
          "45.0",
          "45.0",
          "45.0",
          "45.0",
          "45.0",
          "45.0",
          "45.0",
          "45.0",
          "45.0",
          "45.0",
          "45.0",
          "45.0",
          "45.0",
          "45.0",
          "45.0",
          "45.0",
          "45.0",
          "45.0",
          "45.0",
          "45.0",
          "45.0",
          "45.0",
          "50.0",
          "50.0",
          "50.0",
          "50.0",
          "50.0",
          "50.0",
          "50.0",
          "50.0",
          "50.0",
          "50.0",
          "50.0",
          "50.0",
          "50.0",
          "50.0",
          "50.0",
          "50.0",
          "50.0",
          "50.0",
          "50.0",
          "50.0",
          "50.0",
          "50.0",
          "50.0",
          "50.0",
          "50.0",
          "50.0",
          "50.0",
          "50.0",
          "50.0",
          "50.0",
          "50.0",
          "50.0",
          "50.0",
          "50.0",
          "50.0",
          "50.0",
          "50.0",
          "50.0",
          "50.0",
          "50.0",
          "55.0",
          "55.0",
          "55.0",
          "55.0",
          "55.0",
          "55.0",
          "55.0",
          "55.0",
          "55.0",
          "55.0",
          "55.0",
          "55.0",
          "55.0",
          "55.0",
          "55.0",
          "55.0",
          "55.0",
          "55.0",
          "55.0",
          "55.0",
          "55.0",
          "55.0",
          "55.0",
          "55.0",
          "55.0",
          "55.0",
          "55.0",
          "55.0",
          "55.0",
          "55.0",
          "55.0",
          "55.0",
          "55.0",
          "55.0",
          "55.0",
          "55.0",
          "55.0",
          "55.0",
          "55.0",
          "55.0",
          "55.0",
          "55.0",
          "60.0",
          "60.0",
          "60.0",
          "60.0",
          "60.0",
          "60.0",
          "60.0",
          "60.0",
          "60.0",
          "60.0",
          "60.0",
          "60.0",
          "60.0",
          "60.0",
          "60.0",
          "60.0",
          "60.0",
          "60.0",
          "60.0",
          "60.0",
          "60.0",
          "60.0",
          "60.0",
          "60.0",
          "60.0",
          "60.0",
          "60.0",
          "60.0",
          "60.0",
          "60.0",
          "60.0",
          "60.0",
          "60.0",
          "60.0",
          "60.0",
          "60.0",
          "60.0",
          "60.0",
          "60.0",
          "60.0",
          "65.0",
          "65.0",
          "65.0",
          "65.0",
          "65.0",
          "65.0",
          "65.0",
          "65.0",
          "65.0",
          "65.0",
          "65.0",
          "65.0",
          "65.0",
          "65.0",
          "65.0",
          "65.0",
          "65.0",
          "65.0",
          "65.0",
          "65.0",
          "65.0",
          "65.0",
          "65.0",
          "65.0",
          "65.0",
          "65.0",
          "65.0",
          "65.0",
          "65.0",
          "65.0",
          "65.0",
          "65.0",
          "65.0",
          "65.0",
          "65.0",
          "65.0",
          "65.0",
          "65.0",
          "70.0",
          "70.0",
          "70.0",
          "70.0",
          "70.0",
          "70.0",
          "70.0",
          "70.0",
          "70.0",
          "70.0",
          "70.0",
          "70.0",
          "70.0",
          "70.0",
          "70.0",
          "70.0",
          "70.0",
          "70.0",
          "70.0",
          "70.0",
          "70.0",
          "70.0",
          "70.0",
          "70.0",
          "70.0",
          "70.0",
          "70.0",
          "70.0",
          "70.0",
          "70.0",
          "70.0",
          "70.0",
          "70.0",
          "70.0",
          "75.0",
          "75.0",
          "75.0",
          "75.0",
          "75.0",
          "75.0",
          "75.0",
          "75.0",
          "75.0",
          "75.0",
          "75.0",
          "75.0",
          "75.0",
          "75.0",
          "75.0",
          "75.0",
          "75.0",
          "75.0",
          "75.0",
          "75.0",
          "75.0",
          "75.0",
          "75.0",
          "75.0",
          "75.0",
          "75.0",
          "75.0",
          "75.0",
          "75.0",
          "80.0",
          "80.0",
          "80.0",
          "80.0",
          "80.0",
          "80.0",
          "80.0",
          "80.0",
          "80.0",
          "80.0",
          "80.0",
          "80.0",
          "80.0",
          "80.0",
          "80.0",
          "80.0",
          "80.0",
          "80.0",
          "80.0",
          "80.0",
          "80.0",
          "85.0",
          "85.0",
          "85.0",
          "85.0",
          "85.0",
          "85.0",
          "85.0",
          "85.0",
          "85.0",
          "85.0",
          "85.0",
          "85.0",
          "85.0",
          "85.0",
          "85.0",
          "85.0",
          "85.0",
          "85.0",
          "85.0",
          "90.0",
          "90.0",
          "90.0",
          "90.0",
          "90.0",
          "90.0",
          "90.0",
          "90.0",
          "90.0",
          "90.0",
          "90.0",
          "95.0",
          "95.0",
          "95.0",
          "95.0",
          "95.0",
          "95.0",
          "95.0",
          "95.0",
          "95.0",
          "95.0"
         ],
         "xaxis": "x",
         "y": {
          "bdata": "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",
          "dtype": "f8"
         },
         "yaxis": "y"
        },
        {
         "customdata": [
          [
           2012
          ],
          [
           2012
          ],
          [
           2012
          ],
          [
           2012
          ],
          [
           2012
          ],
          [
           2012
          ],
          [
           2012
          ],
          [
           2012
          ],
          [
           2012
          ],
          [
           2012
          ],
          [
           2012
          ],
          [
           2012
          ],
          [
           2012
          ],
          [
           2012
          ],
          [
           2012
          ],
          [
           2012
          ],
          [
           2012
          ],
          [
           2012
          ],
          [
           2012
          ],
          [
           2012
          ],
          [
           2012
          ],
          [
           2012
          ],
          [
           2012
          ],
          [
           2012
          ],
          [
           2012
          ],
          [
           2012
          ],
          [
           2012
          ],
          [
           2012
          ],
          [
           2012
          ],
          [
           2012
          ],
          [
           2012
          ],
          [
           2012
          ],
          [
           2012
          ],
          [
           2012
          ],
          [
           2012
          ],
          [
           2012
          ],
          [
           2012
          ],
          [
           2012
          ],
          [
           2012
          ],
          [
           2012
          ],
          [
           2012
          ],
          [
           2012
          ],
          [
           2012
          ],
          [
           2012
          ],
          [
           2012
          ],
          [
           2012
          ],
          [
           2012
          ],
          [
           2012
          ],
          [
           2012
          ],
          [
           2012
          ],
          [
           2012
          ],
          [
           2012
          ],
          [
           2012
          ],
          [
           2012
          ],
          [
           2012
          ],
          [
           2012
          ],
          [
           2012
          ],
          [
           2012
          ],
          [
           2012
          ],
          [
           2012
          ],
          [
           2012
          ],
          [
           2012
          ],
          [
           2012
          ],
          [
           2012
          ],
          [
           2012
          ],
          [
           2012
          ],
          [
           2012
          ],
          [
           2012
          ],
          [
           2012
          ],
          [
           2012
          ],
          [
           2012
          ],
          [
           2012
          ],
          [
           2012
          ],
          [
           2012
          ],
          [
           2012
          ],
          [
           2012
          ],
          [
           2012
          ],
          [
           2012
          ],
          [
           2012
          ],
          [
           2012
          ],
          [
           2012
          ],
          [
           2012
          ],
          [
           2012
          ],
          [
           2012
          ],
          [
           2012
          ],
          [
           2012
          ],
          [
           2012
          ],
          [
           2012
          ],
          [
           2012
          ],
          [
           2012
          ],
          [
           2012
          ],
          [
           2012
          ],
          [
           2012
          ],
          [
           2012
          ],
          [
           2012
          ],
          [
           2012
          ],
          [
           2012
          ],
          [
           2012
          ],
          [
           2012
          ],
          [
           2012
          ],
          [
           2012
          ],
          [
           2012
          ],
          [
           2012
          ],
          [
           2012
          ],
          [
           2012
          ],
          [
           2012
          ],
          [
           2012
          ],
          [
           2012
          ],
          [
           2012
          ],
          [
           2012
          ],
          [
           2012
          ],
          [
           2012
          ],
          [
           2012
          ],
          [
           2012
          ],
          [
           2012
          ],
          [
           2012
          ],
          [
           2012
          ],
          [
           2012
          ],
          [
           2012
          ],
          [
           2012
          ],
          [
           2012
          ],
          [
           2012
          ],
          [
           2012
          ],
          [
           2012
          ],
          [
           2012
          ],
          [
           2012
          ],
          [
           2012
          ],
          [
           2012
          ],
          [
           2012
          ],
          [
           2012
          ],
          [
           2012
          ],
          [
           2012
          ],
          [
           2012
          ],
          [
           2012
          ],
          [
           2012
          ],
          [
           2012
          ],
          [
           2012
          ],
          [
           2012
          ],
          [
           2012
          ],
          [
           2012
          ],
          [
           2012
          ],
          [
           2012
          ],
          [
           2012
          ],
          [
           2012
          ],
          [
           2012
          ],
          [
           2012
          ],
          [
           2012
          ],
          [
           2012
          ],
          [
           2012
          ],
          [
           2012
          ],
          [
           2012
          ],
          [
           2012
          ],
          [
           2012
          ],
          [
           2012
          ],
          [
           2012
          ],
          [
           2012
          ],
          [
           2012
          ],
          [
           2012
          ],
          [
           2012
          ],
          [
           2012
          ],
          [
           2012
          ],
          [
           2012
          ],
          [
           2012
          ],
          [
           2012
          ],
          [
           2012
          ],
          [
           2012
          ],
          [
           2012
          ],
          [
           2012
          ],
          [
           2012
          ],
          [
           2012
          ],
          [
           2012
          ],
          [
           2012
          ],
          [
           2012
          ],
          [
           2012
          ],
          [
           2012
          ],
          [
           2012
          ],
          [
           2012
          ],
          [
           2012
          ],
          [
           2012
          ],
          [
           2012
          ],
          [
           2012
          ],
          [
           2012
          ],
          [
           2012
          ],
          [
           2012
          ],
          [
           2012
          ],
          [
           2012
          ],
          [
           2012
          ],
          [
           2012
          ],
          [
           2012
          ],
          [
           2012
          ],
          [
           2012
          ],
          [
           2012
          ],
          [
           2012
          ],
          [
           2012
          ],
          [
           2012
          ],
          [
           2012
          ],
          [
           2012
          ],
          [
           2012
          ],
          [
           2012
          ],
          [
           2012
          ],
          [
           2012
          ],
          [
           2012
          ],
          [
           2012
          ],
          [
           2012
          ],
          [
           2012
          ],
          [
           2012
          ],
          [
           2012
          ],
          [
           2012
          ],
          [
           2012
          ],
          [
           2012
          ],
          [
           2012
          ],
          [
           2012
          ],
          [
           2012
          ],
          [
           2012
          ],
          [
           2012
          ],
          [
           2012
          ],
          [
           2012
          ],
          [
           2012
          ],
          [
           2012
          ],
          [
           2012
          ],
          [
           2012
          ],
          [
           2012
          ],
          [
           2012
          ],
          [
           2012
          ],
          [
           2012
          ],
          [
           2012
          ],
          [
           2012
          ],
          [
           2012
          ],
          [
           2012
          ],
          [
           2012
          ],
          [
           2012
          ],
          [
           2012
          ],
          [
           2012
          ],
          [
           2012
          ],
          [
           2012
          ],
          [
           2012
          ],
          [
           2012
          ],
          [
           2012
          ],
          [
           2012
          ],
          [
           2012
          ],
          [
           2012
          ],
          [
           2012
          ],
          [
           2012
          ],
          [
           2012
          ],
          [
           2012
          ],
          [
           2012
          ],
          [
           2012
          ],
          [
           2012
          ],
          [
           2012
          ],
          [
           2012
          ],
          [
           2012
          ],
          [
           2012
          ],
          [
           2012
          ],
          [
           2012
          ],
          [
           2012
          ],
          [
           2012
          ],
          [
           2012
          ],
          [
           2012
          ],
          [
           2012
          ],
          [
           2012
          ],
          [
           2012
          ],
          [
           2012
          ],
          [
           2012
          ],
          [
           2012
          ],
          [
           2012
          ],
          [
           2012
          ],
          [
           2012
          ],
          [
           2012
          ],
          [
           2012
          ],
          [
           2012
          ],
          [
           2012
          ],
          [
           2012
          ],
          [
           2012
          ],
          [
           2012
          ],
          [
           2012
          ],
          [
           2012
          ],
          [
           2012
          ],
          [
           2012
          ],
          [
           2012
          ],
          [
           2012
          ],
          [
           2012
          ],
          [
           2012
          ],
          [
           2012
          ],
          [
           2012
          ],
          [
           2012
          ],
          [
           2012
          ],
          [
           2012
          ],
          [
           2012
          ],
          [
           2012
          ],
          [
           2012
          ],
          [
           2012
          ],
          [
           2012
          ],
          [
           2012
          ],
          [
           2012
          ],
          [
           2012
          ],
          [
           2012
          ],
          [
           2012
          ],
          [
           2012
          ],
          [
           2012
          ],
          [
           2012
          ],
          [
           2012
          ],
          [
           2012
          ],
          [
           2012
          ],
          [
           2012
          ],
          [
           2012
          ],
          [
           2012
          ],
          [
           2012
          ],
          [
           2012
          ],
          [
           2012
          ],
          [
           2012
          ],
          [
           2012
          ],
          [
           2012
          ],
          [
           2012
          ],
          [
           2012
          ],
          [
           2012
          ],
          [
           2012
          ],
          [
           2012
          ],
          [
           2012
          ],
          [
           2012
          ],
          [
           2012
          ],
          [
           2012
          ],
          [
           2012
          ],
          [
           2012
          ],
          [
           2012
          ],
          [
           2012
          ],
          [
           2012
          ],
          [
           2012
          ],
          [
           2012
          ],
          [
           2012
          ],
          [
           2012
          ],
          [
           2012
          ],
          [
           2012
          ],
          [
           2012
          ],
          [
           2012
          ],
          [
           2012
          ],
          [
           2012
          ],
          [
           2012
          ],
          [
           2012
          ],
          [
           2012
          ],
          [
           2012
          ],
          [
           2012
          ],
          [
           2012
          ],
          [
           2012
          ],
          [
           2012
          ],
          [
           2012
          ],
          [
           2012
          ],
          [
           2012
          ],
          [
           2012
          ],
          [
           2012
          ],
          [
           2012
          ]
         ],
         "hovertemplate": "Temperature: %{x}<br>Total Weekly Sales: %{y:$,.2f}<br>Year: %{customdata}<extra></extra>",
         "marker": {
          "color": "#19D3F3"
         },
         "name": "2012",
         "type": "bar",
         "x": [
          "5.0",
          "10.0",
          "15.0",
          "15.0",
          "15.0",
          "15.0",
          "20.0",
          "20.0",
          "20.0",
          "20.0",
          "20.0",
          "20.0",
          "20.0",
          "20.0",
          "20.0",
          "25.0",
          "25.0",
          "25.0",
          "25.0",
          "25.0",
          "25.0",
          "25.0",
          "25.0",
          "25.0",
          "25.0",
          "30.0",
          "30.0",
          "30.0",
          "30.0",
          "30.0",
          "30.0",
          "30.0",
          "30.0",
          "30.0",
          "30.0",
          "30.0",
          "30.0",
          "35.0",
          "35.0",
          "35.0",
          "35.0",
          "35.0",
          "35.0",
          "35.0",
          "35.0",
          "35.0",
          "35.0",
          "35.0",
          "35.0",
          "35.0",
          "35.0",
          "35.0",
          "35.0",
          "35.0",
          "35.0",
          "40.0",
          "40.0",
          "40.0",
          "40.0",
          "40.0",
          "40.0",
          "40.0",
          "40.0",
          "40.0",
          "40.0",
          "40.0",
          "40.0",
          "40.0",
          "40.0",
          "40.0",
          "40.0",
          "40.0",
          "40.0",
          "40.0",
          "40.0",
          "40.0",
          "45.0",
          "45.0",
          "45.0",
          "45.0",
          "45.0",
          "45.0",
          "45.0",
          "45.0",
          "45.0",
          "45.0",
          "45.0",
          "45.0",
          "45.0",
          "45.0",
          "45.0",
          "45.0",
          "45.0",
          "45.0",
          "45.0",
          "45.0",
          "45.0",
          "45.0",
          "45.0",
          "45.0",
          "50.0",
          "50.0",
          "50.0",
          "50.0",
          "50.0",
          "50.0",
          "50.0",
          "50.0",
          "50.0",
          "50.0",
          "50.0",
          "50.0",
          "50.0",
          "50.0",
          "50.0",
          "50.0",
          "50.0",
          "50.0",
          "50.0",
          "50.0",
          "50.0",
          "50.0",
          "50.0",
          "50.0",
          "50.0",
          "50.0",
          "50.0",
          "50.0",
          "50.0",
          "55.0",
          "55.0",
          "55.0",
          "55.0",
          "55.0",
          "55.0",
          "55.0",
          "55.0",
          "55.0",
          "55.0",
          "55.0",
          "55.0",
          "55.0",
          "55.0",
          "55.0",
          "55.0",
          "55.0",
          "55.0",
          "55.0",
          "55.0",
          "55.0",
          "55.0",
          "55.0",
          "55.0",
          "55.0",
          "55.0",
          "55.0",
          "55.0",
          "55.0",
          "55.0",
          "55.0",
          "55.0",
          "55.0",
          "60.0",
          "60.0",
          "60.0",
          "60.0",
          "60.0",
          "60.0",
          "60.0",
          "60.0",
          "60.0",
          "60.0",
          "60.0",
          "60.0",
          "60.0",
          "60.0",
          "60.0",
          "60.0",
          "60.0",
          "60.0",
          "60.0",
          "60.0",
          "60.0",
          "60.0",
          "60.0",
          "60.0",
          "60.0",
          "60.0",
          "60.0",
          "60.0",
          "60.0",
          "60.0",
          "60.0",
          "60.0",
          "60.0",
          "60.0",
          "60.0",
          "60.0",
          "60.0",
          "60.0",
          "60.0",
          "65.0",
          "65.0",
          "65.0",
          "65.0",
          "65.0",
          "65.0",
          "65.0",
          "65.0",
          "65.0",
          "65.0",
          "65.0",
          "65.0",
          "65.0",
          "65.0",
          "65.0",
          "65.0",
          "65.0",
          "65.0",
          "65.0",
          "65.0",
          "65.0",
          "65.0",
          "65.0",
          "65.0",
          "65.0",
          "65.0",
          "65.0",
          "65.0",
          "65.0",
          "65.0",
          "65.0",
          "65.0",
          "65.0",
          "70.0",
          "70.0",
          "70.0",
          "70.0",
          "70.0",
          "70.0",
          "70.0",
          "70.0",
          "70.0",
          "70.0",
          "70.0",
          "70.0",
          "70.0",
          "70.0",
          "70.0",
          "70.0",
          "70.0",
          "70.0",
          "70.0",
          "70.0",
          "70.0",
          "70.0",
          "70.0",
          "70.0",
          "70.0",
          "70.0",
          "70.0",
          "70.0",
          "70.0",
          "70.0",
          "70.0",
          "75.0",
          "75.0",
          "75.0",
          "75.0",
          "75.0",
          "75.0",
          "75.0",
          "75.0",
          "75.0",
          "75.0",
          "75.0",
          "75.0",
          "75.0",
          "75.0",
          "75.0",
          "75.0",
          "75.0",
          "75.0",
          "75.0",
          "75.0",
          "75.0",
          "75.0",
          "75.0",
          "75.0",
          "80.0",
          "80.0",
          "80.0",
          "80.0",
          "80.0",
          "80.0",
          "80.0",
          "80.0",
          "80.0",
          "80.0",
          "80.0",
          "80.0",
          "80.0",
          "80.0",
          "80.0",
          "80.0",
          "80.0",
          "80.0",
          "80.0",
          "80.0",
          "80.0",
          "80.0",
          "80.0",
          "80.0",
          "85.0",
          "85.0",
          "85.0",
          "85.0",
          "85.0",
          "85.0",
          "85.0",
          "85.0",
          "85.0",
          "85.0",
          "85.0",
          "85.0",
          "85.0",
          "85.0",
          "85.0",
          "85.0",
          "85.0",
          "85.0",
          "85.0",
          "90.0",
          "90.0",
          "90.0",
          "90.0",
          "90.0",
          "90.0",
          "90.0",
          "90.0",
          "90.0",
          "90.0",
          "90.0",
          "90.0",
          "95.0",
          "95.0",
          "95.0",
          "95.0",
          "95.0",
          "100.0"
         ],
         "xaxis": "x",
         "y": {
          "bdata": "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",
          "dtype": "f8"
         },
         "yaxis": "y"
        }
       ],
       "layout": {
        "annotations": [
         {
          "font": {
           "size": 16
          },
          "showarrow": false,
          "text": "Weekly Sales by Temperature and Year",
          "x": 0.7048,
          "xanchor": "center",
          "xref": "paper",
          "y": 1,
          "yanchor": "bottom",
          "yref": "paper"
         }
        ],
        "barmode": "group",
        "height": 700,
        "legend": {
         "orientation": "h",
         "x": 1,
         "xanchor": "right",
         "y": 0.95,
         "yanchor": "bottom"
        },
        "plot_bgcolor": "white",
        "shapes": [
         {
          "layer": "below",
          "line": {
           "color": "grey",
           "width": 1
          },
          "type": "line",
          "x0": 0,
          "x1": 0.23,
          "xref": "paper",
          "y0": 0.72,
          "y1": 0.72,
          "yref": "paper"
         },
         {
          "layer": "below",
          "line": {
           "color": "grey",
           "width": 1
          },
          "type": "line",
          "x0": 0,
          "x1": 0.23,
          "xref": "paper",
          "y0": 0.38,
          "y1": 0.38,
          "yref": "paper"
         },
         {
          "layer": "below",
          "line": {
           "color": "grey",
           "width": 1
          },
          "type": "line",
          "x0": 0.29,
          "x1": 0.29,
          "xref": "paper",
          "y0": 0,
          "y1": 1,
          "yref": "paper"
         }
        ],
        "template": {
         "data": {
          "bar": [
           {
            "error_x": {
             "color": "#2a3f5f"
            },
            "error_y": {
             "color": "#2a3f5f"
            },
            "marker": {
             "line": {
              "color": "#E5ECF6",
              "width": 0.5
             },
             "pattern": {
              "fillmode": "overlay",
              "size": 10,
              "solidity": 0.2
             }
            },
            "type": "bar"
           }
          ],
          "barpolar": [
           {
            "marker": {
             "line": {
              "color": "#E5ECF6",
              "width": 0.5
             },
             "pattern": {
              "fillmode": "overlay",
              "size": 10,
              "solidity": 0.2
             }
            },
            "type": "barpolar"
           }
          ],
          "carpet": [
           {
            "aaxis": {
             "endlinecolor": "#2a3f5f",
             "gridcolor": "white",
             "linecolor": "white",
             "minorgridcolor": "white",
             "startlinecolor": "#2a3f5f"
            },
            "baxis": {
             "endlinecolor": "#2a3f5f",
             "gridcolor": "white",
             "linecolor": "white",
             "minorgridcolor": "white",
             "startlinecolor": "#2a3f5f"
            },
            "type": "carpet"
           }
          ],
          "choropleth": [
           {
            "colorbar": {
             "outlinewidth": 0,
             "ticks": ""
            },
            "type": "choropleth"
           }
          ],
          "contour": [
           {
            "colorbar": {
             "outlinewidth": 0,
             "ticks": ""
            },
            "colorscale": [
             [
              0,
              "#0d0887"
             ],
             [
              0.1111111111111111,
              "#46039f"
             ],
             [
              0.2222222222222222,
              "#7201a8"
             ],
             [
              0.3333333333333333,
              "#9c179e"
             ],
             [
              0.4444444444444444,
              "#bd3786"
             ],
             [
              0.5555555555555556,
              "#d8576b"
             ],
             [
              0.6666666666666666,
              "#ed7953"
             ],
             [
              0.7777777777777778,
              "#fb9f3a"
             ],
             [
              0.8888888888888888,
              "#fdca26"
             ],
             [
              1,
              "#f0f921"
             ]
            ],
            "type": "contour"
           }
          ],
          "contourcarpet": [
           {
            "colorbar": {
             "outlinewidth": 0,
             "ticks": ""
            },
            "type": "contourcarpet"
           }
          ],
          "heatmap": [
           {
            "colorbar": {
             "outlinewidth": 0,
             "ticks": ""
            },
            "colorscale": [
             [
              0,
              "#0d0887"
             ],
             [
              0.1111111111111111,
              "#46039f"
             ],
             [
              0.2222222222222222,
              "#7201a8"
             ],
             [
              0.3333333333333333,
              "#9c179e"
             ],
             [
              0.4444444444444444,
              "#bd3786"
             ],
             [
              0.5555555555555556,
              "#d8576b"
             ],
             [
              0.6666666666666666,
              "#ed7953"
             ],
             [
              0.7777777777777778,
              "#fb9f3a"
             ],
             [
              0.8888888888888888,
              "#fdca26"
             ],
             [
              1,
              "#f0f921"
             ]
            ],
            "type": "heatmap"
           }
          ],
          "histogram": [
           {
            "marker": {
             "pattern": {
              "fillmode": "overlay",
              "size": 10,
              "solidity": 0.2
             }
            },
            "type": "histogram"
           }
          ],
          "histogram2d": [
           {
            "colorbar": {
             "outlinewidth": 0,
             "ticks": ""
            },
            "colorscale": [
             [
              0,
              "#0d0887"
             ],
             [
              0.1111111111111111,
              "#46039f"
             ],
             [
              0.2222222222222222,
              "#7201a8"
             ],
             [
              0.3333333333333333,
              "#9c179e"
             ],
             [
              0.4444444444444444,
              "#bd3786"
             ],
             [
              0.5555555555555556,
              "#d8576b"
             ],
             [
              0.6666666666666666,
              "#ed7953"
             ],
             [
              0.7777777777777778,
              "#fb9f3a"
             ],
             [
              0.8888888888888888,
              "#fdca26"
             ],
             [
              1,
              "#f0f921"
             ]
            ],
            "type": "histogram2d"
           }
          ],
          "histogram2dcontour": [
           {
            "colorbar": {
             "outlinewidth": 0,
             "ticks": ""
            },
            "colorscale": [
             [
              0,
              "#0d0887"
             ],
             [
              0.1111111111111111,
              "#46039f"
             ],
             [
              0.2222222222222222,
              "#7201a8"
             ],
             [
              0.3333333333333333,
              "#9c179e"
             ],
             [
              0.4444444444444444,
              "#bd3786"
             ],
             [
              0.5555555555555556,
              "#d8576b"
             ],
             [
              0.6666666666666666,
              "#ed7953"
             ],
             [
              0.7777777777777778,
              "#fb9f3a"
             ],
             [
              0.8888888888888888,
              "#fdca26"
             ],
             [
              1,
              "#f0f921"
             ]
            ],
            "type": "histogram2dcontour"
           }
          ],
          "mesh3d": [
           {
            "colorbar": {
             "outlinewidth": 0,
             "ticks": ""
            },
            "type": "mesh3d"
           }
          ],
          "parcoords": [
           {
            "line": {
             "colorbar": {
              "outlinewidth": 0,
              "ticks": ""
             }
            },
            "type": "parcoords"
           }
          ],
          "pie": [
           {
            "automargin": true,
            "type": "pie"
           }
          ],
          "scatter": [
           {
            "fillpattern": {
             "fillmode": "overlay",
             "size": 10,
             "solidity": 0.2
            },
            "type": "scatter"
           }
          ],
          "scatter3d": [
           {
            "line": {
             "colorbar": {
              "outlinewidth": 0,
              "ticks": ""
             }
            },
            "marker": {
             "colorbar": {
              "outlinewidth": 0,
              "ticks": ""
             }
            },
            "type": "scatter3d"
           }
          ],
          "scattercarpet": [
           {
            "marker": {
             "colorbar": {
              "outlinewidth": 0,
              "ticks": ""
             }
            },
            "type": "scattercarpet"
           }
          ],
          "scattergeo": [
           {
            "marker": {
             "colorbar": {
              "outlinewidth": 0,
              "ticks": ""
             }
            },
            "type": "scattergeo"
           }
          ],
          "scattergl": [
           {
            "marker": {
             "colorbar": {
              "outlinewidth": 0,
              "ticks": ""
             }
            },
            "type": "scattergl"
           }
          ],
          "scattermap": [
           {
            "marker": {
             "colorbar": {
              "outlinewidth": 0,
              "ticks": ""
             }
            },
            "type": "scattermap"
           }
          ],
          "scattermapbox": [
           {
            "marker": {
             "colorbar": {
              "outlinewidth": 0,
              "ticks": ""
             }
            },
            "type": "scattermapbox"
           }
          ],
          "scatterpolar": [
           {
            "marker": {
             "colorbar": {
              "outlinewidth": 0,
              "ticks": ""
             }
            },
            "type": "scatterpolar"
           }
          ],
          "scatterpolargl": [
           {
            "marker": {
             "colorbar": {
              "outlinewidth": 0,
              "ticks": ""
             }
            },
            "type": "scatterpolargl"
           }
          ],
          "scatterternary": [
           {
            "marker": {
             "colorbar": {
              "outlinewidth": 0,
              "ticks": ""
             }
            },
            "type": "scatterternary"
           }
          ],
          "surface": [
           {
            "colorbar": {
             "outlinewidth": 0,
             "ticks": ""
            },
            "colorscale": [
             [
              0,
              "#0d0887"
             ],
             [
              0.1111111111111111,
              "#46039f"
             ],
             [
              0.2222222222222222,
              "#7201a8"
             ],
             [
              0.3333333333333333,
              "#9c179e"
             ],
             [
              0.4444444444444444,
              "#bd3786"
             ],
             [
              0.5555555555555556,
              "#d8576b"
             ],
             [
              0.6666666666666666,
              "#ed7953"
             ],
             [
              0.7777777777777778,
              "#fb9f3a"
             ],
             [
              0.8888888888888888,
              "#fdca26"
             ],
             [
              1,
              "#f0f921"
             ]
            ],
            "type": "surface"
           }
          ],
          "table": [
           {
            "cells": {
             "fill": {
              "color": "#EBF0F8"
             },
             "line": {
              "color": "white"
             }
            },
            "header": {
             "fill": {
              "color": "#C8D4E3"
             },
             "line": {
              "color": "white"
             }
            },
            "type": "table"
           }
          ]
         },
         "layout": {
          "annotationdefaults": {
           "arrowcolor": "#2a3f5f",
           "arrowhead": 0,
           "arrowwidth": 1
          },
          "autotypenumbers": "strict",
          "coloraxis": {
           "colorbar": {
            "outlinewidth": 0,
            "ticks": ""
           }
          },
          "colorscale": {
           "diverging": [
            [
             0,
             "#8e0152"
            ],
            [
             0.1,
             "#c51b7d"
            ],
            [
             0.2,
             "#de77ae"
            ],
            [
             0.3,
             "#f1b6da"
            ],
            [
             0.4,
             "#fde0ef"
            ],
            [
             0.5,
             "#f7f7f7"
            ],
            [
             0.6,
             "#e6f5d0"
            ],
            [
             0.7,
             "#b8e186"
            ],
            [
             0.8,
             "#7fbc41"
            ],
            [
             0.9,
             "#4d9221"
            ],
            [
             1,
             "#276419"
            ]
           ],
           "sequential": [
            [
             0,
             "#0d0887"
            ],
            [
             0.1111111111111111,
             "#46039f"
            ],
            [
             0.2222222222222222,
             "#7201a8"
            ],
            [
             0.3333333333333333,
             "#9c179e"
            ],
            [
             0.4444444444444444,
             "#bd3786"
            ],
            [
             0.5555555555555556,
             "#d8576b"
            ],
            [
             0.6666666666666666,
             "#ed7953"
            ],
            [
             0.7777777777777778,
             "#fb9f3a"
            ],
            [
             0.8888888888888888,
             "#fdca26"
            ],
            [
             1,
             "#f0f921"
            ]
           ],
           "sequentialminus": [
            [
             0,
             "#0d0887"
            ],
            [
             0.1111111111111111,
             "#46039f"
            ],
            [
             0.2222222222222222,
             "#7201a8"
            ],
            [
             0.3333333333333333,
             "#9c179e"
            ],
            [
             0.4444444444444444,
             "#bd3786"
            ],
            [
             0.5555555555555556,
             "#d8576b"
            ],
            [
             0.6666666666666666,
             "#ed7953"
            ],
            [
             0.7777777777777778,
             "#fb9f3a"
            ],
            [
             0.8888888888888888,
             "#fdca26"
            ],
            [
             1,
             "#f0f921"
            ]
           ]
          },
          "colorway": [
           "#636efa",
           "#EF553B",
           "#00cc96",
           "#ab63fa",
           "#FFA15A",
           "#19d3f3",
           "#FF6692",
           "#B6E880",
           "#FF97FF",
           "#FECB52"
          ],
          "font": {
           "color": "#2a3f5f"
          },
          "geo": {
           "bgcolor": "white",
           "lakecolor": "white",
           "landcolor": "#E5ECF6",
           "showlakes": true,
           "showland": true,
           "subunitcolor": "white"
          },
          "hoverlabel": {
           "align": "left"
          },
          "hovermode": "closest",
          "mapbox": {
           "style": "light"
          },
          "paper_bgcolor": "white",
          "plot_bgcolor": "#E5ECF6",
          "polar": {
           "angularaxis": {
            "gridcolor": "white",
            "linecolor": "white",
            "ticks": ""
           },
           "bgcolor": "#E5ECF6",
           "radialaxis": {
            "gridcolor": "white",
            "linecolor": "white",
            "ticks": ""
           }
          },
          "scene": {
           "xaxis": {
            "backgroundcolor": "#E5ECF6",
            "gridcolor": "white",
            "gridwidth": 2,
            "linecolor": "white",
            "showbackground": true,
            "ticks": "",
            "zerolinecolor": "white"
           },
           "yaxis": {
            "backgroundcolor": "#E5ECF6",
            "gridcolor": "white",
            "gridwidth": 2,
            "linecolor": "white",
            "showbackground": true,
            "ticks": "",
            "zerolinecolor": "white"
           },
           "zaxis": {
            "backgroundcolor": "#E5ECF6",
            "gridcolor": "white",
            "gridwidth": 2,
            "linecolor": "white",
            "showbackground": true,
            "ticks": "",
            "zerolinecolor": "white"
           }
          },
          "shapedefaults": {
           "line": {
            "color": "#2a3f5f"
           }
          },
          "ternary": {
           "aaxis": {
            "gridcolor": "white",
            "linecolor": "white",
            "ticks": ""
           },
           "baxis": {
            "gridcolor": "white",
            "linecolor": "white",
            "ticks": ""
           },
           "bgcolor": "#E5ECF6",
           "caxis": {
            "gridcolor": "white",
            "linecolor": "white",
            "ticks": ""
           }
          },
          "title": {
           "x": 0.05
          },
          "xaxis": {
           "automargin": true,
           "gridcolor": "white",
           "linecolor": "white",
           "ticks": "",
           "title": {
            "standoff": 15
           },
           "zerolinecolor": "white",
           "zerolinewidth": 2
          },
          "yaxis": {
           "automargin": true,
           "gridcolor": "white",
           "linecolor": "white",
           "ticks": "",
           "title": {
            "standoff": 15
           },
           "zerolinecolor": "white",
           "zerolinewidth": 2
          }
         }
        },
        "title": {
         "font": {
          "color": "black",
          "family": "Helvetica",
          "size": 20,
          "weight": "bold"
         },
         "text": "Weekly Sales by Temperature and Year",
         "x": 0.5
        },
        "width": 1150,
        "xaxis": {
         "anchor": "y",
         "domain": [
          0.4096,
          1
         ],
         "tickangle": 45,
         "title": {
          "text": "Temperature (°F)"
         }
        },
        "yaxis": {
         "anchor": "x",
         "domain": [
          0,
          1
         ],
         "tickformat": ".2s",
         "title": {
          "text": "Total Weekly Sales"
         }
        }
       }
      },
      "image/png": "[encoded data removed]"
     },
     "metadata": {},
     "output_type": "display_data"
    }
   ],
   "source": [
    "# Let's combine the graph and the summary table into a single dashboard-style presentation\n",
    "\n",
    "# First, set up the overall container for the charts.  Here, we have a 3-row, 2-column\n",
    "# layout where row1,col2 spans 3 rows\n",
    "fig = make_subplots(\n",
    "    rows=3,\n",
    "    cols=2,\n",
    "    specs=[\n",
    "        [{'type':\"indicator\", 't':0, 'b':0}, {\"type\": \"xy\", \"rowspan\": 3}],\n",
    "        [{\"type\": \"indicator\", 't':0}, None],\n",
    "        [{\"type\": \"indicator\", 't':-0.06}, None]\n",
    "    ],\n",
    "    column_widths=[0.28, 0.72],\n",
    "    row_heights=[0.33, 0.33, 0.33],\n",
    "    horizontal_spacing=0.18,\n",
    "    vertical_spacing=0.15,\n",
    "    subplot_titles=(\n",
    "        \"\",\n",
    "        \"Weekly Sales by Temperature and Year\",\n",
    "        \"\",\n",
    "        \"\"\n",
    "    )\n",
    ")\n",
    "\n",
    "# ========================================\n",
    "\n",
    "# First, let's add the earliest date indicator in row1, col1\n",
    "df_min_date = pd.read_sql('SELECT MIN(store_date) FROM walmart_date_dim', conn)\n",
    "earliest_date = df_min_date.iloc[0,0]\n",
    "weekdayname = earliest_date.strftime('%A')\n",
    "monthname = earliest_date.strftime('%B')\n",
    "formatted_date = f\"{weekdayname}<br>{monthname} {earliest_date.day}, {earliest_date.year}\"\n",
    "\n",
    "earliest_date_indicator = go.Table(\n",
    "    header = dict(\n",
    "        values = [\"Earliest Date\"],\n",
    "        fill_color = 'white',\n",
    "        align = 'center',\n",
    "        font = dict(size=16)\n",
    "    ),\n",
    "    cells = dict(\n",
    "        values = [[formatted_date]],\n",
    "        align = 'center',\n",
    "        fill_color = 'white',\n",
    "        font = dict(size=18, color='black')\n",
    "    )\n",
    ")\n",
    "\n",
    "fig.add_trace(earliest_date_indicator, row=1, col=1)\n",
    "\n",
    "# ========================================\n",
    "\n",
    "# Next, let's add the average/mean indicator in row2, col1\n",
    "median_temp = df['store_temperature'].median()\n",
    "avg_temp = df['store_temperature'].mean()\n",
    "\n",
    "average_temp_indicator = go.Table(\n",
    "    header = dict(\n",
    "        values = [\"Average Temperature\"],\n",
    "        fill_color = 'white',\n",
    "        align = 'center',\n",
    "        font = dict(size=16)\n",
    "    ),\n",
    "    cells = dict(\n",
    "        values = [[f\"{avg_temp:.2f} °F\"]],\n",
    "        align = 'center',\n",
    "        fill_color = 'white',\n",
    "        font = dict(size=36, color='black')\n",
    "    )\n",
    ")\n",
    "\n",
    "fig.add_trace(average_temp_indicator, row=2, col=1)\n",
    "\n",
    "# ========================================\n",
    "\n",
    "# Next, add the total weekly sales indicator, row3, col1\n",
    "def formatTotalSales(value):\n",
    "    if value >= 1_000_000_000:\n",
    "        return f\"{value / 1_000_000_000:.2f}B\"\n",
    "    elif value >= 1_000_000:\n",
    "        return f\"{value / 1_000_000:.2f}M\"\n",
    "    elif value >= 1_000:\n",
    "        return f\"{value / 1_000:.2f}K\"\n",
    "    else:\n",
    "        return f\"{value:2f}\"\n",
    "        \n",
    "totalSales = df['total_weekly_sales'].sum()\n",
    "totalSalesFormattedStr = formatTotalSales(totalSales)\n",
    "\n",
    "weekly_sales_indicator = go.Table(\n",
    "    header = dict(\n",
    "        values = [\"Total Weekly Sales\"],\n",
    "        fill_color = 'white',\n",
    "        align = 'center',\n",
    "        font = dict(size=16)\n",
    "    ),\n",
    "    cells = dict (\n",
    "        values = [[totalSalesFormattedStr]],\n",
    "        align = 'center',\n",
    "        fill_color = 'white',\n",
    "        font = dict(size=36, color='black')\n",
    "    )\n",
    ")\n",
    "\n",
    "fig.add_trace(weekly_sales_indicator, row=3, col=1)\n",
    "\n",
    "# ========================================\n",
    "bgcolors = {\n",
    "    '2010': '#A56CC1',\n",
    "    '2011': '#FFA15A',\n",
    "    '2012': '#19D3F3'\n",
    "}\n",
    "years = sorted(df['year'].unique().tolist())\n",
    "\n",
    "for year in years:\n",
    "    df_subset = df[df['year'] == year]\n",
    "    fig.add_trace(\n",
    "        go.Bar(\n",
    "            x = df_subset['store_temperature_bin'],\n",
    "            y = df_subset['total_weekly_sales'],\n",
    "            name = str(year),\n",
    "            customdata = [[year]] * len(df_subset), # used in hover since 'name' behavior is quirky in hover\n",
    "            marker_color = bgcolors[str(year)],\n",
    "            hovertemplate = 'Temperature: %{x}<br>Total Weekly Sales: %{y:$,.2f}<br>Year: %{customdata}<extra></extra>'\n",
    "        ),\n",
    "        row=1,\n",
    "        col=2\n",
    "    )\n",
    "\n",
    "# Final layout adjustments\n",
    "fig.update_layout(\n",
    "    height = 700,\n",
    "    width = 1150,\n",
    "    title = 'Weekly Sales by Temperature and Year',\n",
    "    title_x = 0.5,\n",
    "    xaxis_title = 'Temperature (°F)',\n",
    "    xaxis_tickangle = 45,\n",
    "    yaxis_title = 'Total Weekly Sales',\n",
    "    yaxis_tickformat = \".2s\",\n",
    "    barmode = 'group',  # for grouped chart\n",
    "    plot_bgcolor = 'white',\n",
    "    legend=dict(\n",
    "        orientation=\"h\",\n",
    "        yanchor=\"bottom\",\n",
    "        y=0.95,\n",
    "        xanchor=\"right\",\n",
    "        x=1\n",
    "    )\n",
    ")\n",
    "\n",
    "# Let's make the report title pop a little more\n",
    "title_font = dict(size=20, family=\"Helvetica\", color='black', weight='bold')\n",
    "fig.update_layout(title=dict(text='Weekly Sales by Temperature and Year', x=0.5, font=title_font))\n",
    "\n",
    "# Add some line separators\n",
    "# Horizontal, between earliest date and average temperature\n",
    "fig.add_shape(\n",
    "    type=\"line\",\n",
    "    x0=0.0, x1=.23,\n",
    "    y0=0.72, y1=0.72,\n",
    "    xref=\"paper\", yref=\"paper\",\n",
    "    line=dict(color=\"grey\", width=1),\n",
    "    layer=\"below\"\n",
    ")\n",
    "\n",
    "# Horizontal, between total weekly sales and average temperature\n",
    "fig.add_shape(\n",
    "    type=\"line\",\n",
    "    x0=0.0, x1=.23,\n",
    "    y0=0.38, y1=0.38,\n",
    "    xref=\"paper\", yref=\"paper\",\n",
    "    line=dict(color=\"grey\", width=1),\n",
    "    layer=\"below\"\n",
    ")\n",
    "\n",
    "# Vertical, between col1 and col2\n",
    "fig.add_shape(\n",
    "    type=\"line\",\n",
    "    x0=0.29, x1=.29,\n",
    "    y0=0.0, y1=1.0,\n",
    "    xref=\"paper\", yref=\"paper\",\n",
    "    line=dict(color=\"grey\", width=1),\n",
    "    layer=\"below\"\n",
    ")\n",
    "\n",
    "fig.show()\n"
   ]
  },
  {
   "cell_type": "code",
   "execution_count": null,
   "id": "28795787-6e52-4b13-8692-498675a230ad",
   "metadata": {},
   "outputs": [],
   "source": [
    "# Close the connection\n",
    "conn.close()"
   ]
  }
 ],
 "metadata": {
  "kernelspec": {
   "display_name": "Python 3 (ipykernel)",
   "language": "python",
   "name": "python3"
  },
  "language_info": {
   "codemirror_mode": {
    "name": "ipython",
    "version": 3
   },
   "file_extension": ".py",
   "mimetype": "text/x-python",
   "name": "python",
   "nbconvert_exporter": "python",
   "pygments_lexer": "ipython3",
   "version": "3.13.2"
  }
 },
 "nbformat": 4,
 "nbformat_minor": 5
}
